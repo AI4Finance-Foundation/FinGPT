{
 "cells": [
  {
   "cell_type": "code",
   "execution_count": 1,
   "metadata": {},
   "outputs": [],
   "source": [
    "import json\n",
    "import requests\n",
    "import pandas as pd\n",
    "from tqdm.notebook import tqdm"
   ]
  },
  {
   "cell_type": "code",
   "execution_count": 2,
   "metadata": {},
   "outputs": [
    {
     "data": {
      "text/plain": [
       "(500, 1)"
      ]
     },
     "execution_count": 2,
     "metadata": {},
     "output_type": "execute_result"
    }
   ],
   "source": [
    "df1 = pd.read_excel(\"S&P 500 Index.xlsx\",header=None)\n",
    "df1.shape"
   ]
  },
  {
   "cell_type": "code",
   "execution_count": 3,
   "metadata": {},
   "outputs": [
    {
     "data": {
      "text/plain": [
       "(500, 4)"
      ]
     },
     "execution_count": 3,
     "metadata": {},
     "output_type": "execute_result"
    }
   ],
   "source": [
    "new_columns = [\"index\", \"code\", \"name\"]\n",
    "df1[new_columns] = df1.apply(lambda x: x[0].split(\" \"), axis = 1, result_type = \"expand\")\n",
    "df1.shape"
   ]
  },
  {
   "cell_type": "code",
   "execution_count": 4,
   "metadata": {},
   "outputs": [
    {
     "data": {
      "text/plain": [
       "['A', 'AA', 'AAPL', 'ABC', 'ABT']"
      ]
     },
     "execution_count": 4,
     "metadata": {},
     "output_type": "execute_result"
    }
   ],
   "source": [
    "stock_list = df1.code.to_list()\n",
    "stock_list[:5]"
   ]
  },
  {
   "cell_type": "code",
   "execution_count": 5,
   "metadata": {},
   "outputs": [
    {
     "data": {
      "text/plain": [
       "500"
      ]
     },
     "execution_count": 5,
     "metadata": {},
     "output_type": "execute_result"
    }
   ],
   "source": [
    "len(stock_list)"
   ]
  },
  {
   "cell_type": "code",
   "execution_count": null,
   "metadata": {},
   "outputs": [],
   "source": [
    "api_key = YOUR_API_KEY  # You may find your api key here https://site.financialmodelingprep.com/developer/docs/api-keys"
   ]
  },
  {
   "cell_type": "code",
   "execution_count": 21,
   "metadata": {},
   "outputs": [
    {
     "data": {
      "application/vnd.jupyter.widget-view+json": {
       "model_id": "50eb22391ff24007aabe235fffeca89c",
       "version_major": 2,
       "version_minor": 0
      },
      "text/plain": [
       "  0%|          | 0/80 [00:00<?, ?it/s]"
      ]
     },
     "metadata": {},
     "output_type": "display_data"
    },
    {
     "data": {
      "application/vnd.jupyter.widget-view+json": {
       "model_id": "4afc78f887844572890171314611c89d",
       "version_major": 2,
       "version_minor": 0
      },
      "text/plain": [
       "  0%|          | 0/500 [00:00<?, ?it/s]"
      ]
     },
     "metadata": {},
     "output_type": "display_data"
    },
    {
     "data": {
      "application/vnd.jupyter.widget-view+json": {
       "model_id": "3a452f885fc34092ab6a3af23cf67b0b",
       "version_major": 2,
       "version_minor": 0
      },
      "text/plain": [
       "  0%|          | 0/500 [00:00<?, ?it/s]"
      ]
     },
     "metadata": {},
     "output_type": "display_data"
    },
    {
     "data": {
      "application/vnd.jupyter.widget-view+json": {
       "model_id": "b4d4bdffb2ac412bae8bdc515da66273",
       "version_major": 2,
       "version_minor": 0
      },
      "text/plain": [
       "  0%|          | 0/500 [00:00<?, ?it/s]"
      ]
     },
     "metadata": {},
     "output_type": "display_data"
    },
    {
     "data": {
      "application/vnd.jupyter.widget-view+json": {
       "model_id": "964434668aa042bf91440e82df2cdfbe",
       "version_major": 2,
       "version_minor": 0
      },
      "text/plain": [
       "  0%|          | 0/500 [00:00<?, ?it/s]"
      ]
     },
     "metadata": {},
     "output_type": "display_data"
    },
    {
     "data": {
      "application/vnd.jupyter.widget-view+json": {
       "model_id": "8837c2e2b380425683257f95ccf91990",
       "version_major": 2,
       "version_minor": 0
      },
      "text/plain": [
       "  0%|          | 0/500 [00:00<?, ?it/s]"
      ]
     },
     "metadata": {},
     "output_type": "display_data"
    },
    {
     "data": {
      "application/vnd.jupyter.widget-view+json": {
       "model_id": "a139ce60ef4c44acbdadcdcf71dc3655",
       "version_major": 2,
       "version_minor": 0
      },
      "text/plain": [
       "  0%|          | 0/500 [00:00<?, ?it/s]"
      ]
     },
     "metadata": {},
     "output_type": "display_data"
    },
    {
     "data": {
      "application/vnd.jupyter.widget-view+json": {
       "model_id": "eef3100ac1a243f2979463a754ff6a09",
       "version_major": 2,
       "version_minor": 0
      },
      "text/plain": [
       "  0%|          | 0/500 [00:00<?, ?it/s]"
      ]
     },
     "metadata": {},
     "output_type": "display_data"
    },
    {
     "data": {
      "application/vnd.jupyter.widget-view+json": {
       "model_id": "df2a0f996bdc4654a02c3777359ace02",
       "version_major": 2,
       "version_minor": 0
      },
      "text/plain": [
       "  0%|          | 0/500 [00:00<?, ?it/s]"
      ]
     },
     "metadata": {},
     "output_type": "display_data"
    },
    {
     "data": {
      "application/vnd.jupyter.widget-view+json": {
       "model_id": "92892ae29bc04bd190a9340d2155de07",
       "version_major": 2,
       "version_minor": 0
      },
      "text/plain": [
       "  0%|          | 0/500 [00:00<?, ?it/s]"
      ]
     },
     "metadata": {},
     "output_type": "display_data"
    },
    {
     "data": {
      "application/vnd.jupyter.widget-view+json": {
       "model_id": "946b3c14ed0e4c2f9a9648794191f726",
       "version_major": 2,
       "version_minor": 0
      },
      "text/plain": [
       "  0%|          | 0/500 [00:00<?, ?it/s]"
      ]
     },
     "metadata": {},
     "output_type": "display_data"
    },
    {
     "data": {
      "application/vnd.jupyter.widget-view+json": {
       "model_id": "9a017e62c28a4b0d870cce95f4e80def",
       "version_major": 2,
       "version_minor": 0
      },
      "text/plain": [
       "  0%|          | 0/500 [00:00<?, ?it/s]"
      ]
     },
     "metadata": {},
     "output_type": "display_data"
    },
    {
     "data": {
      "application/vnd.jupyter.widget-view+json": {
       "model_id": "931c76cecd244206a3139a4cc258dfdc",
       "version_major": 2,
       "version_minor": 0
      },
      "text/plain": [
       "  0%|          | 0/500 [00:00<?, ?it/s]"
      ]
     },
     "metadata": {},
     "output_type": "display_data"
    },
    {
     "data": {
      "application/vnd.jupyter.widget-view+json": {
       "model_id": "1ab81ba9f28f42c48c5398b52dd85340",
       "version_major": 2,
       "version_minor": 0
      },
      "text/plain": [
       "  0%|          | 0/500 [00:00<?, ?it/s]"
      ]
     },
     "metadata": {},
     "output_type": "display_data"
    },
    {
     "data": {
      "application/vnd.jupyter.widget-view+json": {
       "model_id": "a0101e770a0c4301a9f93230d96f2659",
       "version_major": 2,
       "version_minor": 0
      },
      "text/plain": [
       "  0%|          | 0/500 [00:00<?, ?it/s]"
      ]
     },
     "metadata": {},
     "output_type": "display_data"
    },
    {
     "data": {
      "application/vnd.jupyter.widget-view+json": {
       "model_id": "ad0bb62b9db74db49c10d2fbb73baef3",
       "version_major": 2,
       "version_minor": 0
      },
      "text/plain": [
       "  0%|          | 0/500 [00:00<?, ?it/s]"
      ]
     },
     "metadata": {},
     "output_type": "display_data"
    },
    {
     "data": {
      "application/vnd.jupyter.widget-view+json": {
       "model_id": "71e5ac6bd7524eb9958ad708dd89be51",
       "version_major": 2,
       "version_minor": 0
      },
      "text/plain": [
       "  0%|          | 0/500 [00:00<?, ?it/s]"
      ]
     },
     "metadata": {},
     "output_type": "display_data"
    },
    {
     "data": {
      "application/vnd.jupyter.widget-view+json": {
       "model_id": "0e85fa1884104825971a7e783c41eef6",
       "version_major": 2,
       "version_minor": 0
      },
      "text/plain": [
       "  0%|          | 0/500 [00:00<?, ?it/s]"
      ]
     },
     "metadata": {},
     "output_type": "display_data"
    },
    {
     "data": {
      "application/vnd.jupyter.widget-view+json": {
       "model_id": "723af85e2cab477587b5703d6bb4bd66",
       "version_major": 2,
       "version_minor": 0
      },
      "text/plain": [
       "  0%|          | 0/500 [00:00<?, ?it/s]"
      ]
     },
     "metadata": {},
     "output_type": "display_data"
    },
    {
     "data": {
      "application/vnd.jupyter.widget-view+json": {
       "model_id": "c35dab3749ef4edb9a839d7923eb954c",
       "version_major": 2,
       "version_minor": 0
      },
      "text/plain": [
       "  0%|          | 0/500 [00:00<?, ?it/s]"
      ]
     },
     "metadata": {},
     "output_type": "display_data"
    },
    {
     "data": {
      "application/vnd.jupyter.widget-view+json": {
       "model_id": "eff426c6c58546d7af9611713ed77d84",
       "version_major": 2,
       "version_minor": 0
      },
      "text/plain": [
       "  0%|          | 0/500 [00:00<?, ?it/s]"
      ]
     },
     "metadata": {},
     "output_type": "display_data"
    },
    {
     "data": {
      "application/vnd.jupyter.widget-view+json": {
       "model_id": "264e3ba6f05048df89a05cc4345e9ce8",
       "version_major": 2,
       "version_minor": 0
      },
      "text/plain": [
       "  0%|          | 0/500 [00:00<?, ?it/s]"
      ]
     },
     "metadata": {},
     "output_type": "display_data"
    },
    {
     "data": {
      "application/vnd.jupyter.widget-view+json": {
       "model_id": "c1b706544bc141559f5fa3da08f56fc1",
       "version_major": 2,
       "version_minor": 0
      },
      "text/plain": [
       "  0%|          | 0/500 [00:00<?, ?it/s]"
      ]
     },
     "metadata": {},
     "output_type": "display_data"
    },
    {
     "data": {
      "application/vnd.jupyter.widget-view+json": {
       "model_id": "974c050871e9453ea5f90ad10a576232",
       "version_major": 2,
       "version_minor": 0
      },
      "text/plain": [
       "  0%|          | 0/500 [00:00<?, ?it/s]"
      ]
     },
     "metadata": {},
     "output_type": "display_data"
    },
    {
     "data": {
      "application/vnd.jupyter.widget-view+json": {
       "model_id": "110a0e750b1644e88360849ebe41dc35",
       "version_major": 2,
       "version_minor": 0
      },
      "text/plain": [
       "  0%|          | 0/500 [00:00<?, ?it/s]"
      ]
     },
     "metadata": {},
     "output_type": "display_data"
    },
    {
     "data": {
      "application/vnd.jupyter.widget-view+json": {
       "model_id": "d006a36ec2ce422796a158744e005912",
       "version_major": 2,
       "version_minor": 0
      },
      "text/plain": [
       "  0%|          | 0/500 [00:00<?, ?it/s]"
      ]
     },
     "metadata": {},
     "output_type": "display_data"
    },
    {
     "data": {
      "application/vnd.jupyter.widget-view+json": {
       "model_id": "2475b61868e1465bb93fec94966548c7",
       "version_major": 2,
       "version_minor": 0
      },
      "text/plain": [
       "  0%|          | 0/500 [00:00<?, ?it/s]"
      ]
     },
     "metadata": {},
     "output_type": "display_data"
    },
    {
     "data": {
      "application/vnd.jupyter.widget-view+json": {
       "model_id": "92e3b32b8a64410cad97bb490090c1e8",
       "version_major": 2,
       "version_minor": 0
      },
      "text/plain": [
       "  0%|          | 0/500 [00:00<?, ?it/s]"
      ]
     },
     "metadata": {},
     "output_type": "display_data"
    },
    {
     "data": {
      "application/vnd.jupyter.widget-view+json": {
       "model_id": "26e153ed0f0b4b928485a2ed7d7bb0e8",
       "version_major": 2,
       "version_minor": 0
      },
      "text/plain": [
       "  0%|          | 0/500 [00:00<?, ?it/s]"
      ]
     },
     "metadata": {},
     "output_type": "display_data"
    },
    {
     "data": {
      "application/vnd.jupyter.widget-view+json": {
       "model_id": "b8238a9087074d50a1e5df66ae29ce0b",
       "version_major": 2,
       "version_minor": 0
      },
      "text/plain": [
       "  0%|          | 0/500 [00:00<?, ?it/s]"
      ]
     },
     "metadata": {},
     "output_type": "display_data"
    },
    {
     "data": {
      "application/vnd.jupyter.widget-view+json": {
       "model_id": "c9a600dc099349ec8df82e2ca2291c17",
       "version_major": 2,
       "version_minor": 0
      },
      "text/plain": [
       "  0%|          | 0/500 [00:00<?, ?it/s]"
      ]
     },
     "metadata": {},
     "output_type": "display_data"
    },
    {
     "data": {
      "application/vnd.jupyter.widget-view+json": {
       "model_id": "bbd8c7e8d21d40a1b15897e6a7d7f7ae",
       "version_major": 2,
       "version_minor": 0
      },
      "text/plain": [
       "  0%|          | 0/500 [00:00<?, ?it/s]"
      ]
     },
     "metadata": {},
     "output_type": "display_data"
    },
    {
     "data": {
      "application/vnd.jupyter.widget-view+json": {
       "model_id": "1770af2f42db483eb3ea6e2223ef3c12",
       "version_major": 2,
       "version_minor": 0
      },
      "text/plain": [
       "  0%|          | 0/500 [00:00<?, ?it/s]"
      ]
     },
     "metadata": {},
     "output_type": "display_data"
    },
    {
     "data": {
      "application/vnd.jupyter.widget-view+json": {
       "model_id": "31ca15800802437a9a93de9040587ecd",
       "version_major": 2,
       "version_minor": 0
      },
      "text/plain": [
       "  0%|          | 0/500 [00:00<?, ?it/s]"
      ]
     },
     "metadata": {},
     "output_type": "display_data"
    },
    {
     "data": {
      "application/vnd.jupyter.widget-view+json": {
       "model_id": "f3a0323038994f55ba79602abf6f00e5",
       "version_major": 2,
       "version_minor": 0
      },
      "text/plain": [
       "  0%|          | 0/500 [00:00<?, ?it/s]"
      ]
     },
     "metadata": {},
     "output_type": "display_data"
    },
    {
     "data": {
      "application/vnd.jupyter.widget-view+json": {
       "model_id": "3d5d233b7960414fa7cb1ac7b4128c97",
       "version_major": 2,
       "version_minor": 0
      },
      "text/plain": [
       "  0%|          | 0/500 [00:00<?, ?it/s]"
      ]
     },
     "metadata": {},
     "output_type": "display_data"
    },
    {
     "data": {
      "application/vnd.jupyter.widget-view+json": {
       "model_id": "13cf3345d68d45f4af264d98e63bd283",
       "version_major": 2,
       "version_minor": 0
      },
      "text/plain": [
       "  0%|          | 0/500 [00:00<?, ?it/s]"
      ]
     },
     "metadata": {},
     "output_type": "display_data"
    },
    {
     "data": {
      "application/vnd.jupyter.widget-view+json": {
       "model_id": "5a46eb16767544fcae0deaf2abe1b73b",
       "version_major": 2,
       "version_minor": 0
      },
      "text/plain": [
       "  0%|          | 0/500 [00:00<?, ?it/s]"
      ]
     },
     "metadata": {},
     "output_type": "display_data"
    },
    {
     "data": {
      "application/vnd.jupyter.widget-view+json": {
       "model_id": "df36032536d74928b5a3bb1ae92e4a2a",
       "version_major": 2,
       "version_minor": 0
      },
      "text/plain": [
       "  0%|          | 0/500 [00:00<?, ?it/s]"
      ]
     },
     "metadata": {},
     "output_type": "display_data"
    },
    {
     "data": {
      "application/vnd.jupyter.widget-view+json": {
       "model_id": "50307689188145d8a7ed39c10eb1b190",
       "version_major": 2,
       "version_minor": 0
      },
      "text/plain": [
       "  0%|          | 0/500 [00:00<?, ?it/s]"
      ]
     },
     "metadata": {},
     "output_type": "display_data"
    },
    {
     "data": {
      "application/vnd.jupyter.widget-view+json": {
       "model_id": "d8530faa26dc49f0b73b22bb3b6b9ee3",
       "version_major": 2,
       "version_minor": 0
      },
      "text/plain": [
       "  0%|          | 0/500 [00:00<?, ?it/s]"
      ]
     },
     "metadata": {},
     "output_type": "display_data"
    },
    {
     "data": {
      "application/vnd.jupyter.widget-view+json": {
       "model_id": "604a21f89aec4123a43b4957a3f9e21e",
       "version_major": 2,
       "version_minor": 0
      },
      "text/plain": [
       "  0%|          | 0/500 [00:00<?, ?it/s]"
      ]
     },
     "metadata": {},
     "output_type": "display_data"
    },
    {
     "data": {
      "application/vnd.jupyter.widget-view+json": {
       "model_id": "bb4d8b70c79c4a3eb5cfbdd4be57ca5b",
       "version_major": 2,
       "version_minor": 0
      },
      "text/plain": [
       "  0%|          | 0/500 [00:00<?, ?it/s]"
      ]
     },
     "metadata": {},
     "output_type": "display_data"
    },
    {
     "data": {
      "application/vnd.jupyter.widget-view+json": {
       "model_id": "0e742f0f7ef74631bb2c57a0e313542f",
       "version_major": 2,
       "version_minor": 0
      },
      "text/plain": [
       "  0%|          | 0/500 [00:00<?, ?it/s]"
      ]
     },
     "metadata": {},
     "output_type": "display_data"
    },
    {
     "data": {
      "application/vnd.jupyter.widget-view+json": {
       "model_id": "55727475ec0e473b9b643520ab98c737",
       "version_major": 2,
       "version_minor": 0
      },
      "text/plain": [
       "  0%|          | 0/500 [00:00<?, ?it/s]"
      ]
     },
     "metadata": {},
     "output_type": "display_data"
    },
    {
     "data": {
      "application/vnd.jupyter.widget-view+json": {
       "model_id": "a132c1b4be8f4d20b3c6196efdf9e831",
       "version_major": 2,
       "version_minor": 0
      },
      "text/plain": [
       "  0%|          | 0/500 [00:00<?, ?it/s]"
      ]
     },
     "metadata": {},
     "output_type": "display_data"
    },
    {
     "data": {
      "application/vnd.jupyter.widget-view+json": {
       "model_id": "fbb7f65d382c447dbe0ff14d5a789226",
       "version_major": 2,
       "version_minor": 0
      },
      "text/plain": [
       "  0%|          | 0/500 [00:00<?, ?it/s]"
      ]
     },
     "metadata": {},
     "output_type": "display_data"
    },
    {
     "data": {
      "application/vnd.jupyter.widget-view+json": {
       "model_id": "143386516fc04237996677c08cda4b27",
       "version_major": 2,
       "version_minor": 0
      },
      "text/plain": [
       "  0%|          | 0/500 [00:00<?, ?it/s]"
      ]
     },
     "metadata": {},
     "output_type": "display_data"
    },
    {
     "data": {
      "application/vnd.jupyter.widget-view+json": {
       "model_id": "8b1048da9e004ad582671d8b94883889",
       "version_major": 2,
       "version_minor": 0
      },
      "text/plain": [
       "  0%|          | 0/500 [00:00<?, ?it/s]"
      ]
     },
     "metadata": {},
     "output_type": "display_data"
    },
    {
     "data": {
      "application/vnd.jupyter.widget-view+json": {
       "model_id": "fe7697361a614a77ab7418ca5713bbd8",
       "version_major": 2,
       "version_minor": 0
      },
      "text/plain": [
       "  0%|          | 0/500 [00:00<?, ?it/s]"
      ]
     },
     "metadata": {},
     "output_type": "display_data"
    },
    {
     "data": {
      "application/vnd.jupyter.widget-view+json": {
       "model_id": "b4dfe419f6104035a0034b72589e2020",
       "version_major": 2,
       "version_minor": 0
      },
      "text/plain": [
       "  0%|          | 0/500 [00:00<?, ?it/s]"
      ]
     },
     "metadata": {},
     "output_type": "display_data"
    },
    {
     "data": {
      "application/vnd.jupyter.widget-view+json": {
       "model_id": "2cc65f6f30304be4a85f01e7a75e4033",
       "version_major": 2,
       "version_minor": 0
      },
      "text/plain": [
       "  0%|          | 0/500 [00:00<?, ?it/s]"
      ]
     },
     "metadata": {},
     "output_type": "display_data"
    },
    {
     "data": {
      "application/vnd.jupyter.widget-view+json": {
       "model_id": "9d6dc5d08c20486084f237b6ee6636a7",
       "version_major": 2,
       "version_minor": 0
      },
      "text/plain": [
       "  0%|          | 0/500 [00:00<?, ?it/s]"
      ]
     },
     "metadata": {},
     "output_type": "display_data"
    },
    {
     "data": {
      "application/vnd.jupyter.widget-view+json": {
       "model_id": "dd91cd915f8b4922b148378cf89c0bfe",
       "version_major": 2,
       "version_minor": 0
      },
      "text/plain": [
       "  0%|          | 0/500 [00:00<?, ?it/s]"
      ]
     },
     "metadata": {},
     "output_type": "display_data"
    },
    {
     "data": {
      "application/vnd.jupyter.widget-view+json": {
       "model_id": "8ba6626845a9495a9789e85cd05fed3c",
       "version_major": 2,
       "version_minor": 0
      },
      "text/plain": [
       "  0%|          | 0/500 [00:00<?, ?it/s]"
      ]
     },
     "metadata": {},
     "output_type": "display_data"
    },
    {
     "data": {
      "application/vnd.jupyter.widget-view+json": {
       "model_id": "0a2c31f52556435a9ed243b070f735f1",
       "version_major": 2,
       "version_minor": 0
      },
      "text/plain": [
       "  0%|          | 0/500 [00:00<?, ?it/s]"
      ]
     },
     "metadata": {},
     "output_type": "display_data"
    },
    {
     "data": {
      "application/vnd.jupyter.widget-view+json": {
       "model_id": "eeb92f4f0be54ecb9c19b6853c9d0916",
       "version_major": 2,
       "version_minor": 0
      },
      "text/plain": [
       "  0%|          | 0/500 [00:00<?, ?it/s]"
      ]
     },
     "metadata": {},
     "output_type": "display_data"
    },
    {
     "data": {
      "application/vnd.jupyter.widget-view+json": {
       "model_id": "644ba72f652d45b88b8e67801b263495",
       "version_major": 2,
       "version_minor": 0
      },
      "text/plain": [
       "  0%|          | 0/500 [00:00<?, ?it/s]"
      ]
     },
     "metadata": {},
     "output_type": "display_data"
    },
    {
     "data": {
      "application/vnd.jupyter.widget-view+json": {
       "model_id": "f5b6dbca594f44bc935fd2fc06d9c16f",
       "version_major": 2,
       "version_minor": 0
      },
      "text/plain": [
       "  0%|          | 0/500 [00:00<?, ?it/s]"
      ]
     },
     "metadata": {},
     "output_type": "display_data"
    },
    {
     "data": {
      "application/vnd.jupyter.widget-view+json": {
       "model_id": "c410fa7a9ee7495283076d2c30e32eb5",
       "version_major": 2,
       "version_minor": 0
      },
      "text/plain": [
       "  0%|          | 0/500 [00:00<?, ?it/s]"
      ]
     },
     "metadata": {},
     "output_type": "display_data"
    },
    {
     "data": {
      "application/vnd.jupyter.widget-view+json": {
       "model_id": "5074c59133644fc79530f9172b528e39",
       "version_major": 2,
       "version_minor": 0
      },
      "text/plain": [
       "  0%|          | 0/500 [00:00<?, ?it/s]"
      ]
     },
     "metadata": {},
     "output_type": "display_data"
    },
    {
     "data": {
      "application/vnd.jupyter.widget-view+json": {
       "model_id": "0b7de9d30a1f4260b11321d478c3ca06",
       "version_major": 2,
       "version_minor": 0
      },
      "text/plain": [
       "  0%|          | 0/500 [00:00<?, ?it/s]"
      ]
     },
     "metadata": {},
     "output_type": "display_data"
    },
    {
     "data": {
      "application/vnd.jupyter.widget-view+json": {
       "model_id": "5a73abee095a4bc596dbd92625698bba",
       "version_major": 2,
       "version_minor": 0
      },
      "text/plain": [
       "  0%|          | 0/500 [00:00<?, ?it/s]"
      ]
     },
     "metadata": {},
     "output_type": "display_data"
    },
    {
     "data": {
      "application/vnd.jupyter.widget-view+json": {
       "model_id": "4efddb54e03d417ebd86a6a06dc71f4f",
       "version_major": 2,
       "version_minor": 0
      },
      "text/plain": [
       "  0%|          | 0/500 [00:00<?, ?it/s]"
      ]
     },
     "metadata": {},
     "output_type": "display_data"
    },
    {
     "data": {
      "application/vnd.jupyter.widget-view+json": {
       "model_id": "9b4890f804854353a42f88f962ed16d9",
       "version_major": 2,
       "version_minor": 0
      },
      "text/plain": [
       "  0%|          | 0/500 [00:00<?, ?it/s]"
      ]
     },
     "metadata": {},
     "output_type": "display_data"
    },
    {
     "data": {
      "application/vnd.jupyter.widget-view+json": {
       "model_id": "a668504a858c44f782594007b0ec9165",
       "version_major": 2,
       "version_minor": 0
      },
      "text/plain": [
       "  0%|          | 0/500 [00:00<?, ?it/s]"
      ]
     },
     "metadata": {},
     "output_type": "display_data"
    },
    {
     "data": {
      "application/vnd.jupyter.widget-view+json": {
       "model_id": "51a621bc6e684b86821e67f3f243f2e8",
       "version_major": 2,
       "version_minor": 0
      },
      "text/plain": [
       "  0%|          | 0/500 [00:00<?, ?it/s]"
      ]
     },
     "metadata": {},
     "output_type": "display_data"
    },
    {
     "data": {
      "application/vnd.jupyter.widget-view+json": {
       "model_id": "c8dd1c3af7864bf2b14ccb9401a52141",
       "version_major": 2,
       "version_minor": 0
      },
      "text/plain": [
       "  0%|          | 0/500 [00:00<?, ?it/s]"
      ]
     },
     "metadata": {},
     "output_type": "display_data"
    },
    {
     "data": {
      "application/vnd.jupyter.widget-view+json": {
       "model_id": "d08810cf561f42868b2d9b81c9122ca3",
       "version_major": 2,
       "version_minor": 0
      },
      "text/plain": [
       "  0%|          | 0/500 [00:00<?, ?it/s]"
      ]
     },
     "metadata": {},
     "output_type": "display_data"
    },
    {
     "data": {
      "application/vnd.jupyter.widget-view+json": {
       "model_id": "af00441b5cda47d1945bef17b21a96ea",
       "version_major": 2,
       "version_minor": 0
      },
      "text/plain": [
       "  0%|          | 0/500 [00:00<?, ?it/s]"
      ]
     },
     "metadata": {},
     "output_type": "display_data"
    },
    {
     "data": {
      "application/vnd.jupyter.widget-view+json": {
       "model_id": "b707e5a8807e4d9fbbd3915c3cb45c0b",
       "version_major": 2,
       "version_minor": 0
      },
      "text/plain": [
       "  0%|          | 0/500 [00:00<?, ?it/s]"
      ]
     },
     "metadata": {},
     "output_type": "display_data"
    },
    {
     "data": {
      "application/vnd.jupyter.widget-view+json": {
       "model_id": "590c087a27a44a84be224f7c9a5d1766",
       "version_major": 2,
       "version_minor": 0
      },
      "text/plain": [
       "  0%|          | 0/500 [00:00<?, ?it/s]"
      ]
     },
     "metadata": {},
     "output_type": "display_data"
    },
    {
     "data": {
      "application/vnd.jupyter.widget-view+json": {
       "model_id": "1d65fa879df34346a8bb5ddcbdabace2",
       "version_major": 2,
       "version_minor": 0
      },
      "text/plain": [
       "  0%|          | 0/500 [00:00<?, ?it/s]"
      ]
     },
     "metadata": {},
     "output_type": "display_data"
    },
    {
     "data": {
      "application/vnd.jupyter.widget-view+json": {
       "model_id": "8e31089fbd8a4f6db43d284983d180c7",
       "version_major": 2,
       "version_minor": 0
      },
      "text/plain": [
       "  0%|          | 0/500 [00:00<?, ?it/s]"
      ]
     },
     "metadata": {},
     "output_type": "display_data"
    },
    {
     "data": {
      "application/vnd.jupyter.widget-view+json": {
       "model_id": "53aa1e71de114ed8aea295c08afeff46",
       "version_major": 2,
       "version_minor": 0
      },
      "text/plain": [
       "  0%|          | 0/500 [00:00<?, ?it/s]"
      ]
     },
     "metadata": {},
     "output_type": "display_data"
    },
    {
     "data": {
      "application/vnd.jupyter.widget-view+json": {
       "model_id": "32585f97334c46b89e9eea57da1b5200",
       "version_major": 2,
       "version_minor": 0
      },
      "text/plain": [
       "  0%|          | 0/500 [00:00<?, ?it/s]"
      ]
     },
     "metadata": {},
     "output_type": "display_data"
    },
    {
     "data": {
      "application/vnd.jupyter.widget-view+json": {
       "model_id": "48390c1e91bd4987afe6d30dd542d1c5",
       "version_major": 2,
       "version_minor": 0
      },
      "text/plain": [
       "  0%|          | 0/500 [00:00<?, ?it/s]"
      ]
     },
     "metadata": {},
     "output_type": "display_data"
    },
    {
     "data": {
      "application/vnd.jupyter.widget-view+json": {
       "model_id": "303cc0a1d63244e68b7969b86fdd1ff8",
       "version_major": 2,
       "version_minor": 0
      },
      "text/plain": [
       "  0%|          | 0/500 [00:00<?, ?it/s]"
      ]
     },
     "metadata": {},
     "output_type": "display_data"
    },
    {
     "data": {
      "application/vnd.jupyter.widget-view+json": {
       "model_id": "f147e6596351471999e45ad8ddb63b25",
       "version_major": 2,
       "version_minor": 0
      },
      "text/plain": [
       "  0%|          | 0/500 [00:00<?, ?it/s]"
      ]
     },
     "metadata": {},
     "output_type": "display_data"
    },
    {
     "data": {
      "application/vnd.jupyter.widget-view+json": {
       "model_id": "462313b30dd64bc88b907b0d4bff3724",
       "version_major": 2,
       "version_minor": 0
      },
      "text/plain": [
       "  0%|          | 0/500 [00:00<?, ?it/s]"
      ]
     },
     "metadata": {},
     "output_type": "display_data"
    },
    {
     "data": {
      "application/vnd.jupyter.widget-view+json": {
       "model_id": "5f68cda10e2f4980b7b596f5c563c188",
       "version_major": 2,
       "version_minor": 0
      },
      "text/plain": [
       "  0%|          | 0/500 [00:00<?, ?it/s]"
      ]
     },
     "metadata": {},
     "output_type": "display_data"
    }
   ],
   "source": [
    "all = pd.DataFrame()\n",
    "for stock in tqdm(stock_list):\n",
    "    for page in tqdm(range(500)):\n",
    "        url = f\"https://financialmodelingprep.com/api/v3/stock_news?tickers={stock}&page={page+1}&apikey={api_key}\"\n",
    "        res = requests.get(url)\n",
    "        res = json.loads(res.text)\n",
    "        if len(res) == 0:\n",
    "            break\n",
    "        else:\n",
    "            res = pd.DataFrame(res)\n",
    "            all = pd.concat([all, res])"
   ]
  },
  {
   "cell_type": "code",
   "execution_count": 40,
   "metadata": {},
   "outputs": [
    {
     "data": {
      "application/vnd.jupyter.widget-view+json": {
       "model_id": "65bce57dd1fe47838c9b8d75d062fd7e",
       "version_major": 2,
       "version_minor": 0
      },
      "text/plain": [
       "  0%|          | 0/454 [00:00<?, ?it/s]"
      ]
     },
     "metadata": {},
     "output_type": "display_data"
    },
    {
     "data": {
      "application/vnd.jupyter.widget-view+json": {
       "model_id": "57383b0f500641fcb693f1e5a74d7525",
       "version_major": 2,
       "version_minor": 0
      },
      "text/plain": [
       "A:   0%|          | 0/500 [00:00<?, ?it/s]"
      ]
     },
     "metadata": {},
     "output_type": "display_data"
    },
    {
     "data": {
      "application/vnd.jupyter.widget-view+json": {
       "model_id": "f2fa86900d9540babd52758107b9f766",
       "version_major": 2,
       "version_minor": 0
      },
      "text/plain": [
       "AA:   0%|          | 0/500 [00:00<?, ?it/s]"
      ]
     },
     "metadata": {},
     "output_type": "display_data"
    },
    {
     "data": {
      "application/vnd.jupyter.widget-view+json": {
       "model_id": "13b1bf664252421bbb5625842b87a8f5",
       "version_major": 2,
       "version_minor": 0
      },
      "text/plain": [
       "ABC:   0%|          | 0/500 [00:00<?, ?it/s]"
      ]
     },
     "metadata": {},
     "output_type": "display_data"
    },
    {
     "data": {
      "application/vnd.jupyter.widget-view+json": {
       "model_id": "d457c498ea2741408d66a009a75990a5",
       "version_major": 2,
       "version_minor": 0
      },
      "text/plain": [
       "ABT:   0%|          | 0/500 [00:00<?, ?it/s]"
      ]
     },
     "metadata": {},
     "output_type": "display_data"
    },
    {
     "data": {
      "application/vnd.jupyter.widget-view+json": {
       "model_id": "5d5992c58bdc413987e95942710707dd",
       "version_major": 2,
       "version_minor": 0
      },
      "text/plain": [
       "ACE:   0%|          | 0/500 [00:00<?, ?it/s]"
      ]
     },
     "metadata": {},
     "output_type": "display_data"
    },
    {
     "data": {
      "application/vnd.jupyter.widget-view+json": {
       "model_id": "84711dbfab964d40b0da4a89351a596d",
       "version_major": 2,
       "version_minor": 0
      },
      "text/plain": [
       "ACN:   0%|          | 0/500 [00:00<?, ?it/s]"
      ]
     },
     "metadata": {},
     "output_type": "display_data"
    },
    {
     "data": {
      "application/vnd.jupyter.widget-view+json": {
       "model_id": "6d706bdf24fa4b1482f3933e778b1347",
       "version_major": 2,
       "version_minor": 0
      },
      "text/plain": [
       "ADM:   0%|          | 0/500 [00:00<?, ?it/s]"
      ]
     },
     "metadata": {},
     "output_type": "display_data"
    },
    {
     "data": {
      "application/vnd.jupyter.widget-view+json": {
       "model_id": "d7e6134f2b1c4c97b795219db7ef340b",
       "version_major": 2,
       "version_minor": 0
      },
      "text/plain": [
       "AEE:   0%|          | 0/500 [00:00<?, ?it/s]"
      ]
     },
     "metadata": {},
     "output_type": "display_data"
    },
    {
     "data": {
      "application/vnd.jupyter.widget-view+json": {
       "model_id": "b296a8002d5d48488f3f7854f11c3165",
       "version_major": 2,
       "version_minor": 0
      },
      "text/plain": [
       "AEP:   0%|          | 0/500 [00:00<?, ?it/s]"
      ]
     },
     "metadata": {},
     "output_type": "display_data"
    },
    {
     "data": {
      "application/vnd.jupyter.widget-view+json": {
       "model_id": "59292484e64e404999a471bf38482329",
       "version_major": 2,
       "version_minor": 0
      },
      "text/plain": [
       "AES:   0%|          | 0/500 [00:00<?, ?it/s]"
      ]
     },
     "metadata": {},
     "output_type": "display_data"
    },
    {
     "data": {
      "application/vnd.jupyter.widget-view+json": {
       "model_id": "b3607428c4c14873ae706ed00a51faa2",
       "version_major": 2,
       "version_minor": 0
      },
      "text/plain": [
       "AET:   0%|          | 0/500 [00:00<?, ?it/s]"
      ]
     },
     "metadata": {},
     "output_type": "display_data"
    },
    {
     "data": {
      "application/vnd.jupyter.widget-view+json": {
       "model_id": "38351f0cb8b24d4cbcc074ade5bdf6a3",
       "version_major": 2,
       "version_minor": 0
      },
      "text/plain": [
       "AFL:   0%|          | 0/500 [00:00<?, ?it/s]"
      ]
     },
     "metadata": {},
     "output_type": "display_data"
    },
    {
     "data": {
      "application/vnd.jupyter.widget-view+json": {
       "model_id": "ecb998ba9e88420eb423bbbf4a0aca44",
       "version_major": 2,
       "version_minor": 0
      },
      "text/plain": [
       "AGN:   0%|          | 0/500 [00:00<?, ?it/s]"
      ]
     },
     "metadata": {},
     "output_type": "display_data"
    },
    {
     "data": {
      "application/vnd.jupyter.widget-view+json": {
       "model_id": "4d05f7d5cc584939bf52ca665b16432e",
       "version_major": 2,
       "version_minor": 0
      },
      "text/plain": [
       "AIG:   0%|          | 0/500 [00:00<?, ?it/s]"
      ]
     },
     "metadata": {},
     "output_type": "display_data"
    },
    {
     "data": {
      "application/vnd.jupyter.widget-view+json": {
       "model_id": "d9a115e43c8c4c999137faeeac0f00e0",
       "version_major": 2,
       "version_minor": 0
      },
      "text/plain": [
       "AIV:   0%|          | 0/500 [00:00<?, ?it/s]"
      ]
     },
     "metadata": {},
     "output_type": "display_data"
    },
    {
     "data": {
      "application/vnd.jupyter.widget-view+json": {
       "model_id": "64cb0678752c4baeaa9c9592b0b628ad",
       "version_major": 2,
       "version_minor": 0
      },
      "text/plain": [
       "AIZ:   0%|          | 0/500 [00:00<?, ?it/s]"
      ]
     },
     "metadata": {},
     "output_type": "display_data"
    },
    {
     "data": {
      "application/vnd.jupyter.widget-view+json": {
       "model_id": "44f48e4932f74a2288ab9d70cf97d662",
       "version_major": 2,
       "version_minor": 0
      },
      "text/plain": [
       "AKAM:   0%|          | 0/500 [00:00<?, ?it/s]"
      ]
     },
     "metadata": {},
     "output_type": "display_data"
    },
    {
     "data": {
      "application/vnd.jupyter.widget-view+json": {
       "model_id": "2a471e72940b4c40b0f531d55ded3542",
       "version_major": 2,
       "version_minor": 0
      },
      "text/plain": [
       "AKS:   0%|          | 0/500 [00:00<?, ?it/s]"
      ]
     },
     "metadata": {},
     "output_type": "display_data"
    },
    {
     "data": {
      "application/vnd.jupyter.widget-view+json": {
       "model_id": "cc0bac18139a45cf970f8f2eb5ee06e6",
       "version_major": 2,
       "version_minor": 0
      },
      "text/plain": [
       "ALL:   0%|          | 0/500 [00:00<?, ?it/s]"
      ]
     },
     "metadata": {},
     "output_type": "display_data"
    },
    {
     "data": {
      "application/vnd.jupyter.widget-view+json": {
       "model_id": "d7613d0db91c45f0bceb5745940219fc",
       "version_major": 2,
       "version_minor": 0
      },
      "text/plain": [
       "ALTR:   0%|          | 0/500 [00:00<?, ?it/s]"
      ]
     },
     "metadata": {},
     "output_type": "display_data"
    },
    {
     "data": {
      "application/vnd.jupyter.widget-view+json": {
       "model_id": "8dfcc68039004e5aae6731f98ab5f86b",
       "version_major": 2,
       "version_minor": 0
      },
      "text/plain": [
       "AMP:   0%|          | 0/500 [00:00<?, ?it/s]"
      ]
     },
     "metadata": {},
     "output_type": "display_data"
    },
    {
     "data": {
      "application/vnd.jupyter.widget-view+json": {
       "model_id": "08ec560a44be4ca2b016c0e6efaafba1",
       "version_major": 2,
       "version_minor": 0
      },
      "text/plain": [
       "AMT:   0%|          | 0/500 [00:00<?, ?it/s]"
      ]
     },
     "metadata": {},
     "output_type": "display_data"
    },
    {
     "data": {
      "application/vnd.jupyter.widget-view+json": {
       "model_id": "adb38adaa4914f148d7c4733a7bc7bf0",
       "version_major": 2,
       "version_minor": 0
      },
      "text/plain": [
       "AN:   0%|          | 0/500 [00:00<?, ?it/s]"
      ]
     },
     "metadata": {},
     "output_type": "display_data"
    },
    {
     "data": {
      "application/vnd.jupyter.widget-view+json": {
       "model_id": "da6b6d086e614d38b50b3d65159a124e",
       "version_major": 2,
       "version_minor": 0
      },
      "text/plain": [
       "ANF:   0%|          | 0/500 [00:00<?, ?it/s]"
      ]
     },
     "metadata": {},
     "output_type": "display_data"
    },
    {
     "data": {
      "application/vnd.jupyter.widget-view+json": {
       "model_id": "56747a11bf3a4afba37cb298070bd611",
       "version_major": 2,
       "version_minor": 0
      },
      "text/plain": [
       "ANR:   0%|          | 0/500 [00:00<?, ?it/s]"
      ]
     },
     "metadata": {},
     "output_type": "display_data"
    },
    {
     "data": {
      "application/vnd.jupyter.widget-view+json": {
       "model_id": "62cdf9e2127e4cd2b9dbb0f7f686710b",
       "version_major": 2,
       "version_minor": 0
      },
      "text/plain": [
       "AON:   0%|          | 0/500 [00:00<?, ?it/s]"
      ]
     },
     "metadata": {},
     "output_type": "display_data"
    },
    {
     "data": {
      "application/vnd.jupyter.widget-view+json": {
       "model_id": "06c4681ed6714740887df95408f51c01",
       "version_major": 2,
       "version_minor": 0
      },
      "text/plain": [
       "APA:   0%|          | 0/500 [00:00<?, ?it/s]"
      ]
     },
     "metadata": {},
     "output_type": "display_data"
    },
    {
     "data": {
      "application/vnd.jupyter.widget-view+json": {
       "model_id": "71b4e5233a954b91a7568c033941ea57",
       "version_major": 2,
       "version_minor": 0
      },
      "text/plain": [
       "APC:   0%|          | 0/500 [00:00<?, ?it/s]"
      ]
     },
     "metadata": {},
     "output_type": "display_data"
    },
    {
     "data": {
      "application/vnd.jupyter.widget-view+json": {
       "model_id": "11d970a1a5e841db9f3bcf6d84aeeadc",
       "version_major": 2,
       "version_minor": 0
      },
      "text/plain": [
       "APD:   0%|          | 0/500 [00:00<?, ?it/s]"
      ]
     },
     "metadata": {},
     "output_type": "display_data"
    },
    {
     "data": {
      "application/vnd.jupyter.widget-view+json": {
       "model_id": "2a31edd3848646779193a4e018a4f544",
       "version_major": 2,
       "version_minor": 0
      },
      "text/plain": [
       "APH:   0%|          | 0/500 [00:00<?, ?it/s]"
      ]
     },
     "metadata": {},
     "output_type": "display_data"
    },
    {
     "data": {
      "application/vnd.jupyter.widget-view+json": {
       "model_id": "63975bdc069848fb9938959d20ee98da",
       "version_major": 2,
       "version_minor": 0
      },
      "text/plain": [
       "APOL:   0%|          | 0/500 [00:00<?, ?it/s]"
      ]
     },
     "metadata": {},
     "output_type": "display_data"
    },
    {
     "data": {
      "application/vnd.jupyter.widget-view+json": {
       "model_id": "304311190d4c4d0d8243af097c790bda",
       "version_major": 2,
       "version_minor": 0
      },
      "text/plain": [
       "ARG:   0%|          | 0/500 [00:00<?, ?it/s]"
      ]
     },
     "metadata": {},
     "output_type": "display_data"
    },
    {
     "data": {
      "application/vnd.jupyter.widget-view+json": {
       "model_id": "0b34159e6c53492b8bf9f2bd676b7197",
       "version_major": 2,
       "version_minor": 0
      },
      "text/plain": [
       "ATI:   0%|          | 0/500 [00:00<?, ?it/s]"
      ]
     },
     "metadata": {},
     "output_type": "display_data"
    },
    {
     "data": {
      "application/vnd.jupyter.widget-view+json": {
       "model_id": "6e5d6f0a0afe4f1493febabf63bc5041",
       "version_major": 2,
       "version_minor": 0
      },
      "text/plain": [
       "AVB:   0%|          | 0/500 [00:00<?, ?it/s]"
      ]
     },
     "metadata": {},
     "output_type": "display_data"
    },
    {
     "data": {
      "application/vnd.jupyter.widget-view+json": {
       "model_id": "ae92c80e6e9142659597ef648ce14f82",
       "version_major": 2,
       "version_minor": 0
      },
      "text/plain": [
       "AVP:   0%|          | 0/500 [00:00<?, ?it/s]"
      ]
     },
     "metadata": {},
     "output_type": "display_data"
    },
    {
     "data": {
      "application/vnd.jupyter.widget-view+json": {
       "model_id": "dc63eb99c8264b228ea0364c6ce83bfd",
       "version_major": 2,
       "version_minor": 0
      },
      "text/plain": [
       "AVY:   0%|          | 0/500 [00:00<?, ?it/s]"
      ]
     },
     "metadata": {},
     "output_type": "display_data"
    },
    {
     "data": {
      "application/vnd.jupyter.widget-view+json": {
       "model_id": "6211cf9f009f415989bf5978e7c98c18",
       "version_major": 2,
       "version_minor": 0
      },
      "text/plain": [
       "AXP:   0%|          | 0/500 [00:00<?, ?it/s]"
      ]
     },
     "metadata": {},
     "output_type": "display_data"
    },
    {
     "data": {
      "application/vnd.jupyter.widget-view+json": {
       "model_id": "42375de7018e4e3f959ca600edfcc9ff",
       "version_major": 2,
       "version_minor": 0
      },
      "text/plain": [
       "AZO:   0%|          | 0/500 [00:00<?, ?it/s]"
      ]
     },
     "metadata": {},
     "output_type": "display_data"
    },
    {
     "data": {
      "application/vnd.jupyter.widget-view+json": {
       "model_id": "c730438efe0442799b54a5b7dcd3a420",
       "version_major": 2,
       "version_minor": 0
      },
      "text/plain": [
       "BA:   0%|          | 0/500 [00:00<?, ?it/s]"
      ]
     },
     "metadata": {},
     "output_type": "display_data"
    },
    {
     "data": {
      "application/vnd.jupyter.widget-view+json": {
       "model_id": "0efdd79ad2db4cb995f5df85cec9994b",
       "version_major": 2,
       "version_minor": 0
      },
      "text/plain": [
       "BAC:   0%|          | 0/500 [00:00<?, ?it/s]"
      ]
     },
     "metadata": {},
     "output_type": "display_data"
    },
    {
     "data": {
      "application/vnd.jupyter.widget-view+json": {
       "model_id": "869830abf1ae4b44900c57c7699fe91c",
       "version_major": 2,
       "version_minor": 0
      },
      "text/plain": [
       "BAX:   0%|          | 0/500 [00:00<?, ?it/s]"
      ]
     },
     "metadata": {},
     "output_type": "display_data"
    },
    {
     "data": {
      "application/vnd.jupyter.widget-view+json": {
       "model_id": "6f58901c627f4dc2ae56bdcb9889de60",
       "version_major": 2,
       "version_minor": 0
      },
      "text/plain": [
       "BBBY:   0%|          | 0/500 [00:00<?, ?it/s]"
      ]
     },
     "metadata": {},
     "output_type": "display_data"
    },
    {
     "data": {
      "application/vnd.jupyter.widget-view+json": {
       "model_id": "618534e295a34e4db5374904eb0aa9d0",
       "version_major": 2,
       "version_minor": 0
      },
      "text/plain": [
       "BBT:   0%|          | 0/500 [00:00<?, ?it/s]"
      ]
     },
     "metadata": {},
     "output_type": "display_data"
    },
    {
     "data": {
      "application/vnd.jupyter.widget-view+json": {
       "model_id": "8ad04baab4d84601b285fcf1452bffa4",
       "version_major": 2,
       "version_minor": 0
      },
      "text/plain": [
       "BBY:   0%|          | 0/500 [00:00<?, ?it/s]"
      ]
     },
     "metadata": {},
     "output_type": "display_data"
    },
    {
     "data": {
      "application/vnd.jupyter.widget-view+json": {
       "model_id": "4df8e330e42c403d8492f1eda7edcca7",
       "version_major": 2,
       "version_minor": 0
      },
      "text/plain": [
       "BCR:   0%|          | 0/500 [00:00<?, ?it/s]"
      ]
     },
     "metadata": {},
     "output_type": "display_data"
    },
    {
     "data": {
      "application/vnd.jupyter.widget-view+json": {
       "model_id": "dea5f127ddec41c1a559e1dba0ba45d8",
       "version_major": 2,
       "version_minor": 0
      },
      "text/plain": [
       "BDX:   0%|          | 0/500 [00:00<?, ?it/s]"
      ]
     },
     "metadata": {},
     "output_type": "display_data"
    },
    {
     "data": {
      "application/vnd.jupyter.widget-view+json": {
       "model_id": "e67c614ce5364f708d5b129ef03a46fb",
       "version_major": 2,
       "version_minor": 0
      },
      "text/plain": [
       "BEN:   0%|          | 0/500 [00:00<?, ?it/s]"
      ]
     },
     "metadata": {},
     "output_type": "display_data"
    },
    {
     "data": {
      "application/vnd.jupyter.widget-view+json": {
       "model_id": "95141339dd204671b2dc42ffb7e50fe1",
       "version_major": 2,
       "version_minor": 0
      },
      "text/plain": [
       "BF_B:   0%|          | 0/500 [00:00<?, ?it/s]"
      ]
     },
     "metadata": {},
     "output_type": "display_data"
    },
    {
     "data": {
      "application/vnd.jupyter.widget-view+json": {
       "model_id": "a5bd5a6244c24e49af153903ad65cd1b",
       "version_major": 2,
       "version_minor": 0
      },
      "text/plain": [
       "BHI:   0%|          | 0/500 [00:00<?, ?it/s]"
      ]
     },
     "metadata": {},
     "output_type": "display_data"
    },
    {
     "data": {
      "application/vnd.jupyter.widget-view+json": {
       "model_id": "b7653d8703cc4d29a63af0c05a03a122",
       "version_major": 2,
       "version_minor": 0
      },
      "text/plain": [
       "BIG:   0%|          | 0/500 [00:00<?, ?it/s]"
      ]
     },
     "metadata": {},
     "output_type": "display_data"
    },
    {
     "data": {
      "application/vnd.jupyter.widget-view+json": {
       "model_id": "97ff84eaa27e4061b8ce8f7cf8915a96",
       "version_major": 2,
       "version_minor": 0
      },
      "text/plain": [
       "BK:   0%|          | 0/500 [00:00<?, ?it/s]"
      ]
     },
     "metadata": {},
     "output_type": "display_data"
    },
    {
     "data": {
      "application/vnd.jupyter.widget-view+json": {
       "model_id": "6d986dbf0711471a8298e7e28073133a",
       "version_major": 2,
       "version_minor": 0
      },
      "text/plain": [
       "BLK:   0%|          | 0/500 [00:00<?, ?it/s]"
      ]
     },
     "metadata": {},
     "output_type": "display_data"
    },
    {
     "data": {
      "application/vnd.jupyter.widget-view+json": {
       "model_id": "e4f2f84389144c139d645b5d26f5172c",
       "version_major": 2,
       "version_minor": 0
      },
      "text/plain": [
       "BLL:   0%|          | 0/500 [00:00<?, ?it/s]"
      ]
     },
     "metadata": {},
     "output_type": "display_data"
    },
    {
     "data": {
      "application/vnd.jupyter.widget-view+json": {
       "model_id": "a45cd45544dd47a4ab91b6f2586679a4",
       "version_major": 2,
       "version_minor": 0
      },
      "text/plain": [
       "BMC:   0%|          | 0/500 [00:00<?, ?it/s]"
      ]
     },
     "metadata": {},
     "output_type": "display_data"
    },
    {
     "data": {
      "application/vnd.jupyter.widget-view+json": {
       "model_id": "1ecc70dabb0145e88b9a9d9d69cb0b06",
       "version_major": 2,
       "version_minor": 0
      },
      "text/plain": [
       "BMS:   0%|          | 0/500 [00:00<?, ?it/s]"
      ]
     },
     "metadata": {},
     "output_type": "display_data"
    },
    {
     "data": {
      "application/vnd.jupyter.widget-view+json": {
       "model_id": "dce37f899b00461383383e9cc2472374",
       "version_major": 2,
       "version_minor": 0
      },
      "text/plain": [
       "BMY:   0%|          | 0/500 [00:00<?, ?it/s]"
      ]
     },
     "metadata": {},
     "output_type": "display_data"
    },
    {
     "data": {
      "application/vnd.jupyter.widget-view+json": {
       "model_id": "e57cfa8c03664c0486a00400246351fe",
       "version_major": 2,
       "version_minor": 0
      },
      "text/plain": [
       "BRCM:   0%|          | 0/500 [00:00<?, ?it/s]"
      ]
     },
     "metadata": {},
     "output_type": "display_data"
    },
    {
     "data": {
      "application/vnd.jupyter.widget-view+json": {
       "model_id": "65c2442d09014f5fa2ae841fdc5fcb52",
       "version_major": 2,
       "version_minor": 0
      },
      "text/plain": [
       "BRK_B:   0%|          | 0/500 [00:00<?, ?it/s]"
      ]
     },
     "metadata": {},
     "output_type": "display_data"
    },
    {
     "data": {
      "application/vnd.jupyter.widget-view+json": {
       "model_id": "34dc52a376894e0c99dacf63e6b00bc6",
       "version_major": 2,
       "version_minor": 0
      },
      "text/plain": [
       "BSX:   0%|          | 0/500 [00:00<?, ?it/s]"
      ]
     },
     "metadata": {},
     "output_type": "display_data"
    },
    {
     "data": {
      "application/vnd.jupyter.widget-view+json": {
       "model_id": "ecbb453d36ea4c5ca4d455f11f505c46",
       "version_major": 2,
       "version_minor": 0
      },
      "text/plain": [
       "BTU:   0%|          | 0/500 [00:00<?, ?it/s]"
      ]
     },
     "metadata": {},
     "output_type": "display_data"
    },
    {
     "data": {
      "application/vnd.jupyter.widget-view+json": {
       "model_id": "a8eae689624b4e80948003d7b2963b80",
       "version_major": 2,
       "version_minor": 0
      },
      "text/plain": [
       "BXP:   0%|          | 0/500 [00:00<?, ?it/s]"
      ]
     },
     "metadata": {},
     "output_type": "display_data"
    },
    {
     "data": {
      "application/vnd.jupyter.widget-view+json": {
       "model_id": "18686c58a64f4f379fdcda0bb848b26c",
       "version_major": 2,
       "version_minor": 0
      },
      "text/plain": [
       "C:   0%|          | 0/500 [00:00<?, ?it/s]"
      ]
     },
     "metadata": {},
     "output_type": "display_data"
    },
    {
     "data": {
      "application/vnd.jupyter.widget-view+json": {
       "model_id": "ea0ba05a0f5247eaa62798986e336e33",
       "version_major": 2,
       "version_minor": 0
      },
      "text/plain": [
       "CA:   0%|          | 0/500 [00:00<?, ?it/s]"
      ]
     },
     "metadata": {},
     "output_type": "display_data"
    },
    {
     "data": {
      "application/vnd.jupyter.widget-view+json": {
       "model_id": "637c02309acf4677bad4f19b698c3088",
       "version_major": 2,
       "version_minor": 0
      },
      "text/plain": [
       "CAG:   0%|          | 0/500 [00:00<?, ?it/s]"
      ]
     },
     "metadata": {},
     "output_type": "display_data"
    },
    {
     "data": {
      "application/vnd.jupyter.widget-view+json": {
       "model_id": "18f889be0cf64b0b8a713627033d604c",
       "version_major": 2,
       "version_minor": 0
      },
      "text/plain": [
       "CAH:   0%|          | 0/500 [00:00<?, ?it/s]"
      ]
     },
     "metadata": {},
     "output_type": "display_data"
    },
    {
     "data": {
      "application/vnd.jupyter.widget-view+json": {
       "model_id": "f9ae15864a644ddabfdd70675bb568fa",
       "version_major": 2,
       "version_minor": 0
      },
      "text/plain": [
       "CAM:   0%|          | 0/500 [00:00<?, ?it/s]"
      ]
     },
     "metadata": {},
     "output_type": "display_data"
    },
    {
     "data": {
      "application/vnd.jupyter.widget-view+json": {
       "model_id": "fb860002e1934d11abddf4906f2b55b1",
       "version_major": 2,
       "version_minor": 0
      },
      "text/plain": [
       "CAT:   0%|          | 0/500 [00:00<?, ?it/s]"
      ]
     },
     "metadata": {},
     "output_type": "display_data"
    },
    {
     "data": {
      "application/vnd.jupyter.widget-view+json": {
       "model_id": "416bdcd6d3724c1fa59a80429c7295e6",
       "version_major": 2,
       "version_minor": 0
      },
      "text/plain": [
       "CB:   0%|          | 0/500 [00:00<?, ?it/s]"
      ]
     },
     "metadata": {},
     "output_type": "display_data"
    },
    {
     "data": {
      "application/vnd.jupyter.widget-view+json": {
       "model_id": "57862cb9487a499a8154eacb24c4573c",
       "version_major": 2,
       "version_minor": 0
      },
      "text/plain": [
       "CBG:   0%|          | 0/500 [00:00<?, ?it/s]"
      ]
     },
     "metadata": {},
     "output_type": "display_data"
    },
    {
     "data": {
      "application/vnd.jupyter.widget-view+json": {
       "model_id": "8f1f173ecf6a4021930323cf48b58f0f",
       "version_major": 2,
       "version_minor": 0
      },
      "text/plain": [
       "CBS:   0%|          | 0/500 [00:00<?, ?it/s]"
      ]
     },
     "metadata": {},
     "output_type": "display_data"
    },
    {
     "data": {
      "application/vnd.jupyter.widget-view+json": {
       "model_id": "b92b4f6821604ca1b0ef8ace38049479",
       "version_major": 2,
       "version_minor": 0
      },
      "text/plain": [
       "CCE:   0%|          | 0/500 [00:00<?, ?it/s]"
      ]
     },
     "metadata": {},
     "output_type": "display_data"
    },
    {
     "data": {
      "application/vnd.jupyter.widget-view+json": {
       "model_id": "8ea474b94df64210a81901d70a3997a5",
       "version_major": 2,
       "version_minor": 0
      },
      "text/plain": [
       "CCL:   0%|          | 0/500 [00:00<?, ?it/s]"
      ]
     },
     "metadata": {},
     "output_type": "display_data"
    },
    {
     "data": {
      "application/vnd.jupyter.widget-view+json": {
       "model_id": "f16afe3b2c3949238bd94e2e303fee04",
       "version_major": 2,
       "version_minor": 0
      },
      "text/plain": [
       "CEP:   0%|          | 0/500 [00:00<?, ?it/s]"
      ]
     },
     "metadata": {},
     "output_type": "display_data"
    },
    {
     "data": {
      "application/vnd.jupyter.widget-view+json": {
       "model_id": "1813988ec70d43c3b7c4742e46dfd2bd",
       "version_major": 2,
       "version_minor": 0
      },
      "text/plain": [
       "CELG:   0%|          | 0/500 [00:00<?, ?it/s]"
      ]
     },
     "metadata": {},
     "output_type": "display_data"
    },
    {
     "data": {
      "application/vnd.jupyter.widget-view+json": {
       "model_id": "03e2d905e16d4cdbb5a24a14f87ec691",
       "version_major": 2,
       "version_minor": 0
      },
      "text/plain": [
       "CEPH:   0%|          | 0/500 [00:00<?, ?it/s]"
      ]
     },
     "metadata": {},
     "output_type": "display_data"
    },
    {
     "data": {
      "application/vnd.jupyter.widget-view+json": {
       "model_id": "20b29c94b2204ebf88cb420c2981dfe2",
       "version_major": 2,
       "version_minor": 0
      },
      "text/plain": [
       "CERN:   0%|          | 0/500 [00:00<?, ?it/s]"
      ]
     },
     "metadata": {},
     "output_type": "display_data"
    },
    {
     "data": {
      "application/vnd.jupyter.widget-view+json": {
       "model_id": "5266823693144b8e8c6ca6a3f257fa47",
       "version_major": 2,
       "version_minor": 0
      },
      "text/plain": [
       "CF:   0%|          | 0/500 [00:00<?, ?it/s]"
      ]
     },
     "metadata": {},
     "output_type": "display_data"
    },
    {
     "data": {
      "application/vnd.jupyter.widget-view+json": {
       "model_id": "092cb815b3fd46d4a3c2fe459254b40a",
       "version_major": 2,
       "version_minor": 0
      },
      "text/plain": [
       "CFN:   0%|          | 0/500 [00:00<?, ?it/s]"
      ]
     },
     "metadata": {},
     "output_type": "display_data"
    },
    {
     "data": {
      "application/vnd.jupyter.widget-view+json": {
       "model_id": "907aae32d9cc4acdbcbfbe73b7de710b",
       "version_major": 2,
       "version_minor": 0
      },
      "text/plain": [
       "CHK:   0%|          | 0/500 [00:00<?, ?it/s]"
      ]
     },
     "metadata": {},
     "output_type": "display_data"
    },
    {
     "data": {
      "application/vnd.jupyter.widget-view+json": {
       "model_id": "e96c320b6e0d4c55990a57e08a24a5c2",
       "version_major": 2,
       "version_minor": 0
      },
      "text/plain": [
       "CHRW:   0%|          | 0/500 [00:00<?, ?it/s]"
      ]
     },
     "metadata": {},
     "output_type": "display_data"
    },
    {
     "data": {
      "application/vnd.jupyter.widget-view+json": {
       "model_id": "4b443e7f45074820946d7f43a8906422",
       "version_major": 2,
       "version_minor": 0
      },
      "text/plain": [
       "CI:   0%|          | 0/500 [00:00<?, ?it/s]"
      ]
     },
     "metadata": {},
     "output_type": "display_data"
    },
    {
     "data": {
      "application/vnd.jupyter.widget-view+json": {
       "model_id": "219762c9ae53420093d204a2c4475ebf",
       "version_major": 2,
       "version_minor": 0
      },
      "text/plain": [
       "CINF:   0%|          | 0/500 [00:00<?, ?it/s]"
      ]
     },
     "metadata": {},
     "output_type": "display_data"
    },
    {
     "data": {
      "application/vnd.jupyter.widget-view+json": {
       "model_id": "eb49d21de1bd42aa8a253ad762544e68",
       "version_major": 2,
       "version_minor": 0
      },
      "text/plain": [
       "CL:   0%|          | 0/500 [00:00<?, ?it/s]"
      ]
     },
     "metadata": {},
     "output_type": "display_data"
    },
    {
     "data": {
      "application/vnd.jupyter.widget-view+json": {
       "model_id": "680fe861430944f98760b1019229c250",
       "version_major": 2,
       "version_minor": 0
      },
      "text/plain": [
       "CLF:   0%|          | 0/500 [00:00<?, ?it/s]"
      ]
     },
     "metadata": {},
     "output_type": "display_data"
    },
    {
     "data": {
      "application/vnd.jupyter.widget-view+json": {
       "model_id": "4a7823500a864e09a15c0be05315acf0",
       "version_major": 2,
       "version_minor": 0
      },
      "text/plain": [
       "CLX:   0%|          | 0/500 [00:00<?, ?it/s]"
      ]
     },
     "metadata": {},
     "output_type": "display_data"
    },
    {
     "data": {
      "application/vnd.jupyter.widget-view+json": {
       "model_id": "16b03693b8ad4d3490ab682f68f00846",
       "version_major": 2,
       "version_minor": 0
      },
      "text/plain": [
       "CMA:   0%|          | 0/500 [00:00<?, ?it/s]"
      ]
     },
     "metadata": {},
     "output_type": "display_data"
    },
    {
     "data": {
      "application/vnd.jupyter.widget-view+json": {
       "model_id": "f6a87180404e45c88d4de855fe406c9e",
       "version_major": 2,
       "version_minor": 0
      },
      "text/plain": [
       "CME:   0%|          | 0/500 [00:00<?, ?it/s]"
      ]
     },
     "metadata": {},
     "output_type": "display_data"
    },
    {
     "data": {
      "application/vnd.jupyter.widget-view+json": {
       "model_id": "16969d6e2a474447b81abd1246e80984",
       "version_major": 2,
       "version_minor": 0
      },
      "text/plain": [
       "CMG:   0%|          | 0/500 [00:00<?, ?it/s]"
      ]
     },
     "metadata": {},
     "output_type": "display_data"
    },
    {
     "data": {
      "application/vnd.jupyter.widget-view+json": {
       "model_id": "3337f0b48f044c6d87e63a6fb52377dd",
       "version_major": 2,
       "version_minor": 0
      },
      "text/plain": [
       "CMI:   0%|          | 0/500 [00:00<?, ?it/s]"
      ]
     },
     "metadata": {},
     "output_type": "display_data"
    },
    {
     "data": {
      "application/vnd.jupyter.widget-view+json": {
       "model_id": "53a9faf2aa9e474cab839f8575f25d36",
       "version_major": 2,
       "version_minor": 0
      },
      "text/plain": [
       "CMS:   0%|          | 0/500 [00:00<?, ?it/s]"
      ]
     },
     "metadata": {},
     "output_type": "display_data"
    },
    {
     "data": {
      "application/vnd.jupyter.widget-view+json": {
       "model_id": "5ad91f6a2b844a118f2a99935ed457d7",
       "version_major": 2,
       "version_minor": 0
      },
      "text/plain": [
       "CNP:   0%|          | 0/500 [00:00<?, ?it/s]"
      ]
     },
     "metadata": {},
     "output_type": "display_data"
    },
    {
     "data": {
      "application/vnd.jupyter.widget-view+json": {
       "model_id": "8a832c0bcfe348a7b4c13b0e47624808",
       "version_major": 2,
       "version_minor": 0
      },
      "text/plain": [
       "CNX:   0%|          | 0/500 [00:00<?, ?it/s]"
      ]
     },
     "metadata": {},
     "output_type": "display_data"
    },
    {
     "data": {
      "application/vnd.jupyter.widget-view+json": {
       "model_id": "023d77cfa1aa4916a9923439477211db",
       "version_major": 2,
       "version_minor": 0
      },
      "text/plain": [
       "COF:   0%|          | 0/500 [00:00<?, ?it/s]"
      ]
     },
     "metadata": {},
     "output_type": "display_data"
    },
    {
     "data": {
      "application/vnd.jupyter.widget-view+json": {
       "model_id": "9e7f5a923bf34706a6b619a7b9ab3ec4",
       "version_major": 2,
       "version_minor": 0
      },
      "text/plain": [
       "COG:   0%|          | 0/500 [00:00<?, ?it/s]"
      ]
     },
     "metadata": {},
     "output_type": "display_data"
    },
    {
     "data": {
      "application/vnd.jupyter.widget-view+json": {
       "model_id": "35c7c9beafc6486d9e4dbe2ba3a80d03",
       "version_major": 2,
       "version_minor": 0
      },
      "text/plain": [
       "COH:   0%|          | 0/500 [00:00<?, ?it/s]"
      ]
     },
     "metadata": {},
     "output_type": "display_data"
    },
    {
     "data": {
      "application/vnd.jupyter.widget-view+json": {
       "model_id": "abb414f5f0a441a58f6b3f1201275bd8",
       "version_major": 2,
       "version_minor": 0
      },
      "text/plain": [
       "COL:   0%|          | 0/500 [00:00<?, ?it/s]"
      ]
     },
     "metadata": {},
     "output_type": "display_data"
    },
    {
     "data": {
      "application/vnd.jupyter.widget-view+json": {
       "model_id": "28fd0264ce6b4be08aab0aa6ca8f71b2",
       "version_major": 2,
       "version_minor": 0
      },
      "text/plain": [
       "COP:   0%|          | 0/500 [00:00<?, ?it/s]"
      ]
     },
     "metadata": {},
     "output_type": "display_data"
    },
    {
     "data": {
      "application/vnd.jupyter.widget-view+json": {
       "model_id": "81e61d6065de4715a742419ebccb25d1",
       "version_major": 2,
       "version_minor": 0
      },
      "text/plain": [
       "COV:   0%|          | 0/500 [00:00<?, ?it/s]"
      ]
     },
     "metadata": {},
     "output_type": "display_data"
    },
    {
     "data": {
      "application/vnd.jupyter.widget-view+json": {
       "model_id": "cb5b960b901146baae7b2cdc63086a50",
       "version_major": 2,
       "version_minor": 0
      },
      "text/plain": [
       "CPB:   0%|          | 0/500 [00:00<?, ?it/s]"
      ]
     },
     "metadata": {},
     "output_type": "display_data"
    },
    {
     "data": {
      "application/vnd.jupyter.widget-view+json": {
       "model_id": "7ee18181f90a42d0921e251301ea83d7",
       "version_major": 2,
       "version_minor": 0
      },
      "text/plain": [
       "CPWR:   0%|          | 0/500 [00:00<?, ?it/s]"
      ]
     },
     "metadata": {},
     "output_type": "display_data"
    },
    {
     "data": {
      "application/vnd.jupyter.widget-view+json": {
       "model_id": "e4039702a9a840369caef7452e997fd3",
       "version_major": 2,
       "version_minor": 0
      },
      "text/plain": [
       "CRM:   0%|          | 0/500 [00:00<?, ?it/s]"
      ]
     },
     "metadata": {},
     "output_type": "display_data"
    },
    {
     "data": {
      "application/vnd.jupyter.widget-view+json": {
       "model_id": "1702a103b0c64a8694feedc86212f3b8",
       "version_major": 2,
       "version_minor": 0
      },
      "text/plain": [
       "CSC:   0%|          | 0/500 [00:00<?, ?it/s]"
      ]
     },
     "metadata": {},
     "output_type": "display_data"
    },
    {
     "data": {
      "application/vnd.jupyter.widget-view+json": {
       "model_id": "c7025673931a4f6487c3390b9a813f0c",
       "version_major": 2,
       "version_minor": 0
      },
      "text/plain": [
       "CTL:   0%|          | 0/500 [00:00<?, ?it/s]"
      ]
     },
     "metadata": {},
     "output_type": "display_data"
    },
    {
     "data": {
      "application/vnd.jupyter.widget-view+json": {
       "model_id": "7e849ca47aed4bbbb1684b5f74a14c80",
       "version_major": 2,
       "version_minor": 0
      },
      "text/plain": [
       "CTXS:   0%|          | 0/500 [00:00<?, ?it/s]"
      ]
     },
     "metadata": {},
     "output_type": "display_data"
    },
    {
     "data": {
      "application/vnd.jupyter.widget-view+json": {
       "model_id": "587e25c2987c4302ad06d880a8314309",
       "version_major": 2,
       "version_minor": 0
      },
      "text/plain": [
       "CVC:   0%|          | 0/500 [00:00<?, ?it/s]"
      ]
     },
     "metadata": {},
     "output_type": "display_data"
    },
    {
     "data": {
      "application/vnd.jupyter.widget-view+json": {
       "model_id": "d08791a2597a43f4b3e1de4dd01dfaa0",
       "version_major": 2,
       "version_minor": 0
      },
      "text/plain": [
       "CVH:   0%|          | 0/500 [00:00<?, ?it/s]"
      ]
     },
     "metadata": {},
     "output_type": "display_data"
    },
    {
     "data": {
      "application/vnd.jupyter.widget-view+json": {
       "model_id": "1c6aa847f10b40c98ef74e5e5fc1b88d",
       "version_major": 2,
       "version_minor": 0
      },
      "text/plain": [
       "CVS:   0%|          | 0/500 [00:00<?, ?it/s]"
      ]
     },
     "metadata": {},
     "output_type": "display_data"
    },
    {
     "data": {
      "application/vnd.jupyter.widget-view+json": {
       "model_id": "38db721cd103467091a62f0944fa4e61",
       "version_major": 2,
       "version_minor": 0
      },
      "text/plain": [
       "CVX:   0%|          | 0/500 [00:00<?, ?it/s]"
      ]
     },
     "metadata": {},
     "output_type": "display_data"
    },
    {
     "data": {
      "application/vnd.jupyter.widget-view+json": {
       "model_id": "7d6443fb25f2410f902b08f6080817ff",
       "version_major": 2,
       "version_minor": 0
      },
      "text/plain": [
       "D:   0%|          | 0/500 [00:00<?, ?it/s]"
      ]
     },
     "metadata": {},
     "output_type": "display_data"
    },
    {
     "data": {
      "application/vnd.jupyter.widget-view+json": {
       "model_id": "737ce4e4f4dd41489276bfc6501ae6f5",
       "version_major": 2,
       "version_minor": 0
      },
      "text/plain": [
       "DD:   0%|          | 0/500 [00:00<?, ?it/s]"
      ]
     },
     "metadata": {},
     "output_type": "display_data"
    },
    {
     "data": {
      "application/vnd.jupyter.widget-view+json": {
       "model_id": "5ea849c6ae78424c843fde33e8e0edc1",
       "version_major": 2,
       "version_minor": 0
      },
      "text/plain": [
       "DE:   0%|          | 0/500 [00:00<?, ?it/s]"
      ]
     },
     "metadata": {},
     "output_type": "display_data"
    },
    {
     "data": {
      "application/vnd.jupyter.widget-view+json": {
       "model_id": "f282defe940d4e5c9b2a6da3190eb567",
       "version_major": 2,
       "version_minor": 0
      },
      "text/plain": [
       "DELL:   0%|          | 0/500 [00:00<?, ?it/s]"
      ]
     },
     "metadata": {},
     "output_type": "display_data"
    },
    {
     "data": {
      "application/vnd.jupyter.widget-view+json": {
       "model_id": "6cfce0661c464b6897e3da3d44a77a0f",
       "version_major": 2,
       "version_minor": 0
      },
      "text/plain": [
       "DF:   0%|          | 0/500 [00:00<?, ?it/s]"
      ]
     },
     "metadata": {},
     "output_type": "display_data"
    },
    {
     "data": {
      "application/vnd.jupyter.widget-view+json": {
       "model_id": "22e7e22bb1af4728bcab7cdce484bf95",
       "version_major": 2,
       "version_minor": 0
      },
      "text/plain": [
       "DFS:   0%|          | 0/500 [00:00<?, ?it/s]"
      ]
     },
     "metadata": {},
     "output_type": "display_data"
    },
    {
     "data": {
      "application/vnd.jupyter.widget-view+json": {
       "model_id": "3a4cbd934c2a4affb570fcc1cc17f04c",
       "version_major": 2,
       "version_minor": 0
      },
      "text/plain": [
       "DGX:   0%|          | 0/500 [00:00<?, ?it/s]"
      ]
     },
     "metadata": {},
     "output_type": "display_data"
    },
    {
     "data": {
      "application/vnd.jupyter.widget-view+json": {
       "model_id": "4945b7cd9ff24e97af98a6b406c65a92",
       "version_major": 2,
       "version_minor": 0
      },
      "text/plain": [
       "DHI:   0%|          | 0/500 [00:00<?, ?it/s]"
      ]
     },
     "metadata": {},
     "output_type": "display_data"
    },
    {
     "data": {
      "application/vnd.jupyter.widget-view+json": {
       "model_id": "bc5b0788e6b5494a99845acb966a1541",
       "version_major": 2,
       "version_minor": 0
      },
      "text/plain": [
       "DHR:   0%|          | 0/500 [00:00<?, ?it/s]"
      ]
     },
     "metadata": {},
     "output_type": "display_data"
    },
    {
     "data": {
      "application/vnd.jupyter.widget-view+json": {
       "model_id": "42346d91dd6b4379ad9ddf7d0ce39532",
       "version_major": 2,
       "version_minor": 0
      },
      "text/plain": [
       "DIS:   0%|          | 0/500 [00:00<?, ?it/s]"
      ]
     },
     "metadata": {},
     "output_type": "display_data"
    },
    {
     "data": {
      "application/vnd.jupyter.widget-view+json": {
       "model_id": "75c10c80126b47368e2a443d20750b9f",
       "version_major": 2,
       "version_minor": 0
      },
      "text/plain": [
       "DISCA:   0%|          | 0/500 [00:00<?, ?it/s]"
      ]
     },
     "metadata": {},
     "output_type": "display_data"
    },
    {
     "data": {
      "application/vnd.jupyter.widget-view+json": {
       "model_id": "f9120d521d4448a6940a71f34b345adc",
       "version_major": 2,
       "version_minor": 0
      },
      "text/plain": [
       "DNB:   0%|          | 0/500 [00:00<?, ?it/s]"
      ]
     },
     "metadata": {},
     "output_type": "display_data"
    },
    {
     "data": {
      "application/vnd.jupyter.widget-view+json": {
       "model_id": "0a1368d9c9c0454a80a25441a636ae3e",
       "version_major": 2,
       "version_minor": 0
      },
      "text/plain": [
       "DNR:   0%|          | 0/500 [00:00<?, ?it/s]"
      ]
     },
     "metadata": {},
     "output_type": "display_data"
    },
    {
     "data": {
      "application/vnd.jupyter.widget-view+json": {
       "model_id": "103c39840d884118b4edd92ef2fa523a",
       "version_major": 2,
       "version_minor": 0
      },
      "text/plain": [
       "DO:   0%|          | 0/500 [00:00<?, ?it/s]"
      ]
     },
     "metadata": {},
     "output_type": "display_data"
    },
    {
     "data": {
      "application/vnd.jupyter.widget-view+json": {
       "model_id": "a98fabe8164a4112a4b56f82aa5f2375",
       "version_major": 2,
       "version_minor": 0
      },
      "text/plain": [
       "DOV:   0%|          | 0/500 [00:00<?, ?it/s]"
      ]
     },
     "metadata": {},
     "output_type": "display_data"
    },
    {
     "data": {
      "application/vnd.jupyter.widget-view+json": {
       "model_id": "9eb2264671a248998563891474bbc85a",
       "version_major": 2,
       "version_minor": 0
      },
      "text/plain": [
       "DOW:   0%|          | 0/500 [00:00<?, ?it/s]"
      ]
     },
     "metadata": {},
     "output_type": "display_data"
    },
    {
     "data": {
      "application/vnd.jupyter.widget-view+json": {
       "model_id": "0dfa5f27c9ab440ba4155505b68cc26b",
       "version_major": 2,
       "version_minor": 0
      },
      "text/plain": [
       "DPS:   0%|          | 0/500 [00:00<?, ?it/s]"
      ]
     },
     "metadata": {},
     "output_type": "display_data"
    },
    {
     "data": {
      "application/vnd.jupyter.widget-view+json": {
       "model_id": "97fab8b5f06b455a91bef31c18e68435",
       "version_major": 2,
       "version_minor": 0
      },
      "text/plain": [
       "DRI:   0%|          | 0/500 [00:00<?, ?it/s]"
      ]
     },
     "metadata": {},
     "output_type": "display_data"
    },
    {
     "data": {
      "application/vnd.jupyter.widget-view+json": {
       "model_id": "220715482c4f45ebb7304bb09d538fe8",
       "version_major": 2,
       "version_minor": 0
      },
      "text/plain": [
       "DTE:   0%|          | 0/500 [00:00<?, ?it/s]"
      ]
     },
     "metadata": {},
     "output_type": "display_data"
    },
    {
     "data": {
      "application/vnd.jupyter.widget-view+json": {
       "model_id": "6257113c70044bfea312fe2ceb1316d5",
       "version_major": 2,
       "version_minor": 0
      },
      "text/plain": [
       "DTV:   0%|          | 0/500 [00:00<?, ?it/s]"
      ]
     },
     "metadata": {},
     "output_type": "display_data"
    },
    {
     "data": {
      "application/vnd.jupyter.widget-view+json": {
       "model_id": "0f0f9356696a45a48fcba5c0dbb8779a",
       "version_major": 2,
       "version_minor": 0
      },
      "text/plain": [
       "DUK:   0%|          | 0/500 [00:00<?, ?it/s]"
      ]
     },
     "metadata": {},
     "output_type": "display_data"
    },
    {
     "data": {
      "application/vnd.jupyter.widget-view+json": {
       "model_id": "30f745a244b64c70a243e22ab3da7aea",
       "version_major": 2,
       "version_minor": 0
      },
      "text/plain": [
       "DV:   0%|          | 0/500 [00:00<?, ?it/s]"
      ]
     },
     "metadata": {},
     "output_type": "display_data"
    },
    {
     "data": {
      "application/vnd.jupyter.widget-view+json": {
       "model_id": "9e6c0d52ff654be791f48fac5c23af9d",
       "version_major": 2,
       "version_minor": 0
      },
      "text/plain": [
       "DVA:   0%|          | 0/500 [00:00<?, ?it/s]"
      ]
     },
     "metadata": {},
     "output_type": "display_data"
    },
    {
     "data": {
      "application/vnd.jupyter.widget-view+json": {
       "model_id": "e8163ee83d914ba99d2b97f5ac19f331",
       "version_major": 2,
       "version_minor": 0
      },
      "text/plain": [
       "DVN:   0%|          | 0/500 [00:00<?, ?it/s]"
      ]
     },
     "metadata": {},
     "output_type": "display_data"
    },
    {
     "data": {
      "application/vnd.jupyter.widget-view+json": {
       "model_id": "17320cd571154a3a9013aacdc1b5d4d9",
       "version_major": 2,
       "version_minor": 0
      },
      "text/plain": [
       "ECL:   0%|          | 0/500 [00:00<?, ?it/s]"
      ]
     },
     "metadata": {},
     "output_type": "display_data"
    },
    {
     "data": {
      "application/vnd.jupyter.widget-view+json": {
       "model_id": "05db15bbeb584d37b1c9d0262658575f",
       "version_major": 2,
       "version_minor": 0
      },
      "text/plain": [
       "ED:   0%|          | 0/500 [00:00<?, ?it/s]"
      ]
     },
     "metadata": {},
     "output_type": "display_data"
    },
    {
     "data": {
      "application/vnd.jupyter.widget-view+json": {
       "model_id": "4c21a988b0e14eb0bde18a8733d3a671",
       "version_major": 2,
       "version_minor": 0
      },
      "text/plain": [
       "EFX:   0%|          | 0/500 [00:00<?, ?it/s]"
      ]
     },
     "metadata": {},
     "output_type": "display_data"
    },
    {
     "data": {
      "application/vnd.jupyter.widget-view+json": {
       "model_id": "731b4a2ee8d84acdad5736cd618f41ec",
       "version_major": 2,
       "version_minor": 0
      },
      "text/plain": [
       "EIX:   0%|          | 0/500 [00:00<?, ?it/s]"
      ]
     },
     "metadata": {},
     "output_type": "display_data"
    },
    {
     "data": {
      "application/vnd.jupyter.widget-view+json": {
       "model_id": "c87c4f213a744faeb7abdddc1dac4563",
       "version_major": 2,
       "version_minor": 0
      },
      "text/plain": [
       "EL:   0%|          | 0/500 [00:00<?, ?it/s]"
      ]
     },
     "metadata": {},
     "output_type": "display_data"
    },
    {
     "data": {
      "application/vnd.jupyter.widget-view+json": {
       "model_id": "df464e40980f465389ea0d80f28e91d0",
       "version_major": 2,
       "version_minor": 0
      },
      "text/plain": [
       "EMC:   0%|          | 0/500 [00:00<?, ?it/s]"
      ]
     },
     "metadata": {},
     "output_type": "display_data"
    },
    {
     "data": {
      "application/vnd.jupyter.widget-view+json": {
       "model_id": "4a0c50ba0f3c4b97a1117290054e9d22",
       "version_major": 2,
       "version_minor": 0
      },
      "text/plain": [
       "EMN:   0%|          | 0/500 [00:00<?, ?it/s]"
      ]
     },
     "metadata": {},
     "output_type": "display_data"
    },
    {
     "data": {
      "application/vnd.jupyter.widget-view+json": {
       "model_id": "2ae3690bbcd14bfebdac840bbe809070",
       "version_major": 2,
       "version_minor": 0
      },
      "text/plain": [
       "EMR:   0%|          | 0/500 [00:00<?, ?it/s]"
      ]
     },
     "metadata": {},
     "output_type": "display_data"
    },
    {
     "data": {
      "application/vnd.jupyter.widget-view+json": {
       "model_id": "cab2029300e247dfac03d08e307ed6c4",
       "version_major": 2,
       "version_minor": 0
      },
      "text/plain": [
       "EOG:   0%|          | 0/500 [00:00<?, ?it/s]"
      ]
     },
     "metadata": {},
     "output_type": "display_data"
    },
    {
     "data": {
      "application/vnd.jupyter.widget-view+json": {
       "model_id": "45d37b6715624fd6a9a347e2ef5e5011",
       "version_major": 2,
       "version_minor": 0
      },
      "text/plain": [
       "EP:   0%|          | 0/500 [00:00<?, ?it/s]"
      ]
     },
     "metadata": {},
     "output_type": "display_data"
    },
    {
     "data": {
      "application/vnd.jupyter.widget-view+json": {
       "model_id": "e63d74e45f564060bf48fd82244ed282",
       "version_major": 2,
       "version_minor": 0
      },
      "text/plain": [
       "EQR:   0%|          | 0/500 [00:00<?, ?it/s]"
      ]
     },
     "metadata": {},
     "output_type": "display_data"
    },
    {
     "data": {
      "application/vnd.jupyter.widget-view+json": {
       "model_id": "2d5e8a8f9c354e32bf12c5a0b0022611",
       "version_major": 2,
       "version_minor": 0
      },
      "text/plain": [
       "EQT:   0%|          | 0/500 [00:00<?, ?it/s]"
      ]
     },
     "metadata": {},
     "output_type": "display_data"
    },
    {
     "data": {
      "application/vnd.jupyter.widget-view+json": {
       "model_id": "0d4773ae1cd24c8495e7282d758b18a7",
       "version_major": 2,
       "version_minor": 0
      },
      "text/plain": [
       "ESRX:   0%|          | 0/500 [00:00<?, ?it/s]"
      ]
     },
     "metadata": {},
     "output_type": "display_data"
    },
    {
     "data": {
      "application/vnd.jupyter.widget-view+json": {
       "model_id": "95a81933a366443e8b3f7fe738568559",
       "version_major": 2,
       "version_minor": 0
      },
      "text/plain": [
       "ETFC:   0%|          | 0/500 [00:00<?, ?it/s]"
      ]
     },
     "metadata": {},
     "output_type": "display_data"
    },
    {
     "data": {
      "application/vnd.jupyter.widget-view+json": {
       "model_id": "74a32190d46c4f3dbb9bab98676ea934",
       "version_major": 2,
       "version_minor": 0
      },
      "text/plain": [
       "ETN:   0%|          | 0/500 [00:00<?, ?it/s]"
      ]
     },
     "metadata": {},
     "output_type": "display_data"
    },
    {
     "data": {
      "application/vnd.jupyter.widget-view+json": {
       "model_id": "1db7823aed1c45ab9e7880d5376a82e6",
       "version_major": 2,
       "version_minor": 0
      },
      "text/plain": [
       "ETR:   0%|          | 0/500 [00:00<?, ?it/s]"
      ]
     },
     "metadata": {},
     "output_type": "display_data"
    },
    {
     "data": {
      "application/vnd.jupyter.widget-view+json": {
       "model_id": "c09a52e24fbe40f89cb249e3da4e112f",
       "version_major": 2,
       "version_minor": 0
      },
      "text/plain": [
       "EW:   0%|          | 0/500 [00:00<?, ?it/s]"
      ]
     },
     "metadata": {},
     "output_type": "display_data"
    },
    {
     "data": {
      "application/vnd.jupyter.widget-view+json": {
       "model_id": "9772cc568fb345edbe5fa0fc23613402",
       "version_major": 2,
       "version_minor": 0
      },
      "text/plain": [
       "EXC:   0%|          | 0/500 [00:00<?, ?it/s]"
      ]
     },
     "metadata": {},
     "output_type": "display_data"
    },
    {
     "data": {
      "application/vnd.jupyter.widget-view+json": {
       "model_id": "31ca9b4425d846b6b6eaa69694fedc90",
       "version_major": 2,
       "version_minor": 0
      },
      "text/plain": [
       "EXPD:   0%|          | 0/500 [00:00<?, ?it/s]"
      ]
     },
     "metadata": {},
     "output_type": "display_data"
    },
    {
     "data": {
      "application/vnd.jupyter.widget-view+json": {
       "model_id": "03a8d72c8da84f7c8571a7d48b5609d0",
       "version_major": 2,
       "version_minor": 0
      },
      "text/plain": [
       "F:   0%|          | 0/500 [00:00<?, ?it/s]"
      ]
     },
     "metadata": {},
     "output_type": "display_data"
    },
    {
     "data": {
      "application/vnd.jupyter.widget-view+json": {
       "model_id": "73e95481981d453588f5bd44a11a627f",
       "version_major": 2,
       "version_minor": 0
      },
      "text/plain": [
       "FCX:   0%|          | 0/500 [00:00<?, ?it/s]"
      ]
     },
     "metadata": {},
     "output_type": "display_data"
    },
    {
     "data": {
      "application/vnd.jupyter.widget-view+json": {
       "model_id": "2a73367b1a3142bd9d2b747b8176864b",
       "version_major": 2,
       "version_minor": 0
      },
      "text/plain": [
       "FDO:   0%|          | 0/500 [00:00<?, ?it/s]"
      ]
     },
     "metadata": {},
     "output_type": "display_data"
    },
    {
     "data": {
      "application/vnd.jupyter.widget-view+json": {
       "model_id": "280e4988944945b0b957540fbbd49edb",
       "version_major": 2,
       "version_minor": 0
      },
      "text/plain": [
       "FDX:   0%|          | 0/500 [00:00<?, ?it/s]"
      ]
     },
     "metadata": {},
     "output_type": "display_data"
    },
    {
     "data": {
      "application/vnd.jupyter.widget-view+json": {
       "model_id": "ede6daa81b6d46f9a87b605aada712d8",
       "version_major": 2,
       "version_minor": 0
      },
      "text/plain": [
       "FE:   0%|          | 0/500 [00:00<?, ?it/s]"
      ]
     },
     "metadata": {},
     "output_type": "display_data"
    },
    {
     "data": {
      "application/vnd.jupyter.widget-view+json": {
       "model_id": "c21bbbad322143ec8fcdd362d54526ee",
       "version_major": 2,
       "version_minor": 0
      },
      "text/plain": [
       "FFIV:   0%|          | 0/500 [00:00<?, ?it/s]"
      ]
     },
     "metadata": {},
     "output_type": "display_data"
    },
    {
     "data": {
      "application/vnd.jupyter.widget-view+json": {
       "model_id": "948ec9a67e224644931aa746522e9034",
       "version_major": 2,
       "version_minor": 0
      },
      "text/plain": [
       "FHN:   0%|          | 0/500 [00:00<?, ?it/s]"
      ]
     },
     "metadata": {},
     "output_type": "display_data"
    },
    {
     "data": {
      "application/vnd.jupyter.widget-view+json": {
       "model_id": "79acf488c4d64f02aa067d08d4500362",
       "version_major": 2,
       "version_minor": 0
      },
      "text/plain": [
       "FII:   0%|          | 0/500 [00:00<?, ?it/s]"
      ]
     },
     "metadata": {},
     "output_type": "display_data"
    },
    {
     "data": {
      "application/vnd.jupyter.widget-view+json": {
       "model_id": "4d75e146fa75491092c778c78cc57d18",
       "version_major": 2,
       "version_minor": 0
      },
      "text/plain": [
       "FIS:   0%|          | 0/500 [00:00<?, ?it/s]"
      ]
     },
     "metadata": {},
     "output_type": "display_data"
    },
    {
     "data": {
      "application/vnd.jupyter.widget-view+json": {
       "model_id": "27400fc1a69d4c78bd3f685659eef66d",
       "version_major": 2,
       "version_minor": 0
      },
      "text/plain": [
       "FITB:   0%|          | 0/500 [00:00<?, ?it/s]"
      ]
     },
     "metadata": {},
     "output_type": "display_data"
    },
    {
     "data": {
      "application/vnd.jupyter.widget-view+json": {
       "model_id": "6663d6f2d79e4e2eb1e3e329f6aae5b0",
       "version_major": 2,
       "version_minor": 0
      },
      "text/plain": [
       "FLIR:   0%|          | 0/500 [00:00<?, ?it/s]"
      ]
     },
     "metadata": {},
     "output_type": "display_data"
    },
    {
     "data": {
      "application/vnd.jupyter.widget-view+json": {
       "model_id": "325f20ebd4454211afd96c03609b7815",
       "version_major": 2,
       "version_minor": 0
      },
      "text/plain": [
       "FLR:   0%|          | 0/500 [00:00<?, ?it/s]"
      ]
     },
     "metadata": {},
     "output_type": "display_data"
    },
    {
     "data": {
      "application/vnd.jupyter.widget-view+json": {
       "model_id": "d4c600fb3ea44d67b4e8ae340937cd63",
       "version_major": 2,
       "version_minor": 0
      },
      "text/plain": [
       "FLS:   0%|          | 0/500 [00:00<?, ?it/s]"
      ]
     },
     "metadata": {},
     "output_type": "display_data"
    },
    {
     "data": {
      "application/vnd.jupyter.widget-view+json": {
       "model_id": "057b4a55f91341b08702a3de84644c0f",
       "version_major": 2,
       "version_minor": 0
      },
      "text/plain": [
       "FMC:   0%|          | 0/500 [00:00<?, ?it/s]"
      ]
     },
     "metadata": {},
     "output_type": "display_data"
    },
    {
     "data": {
      "application/vnd.jupyter.widget-view+json": {
       "model_id": "cd7d92116df2499db4097453548f77a1",
       "version_major": 2,
       "version_minor": 0
      },
      "text/plain": [
       "FO:   0%|          | 0/500 [00:00<?, ?it/s]"
      ]
     },
     "metadata": {},
     "output_type": "display_data"
    },
    {
     "data": {
      "application/vnd.jupyter.widget-view+json": {
       "model_id": "21099fae62a0462fb9b0845d5fd6a1ed",
       "version_major": 2,
       "version_minor": 0
      },
      "text/plain": [
       "FRX:   0%|          | 0/500 [00:00<?, ?it/s]"
      ]
     },
     "metadata": {},
     "output_type": "display_data"
    },
    {
     "data": {
      "application/vnd.jupyter.widget-view+json": {
       "model_id": "d0f5e4a5977d4b34a4bbfc512c28f6b9",
       "version_major": 2,
       "version_minor": 0
      },
      "text/plain": [
       "FSLR:   0%|          | 0/500 [00:00<?, ?it/s]"
      ]
     },
     "metadata": {},
     "output_type": "display_data"
    },
    {
     "data": {
      "application/vnd.jupyter.widget-view+json": {
       "model_id": "10e7b35dba9a4f8c90a60d2683bdc35e",
       "version_major": 2,
       "version_minor": 0
      },
      "text/plain": [
       "FTI:   0%|          | 0/500 [00:00<?, ?it/s]"
      ]
     },
     "metadata": {},
     "output_type": "display_data"
    },
    {
     "data": {
      "application/vnd.jupyter.widget-view+json": {
       "model_id": "ada2bb2b761e41fb919c7b1850e439ce",
       "version_major": 2,
       "version_minor": 0
      },
      "text/plain": [
       "FTR:   0%|          | 0/500 [00:00<?, ?it/s]"
      ]
     },
     "metadata": {},
     "output_type": "display_data"
    },
    {
     "data": {
      "application/vnd.jupyter.widget-view+json": {
       "model_id": "838d411b1eb6447892c79d88073f645f",
       "version_major": 2,
       "version_minor": 0
      },
      "text/plain": [
       "GAS:   0%|          | 0/500 [00:00<?, ?it/s]"
      ]
     },
     "metadata": {},
     "output_type": "display_data"
    },
    {
     "data": {
      "application/vnd.jupyter.widget-view+json": {
       "model_id": "215349644f484ad6b56f749389bb45f3",
       "version_major": 2,
       "version_minor": 0
      },
      "text/plain": [
       "GCI:   0%|          | 0/500 [00:00<?, ?it/s]"
      ]
     },
     "metadata": {},
     "output_type": "display_data"
    },
    {
     "data": {
      "application/vnd.jupyter.widget-view+json": {
       "model_id": "2175cb676b584331942dce2fd62d8bac",
       "version_major": 2,
       "version_minor": 0
      },
      "text/plain": [
       "GD:   0%|          | 0/500 [00:00<?, ?it/s]"
      ]
     },
     "metadata": {},
     "output_type": "display_data"
    },
    {
     "data": {
      "application/vnd.jupyter.widget-view+json": {
       "model_id": "2613bfed62af40018b7997fcb864d685",
       "version_major": 2,
       "version_minor": 0
      },
      "text/plain": [
       "GE:   0%|          | 0/500 [00:00<?, ?it/s]"
      ]
     },
     "metadata": {},
     "output_type": "display_data"
    },
    {
     "data": {
      "application/vnd.jupyter.widget-view+json": {
       "model_id": "fd08939256aa435f8628a3b2962f0e2b",
       "version_major": 2,
       "version_minor": 0
      },
      "text/plain": [
       "GIS:   0%|          | 0/500 [00:00<?, ?it/s]"
      ]
     },
     "metadata": {},
     "output_type": "display_data"
    },
    {
     "data": {
      "application/vnd.jupyter.widget-view+json": {
       "model_id": "77ba7e19c1f040c3b84d641514d454b9",
       "version_major": 2,
       "version_minor": 0
      },
      "text/plain": [
       "GLW:   0%|          | 0/500 [00:00<?, ?it/s]"
      ]
     },
     "metadata": {},
     "output_type": "display_data"
    },
    {
     "data": {
      "application/vnd.jupyter.widget-view+json": {
       "model_id": "c45b9817c3744ba08462473623d284ce",
       "version_major": 2,
       "version_minor": 0
      },
      "text/plain": [
       "GME:   0%|          | 0/500 [00:00<?, ?it/s]"
      ]
     },
     "metadata": {},
     "output_type": "display_data"
    },
    {
     "data": {
      "application/vnd.jupyter.widget-view+json": {
       "model_id": "ce8cda8211f144439c8d30cce9a5c01d",
       "version_major": 2,
       "version_minor": 0
      },
      "text/plain": [
       "GNW:   0%|          | 0/500 [00:00<?, ?it/s]"
      ]
     },
     "metadata": {},
     "output_type": "display_data"
    },
    {
     "data": {
      "application/vnd.jupyter.widget-view+json": {
       "model_id": "bcad230501154abe9e15e917421eed1c",
       "version_major": 2,
       "version_minor": 0
      },
      "text/plain": [
       "GOOG:   0%|          | 0/500 [00:00<?, ?it/s]"
      ]
     },
     "metadata": {},
     "output_type": "display_data"
    },
    {
     "data": {
      "application/vnd.jupyter.widget-view+json": {
       "model_id": "8b43ecce920241b686cd011d8fd5cf4c",
       "version_major": 2,
       "version_minor": 0
      },
      "text/plain": [
       "GPC:   0%|          | 0/500 [00:00<?, ?it/s]"
      ]
     },
     "metadata": {},
     "output_type": "display_data"
    },
    {
     "data": {
      "application/vnd.jupyter.widget-view+json": {
       "model_id": "c9dfed3abc1446158eae36c150344ae3",
       "version_major": 2,
       "version_minor": 0
      },
      "text/plain": [
       "GPS:   0%|          | 0/500 [00:00<?, ?it/s]"
      ]
     },
     "metadata": {},
     "output_type": "display_data"
    },
    {
     "data": {
      "application/vnd.jupyter.widget-view+json": {
       "model_id": "fc432c1435be43289e6b5d05d79e6d75",
       "version_major": 2,
       "version_minor": 0
      },
      "text/plain": [
       "GDP:   0%|          | 0/500 [00:00<?, ?it/s]"
      ]
     },
     "metadata": {},
     "output_type": "display_data"
    },
    {
     "data": {
      "application/vnd.jupyter.widget-view+json": {
       "model_id": "db3c0225e228489d9c37342194366796",
       "version_major": 2,
       "version_minor": 0
      },
      "text/plain": [
       "GS:   0%|          | 0/500 [00:00<?, ?it/s]"
      ]
     },
     "metadata": {},
     "output_type": "display_data"
    },
    {
     "data": {
      "application/vnd.jupyter.widget-view+json": {
       "model_id": "d42a6a1d469e4cf78d470b30eabe6a35",
       "version_major": 2,
       "version_minor": 0
      },
      "text/plain": [
       "GT:   0%|          | 0/500 [00:00<?, ?it/s]"
      ]
     },
     "metadata": {},
     "output_type": "display_data"
    },
    {
     "data": {
      "application/vnd.jupyter.widget-view+json": {
       "model_id": "36f9533038d34ca68956e8d19639d194",
       "version_major": 2,
       "version_minor": 0
      },
      "text/plain": [
       "GWW:   0%|          | 0/500 [00:00<?, ?it/s]"
      ]
     },
     "metadata": {},
     "output_type": "display_data"
    },
    {
     "data": {
      "application/vnd.jupyter.widget-view+json": {
       "model_id": "0e194a477ed3411c8e69f76204089057",
       "version_major": 2,
       "version_minor": 0
      },
      "text/plain": [
       "HAL:   0%|          | 0/500 [00:00<?, ?it/s]"
      ]
     },
     "metadata": {},
     "output_type": "display_data"
    },
    {
     "data": {
      "application/vnd.jupyter.widget-view+json": {
       "model_id": "4f8832665a5b4cf49126ab176c2b4dd2",
       "version_major": 2,
       "version_minor": 0
      },
      "text/plain": [
       "HAR:   0%|          | 0/500 [00:00<?, ?it/s]"
      ]
     },
     "metadata": {},
     "output_type": "display_data"
    },
    {
     "data": {
      "application/vnd.jupyter.widget-view+json": {
       "model_id": "518c65a897ac42c1a1e7a7580f14277b",
       "version_major": 2,
       "version_minor": 0
      },
      "text/plain": [
       "HBAN:   0%|          | 0/500 [00:00<?, ?it/s]"
      ]
     },
     "metadata": {},
     "output_type": "display_data"
    },
    {
     "data": {
      "application/vnd.jupyter.widget-view+json": {
       "model_id": "c44254d88e1b49b3a0e4f9ed185857d8",
       "version_major": 2,
       "version_minor": 0
      },
      "text/plain": [
       "HCBK:   0%|          | 0/500 [00:00<?, ?it/s]"
      ]
     },
     "metadata": {},
     "output_type": "display_data"
    },
    {
     "data": {
      "application/vnd.jupyter.widget-view+json": {
       "model_id": "af4a30f4daee49d4ab29f14a859a24ad",
       "version_major": 2,
       "version_minor": 0
      },
      "text/plain": [
       "HCN:   0%|          | 0/500 [00:00<?, ?it/s]"
      ]
     },
     "metadata": {},
     "output_type": "display_data"
    },
    {
     "data": {
      "application/vnd.jupyter.widget-view+json": {
       "model_id": "77471ffd5f874a3bb2d74a61fd206a27",
       "version_major": 2,
       "version_minor": 0
      },
      "text/plain": [
       "HCP:   0%|          | 0/500 [00:00<?, ?it/s]"
      ]
     },
     "metadata": {},
     "output_type": "display_data"
    },
    {
     "data": {
      "application/vnd.jupyter.widget-view+json": {
       "model_id": "48670228d8a44fee9fbbf97b6dc8c802",
       "version_major": 2,
       "version_minor": 0
      },
      "text/plain": [
       "HD:   0%|          | 0/500 [00:00<?, ?it/s]"
      ]
     },
     "metadata": {},
     "output_type": "display_data"
    },
    {
     "data": {
      "application/vnd.jupyter.widget-view+json": {
       "model_id": "a002353f31e64ef7aebd25c06c9b2217",
       "version_major": 2,
       "version_minor": 0
      },
      "text/plain": [
       "HES:   0%|          | 0/500 [00:00<?, ?it/s]"
      ]
     },
     "metadata": {},
     "output_type": "display_data"
    },
    {
     "data": {
      "application/vnd.jupyter.widget-view+json": {
       "model_id": "c6704406df8343449e994267f17fcf91",
       "version_major": 2,
       "version_minor": 0
      },
      "text/plain": [
       "HIG:   0%|          | 0/500 [00:00<?, ?it/s]"
      ]
     },
     "metadata": {},
     "output_type": "display_data"
    },
    {
     "data": {
      "application/vnd.jupyter.widget-view+json": {
       "model_id": "32a469664db94340bb3d85a0334f3060",
       "version_major": 2,
       "version_minor": 0
      },
      "text/plain": [
       "HNZ:   0%|          | 0/500 [00:00<?, ?it/s]"
      ]
     },
     "metadata": {},
     "output_type": "display_data"
    },
    {
     "data": {
      "application/vnd.jupyter.widget-view+json": {
       "model_id": "a5139c5db30c4ae2a9b2d0d19765817c",
       "version_major": 2,
       "version_minor": 0
      },
      "text/plain": [
       "HOG:   0%|          | 0/500 [00:00<?, ?it/s]"
      ]
     },
     "metadata": {},
     "output_type": "display_data"
    },
    {
     "data": {
      "application/vnd.jupyter.widget-view+json": {
       "model_id": "89c563d7483c4b94884e32ac5947fd2f",
       "version_major": 2,
       "version_minor": 0
      },
      "text/plain": [
       "HON:   0%|          | 0/500 [00:00<?, ?it/s]"
      ]
     },
     "metadata": {},
     "output_type": "display_data"
    },
    {
     "data": {
      "application/vnd.jupyter.widget-view+json": {
       "model_id": "8ca5631a5cf04d60a9bcb62a14eef559",
       "version_major": 2,
       "version_minor": 0
      },
      "text/plain": [
       "HOT:   0%|          | 0/500 [00:00<?, ?it/s]"
      ]
     },
     "metadata": {},
     "output_type": "display_data"
    },
    {
     "data": {
      "application/vnd.jupyter.widget-view+json": {
       "model_id": "ee8fa62d832646ec9b60b218ff875fbf",
       "version_major": 2,
       "version_minor": 0
      },
      "text/plain": [
       "HP:   0%|          | 0/500 [00:00<?, ?it/s]"
      ]
     },
     "metadata": {},
     "output_type": "display_data"
    },
    {
     "data": {
      "application/vnd.jupyter.widget-view+json": {
       "model_id": "df53e3310faf447aa62c76fad9ec3013",
       "version_major": 2,
       "version_minor": 0
      },
      "text/plain": [
       "HPQ:   0%|          | 0/500 [00:00<?, ?it/s]"
      ]
     },
     "metadata": {},
     "output_type": "display_data"
    },
    {
     "data": {
      "application/vnd.jupyter.widget-view+json": {
       "model_id": "7104e8e2006a4ab783a7363f470fc1b9",
       "version_major": 2,
       "version_minor": 0
      },
      "text/plain": [
       "HRB:   0%|          | 0/500 [00:00<?, ?it/s]"
      ]
     },
     "metadata": {},
     "output_type": "display_data"
    },
    {
     "data": {
      "application/vnd.jupyter.widget-view+json": {
       "model_id": "981036cdbdf046fdb246fb7fce69bcf1",
       "version_major": 2,
       "version_minor": 0
      },
      "text/plain": [
       "HRL:   0%|          | 0/500 [00:00<?, ?it/s]"
      ]
     },
     "metadata": {},
     "output_type": "display_data"
    },
    {
     "data": {
      "application/vnd.jupyter.widget-view+json": {
       "model_id": "98ae1c29faa147099f57c99caf41f306",
       "version_major": 2,
       "version_minor": 0
      },
      "text/plain": [
       "HRS:   0%|          | 0/500 [00:00<?, ?it/s]"
      ]
     },
     "metadata": {},
     "output_type": "display_data"
    },
    {
     "data": {
      "application/vnd.jupyter.widget-view+json": {
       "model_id": "7676ac8121194418bb05be6cc8da61bc",
       "version_major": 2,
       "version_minor": 0
      },
      "text/plain": [
       "HSP:   0%|          | 0/500 [00:00<?, ?it/s]"
      ]
     },
     "metadata": {},
     "output_type": "display_data"
    },
    {
     "data": {
      "application/vnd.jupyter.widget-view+json": {
       "model_id": "7265020ddbc34c75a7f2103badf00a2f",
       "version_major": 2,
       "version_minor": 0
      },
      "text/plain": [
       "HST:   0%|          | 0/500 [00:00<?, ?it/s]"
      ]
     },
     "metadata": {},
     "output_type": "display_data"
    },
    {
     "data": {
      "application/vnd.jupyter.widget-view+json": {
       "model_id": "4a8670cc87f746dd821d7870c58d7f39",
       "version_major": 2,
       "version_minor": 0
      },
      "text/plain": [
       "HSY:   0%|          | 0/500 [00:00<?, ?it/s]"
      ]
     },
     "metadata": {},
     "output_type": "display_data"
    },
    {
     "data": {
      "application/vnd.jupyter.widget-view+json": {
       "model_id": "924f1d9bb63149b79cdc0653df4b97a5",
       "version_major": 2,
       "version_minor": 0
      },
      "text/plain": [
       "HUM:   0%|          | 0/500 [00:00<?, ?it/s]"
      ]
     },
     "metadata": {},
     "output_type": "display_data"
    },
    {
     "data": {
      "application/vnd.jupyter.widget-view+json": {
       "model_id": "55a8b837eabb472d8ea4625ee0a3b873",
       "version_major": 2,
       "version_minor": 0
      },
      "text/plain": [
       "IBM:   0%|          | 0/500 [00:00<?, ?it/s]"
      ]
     },
     "metadata": {},
     "output_type": "display_data"
    },
    {
     "data": {
      "application/vnd.jupyter.widget-view+json": {
       "model_id": "98750cb6a4ae4188835d8ba225ee622c",
       "version_major": 2,
       "version_minor": 0
      },
      "text/plain": [
       "ICE:   0%|          | 0/500 [00:00<?, ?it/s]"
      ]
     },
     "metadata": {},
     "output_type": "display_data"
    },
    {
     "data": {
      "application/vnd.jupyter.widget-view+json": {
       "model_id": "354a1da46943428f96d959d5d8d473b0",
       "version_major": 2,
       "version_minor": 0
      },
      "text/plain": [
       "IFF:   0%|          | 0/500 [00:00<?, ?it/s]"
      ]
     },
     "metadata": {},
     "output_type": "display_data"
    },
    {
     "data": {
      "application/vnd.jupyter.widget-view+json": {
       "model_id": "391c0d0f3fb84b3bb8b7d5ba1d2166a7",
       "version_major": 2,
       "version_minor": 0
      },
      "text/plain": [
       "IGT:   0%|          | 0/500 [00:00<?, ?it/s]"
      ]
     },
     "metadata": {},
     "output_type": "display_data"
    },
    {
     "data": {
      "application/vnd.jupyter.widget-view+json": {
       "model_id": "48989194bc4944b682b077a346ce2f46",
       "version_major": 2,
       "version_minor": 0
      },
      "text/plain": [
       "IP:   0%|          | 0/500 [00:00<?, ?it/s]"
      ]
     },
     "metadata": {},
     "output_type": "display_data"
    },
    {
     "data": {
      "application/vnd.jupyter.widget-view+json": {
       "model_id": "f73376417dd344afa8fc60a19f7622d7",
       "version_major": 2,
       "version_minor": 0
      },
      "text/plain": [
       "IPG:   0%|          | 0/500 [00:00<?, ?it/s]"
      ]
     },
     "metadata": {},
     "output_type": "display_data"
    },
    {
     "data": {
      "application/vnd.jupyter.widget-view+json": {
       "model_id": "c94207a8c31f48c7b20ab227edc8e769",
       "version_major": 2,
       "version_minor": 0
      },
      "text/plain": [
       "IR:   0%|          | 0/500 [00:00<?, ?it/s]"
      ]
     },
     "metadata": {},
     "output_type": "display_data"
    },
    {
     "data": {
      "application/vnd.jupyter.widget-view+json": {
       "model_id": "7f0fb96188d84bc8873fa8d6d3788e4e",
       "version_major": 2,
       "version_minor": 0
      },
      "text/plain": [
       "IRM:   0%|          | 0/500 [00:00<?, ?it/s]"
      ]
     },
     "metadata": {},
     "output_type": "display_data"
    },
    {
     "data": {
      "application/vnd.jupyter.widget-view+json": {
       "model_id": "7d4345ea3daf414aa2c864bb60f0e6fc",
       "version_major": 2,
       "version_minor": 0
      },
      "text/plain": [
       "ITT:   0%|          | 0/500 [00:00<?, ?it/s]"
      ]
     },
     "metadata": {},
     "output_type": "display_data"
    },
    {
     "data": {
      "application/vnd.jupyter.widget-view+json": {
       "model_id": "7827c837595b4bfb967fecd40516867e",
       "version_major": 2,
       "version_minor": 0
      },
      "text/plain": [
       "ITW:   0%|          | 0/500 [00:00<?, ?it/s]"
      ]
     },
     "metadata": {},
     "output_type": "display_data"
    },
    {
     "data": {
      "application/vnd.jupyter.widget-view+json": {
       "model_id": "85016605984842f5902db6ab490a54e7",
       "version_major": 2,
       "version_minor": 0
      },
      "text/plain": [
       "IVZ:   0%|          | 0/500 [00:00<?, ?it/s]"
      ]
     },
     "metadata": {},
     "output_type": "display_data"
    },
    {
     "data": {
      "application/vnd.jupyter.widget-view+json": {
       "model_id": "f8094ced054849e1aadfc3b35f0c9d21",
       "version_major": 2,
       "version_minor": 0
      },
      "text/plain": [
       "JBL:   0%|          | 0/500 [00:00<?, ?it/s]"
      ]
     },
     "metadata": {},
     "output_type": "display_data"
    },
    {
     "data": {
      "application/vnd.jupyter.widget-view+json": {
       "model_id": "b1688bacde204a5ba2d619b21ab51f2f",
       "version_major": 2,
       "version_minor": 0
      },
      "text/plain": [
       "JCI:   0%|          | 0/500 [00:00<?, ?it/s]"
      ]
     },
     "metadata": {},
     "output_type": "display_data"
    },
    {
     "data": {
      "application/vnd.jupyter.widget-view+json": {
       "model_id": "df783191744d48a2baba620120bf49e6",
       "version_major": 2,
       "version_minor": 0
      },
      "text/plain": [
       "JCP:   0%|          | 0/500 [00:00<?, ?it/s]"
      ]
     },
     "metadata": {},
     "output_type": "display_data"
    },
    {
     "data": {
      "application/vnd.jupyter.widget-view+json": {
       "model_id": "ae092f0069f248c4926c663a5ef8bcd3",
       "version_major": 2,
       "version_minor": 0
      },
      "text/plain": [
       "JDSU:   0%|          | 0/500 [00:00<?, ?it/s]"
      ]
     },
     "metadata": {},
     "output_type": "display_data"
    },
    {
     "data": {
      "application/vnd.jupyter.widget-view+json": {
       "model_id": "9eaa0230e7a5466bbd5c0a89404e9d5b",
       "version_major": 2,
       "version_minor": 0
      },
      "text/plain": [
       "JEC:   0%|          | 0/500 [00:00<?, ?it/s]"
      ]
     },
     "metadata": {},
     "output_type": "display_data"
    },
    {
     "data": {
      "application/vnd.jupyter.widget-view+json": {
       "model_id": "12190f25caf64009a0386b7b09ddf3b2",
       "version_major": 2,
       "version_minor": 0
      },
      "text/plain": [
       "JNJ:   0%|          | 0/500 [00:00<?, ?it/s]"
      ]
     },
     "metadata": {},
     "output_type": "display_data"
    },
    {
     "data": {
      "application/vnd.jupyter.widget-view+json": {
       "model_id": "0d13a9b03d484473b1a2ed0a1aa58a82",
       "version_major": 2,
       "version_minor": 0
      },
      "text/plain": [
       "JNPR:   0%|          | 0/500 [00:00<?, ?it/s]"
      ]
     },
     "metadata": {},
     "output_type": "display_data"
    },
    {
     "data": {
      "application/vnd.jupyter.widget-view+json": {
       "model_id": "678bee075053440db8ba63894d8398ee",
       "version_major": 2,
       "version_minor": 0
      },
      "text/plain": [
       "JNS:   0%|          | 0/500 [00:00<?, ?it/s]"
      ]
     },
     "metadata": {},
     "output_type": "display_data"
    },
    {
     "data": {
      "application/vnd.jupyter.widget-view+json": {
       "model_id": "8311fc12291a4f66b02d3261e4e49fb2",
       "version_major": 2,
       "version_minor": 0
      },
      "text/plain": [
       "JOY:   0%|          | 0/500 [00:00<?, ?it/s]"
      ]
     },
     "metadata": {},
     "output_type": "display_data"
    },
    {
     "data": {
      "application/vnd.jupyter.widget-view+json": {
       "model_id": "6087200ba02341e29f99ed3d5e933ad0",
       "version_major": 2,
       "version_minor": 0
      },
      "text/plain": [
       "JPM:   0%|          | 0/500 [00:00<?, ?it/s]"
      ]
     },
     "metadata": {},
     "output_type": "display_data"
    },
    {
     "data": {
      "application/vnd.jupyter.widget-view+json": {
       "model_id": "0b858f12f52847bb8a95a3c50e06964d",
       "version_major": 2,
       "version_minor": 0
      },
      "text/plain": [
       "JWN:   0%|          | 0/500 [00:00<?, ?it/s]"
      ]
     },
     "metadata": {},
     "output_type": "display_data"
    },
    {
     "data": {
      "application/vnd.jupyter.widget-view+json": {
       "model_id": "6e1771ccc01c40789a712cdd881cc267",
       "version_major": 2,
       "version_minor": 0
      },
      "text/plain": [
       "K:   0%|          | 0/500 [00:00<?, ?it/s]"
      ]
     },
     "metadata": {},
     "output_type": "display_data"
    },
    {
     "data": {
      "application/vnd.jupyter.widget-view+json": {
       "model_id": "2a700a9a5ca740a5a126e6726cff13da",
       "version_major": 2,
       "version_minor": 0
      },
      "text/plain": [
       "KEY:   0%|          | 0/500 [00:00<?, ?it/s]"
      ]
     },
     "metadata": {},
     "output_type": "display_data"
    },
    {
     "data": {
      "application/vnd.jupyter.widget-view+json": {
       "model_id": "cc9b3eb386d14380b98b5c24b8126b0b",
       "version_major": 2,
       "version_minor": 0
      },
      "text/plain": [
       "KFT:   0%|          | 0/500 [00:00<?, ?it/s]"
      ]
     },
     "metadata": {},
     "output_type": "display_data"
    },
    {
     "data": {
      "application/vnd.jupyter.widget-view+json": {
       "model_id": "f602431d4ba34152bc2010241158f15e",
       "version_major": 2,
       "version_minor": 0
      },
      "text/plain": [
       "KIM:   0%|          | 0/500 [00:00<?, ?it/s]"
      ]
     },
     "metadata": {},
     "output_type": "display_data"
    },
    {
     "data": {
      "application/vnd.jupyter.widget-view+json": {
       "model_id": "2a0f21e36a174253a4907948f562c102",
       "version_major": 2,
       "version_minor": 0
      },
      "text/plain": [
       "KMB:   0%|          | 0/500 [00:00<?, ?it/s]"
      ]
     },
     "metadata": {},
     "output_type": "display_data"
    },
    {
     "data": {
      "application/vnd.jupyter.widget-view+json": {
       "model_id": "492e12d9767841d4b2601b0be94e2da7",
       "version_major": 2,
       "version_minor": 0
      },
      "text/plain": [
       "KMX:   0%|          | 0/500 [00:00<?, ?it/s]"
      ]
     },
     "metadata": {},
     "output_type": "display_data"
    },
    {
     "data": {
      "application/vnd.jupyter.widget-view+json": {
       "model_id": "6762c595e8a340649404aa7caccfa47a",
       "version_major": 2,
       "version_minor": 0
      },
      "text/plain": [
       "KO:   0%|          | 0/500 [00:00<?, ?it/s]"
      ]
     },
     "metadata": {},
     "output_type": "display_data"
    },
    {
     "data": {
      "application/vnd.jupyter.widget-view+json": {
       "model_id": "acc53e26172b4a1d9851ec96640cef30",
       "version_major": 2,
       "version_minor": 0
      },
      "text/plain": [
       "KR:   0%|          | 0/500 [00:00<?, ?it/s]"
      ]
     },
     "metadata": {},
     "output_type": "display_data"
    },
    {
     "data": {
      "application/vnd.jupyter.widget-view+json": {
       "model_id": "9dccb821921c491f97fb42972b416f81",
       "version_major": 2,
       "version_minor": 0
      },
      "text/plain": [
       "KSS:   0%|          | 0/500 [00:00<?, ?it/s]"
      ]
     },
     "metadata": {},
     "output_type": "display_data"
    },
    {
     "data": {
      "application/vnd.jupyter.widget-view+json": {
       "model_id": "13f523ac8cc34c38919eba0bbfd06808",
       "version_major": 2,
       "version_minor": 0
      },
      "text/plain": [
       "L:   0%|          | 0/500 [00:00<?, ?it/s]"
      ]
     },
     "metadata": {},
     "output_type": "display_data"
    },
    {
     "data": {
      "application/vnd.jupyter.widget-view+json": {
       "model_id": "5dc5deaea19f490ba33c06624bbc0d09",
       "version_major": 2,
       "version_minor": 0
      },
      "text/plain": [
       "LEG:   0%|          | 0/500 [00:00<?, ?it/s]"
      ]
     },
     "metadata": {},
     "output_type": "display_data"
    },
    {
     "data": {
      "application/vnd.jupyter.widget-view+json": {
       "model_id": "66aaf8974ec4411e99378012af84a6ca",
       "version_major": 2,
       "version_minor": 0
      },
      "text/plain": [
       "LEN:   0%|          | 0/500 [00:00<?, ?it/s]"
      ]
     },
     "metadata": {},
     "output_type": "display_data"
    },
    {
     "data": {
      "application/vnd.jupyter.widget-view+json": {
       "model_id": "d7a1b16208d04b5db0de4cb4731476c5",
       "version_major": 2,
       "version_minor": 0
      },
      "text/plain": [
       "LH:   0%|          | 0/500 [00:00<?, ?it/s]"
      ]
     },
     "metadata": {},
     "output_type": "display_data"
    },
    {
     "data": {
      "application/vnd.jupyter.widget-view+json": {
       "model_id": "b1e549484b1847a9a94a0ef62dcf57a6",
       "version_major": 2,
       "version_minor": 0
      },
      "text/plain": [
       "LIFE:   0%|          | 0/500 [00:00<?, ?it/s]"
      ]
     },
     "metadata": {},
     "output_type": "display_data"
    },
    {
     "data": {
      "application/vnd.jupyter.widget-view+json": {
       "model_id": "f5e9b59bb53e440f81850732fbff90b7",
       "version_major": 2,
       "version_minor": 0
      },
      "text/plain": [
       "LLL:   0%|          | 0/500 [00:00<?, ?it/s]"
      ]
     },
     "metadata": {},
     "output_type": "display_data"
    },
    {
     "data": {
      "application/vnd.jupyter.widget-view+json": {
       "model_id": "e1d088f6a8b645b3a0bb2fec809398c4",
       "version_major": 2,
       "version_minor": 0
      },
      "text/plain": [
       "LLTC:   0%|          | 0/500 [00:00<?, ?it/s]"
      ]
     },
     "metadata": {},
     "output_type": "display_data"
    },
    {
     "data": {
      "application/vnd.jupyter.widget-view+json": {
       "model_id": "bed1b870566c4f66bd06c39d7e8ba15a",
       "version_major": 2,
       "version_minor": 0
      },
      "text/plain": [
       "LLY:   0%|          | 0/500 [00:00<?, ?it/s]"
      ]
     },
     "metadata": {},
     "output_type": "display_data"
    },
    {
     "data": {
      "application/vnd.jupyter.widget-view+json": {
       "model_id": "dcf286f40b1c4bd5a1b38b4502e53647",
       "version_major": 2,
       "version_minor": 0
      },
      "text/plain": [
       "LM:   0%|          | 0/500 [00:00<?, ?it/s]"
      ]
     },
     "metadata": {},
     "output_type": "display_data"
    },
    {
     "data": {
      "application/vnd.jupyter.widget-view+json": {
       "model_id": "dd224d13792042cfb978b5fdddce3d5c",
       "version_major": 2,
       "version_minor": 0
      },
      "text/plain": [
       "LMT:   0%|          | 0/500 [00:00<?, ?it/s]"
      ]
     },
     "metadata": {},
     "output_type": "display_data"
    },
    {
     "data": {
      "application/vnd.jupyter.widget-view+json": {
       "model_id": "4c95f90545c847219b091e61c9e6ed10",
       "version_major": 2,
       "version_minor": 0
      },
      "text/plain": [
       "LNC:   0%|          | 0/500 [00:00<?, ?it/s]"
      ]
     },
     "metadata": {},
     "output_type": "display_data"
    },
    {
     "data": {
      "application/vnd.jupyter.widget-view+json": {
       "model_id": "976732984f2e4ea9a3a18c9da86b8a0e",
       "version_major": 2,
       "version_minor": 0
      },
      "text/plain": [
       "LO:   0%|          | 0/500 [00:00<?, ?it/s]"
      ]
     },
     "metadata": {},
     "output_type": "display_data"
    },
    {
     "data": {
      "application/vnd.jupyter.widget-view+json": {
       "model_id": "ff608f9e81a34ad4b599288e098275b4",
       "version_major": 2,
       "version_minor": 0
      },
      "text/plain": [
       "LOW:   0%|          | 0/500 [00:00<?, ?it/s]"
      ]
     },
     "metadata": {},
     "output_type": "display_data"
    },
    {
     "data": {
      "application/vnd.jupyter.widget-view+json": {
       "model_id": "8d79bbfd10864f4da968fdfe686605ef",
       "version_major": 2,
       "version_minor": 0
      },
      "text/plain": [
       "LSI:   0%|          | 0/500 [00:00<?, ?it/s]"
      ]
     },
     "metadata": {},
     "output_type": "display_data"
    },
    {
     "data": {
      "application/vnd.jupyter.widget-view+json": {
       "model_id": "d832fa7e616a43ffb577ba93b38cad9b",
       "version_major": 2,
       "version_minor": 0
      },
      "text/plain": [
       "LTD:   0%|          | 0/500 [00:00<?, ?it/s]"
      ]
     },
     "metadata": {},
     "output_type": "display_data"
    },
    {
     "data": {
      "application/vnd.jupyter.widget-view+json": {
       "model_id": "9a639238cbea41a4839e9c2ef08b2c7a",
       "version_major": 2,
       "version_minor": 0
      },
      "text/plain": [
       "LUK:   0%|          | 0/500 [00:00<?, ?it/s]"
      ]
     },
     "metadata": {},
     "output_type": "display_data"
    },
    {
     "data": {
      "application/vnd.jupyter.widget-view+json": {
       "model_id": "e56ab747932a48e6a76d37dbf02c2bc0",
       "version_major": 2,
       "version_minor": 0
      },
      "text/plain": [
       "LUV:   0%|          | 0/500 [00:00<?, ?it/s]"
      ]
     },
     "metadata": {},
     "output_type": "display_data"
    },
    {
     "data": {
      "application/vnd.jupyter.widget-view+json": {
       "model_id": "d9c36338fe6443cfbbe62f9ff9a9c6b0",
       "version_major": 2,
       "version_minor": 0
      },
      "text/plain": [
       "LXK:   0%|          | 0/500 [00:00<?, ?it/s]"
      ]
     },
     "metadata": {},
     "output_type": "display_data"
    },
    {
     "data": {
      "application/vnd.jupyter.widget-view+json": {
       "model_id": "0db2757873e14969b4bc8f43b20529d6",
       "version_major": 2,
       "version_minor": 0
      },
      "text/plain": [
       "M:   0%|          | 0/500 [00:00<?, ?it/s]"
      ]
     },
     "metadata": {},
     "output_type": "display_data"
    },
    {
     "data": {
      "application/vnd.jupyter.widget-view+json": {
       "model_id": "76d31fb7f41d4adb8a3482639fc881a6",
       "version_major": 2,
       "version_minor": 0
      },
      "text/plain": [
       "MA:   0%|          | 0/500 [00:00<?, ?it/s]"
      ]
     },
     "metadata": {},
     "output_type": "display_data"
    },
    {
     "data": {
      "application/vnd.jupyter.widget-view+json": {
       "model_id": "388ef0d1853640c3902ba1a8663baa58",
       "version_major": 2,
       "version_minor": 0
      },
      "text/plain": [
       "MAS:   0%|          | 0/500 [00:00<?, ?it/s]"
      ]
     },
     "metadata": {},
     "output_type": "display_data"
    },
    {
     "data": {
      "application/vnd.jupyter.widget-view+json": {
       "model_id": "eefc07cdb3b74c4cba63bacd43e1b18e",
       "version_major": 2,
       "version_minor": 0
      },
      "text/plain": [
       "MAT:   0%|          | 0/500 [00:00<?, ?it/s]"
      ]
     },
     "metadata": {},
     "output_type": "display_data"
    },
    {
     "data": {
      "application/vnd.jupyter.widget-view+json": {
       "model_id": "5c5d5cfc43d74f2b982e32cce7179138",
       "version_major": 2,
       "version_minor": 0
      },
      "text/plain": [
       "MCD:   0%|          | 0/500 [00:00<?, ?it/s]"
      ]
     },
     "metadata": {},
     "output_type": "display_data"
    },
    {
     "data": {
      "application/vnd.jupyter.widget-view+json": {
       "model_id": "6063e8a5af7045919c4c33844f950832",
       "version_major": 2,
       "version_minor": 0
      },
      "text/plain": [
       "MCK:   0%|          | 0/500 [00:00<?, ?it/s]"
      ]
     },
     "metadata": {},
     "output_type": "display_data"
    },
    {
     "data": {
      "application/vnd.jupyter.widget-view+json": {
       "model_id": "b45355e69e96415e9a12f41c7706b5fd",
       "version_major": 2,
       "version_minor": 0
      },
      "text/plain": [
       "MCO:   0%|          | 0/500 [00:00<?, ?it/s]"
      ]
     },
     "metadata": {},
     "output_type": "display_data"
    },
    {
     "data": {
      "application/vnd.jupyter.widget-view+json": {
       "model_id": "c0c6649c1d404fb7b553fa51151c4e93",
       "version_major": 2,
       "version_minor": 0
      },
      "text/plain": [
       "MDT:   0%|          | 0/500 [00:00<?, ?it/s]"
      ]
     },
     "metadata": {},
     "output_type": "display_data"
    },
    {
     "data": {
      "application/vnd.jupyter.widget-view+json": {
       "model_id": "b632513bc6bc4ab198d46e7916fc6f0d",
       "version_major": 2,
       "version_minor": 0
      },
      "text/plain": [
       "MET:   0%|          | 0/500 [00:00<?, ?it/s]"
      ]
     },
     "metadata": {},
     "output_type": "display_data"
    },
    {
     "data": {
      "application/vnd.jupyter.widget-view+json": {
       "model_id": "c258aad45a3c47c1bec5d8cbbb616592",
       "version_major": 2,
       "version_minor": 0
      },
      "text/plain": [
       "MHP:   0%|          | 0/500 [00:00<?, ?it/s]"
      ]
     },
     "metadata": {},
     "output_type": "display_data"
    },
    {
     "data": {
      "application/vnd.jupyter.widget-view+json": {
       "model_id": "e6e9bbf0e882416596f3ad88db7d46d3",
       "version_major": 2,
       "version_minor": 0
      },
      "text/plain": [
       "MHS:   0%|          | 0/500 [00:00<?, ?it/s]"
      ]
     },
     "metadata": {},
     "output_type": "display_data"
    },
    {
     "data": {
      "application/vnd.jupyter.widget-view+json": {
       "model_id": "68c41bf4741f428ab90aaea535a92c37",
       "version_major": 2,
       "version_minor": 0
      },
      "text/plain": [
       "MJN:   0%|          | 0/500 [00:00<?, ?it/s]"
      ]
     },
     "metadata": {},
     "output_type": "display_data"
    },
    {
     "data": {
      "application/vnd.jupyter.widget-view+json": {
       "model_id": "292a0b258f534ca1add936fb79b91984",
       "version_major": 2,
       "version_minor": 0
      },
      "text/plain": [
       "MKC:   0%|          | 0/500 [00:00<?, ?it/s]"
      ]
     },
     "metadata": {},
     "output_type": "display_data"
    },
    {
     "data": {
      "application/vnd.jupyter.widget-view+json": {
       "model_id": "392c953bb5e44f75a08ae1a389b0f754",
       "version_major": 2,
       "version_minor": 0
      },
      "text/plain": [
       "MMC:   0%|          | 0/500 [00:00<?, ?it/s]"
      ]
     },
     "metadata": {},
     "output_type": "display_data"
    },
    {
     "data": {
      "application/vnd.jupyter.widget-view+json": {
       "model_id": "c83fb584c4ba45d9bae321ceac4935ef",
       "version_major": 2,
       "version_minor": 0
      },
      "text/plain": [
       "MMI:   0%|          | 0/500 [00:00<?, ?it/s]"
      ]
     },
     "metadata": {},
     "output_type": "display_data"
    },
    {
     "data": {
      "application/vnd.jupyter.widget-view+json": {
       "model_id": "248758ab3e824de2a07c05ba94688980",
       "version_major": 2,
       "version_minor": 0
      },
      "text/plain": [
       "MMM:   0%|          | 0/500 [00:00<?, ?it/s]"
      ]
     },
     "metadata": {},
     "output_type": "display_data"
    },
    {
     "data": {
      "application/vnd.jupyter.widget-view+json": {
       "model_id": "589845e239804e7fa57982c20fd93bac",
       "version_major": 2,
       "version_minor": 0
      },
      "text/plain": [
       "MO:   0%|          | 0/500 [00:00<?, ?it/s]"
      ]
     },
     "metadata": {},
     "output_type": "display_data"
    },
    {
     "data": {
      "application/vnd.jupyter.widget-view+json": {
       "model_id": "c8992a370d564c2bb2d28c44bc2d89d8",
       "version_major": 2,
       "version_minor": 0
      },
      "text/plain": [
       "MOLX:   0%|          | 0/500 [00:00<?, ?it/s]"
      ]
     },
     "metadata": {},
     "output_type": "display_data"
    },
    {
     "data": {
      "application/vnd.jupyter.widget-view+json": {
       "model_id": "2a5315dd4bfe43709d94937ca9bc4fc2",
       "version_major": 2,
       "version_minor": 0
      },
      "text/plain": [
       "MON:   0%|          | 0/500 [00:00<?, ?it/s]"
      ]
     },
     "metadata": {},
     "output_type": "display_data"
    },
    {
     "data": {
      "application/vnd.jupyter.widget-view+json": {
       "model_id": "c6bf7f4b852d4629948342677d7fbfd4",
       "version_major": 2,
       "version_minor": 0
      },
      "text/plain": [
       "MRK:   0%|          | 0/500 [00:00<?, ?it/s]"
      ]
     },
     "metadata": {},
     "output_type": "display_data"
    },
    {
     "data": {
      "application/vnd.jupyter.widget-view+json": {
       "model_id": "852526d32b1045488d40bd3f8c938f4e",
       "version_major": 2,
       "version_minor": 0
      },
      "text/plain": [
       "MRO:   0%|          | 0/500 [00:00<?, ?it/s]"
      ]
     },
     "metadata": {},
     "output_type": "display_data"
    },
    {
     "data": {
      "application/vnd.jupyter.widget-view+json": {
       "model_id": "cee2049de2b34068a1132fb38644aba3",
       "version_major": 2,
       "version_minor": 0
      },
      "text/plain": [
       "MS:   0%|          | 0/500 [00:00<?, ?it/s]"
      ]
     },
     "metadata": {},
     "output_type": "display_data"
    },
    {
     "data": {
      "application/vnd.jupyter.widget-view+json": {
       "model_id": "d5aa61901a8a46dabab4ba686a52ee7e",
       "version_major": 2,
       "version_minor": 0
      },
      "text/plain": [
       "MSI:   0%|          | 0/500 [00:00<?, ?it/s]"
      ]
     },
     "metadata": {},
     "output_type": "display_data"
    },
    {
     "data": {
      "application/vnd.jupyter.widget-view+json": {
       "model_id": "4320b9c634e545039ae32d3ece2445e7",
       "version_major": 2,
       "version_minor": 0
      },
      "text/plain": [
       "MTB:   0%|          | 0/500 [00:00<?, ?it/s]"
      ]
     },
     "metadata": {},
     "output_type": "display_data"
    },
    {
     "data": {
      "application/vnd.jupyter.widget-view+json": {
       "model_id": "69a6e1889be543158a29a583d421e411",
       "version_major": 2,
       "version_minor": 0
      },
      "text/plain": [
       "MUR:   0%|          | 0/500 [00:00<?, ?it/s]"
      ]
     },
     "metadata": {},
     "output_type": "display_data"
    },
    {
     "data": {
      "application/vnd.jupyter.widget-view+json": {
       "model_id": "85740aac4f4444d1853c0e43b0e72615",
       "version_major": 2,
       "version_minor": 0
      },
      "text/plain": [
       "MWV:   0%|          | 0/500 [00:00<?, ?it/s]"
      ]
     },
     "metadata": {},
     "output_type": "display_data"
    },
    {
     "data": {
      "application/vnd.jupyter.widget-view+json": {
       "model_id": "e3580dd9343544e293982acd965e88b3",
       "version_major": 2,
       "version_minor": 0
      },
      "text/plain": [
       "MWW:   0%|          | 0/500 [00:00<?, ?it/s]"
      ]
     },
     "metadata": {},
     "output_type": "display_data"
    },
    {
     "data": {
      "application/vnd.jupyter.widget-view+json": {
       "model_id": "3c9a9c778330405baf36bf1eeed7a497",
       "version_major": 2,
       "version_minor": 0
      },
      "text/plain": [
       "MYL:   0%|          | 0/500 [00:00<?, ?it/s]"
      ]
     },
     "metadata": {},
     "output_type": "display_data"
    },
    {
     "data": {
      "application/vnd.jupyter.widget-view+json": {
       "model_id": "09b7b862fb484db3b43d5860d7e59c8c",
       "version_major": 2,
       "version_minor": 0
      },
      "text/plain": [
       "NBL:   0%|          | 0/500 [00:00<?, ?it/s]"
      ]
     },
     "metadata": {},
     "output_type": "display_data"
    },
    {
     "data": {
      "application/vnd.jupyter.widget-view+json": {
       "model_id": "0ac4177e766742a680d07c40cd260c27",
       "version_major": 2,
       "version_minor": 0
      },
      "text/plain": [
       "NBR:   0%|          | 0/500 [00:00<?, ?it/s]"
      ]
     },
     "metadata": {},
     "output_type": "display_data"
    },
    {
     "data": {
      "application/vnd.jupyter.widget-view+json": {
       "model_id": "2c72dd885b624efdab253de1ef769a67",
       "version_major": 2,
       "version_minor": 0
      },
      "text/plain": [
       "NDAQ:   0%|          | 0/500 [00:00<?, ?it/s]"
      ]
     },
     "metadata": {},
     "output_type": "display_data"
    },
    {
     "data": {
      "application/vnd.jupyter.widget-view+json": {
       "model_id": "a8ce1a6aff34480e9f34e1bb4e9c96f1",
       "version_major": 2,
       "version_minor": 0
      },
      "text/plain": [
       "NE:   0%|          | 0/500 [00:00<?, ?it/s]"
      ]
     },
     "metadata": {},
     "output_type": "display_data"
    },
    {
     "data": {
      "application/vnd.jupyter.widget-view+json": {
       "model_id": "ee1748f533bf4a22a3686657a0c66cb7",
       "version_major": 2,
       "version_minor": 0
      },
      "text/plain": [
       "NEE:   0%|          | 0/500 [00:00<?, ?it/s]"
      ]
     },
     "metadata": {},
     "output_type": "display_data"
    },
    {
     "data": {
      "application/vnd.jupyter.widget-view+json": {
       "model_id": "891ef2c117e44768b7c0e84b366c1e57",
       "version_major": 2,
       "version_minor": 0
      },
      "text/plain": [
       "NEM:   0%|          | 0/500 [00:00<?, ?it/s]"
      ]
     },
     "metadata": {},
     "output_type": "display_data"
    },
    {
     "data": {
      "application/vnd.jupyter.widget-view+json": {
       "model_id": "3c821ed7252c40a1b4a20dec3c9852a9",
       "version_major": 2,
       "version_minor": 0
      },
      "text/plain": [
       "NFX:   0%|          | 0/500 [00:00<?, ?it/s]"
      ]
     },
     "metadata": {},
     "output_type": "display_data"
    },
    {
     "data": {
      "application/vnd.jupyter.widget-view+json": {
       "model_id": "a0135b6f8f5940fa99d965a3a0fbf99e",
       "version_major": 2,
       "version_minor": 0
      },
      "text/plain": [
       "NI:   0%|          | 0/500 [00:00<?, ?it/s]"
      ]
     },
     "metadata": {},
     "output_type": "display_data"
    },
    {
     "data": {
      "application/vnd.jupyter.widget-view+json": {
       "model_id": "f729a5093e254a03b15e6bb3b2c73a28",
       "version_major": 2,
       "version_minor": 0
      },
      "text/plain": [
       "NKE:   0%|          | 0/500 [00:00<?, ?it/s]"
      ]
     },
     "metadata": {},
     "output_type": "display_data"
    },
    {
     "data": {
      "application/vnd.jupyter.widget-view+json": {
       "model_id": "331d55871e95477d9b5cc262bfedf9b3",
       "version_major": 2,
       "version_minor": 0
      },
      "text/plain": [
       "NOC:   0%|          | 0/500 [00:00<?, ?it/s]"
      ]
     },
     "metadata": {},
     "output_type": "display_data"
    },
    {
     "data": {
      "application/vnd.jupyter.widget-view+json": {
       "model_id": "0a1aa816da3c409bbfb63ec013ccb511",
       "version_major": 2,
       "version_minor": 0
      },
      "text/plain": [
       "NOV:   0%|          | 0/500 [00:00<?, ?it/s]"
      ]
     },
     "metadata": {},
     "output_type": "display_data"
    },
    {
     "data": {
      "application/vnd.jupyter.widget-view+json": {
       "model_id": "1ddb26b16d7c4873bd305fdd0e52ea0d",
       "version_major": 2,
       "version_minor": 0
      },
      "text/plain": [
       "NRG:   0%|          | 0/500 [00:00<?, ?it/s]"
      ]
     },
     "metadata": {},
     "output_type": "display_data"
    },
    {
     "data": {
      "application/vnd.jupyter.widget-view+json": {
       "model_id": "0ac231c30f694615aec651dafb5bac95",
       "version_major": 2,
       "version_minor": 0
      },
      "text/plain": [
       "NSC:   0%|          | 0/500 [00:00<?, ?it/s]"
      ]
     },
     "metadata": {},
     "output_type": "display_data"
    },
    {
     "data": {
      "application/vnd.jupyter.widget-view+json": {
       "model_id": "184e2f202a404165b9841483c7f97663",
       "version_major": 2,
       "version_minor": 0
      },
      "text/plain": [
       "NSM:   0%|          | 0/500 [00:00<?, ?it/s]"
      ]
     },
     "metadata": {},
     "output_type": "display_data"
    },
    {
     "data": {
      "application/vnd.jupyter.widget-view+json": {
       "model_id": "de9caf354f094e10aac4d7cb8bf2edaa",
       "version_major": 2,
       "version_minor": 0
      },
      "text/plain": [
       "NTRS:   0%|          | 0/500 [00:00<?, ?it/s]"
      ]
     },
     "metadata": {},
     "output_type": "display_data"
    },
    {
     "data": {
      "application/vnd.jupyter.widget-view+json": {
       "model_id": "ad281594409b46898068e269a82a8da2",
       "version_major": 2,
       "version_minor": 0
      },
      "text/plain": [
       "NU:   0%|          | 0/500 [00:00<?, ?it/s]"
      ]
     },
     "metadata": {},
     "output_type": "display_data"
    },
    {
     "data": {
      "application/vnd.jupyter.widget-view+json": {
       "model_id": "5b8c0f84663144a688ab0f6cee43a669",
       "version_major": 2,
       "version_minor": 0
      },
      "text/plain": [
       "NUE:   0%|          | 0/500 [00:00<?, ?it/s]"
      ]
     },
     "metadata": {},
     "output_type": "display_data"
    },
    {
     "data": {
      "application/vnd.jupyter.widget-view+json": {
       "model_id": "9285196679f14990a578a09861a72305",
       "version_major": 2,
       "version_minor": 0
      },
      "text/plain": [
       "NVLS:   0%|          | 0/500 [00:00<?, ?it/s]"
      ]
     },
     "metadata": {},
     "output_type": "display_data"
    },
    {
     "data": {
      "application/vnd.jupyter.widget-view+json": {
       "model_id": "8b4780a38fde4309a2b889f859c95885",
       "version_major": 2,
       "version_minor": 0
      },
      "text/plain": [
       "NWL:   0%|          | 0/500 [00:00<?, ?it/s]"
      ]
     },
     "metadata": {},
     "output_type": "display_data"
    },
    {
     "data": {
      "application/vnd.jupyter.widget-view+json": {
       "model_id": "eba77e82c00044a98085d72511ac92a7",
       "version_major": 2,
       "version_minor": 0
      },
      "text/plain": [
       "NWSA:   0%|          | 0/500 [00:00<?, ?it/s]"
      ]
     },
     "metadata": {},
     "output_type": "display_data"
    },
    {
     "data": {
      "application/vnd.jupyter.widget-view+json": {
       "model_id": "7309e9d4f1de4c9b8e5f6ede5ad3544f",
       "version_major": 2,
       "version_minor": 0
      },
      "text/plain": [
       "NYX:   0%|          | 0/500 [00:00<?, ?it/s]"
      ]
     },
     "metadata": {},
     "output_type": "display_data"
    },
    {
     "data": {
      "application/vnd.jupyter.widget-view+json": {
       "model_id": "f760804159574e378e1d54ae77a9eec5",
       "version_major": 2,
       "version_minor": 0
      },
      "text/plain": [
       "OI:   0%|          | 0/500 [00:00<?, ?it/s]"
      ]
     },
     "metadata": {},
     "output_type": "display_data"
    },
    {
     "data": {
      "application/vnd.jupyter.widget-view+json": {
       "model_id": "44253c50df02472392f4880b6d758a48",
       "version_major": 2,
       "version_minor": 0
      },
      "text/plain": [
       "OKE:   0%|          | 0/500 [00:00<?, ?it/s]"
      ]
     },
     "metadata": {},
     "output_type": "display_data"
    },
    {
     "data": {
      "application/vnd.jupyter.widget-view+json": {
       "model_id": "a1456611c7c74e008d9c8c1ed81ffb9b",
       "version_major": 2,
       "version_minor": 0
      },
      "text/plain": [
       "OMC:   0%|          | 0/500 [00:00<?, ?it/s]"
      ]
     },
     "metadata": {},
     "output_type": "display_data"
    },
    {
     "data": {
      "application/vnd.jupyter.widget-view+json": {
       "model_id": "767e997adf604ef9bf3b33d6cef13144",
       "version_major": 2,
       "version_minor": 0
      },
      "text/plain": [
       "ORCL:   0%|          | 0/500 [00:00<?, ?it/s]"
      ]
     },
     "metadata": {},
     "output_type": "display_data"
    },
    {
     "data": {
      "application/vnd.jupyter.widget-view+json": {
       "model_id": "c1dfa27761a9454ab96693f54d8e0592",
       "version_major": 2,
       "version_minor": 0
      },
      "text/plain": [
       "OXY:   0%|          | 0/500 [00:00<?, ?it/s]"
      ]
     },
     "metadata": {},
     "output_type": "display_data"
    },
    {
     "data": {
      "application/vnd.jupyter.widget-view+json": {
       "model_id": "3ac92fc06daf4a5e8ca176aff709631d",
       "version_major": 2,
       "version_minor": 0
      },
      "text/plain": [
       "PBCT:   0%|          | 0/500 [00:00<?, ?it/s]"
      ]
     },
     "metadata": {},
     "output_type": "display_data"
    },
    {
     "data": {
      "application/vnd.jupyter.widget-view+json": {
       "model_id": "24aaa3f4d4b441d3b21bcab3a3a3d7f8",
       "version_major": 2,
       "version_minor": 0
      },
      "text/plain": [
       "PBI:   0%|          | 0/500 [00:00<?, ?it/s]"
      ]
     },
     "metadata": {},
     "output_type": "display_data"
    },
    {
     "data": {
      "application/vnd.jupyter.widget-view+json": {
       "model_id": "f5a09c50fe1940678dead18716831d36",
       "version_major": 2,
       "version_minor": 0
      },
      "text/plain": [
       "PCG:   0%|          | 0/500 [00:00<?, ?it/s]"
      ]
     },
     "metadata": {},
     "output_type": "display_data"
    },
    {
     "data": {
      "application/vnd.jupyter.widget-view+json": {
       "model_id": "8c9e104f58d142a291a7e90ca0621b48",
       "version_major": 2,
       "version_minor": 0
      },
      "text/plain": [
       "PCL:   0%|          | 0/500 [00:00<?, ?it/s]"
      ]
     },
     "metadata": {},
     "output_type": "display_data"
    },
    {
     "data": {
      "application/vnd.jupyter.widget-view+json": {
       "model_id": "dfe9031e21184e49abfb9c9073aa570e",
       "version_major": 2,
       "version_minor": 0
      },
      "text/plain": [
       "PCLN:   0%|          | 0/500 [00:00<?, ?it/s]"
      ]
     },
     "metadata": {},
     "output_type": "display_data"
    },
    {
     "data": {
      "application/vnd.jupyter.widget-view+json": {
       "model_id": "d07bb862bb1c4d7fb1572c4b490476a9",
       "version_major": 2,
       "version_minor": 0
      },
      "text/plain": [
       "PCP:   0%|          | 0/500 [00:00<?, ?it/s]"
      ]
     },
     "metadata": {},
     "output_type": "display_data"
    },
    {
     "data": {
      "application/vnd.jupyter.widget-view+json": {
       "model_id": "aeabdfc23a8c41ca88d7cb680e7b35b3",
       "version_major": 2,
       "version_minor": 0
      },
      "text/plain": [
       "PCS:   0%|          | 0/500 [00:00<?, ?it/s]"
      ]
     },
     "metadata": {},
     "output_type": "display_data"
    },
    {
     "data": {
      "application/vnd.jupyter.widget-view+json": {
       "model_id": "6bf66722bc3b47b2b8da5ae31a1a426e",
       "version_major": 2,
       "version_minor": 0
      },
      "text/plain": [
       "PDCO:   0%|          | 0/500 [00:00<?, ?it/s]"
      ]
     },
     "metadata": {},
     "output_type": "display_data"
    },
    {
     "data": {
      "application/vnd.jupyter.widget-view+json": {
       "model_id": "1062de0d7cb648dea22a4c1e73172a70",
       "version_major": 2,
       "version_minor": 0
      },
      "text/plain": [
       "PEG:   0%|          | 0/500 [00:00<?, ?it/s]"
      ]
     },
     "metadata": {},
     "output_type": "display_data"
    },
    {
     "data": {
      "application/vnd.jupyter.widget-view+json": {
       "model_id": "273d0093d2824f20ab9e2e69b2dee192",
       "version_major": 2,
       "version_minor": 0
      },
      "text/plain": [
       "PFE:   0%|          | 0/500 [00:00<?, ?it/s]"
      ]
     },
     "metadata": {},
     "output_type": "display_data"
    },
    {
     "data": {
      "application/vnd.jupyter.widget-view+json": {
       "model_id": "0ac16139aff1431188382e92077deac4",
       "version_major": 2,
       "version_minor": 0
      },
      "text/plain": [
       "PFG:   0%|          | 0/500 [00:00<?, ?it/s]"
      ]
     },
     "metadata": {},
     "output_type": "display_data"
    },
    {
     "data": {
      "application/vnd.jupyter.widget-view+json": {
       "model_id": "112a2730995c4889a32c83c4a42c49d5",
       "version_major": 2,
       "version_minor": 0
      },
      "text/plain": [
       "PG:   0%|          | 0/500 [00:00<?, ?it/s]"
      ]
     },
     "metadata": {},
     "output_type": "display_data"
    },
    {
     "data": {
      "application/vnd.jupyter.widget-view+json": {
       "model_id": "f59b8ccc8feb4f189ff5f1edad7f4938",
       "version_major": 2,
       "version_minor": 0
      },
      "text/plain": [
       "PGN:   0%|          | 0/500 [00:00<?, ?it/s]"
      ]
     },
     "metadata": {},
     "output_type": "display_data"
    },
    {
     "data": {
      "application/vnd.jupyter.widget-view+json": {
       "model_id": "5d67258f48914668be197299a6e08736",
       "version_major": 2,
       "version_minor": 0
      },
      "text/plain": [
       "PGR:   0%|          | 0/500 [00:00<?, ?it/s]"
      ]
     },
     "metadata": {},
     "output_type": "display_data"
    },
    {
     "data": {
      "application/vnd.jupyter.widget-view+json": {
       "model_id": "c7fcd6a355cf4deaa009b39a9c93eedf",
       "version_major": 2,
       "version_minor": 0
      },
      "text/plain": [
       "PH:   0%|          | 0/500 [00:00<?, ?it/s]"
      ]
     },
     "metadata": {},
     "output_type": "display_data"
    },
    {
     "data": {
      "application/vnd.jupyter.widget-view+json": {
       "model_id": "40a2708c849f4e1c9e76c9d04416591c",
       "version_major": 2,
       "version_minor": 0
      },
      "text/plain": [
       "PHM:   0%|          | 0/500 [00:00<?, ?it/s]"
      ]
     },
     "metadata": {},
     "output_type": "display_data"
    },
    {
     "data": {
      "application/vnd.jupyter.widget-view+json": {
       "model_id": "ef3dce0667874a1f8a24aa7ca94c22d4",
       "version_major": 2,
       "version_minor": 0
      },
      "text/plain": [
       "PKI:   0%|          | 0/500 [00:00<?, ?it/s]"
      ]
     },
     "metadata": {},
     "output_type": "display_data"
    },
    {
     "data": {
      "application/vnd.jupyter.widget-view+json": {
       "model_id": "06cbbca6af0f4f008b98dac59e4f8a7b",
       "version_major": 2,
       "version_minor": 0
      },
      "text/plain": [
       "PLD:   0%|          | 0/500 [00:00<?, ?it/s]"
      ]
     },
     "metadata": {},
     "output_type": "display_data"
    },
    {
     "data": {
      "application/vnd.jupyter.widget-view+json": {
       "model_id": "ff7e7d3defd949ec91e7e452e97668a9",
       "version_major": 2,
       "version_minor": 0
      },
      "text/plain": [
       "PLL:   0%|          | 0/500 [00:00<?, ?it/s]"
      ]
     },
     "metadata": {},
     "output_type": "display_data"
    },
    {
     "data": {
      "application/vnd.jupyter.widget-view+json": {
       "model_id": "0c1215522d3d4501bd1eb6779e09e1b5",
       "version_major": 2,
       "version_minor": 0
      },
      "text/plain": [
       "PM:   0%|          | 0/500 [00:00<?, ?it/s]"
      ]
     },
     "metadata": {},
     "output_type": "display_data"
    },
    {
     "data": {
      "application/vnd.jupyter.widget-view+json": {
       "model_id": "1c8ecd2a7b2740ea9eca7d0c28d41bb1",
       "version_major": 2,
       "version_minor": 0
      },
      "text/plain": [
       "PNC:   0%|          | 0/500 [00:00<?, ?it/s]"
      ]
     },
     "metadata": {},
     "output_type": "display_data"
    },
    {
     "data": {
      "application/vnd.jupyter.widget-view+json": {
       "model_id": "20bf1eda287a4a3a8b2ed645f97b0b14",
       "version_major": 2,
       "version_minor": 0
      },
      "text/plain": [
       "PNW:   0%|          | 0/500 [00:00<?, ?it/s]"
      ]
     },
     "metadata": {},
     "output_type": "display_data"
    },
    {
     "data": {
      "application/vnd.jupyter.widget-view+json": {
       "model_id": "a0abf81421b84563bf1fc7fe9a697184",
       "version_major": 2,
       "version_minor": 0
      },
      "text/plain": [
       "POM:   0%|          | 0/500 [00:00<?, ?it/s]"
      ]
     },
     "metadata": {},
     "output_type": "display_data"
    },
    {
     "data": {
      "application/vnd.jupyter.widget-view+json": {
       "model_id": "36459ada46cc4610ab1d8c849dcae591",
       "version_major": 2,
       "version_minor": 0
      },
      "text/plain": [
       "PPG:   0%|          | 0/500 [00:00<?, ?it/s]"
      ]
     },
     "metadata": {},
     "output_type": "display_data"
    },
    {
     "data": {
      "application/vnd.jupyter.widget-view+json": {
       "model_id": "73c497fcd6dc436d98e6c5b81cf7af51",
       "version_major": 2,
       "version_minor": 0
      },
      "text/plain": [
       "PPL:   0%|          | 0/500 [00:00<?, ?it/s]"
      ]
     },
     "metadata": {},
     "output_type": "display_data"
    },
    {
     "data": {
      "application/vnd.jupyter.widget-view+json": {
       "model_id": "f3a6220a7e44487abc5fc913bc718496",
       "version_major": 2,
       "version_minor": 0
      },
      "text/plain": [
       "PRU:   0%|          | 0/500 [00:00<?, ?it/s]"
      ]
     },
     "metadata": {},
     "output_type": "display_data"
    },
    {
     "data": {
      "application/vnd.jupyter.widget-view+json": {
       "model_id": "939e99c655c746ca882f712d90025711",
       "version_major": 2,
       "version_minor": 0
      },
      "text/plain": [
       "PSA:   0%|          | 0/500 [00:00<?, ?it/s]"
      ]
     },
     "metadata": {},
     "output_type": "display_data"
    },
    {
     "data": {
      "application/vnd.jupyter.widget-view+json": {
       "model_id": "fe8643177e9f42b8a03b5afb812a496f",
       "version_major": 2,
       "version_minor": 0
      },
      "text/plain": [
       "PWR:   0%|          | 0/500 [00:00<?, ?it/s]"
      ]
     },
     "metadata": {},
     "output_type": "display_data"
    },
    {
     "data": {
      "application/vnd.jupyter.widget-view+json": {
       "model_id": "a337bf6e2a844eddb8e95b357934537e",
       "version_major": 2,
       "version_minor": 0
      },
      "text/plain": [
       "PX:   0%|          | 0/500 [00:00<?, ?it/s]"
      ]
     },
     "metadata": {},
     "output_type": "display_data"
    },
    {
     "data": {
      "application/vnd.jupyter.widget-view+json": {
       "model_id": "95b0ec6f3d2e438dbbe5e4af67971b10",
       "version_major": 2,
       "version_minor": 0
      },
      "text/plain": [
       "PXD:   0%|          | 0/500 [00:00<?, ?it/s]"
      ]
     },
     "metadata": {},
     "output_type": "display_data"
    },
    {
     "data": {
      "application/vnd.jupyter.widget-view+json": {
       "model_id": "6b0758738aab4b099507780ac93d4277",
       "version_major": 2,
       "version_minor": 0
      },
      "text/plain": [
       "QEP:   0%|          | 0/500 [00:00<?, ?it/s]"
      ]
     },
     "metadata": {},
     "output_type": "display_data"
    },
    {
     "data": {
      "application/vnd.jupyter.widget-view+json": {
       "model_id": "c20d4ec8997a40ea976e9e42ffa641e8",
       "version_major": 2,
       "version_minor": 0
      },
      "text/plain": [
       "R:   0%|          | 0/500 [00:00<?, ?it/s]"
      ]
     },
     "metadata": {},
     "output_type": "display_data"
    },
    {
     "data": {
      "application/vnd.jupyter.widget-view+json": {
       "model_id": "8319ec50720c4c7fbefe32a9e37aa4ec",
       "version_major": 2,
       "version_minor": 0
      },
      "text/plain": [
       "RAI:   0%|          | 0/500 [00:00<?, ?it/s]"
      ]
     },
     "metadata": {},
     "output_type": "display_data"
    },
    {
     "data": {
      "application/vnd.jupyter.widget-view+json": {
       "model_id": "d2a6d4a262a34951acb26ad065b50d22",
       "version_major": 2,
       "version_minor": 0
      },
      "text/plain": [
       "RDC:   0%|          | 0/500 [00:00<?, ?it/s]"
      ]
     },
     "metadata": {},
     "output_type": "display_data"
    },
    {
     "data": {
      "application/vnd.jupyter.widget-view+json": {
       "model_id": "f05ad83b1a53452283dc6d4a0aca2f8d",
       "version_major": 2,
       "version_minor": 0
      },
      "text/plain": [
       "RF:   0%|          | 0/500 [00:00<?, ?it/s]"
      ]
     },
     "metadata": {},
     "output_type": "display_data"
    },
    {
     "data": {
      "application/vnd.jupyter.widget-view+json": {
       "model_id": "fd77fd557c6648d5bdf39a49081f6166",
       "version_major": 2,
       "version_minor": 0
      },
      "text/plain": [
       "RHI:   0%|          | 0/500 [00:00<?, ?it/s]"
      ]
     },
     "metadata": {},
     "output_type": "display_data"
    },
    {
     "data": {
      "application/vnd.jupyter.widget-view+json": {
       "model_id": "93764b66c1dd445e9c49dafca61d44f8",
       "version_major": 2,
       "version_minor": 0
      },
      "text/plain": [
       "RHT:   0%|          | 0/500 [00:00<?, ?it/s]"
      ]
     },
     "metadata": {},
     "output_type": "display_data"
    },
    {
     "data": {
      "application/vnd.jupyter.widget-view+json": {
       "model_id": "d22239f0f6574d23b41f0a2d7b3800de",
       "version_major": 2,
       "version_minor": 0
      },
      "text/plain": [
       "RL:   0%|          | 0/500 [00:00<?, ?it/s]"
      ]
     },
     "metadata": {},
     "output_type": "display_data"
    },
    {
     "data": {
      "application/vnd.jupyter.widget-view+json": {
       "model_id": "81868c5672e141359a510800a92bf455",
       "version_major": 2,
       "version_minor": 0
      },
      "text/plain": [
       "ROK:   0%|          | 0/500 [00:00<?, ?it/s]"
      ]
     },
     "metadata": {},
     "output_type": "display_data"
    },
    {
     "data": {
      "application/vnd.jupyter.widget-view+json": {
       "model_id": "2a9d1d5585a049ce97fe55e0a4c4a460",
       "version_major": 2,
       "version_minor": 0
      },
      "text/plain": [
       "ROP:   0%|          | 0/500 [00:00<?, ?it/s]"
      ]
     },
     "metadata": {},
     "output_type": "display_data"
    },
    {
     "data": {
      "application/vnd.jupyter.widget-view+json": {
       "model_id": "12da61bdb96d4fe3af550f748811138d",
       "version_major": 2,
       "version_minor": 0
      },
      "text/plain": [
       "RRC:   0%|          | 0/500 [00:00<?, ?it/s]"
      ]
     },
     "metadata": {},
     "output_type": "display_data"
    },
    {
     "data": {
      "application/vnd.jupyter.widget-view+json": {
       "model_id": "9274b0b5fda944dfb52afc8bb93494bf",
       "version_major": 2,
       "version_minor": 0
      },
      "text/plain": [
       "RRD:   0%|          | 0/500 [00:00<?, ?it/s]"
      ]
     },
     "metadata": {},
     "output_type": "display_data"
    },
    {
     "data": {
      "application/vnd.jupyter.widget-view+json": {
       "model_id": "f27b36ee4ae943168eb145c27e4bb8ce",
       "version_major": 2,
       "version_minor": 0
      },
      "text/plain": [
       "RSG:   0%|          | 0/500 [00:00<?, ?it/s]"
      ]
     },
     "metadata": {},
     "output_type": "display_data"
    },
    {
     "data": {
      "application/vnd.jupyter.widget-view+json": {
       "model_id": "4b47e23639f74164a259355ccf68e625",
       "version_major": 2,
       "version_minor": 0
      },
      "text/plain": [
       "RSH:   0%|          | 0/500 [00:00<?, ?it/s]"
      ]
     },
     "metadata": {},
     "output_type": "display_data"
    },
    {
     "data": {
      "application/vnd.jupyter.widget-view+json": {
       "model_id": "c41ab0a44fb44bcba86223991fdcb66d",
       "version_major": 2,
       "version_minor": 0
      },
      "text/plain": [
       "RTN:   0%|          | 0/500 [00:00<?, ?it/s]"
      ]
     },
     "metadata": {},
     "output_type": "display_data"
    },
    {
     "data": {
      "application/vnd.jupyter.widget-view+json": {
       "model_id": "49073e1ce4b9447e8c53db8904d46a13",
       "version_major": 2,
       "version_minor": 0
      },
      "text/plain": [
       "S:   0%|          | 0/500 [00:00<?, ?it/s]"
      ]
     },
     "metadata": {},
     "output_type": "display_data"
    },
    {
     "data": {
      "application/vnd.jupyter.widget-view+json": {
       "model_id": "2752fcaaece6497b83c51c7acb05b098",
       "version_major": 2,
       "version_minor": 0
      },
      "text/plain": [
       "SAI:   0%|          | 0/500 [00:00<?, ?it/s]"
      ]
     },
     "metadata": {},
     "output_type": "display_data"
    },
    {
     "data": {
      "application/vnd.jupyter.widget-view+json": {
       "model_id": "69c56a89abc94f41877824a3f0d2dd63",
       "version_major": 2,
       "version_minor": 0
      },
      "text/plain": [
       "SCG:   0%|          | 0/500 [00:00<?, ?it/s]"
      ]
     },
     "metadata": {},
     "output_type": "display_data"
    },
    {
     "data": {
      "application/vnd.jupyter.widget-view+json": {
       "model_id": "6234b871f47b4a679545279dabbbfa24",
       "version_major": 2,
       "version_minor": 0
      },
      "text/plain": [
       "SCHW:   0%|          | 0/500 [00:00<?, ?it/s]"
      ]
     },
     "metadata": {},
     "output_type": "display_data"
    },
    {
     "data": {
      "application/vnd.jupyter.widget-view+json": {
       "model_id": "ca5db0e812a94ec086cc0c303b492109",
       "version_major": 2,
       "version_minor": 0
      },
      "text/plain": [
       "SE:   0%|          | 0/500 [00:00<?, ?it/s]"
      ]
     },
     "metadata": {},
     "output_type": "display_data"
    },
    {
     "data": {
      "application/vnd.jupyter.widget-view+json": {
       "model_id": "d6606eecf96a4d608fb6bb66af76f853",
       "version_major": 2,
       "version_minor": 0
      },
      "text/plain": [
       "SEE:   0%|          | 0/500 [00:00<?, ?it/s]"
      ]
     },
     "metadata": {},
     "output_type": "display_data"
    },
    {
     "data": {
      "application/vnd.jupyter.widget-view+json": {
       "model_id": "d1499ba14caa46ecb43bffc0db4a545d",
       "version_major": 2,
       "version_minor": 0
      },
      "text/plain": [
       "SHLD:   0%|          | 0/500 [00:00<?, ?it/s]"
      ]
     },
     "metadata": {},
     "output_type": "display_data"
    },
    {
     "data": {
      "application/vnd.jupyter.widget-view+json": {
       "model_id": "62259fcd61224b87891eec5008ed017f",
       "version_major": 2,
       "version_minor": 0
      },
      "text/plain": [
       "SHW:   0%|          | 0/500 [00:00<?, ?it/s]"
      ]
     },
     "metadata": {},
     "output_type": "display_data"
    },
    {
     "data": {
      "application/vnd.jupyter.widget-view+json": {
       "model_id": "8ae44a4e338f445fa7a7224657d0e321",
       "version_major": 2,
       "version_minor": 0
      },
      "text/plain": [
       "SIAL:   0%|          | 0/500 [00:00<?, ?it/s]"
      ]
     },
     "metadata": {},
     "output_type": "display_data"
    },
    {
     "data": {
      "application/vnd.jupyter.widget-view+json": {
       "model_id": "311d6a50a2074c15a80fd40df278f7c5",
       "version_major": 2,
       "version_minor": 0
      },
      "text/plain": [
       "SJM:   0%|          | 0/500 [00:00<?, ?it/s]"
      ]
     },
     "metadata": {},
     "output_type": "display_data"
    },
    {
     "data": {
      "application/vnd.jupyter.widget-view+json": {
       "model_id": "0d17d493e1aa4bb6981a4f3999f450f6",
       "version_major": 2,
       "version_minor": 0
      },
      "text/plain": [
       "SLB:   0%|          | 0/500 [00:00<?, ?it/s]"
      ]
     },
     "metadata": {},
     "output_type": "display_data"
    },
    {
     "data": {
      "application/vnd.jupyter.widget-view+json": {
       "model_id": "97c535f5128d4401b8173da79df0a7cf",
       "version_major": 2,
       "version_minor": 0
      },
      "text/plain": [
       "SLE:   0%|          | 0/500 [00:00<?, ?it/s]"
      ]
     },
     "metadata": {},
     "output_type": "display_data"
    },
    {
     "data": {
      "application/vnd.jupyter.widget-view+json": {
       "model_id": "1942fa3f864543f997ce28071c347510",
       "version_major": 2,
       "version_minor": 0
      },
      "text/plain": [
       "SLM:   0%|          | 0/500 [00:00<?, ?it/s]"
      ]
     },
     "metadata": {},
     "output_type": "display_data"
    },
    {
     "data": {
      "application/vnd.jupyter.widget-view+json": {
       "model_id": "1874d99ffffe4b77bcef62810dffe61c",
       "version_major": 2,
       "version_minor": 0
      },
      "text/plain": [
       "SNA:   0%|          | 0/500 [00:00<?, ?it/s]"
      ]
     },
     "metadata": {},
     "output_type": "display_data"
    },
    {
     "data": {
      "application/vnd.jupyter.widget-view+json": {
       "model_id": "396185164191435bbb6a2e94de28f923",
       "version_major": 2,
       "version_minor": 0
      },
      "text/plain": [
       "SNDK:   0%|          | 0/500 [00:00<?, ?it/s]"
      ]
     },
     "metadata": {},
     "output_type": "display_data"
    },
    {
     "data": {
      "application/vnd.jupyter.widget-view+json": {
       "model_id": "cd012827e6194b18b5490d5b3c288c2b",
       "version_major": 2,
       "version_minor": 0
      },
      "text/plain": [
       "SNI:   0%|          | 0/500 [00:00<?, ?it/s]"
      ]
     },
     "metadata": {},
     "output_type": "display_data"
    },
    {
     "data": {
      "application/vnd.jupyter.widget-view+json": {
       "model_id": "d4361a175586466f8228ea34107c26b4",
       "version_major": 2,
       "version_minor": 0
      },
      "text/plain": [
       "SO:   0%|          | 0/500 [00:00<?, ?it/s]"
      ]
     },
     "metadata": {},
     "output_type": "display_data"
    },
    {
     "data": {
      "application/vnd.jupyter.widget-view+json": {
       "model_id": "3b4567a8bb5a45e8982e81b70f3e6914",
       "version_major": 2,
       "version_minor": 0
      },
      "text/plain": [
       "SPG:   0%|          | 0/500 [00:00<?, ?it/s]"
      ]
     },
     "metadata": {},
     "output_type": "display_data"
    },
    {
     "data": {
      "application/vnd.jupyter.widget-view+json": {
       "model_id": "1df46bd656c54def8adbd79a2e4252f1",
       "version_major": 2,
       "version_minor": 0
      },
      "text/plain": [
       "SPLS:   0%|          | 0/500 [00:00<?, ?it/s]"
      ]
     },
     "metadata": {},
     "output_type": "display_data"
    },
    {
     "data": {
      "application/vnd.jupyter.widget-view+json": {
       "model_id": "a8a3533f6f214ffd8cc8047b8951156f",
       "version_major": 2,
       "version_minor": 0
      },
      "text/plain": [
       "SRCL:   0%|          | 0/500 [00:00<?, ?it/s]"
      ]
     },
     "metadata": {},
     "output_type": "display_data"
    },
    {
     "data": {
      "application/vnd.jupyter.widget-view+json": {
       "model_id": "376c4aea0673445c8ce608d0ec81e922",
       "version_major": 2,
       "version_minor": 0
      },
      "text/plain": [
       "SRE:   0%|          | 0/500 [00:00<?, ?it/s]"
      ]
     },
     "metadata": {},
     "output_type": "display_data"
    },
    {
     "data": {
      "application/vnd.jupyter.widget-view+json": {
       "model_id": "fdfac24233c943a3a925325b14b156ae",
       "version_major": 2,
       "version_minor": 0
      },
      "text/plain": [
       "STI:   0%|          | 0/500 [00:00<?, ?it/s]"
      ]
     },
     "metadata": {},
     "output_type": "display_data"
    },
    {
     "data": {
      "application/vnd.jupyter.widget-view+json": {
       "model_id": "32f46c48b98a438699b95919f001e862",
       "version_major": 2,
       "version_minor": 0
      },
      "text/plain": [
       "STJ:   0%|          | 0/500 [00:00<?, ?it/s]"
      ]
     },
     "metadata": {},
     "output_type": "display_data"
    },
    {
     "data": {
      "application/vnd.jupyter.widget-view+json": {
       "model_id": "fca05e0a25794dd4a2e145955b4a1336",
       "version_major": 2,
       "version_minor": 0
      },
      "text/plain": [
       "STT:   0%|          | 0/500 [00:00<?, ?it/s]"
      ]
     },
     "metadata": {},
     "output_type": "display_data"
    },
    {
     "data": {
      "application/vnd.jupyter.widget-view+json": {
       "model_id": "9e83365afa9b418dbe512e0a7c4e368d",
       "version_major": 2,
       "version_minor": 0
      },
      "text/plain": [
       "STZ:   0%|          | 0/500 [00:00<?, ?it/s]"
      ]
     },
     "metadata": {},
     "output_type": "display_data"
    },
    {
     "data": {
      "application/vnd.jupyter.widget-view+json": {
       "model_id": "a331673cfd564aa8892b6200059fd91b",
       "version_major": 2,
       "version_minor": 0
      },
      "text/plain": [
       "SUN:   0%|          | 0/500 [00:00<?, ?it/s]"
      ]
     },
     "metadata": {},
     "output_type": "display_data"
    },
    {
     "data": {
      "application/vnd.jupyter.widget-view+json": {
       "model_id": "3c304f828d444c2cab30b558fa748dcb",
       "version_major": 2,
       "version_minor": 0
      },
      "text/plain": [
       "SVU:   0%|          | 0/500 [00:00<?, ?it/s]"
      ]
     },
     "metadata": {},
     "output_type": "display_data"
    },
    {
     "data": {
      "application/vnd.jupyter.widget-view+json": {
       "model_id": "c5a265fd30014048840b292792e6f829",
       "version_major": 2,
       "version_minor": 0
      },
      "text/plain": [
       "SWK:   0%|          | 0/500 [00:00<?, ?it/s]"
      ]
     },
     "metadata": {},
     "output_type": "display_data"
    },
    {
     "data": {
      "application/vnd.jupyter.widget-view+json": {
       "model_id": "9af6139287b54218945bce1f31ce866c",
       "version_major": 2,
       "version_minor": 0
      },
      "text/plain": [
       "SWN:   0%|          | 0/500 [00:00<?, ?it/s]"
      ]
     },
     "metadata": {},
     "output_type": "display_data"
    },
    {
     "data": {
      "application/vnd.jupyter.widget-view+json": {
       "model_id": "1d2dd03b148d48cda8cd596053145672",
       "version_major": 2,
       "version_minor": 0
      },
      "text/plain": [
       "SWY:   0%|          | 0/500 [00:00<?, ?it/s]"
      ]
     },
     "metadata": {},
     "output_type": "display_data"
    },
    {
     "data": {
      "application/vnd.jupyter.widget-view+json": {
       "model_id": "8ecc565d8b66498a90a0b27591fba304",
       "version_major": 2,
       "version_minor": 0
      },
      "text/plain": [
       "SYK:   0%|          | 0/500 [00:00<?, ?it/s]"
      ]
     },
     "metadata": {},
     "output_type": "display_data"
    },
    {
     "data": {
      "application/vnd.jupyter.widget-view+json": {
       "model_id": "83368b3a966b43a7bcdcac3f1a4179d1",
       "version_major": 2,
       "version_minor": 0
      },
      "text/plain": [
       "SYMC:   0%|          | 0/500 [00:00<?, ?it/s]"
      ]
     },
     "metadata": {},
     "output_type": "display_data"
    },
    {
     "data": {
      "application/vnd.jupyter.widget-view+json": {
       "model_id": "99244158b6e34d09861db483e63eba01",
       "version_major": 2,
       "version_minor": 0
      },
      "text/plain": [
       "SYY:   0%|          | 0/500 [00:00<?, ?it/s]"
      ]
     },
     "metadata": {},
     "output_type": "display_data"
    },
    {
     "data": {
      "application/vnd.jupyter.widget-view+json": {
       "model_id": "1cc14b24ddb44f24ab753fd8e6d499fe",
       "version_major": 2,
       "version_minor": 0
      },
      "text/plain": [
       "T:   0%|          | 0/500 [00:00<?, ?it/s]"
      ]
     },
     "metadata": {},
     "output_type": "display_data"
    },
    {
     "data": {
      "application/vnd.jupyter.widget-view+json": {
       "model_id": "07556df4b94e4888a12eb656c4fc2e53",
       "version_major": 2,
       "version_minor": 0
      },
      "text/plain": [
       "TAP:   0%|          | 0/500 [00:00<?, ?it/s]"
      ]
     },
     "metadata": {},
     "output_type": "display_data"
    },
    {
     "data": {
      "application/vnd.jupyter.widget-view+json": {
       "model_id": "6cf2b2f6ef3044feb03ca705785b5f35",
       "version_major": 2,
       "version_minor": 0
      },
      "text/plain": [
       "TDC:   0%|          | 0/500 [00:00<?, ?it/s]"
      ]
     },
     "metadata": {},
     "output_type": "display_data"
    },
    {
     "data": {
      "application/vnd.jupyter.widget-view+json": {
       "model_id": "352ceef944734bf3904473c68afb1be8",
       "version_major": 2,
       "version_minor": 0
      },
      "text/plain": [
       "TE:   0%|          | 0/500 [00:00<?, ?it/s]"
      ]
     },
     "metadata": {},
     "output_type": "display_data"
    },
    {
     "data": {
      "application/vnd.jupyter.widget-view+json": {
       "model_id": "adc775eb2c1a4e44a949886a40b25dc9",
       "version_major": 2,
       "version_minor": 0
      },
      "text/plain": [
       "TEG:   0%|          | 0/500 [00:00<?, ?it/s]"
      ]
     },
     "metadata": {},
     "output_type": "display_data"
    },
    {
     "data": {
      "application/vnd.jupyter.widget-view+json": {
       "model_id": "1a62539e7e544ec5894f95c606954f20",
       "version_major": 2,
       "version_minor": 0
      },
      "text/plain": [
       "TER:   0%|          | 0/500 [00:00<?, ?it/s]"
      ]
     },
     "metadata": {},
     "output_type": "display_data"
    },
    {
     "data": {
      "application/vnd.jupyter.widget-view+json": {
       "model_id": "816424893ffb47c1b33e10c0100b9cc1",
       "version_major": 2,
       "version_minor": 0
      },
      "text/plain": [
       "TGT:   0%|          | 0/500 [00:00<?, ?it/s]"
      ]
     },
     "metadata": {},
     "output_type": "display_data"
    },
    {
     "data": {
      "application/vnd.jupyter.widget-view+json": {
       "model_id": "62270f165bd448b79f39fed0884b2cc0",
       "version_major": 2,
       "version_minor": 0
      },
      "text/plain": [
       "THC:   0%|          | 0/500 [00:00<?, ?it/s]"
      ]
     },
     "metadata": {},
     "output_type": "display_data"
    },
    {
     "data": {
      "application/vnd.jupyter.widget-view+json": {
       "model_id": "bdc5c425d48c4fe8bd7fec6ab499c352",
       "version_major": 2,
       "version_minor": 0
      },
      "text/plain": [
       "TIE:   0%|          | 0/500 [00:00<?, ?it/s]"
      ]
     },
     "metadata": {},
     "output_type": "display_data"
    },
    {
     "data": {
      "application/vnd.jupyter.widget-view+json": {
       "model_id": "ccb3b45793e344cb86e5d4ff51ac8abd",
       "version_major": 2,
       "version_minor": 0
      },
      "text/plain": [
       "TIF:   0%|          | 0/500 [00:00<?, ?it/s]"
      ]
     },
     "metadata": {},
     "output_type": "display_data"
    },
    {
     "data": {
      "application/vnd.jupyter.widget-view+json": {
       "model_id": "a93f207c4c934cdd930179621553b95a",
       "version_major": 2,
       "version_minor": 0
      },
      "text/plain": [
       "TJX:   0%|          | 0/500 [00:00<?, ?it/s]"
      ]
     },
     "metadata": {},
     "output_type": "display_data"
    },
    {
     "data": {
      "application/vnd.jupyter.widget-view+json": {
       "model_id": "608c8d28e3aa4628ba50730463ad93cf",
       "version_major": 2,
       "version_minor": 0
      },
      "text/plain": [
       "TLAB:   0%|          | 0/500 [00:00<?, ?it/s]"
      ]
     },
     "metadata": {},
     "output_type": "display_data"
    },
    {
     "data": {
      "application/vnd.jupyter.widget-view+json": {
       "model_id": "2b59ddb4e809468b9775a87aa9eb2f80",
       "version_major": 2,
       "version_minor": 0
      },
      "text/plain": [
       "TMK:   0%|          | 0/500 [00:00<?, ?it/s]"
      ]
     },
     "metadata": {},
     "output_type": "display_data"
    },
    {
     "data": {
      "application/vnd.jupyter.widget-view+json": {
       "model_id": "365abfb1ddc3480a86ab5d4498e7a32e",
       "version_major": 2,
       "version_minor": 0
      },
      "text/plain": [
       "TMO:   0%|          | 0/500 [00:00<?, ?it/s]"
      ]
     },
     "metadata": {},
     "output_type": "display_data"
    },
    {
     "data": {
      "application/vnd.jupyter.widget-view+json": {
       "model_id": "d5c181e1968548b8abbfd0470359a74b",
       "version_major": 2,
       "version_minor": 0
      },
      "text/plain": [
       "TROW:   0%|          | 0/500 [00:00<?, ?it/s]"
      ]
     },
     "metadata": {},
     "output_type": "display_data"
    },
    {
     "data": {
      "application/vnd.jupyter.widget-view+json": {
       "model_id": "ad5c6eb353804abcb34463b18ba821ec",
       "version_major": 2,
       "version_minor": 0
      },
      "text/plain": [
       "TRV:   0%|          | 0/500 [00:00<?, ?it/s]"
      ]
     },
     "metadata": {},
     "output_type": "display_data"
    },
    {
     "data": {
      "application/vnd.jupyter.widget-view+json": {
       "model_id": "557e49bf712545aaaa835b8ada491e91",
       "version_major": 2,
       "version_minor": 0
      },
      "text/plain": [
       "TSN:   0%|          | 0/500 [00:00<?, ?it/s]"
      ]
     },
     "metadata": {},
     "output_type": "display_data"
    },
    {
     "data": {
      "application/vnd.jupyter.widget-view+json": {
       "model_id": "6913a70ee4b7464b94c4302c3785ca04",
       "version_major": 2,
       "version_minor": 0
      },
      "text/plain": [
       "TSO:   0%|          | 0/500 [00:00<?, ?it/s]"
      ]
     },
     "metadata": {},
     "output_type": "display_data"
    },
    {
     "data": {
      "application/vnd.jupyter.widget-view+json": {
       "model_id": "4215ed58c27d4832af024059ad4dfafc",
       "version_major": 2,
       "version_minor": 0
      },
      "text/plain": [
       "TSS:   0%|          | 0/500 [00:00<?, ?it/s]"
      ]
     },
     "metadata": {},
     "output_type": "display_data"
    },
    {
     "data": {
      "application/vnd.jupyter.widget-view+json": {
       "model_id": "9ee12faaf04e4d968af0880e2783a835",
       "version_major": 2,
       "version_minor": 0
      },
      "text/plain": [
       "TWC:   0%|          | 0/500 [00:00<?, ?it/s]"
      ]
     },
     "metadata": {},
     "output_type": "display_data"
    },
    {
     "data": {
      "application/vnd.jupyter.widget-view+json": {
       "model_id": "78e092d378cc4f90aed3146d54475e2c",
       "version_major": 2,
       "version_minor": 0
      },
      "text/plain": [
       "TWX:   0%|          | 0/500 [00:00<?, ?it/s]"
      ]
     },
     "metadata": {},
     "output_type": "display_data"
    },
    {
     "data": {
      "application/vnd.jupyter.widget-view+json": {
       "model_id": "ceb3896b980d441b96b71599abbeab22",
       "version_major": 2,
       "version_minor": 0
      },
      "text/plain": [
       "TXT:   0%|          | 0/500 [00:00<?, ?it/s]"
      ]
     },
     "metadata": {},
     "output_type": "display_data"
    },
    {
     "data": {
      "application/vnd.jupyter.widget-view+json": {
       "model_id": "97e14a94b34f4fd093bcb83d44109a32",
       "version_major": 2,
       "version_minor": 0
      },
      "text/plain": [
       "TYC:   0%|          | 0/500 [00:00<?, ?it/s]"
      ]
     },
     "metadata": {},
     "output_type": "display_data"
    },
    {
     "data": {
      "application/vnd.jupyter.widget-view+json": {
       "model_id": "3567b223381e4feea2167b6c3a8eaebb",
       "version_major": 2,
       "version_minor": 0
      },
      "text/plain": [
       "UNH:   0%|          | 0/500 [00:00<?, ?it/s]"
      ]
     },
     "metadata": {},
     "output_type": "display_data"
    },
    {
     "data": {
      "application/vnd.jupyter.widget-view+json": {
       "model_id": "44bb8eb6161445a9ac76dd26536cd47f",
       "version_major": 2,
       "version_minor": 0
      },
      "text/plain": [
       "UNM:   0%|          | 0/500 [00:00<?, ?it/s]"
      ]
     },
     "metadata": {},
     "output_type": "display_data"
    },
    {
     "data": {
      "application/vnd.jupyter.widget-view+json": {
       "model_id": "40a17fa2615a47ff8b9bcbca10d57b00",
       "version_major": 2,
       "version_minor": 0
      },
      "text/plain": [
       "UNP:   0%|          | 0/500 [00:00<?, ?it/s]"
      ]
     },
     "metadata": {},
     "output_type": "display_data"
    },
    {
     "data": {
      "application/vnd.jupyter.widget-view+json": {
       "model_id": "f6f1979f79f845e4a0f64870b3c92342",
       "version_major": 2,
       "version_minor": 0
      },
      "text/plain": [
       "UPS:   0%|          | 0/500 [00:00<?, ?it/s]"
      ]
     },
     "metadata": {},
     "output_type": "display_data"
    },
    {
     "data": {
      "application/vnd.jupyter.widget-view+json": {
       "model_id": "737a420001c74e29abfa0c20d3c57f3e",
       "version_major": 2,
       "version_minor": 0
      },
      "text/plain": [
       "URBN:   0%|          | 0/500 [00:00<?, ?it/s]"
      ]
     },
     "metadata": {},
     "output_type": "display_data"
    },
    {
     "data": {
      "application/vnd.jupyter.widget-view+json": {
       "model_id": "70d532e6782141f799d8345197479a0a",
       "version_major": 2,
       "version_minor": 0
      },
      "text/plain": [
       "USB:   0%|          | 0/500 [00:00<?, ?it/s]"
      ]
     },
     "metadata": {},
     "output_type": "display_data"
    },
    {
     "data": {
      "application/vnd.jupyter.widget-view+json": {
       "model_id": "1365234e780f4426b4ca7db78f87fd93",
       "version_major": 2,
       "version_minor": 0
      },
      "text/plain": [
       "UTX:   0%|          | 0/500 [00:00<?, ?it/s]"
      ]
     },
     "metadata": {},
     "output_type": "display_data"
    },
    {
     "data": {
      "application/vnd.jupyter.widget-view+json": {
       "model_id": "864b9a8263234171bc2be5f664cb34dc",
       "version_major": 2,
       "version_minor": 0
      },
      "text/plain": [
       "V:   0%|          | 0/500 [00:00<?, ?it/s]"
      ]
     },
     "metadata": {},
     "output_type": "display_data"
    },
    {
     "data": {
      "application/vnd.jupyter.widget-view+json": {
       "model_id": "675e70aa5fc44c68b5f0486800d9fecc",
       "version_major": 2,
       "version_minor": 0
      },
      "text/plain": [
       "VAR:   0%|          | 0/500 [00:00<?, ?it/s]"
      ]
     },
     "metadata": {},
     "output_type": "display_data"
    },
    {
     "data": {
      "application/vnd.jupyter.widget-view+json": {
       "model_id": "a49fbaf8f14b40d2a08287639383fcc5",
       "version_major": 2,
       "version_minor": 0
      },
      "text/plain": [
       "VFC:   0%|          | 0/500 [00:00<?, ?it/s]"
      ]
     },
     "metadata": {},
     "output_type": "display_data"
    },
    {
     "data": {
      "application/vnd.jupyter.widget-view+json": {
       "model_id": "76ee3d10ff3b4930af128b430c27871c",
       "version_major": 2,
       "version_minor": 0
      },
      "text/plain": [
       "VIA_B:   0%|          | 0/500 [00:00<?, ?it/s]"
      ]
     },
     "metadata": {},
     "output_type": "display_data"
    },
    {
     "data": {
      "application/vnd.jupyter.widget-view+json": {
       "model_id": "e39db70e3696413bb1842255e1d862c7",
       "version_major": 2,
       "version_minor": 0
      },
      "text/plain": [
       "VLO:   0%|          | 0/500 [00:00<?, ?it/s]"
      ]
     },
     "metadata": {},
     "output_type": "display_data"
    },
    {
     "data": {
      "application/vnd.jupyter.widget-view+json": {
       "model_id": "6a22a0874702490fb2b0e45b6162ce6d",
       "version_major": 2,
       "version_minor": 0
      },
      "text/plain": [
       "VMC:   0%|          | 0/500 [00:00<?, ?it/s]"
      ]
     },
     "metadata": {},
     "output_type": "display_data"
    },
    {
     "data": {
      "application/vnd.jupyter.widget-view+json": {
       "model_id": "b6f7d7d320c24f4095702a58014cedde",
       "version_major": 2,
       "version_minor": 0
      },
      "text/plain": [
       "VNO:   0%|          | 0/500 [00:00<?, ?it/s]"
      ]
     },
     "metadata": {},
     "output_type": "display_data"
    },
    {
     "data": {
      "application/vnd.jupyter.widget-view+json": {
       "model_id": "a6f728178b704374a9c41c941edffb96",
       "version_major": 2,
       "version_minor": 0
      },
      "text/plain": [
       "VTR:   0%|          | 0/500 [00:00<?, ?it/s]"
      ]
     },
     "metadata": {},
     "output_type": "display_data"
    },
    {
     "data": {
      "application/vnd.jupyter.widget-view+json": {
       "model_id": "eb4014f2a58643c4800f2d5340fe275e",
       "version_major": 2,
       "version_minor": 0
      },
      "text/plain": [
       "VZ:   0%|          | 0/500 [00:00<?, ?it/s]"
      ]
     },
     "metadata": {},
     "output_type": "display_data"
    },
    {
     "data": {
      "application/vnd.jupyter.widget-view+json": {
       "model_id": "c049d67d2db04fd6b23b72f19b1114a3",
       "version_major": 2,
       "version_minor": 0
      },
      "text/plain": [
       "WAG:   0%|          | 0/500 [00:00<?, ?it/s]"
      ]
     },
     "metadata": {},
     "output_type": "display_data"
    },
    {
     "data": {
      "application/vnd.jupyter.widget-view+json": {
       "model_id": "11f7521202614445809a43a0afc3604b",
       "version_major": 2,
       "version_minor": 0
      },
      "text/plain": [
       "WAT:   0%|          | 0/500 [00:00<?, ?it/s]"
      ]
     },
     "metadata": {},
     "output_type": "display_data"
    },
    {
     "data": {
      "application/vnd.jupyter.widget-view+json": {
       "model_id": "c947def2e25142aeba1dcca03b5848b5",
       "version_major": 2,
       "version_minor": 0
      },
      "text/plain": [
       "WEC:   0%|          | 0/500 [00:00<?, ?it/s]"
      ]
     },
     "metadata": {},
     "output_type": "display_data"
    },
    {
     "data": {
      "application/vnd.jupyter.widget-view+json": {
       "model_id": "2879477a7dd346b2829fec3ca267ff3d",
       "version_major": 2,
       "version_minor": 0
      },
      "text/plain": [
       "WFC:   0%|          | 0/500 [00:00<?, ?it/s]"
      ]
     },
     "metadata": {},
     "output_type": "display_data"
    },
    {
     "data": {
      "application/vnd.jupyter.widget-view+json": {
       "model_id": "1d9263975d9c4245a8f1a33719524ed9",
       "version_major": 2,
       "version_minor": 0
      },
      "text/plain": [
       "WFM:   0%|          | 0/500 [00:00<?, ?it/s]"
      ]
     },
     "metadata": {},
     "output_type": "display_data"
    },
    {
     "data": {
      "application/vnd.jupyter.widget-view+json": {
       "model_id": "ec032427257946d7a6a610778100915a",
       "version_major": 2,
       "version_minor": 0
      },
      "text/plain": [
       "WFR:   0%|          | 0/500 [00:00<?, ?it/s]"
      ]
     },
     "metadata": {},
     "output_type": "display_data"
    },
    {
     "data": {
      "application/vnd.jupyter.widget-view+json": {
       "model_id": "acc809c33b9e4c8297d98370505cff00",
       "version_major": 2,
       "version_minor": 0
      },
      "text/plain": [
       "WHR:   0%|          | 0/500 [00:00<?, ?it/s]"
      ]
     },
     "metadata": {},
     "output_type": "display_data"
    },
    {
     "data": {
      "application/vnd.jupyter.widget-view+json": {
       "model_id": "e825f9f74b4041e5bf70342f74c10090",
       "version_major": 2,
       "version_minor": 0
      },
      "text/plain": [
       "WIN:   0%|          | 0/500 [00:00<?, ?it/s]"
      ]
     },
     "metadata": {},
     "output_type": "display_data"
    },
    {
     "data": {
      "application/vnd.jupyter.widget-view+json": {
       "model_id": "8b6a620bf0ad45c293988d920849aa5b",
       "version_major": 2,
       "version_minor": 0
      },
      "text/plain": [
       "WLP:   0%|          | 0/500 [00:00<?, ?it/s]"
      ]
     },
     "metadata": {},
     "output_type": "display_data"
    },
    {
     "data": {
      "application/vnd.jupyter.widget-view+json": {
       "model_id": "4bb0b03c640f4e80b7656cffab2815f2",
       "version_major": 2,
       "version_minor": 0
      },
      "text/plain": [
       "WM:   0%|          | 0/500 [00:00<?, ?it/s]"
      ]
     },
     "metadata": {},
     "output_type": "display_data"
    },
    {
     "data": {
      "application/vnd.jupyter.widget-view+json": {
       "model_id": "b5ce80029c354b07a3c1cc88abaa9134",
       "version_major": 2,
       "version_minor": 0
      },
      "text/plain": [
       "WMB:   0%|          | 0/500 [00:00<?, ?it/s]"
      ]
     },
     "metadata": {},
     "output_type": "display_data"
    },
    {
     "data": {
      "application/vnd.jupyter.widget-view+json": {
       "model_id": "c542cb19226c4b64bf601504b2df5683",
       "version_major": 2,
       "version_minor": 0
      },
      "text/plain": [
       "WMT:   0%|          | 0/500 [00:00<?, ?it/s]"
      ]
     },
     "metadata": {},
     "output_type": "display_data"
    },
    {
     "data": {
      "application/vnd.jupyter.widget-view+json": {
       "model_id": "0d035c3aaff54433aa4c405b1c1b622b",
       "version_major": 2,
       "version_minor": 0
      },
      "text/plain": [
       "WPI:   0%|          | 0/500 [00:00<?, ?it/s]"
      ]
     },
     "metadata": {},
     "output_type": "display_data"
    },
    {
     "data": {
      "application/vnd.jupyter.widget-view+json": {
       "model_id": "fe5d5e7b64354bb9a6c5f843bda18baf",
       "version_major": 2,
       "version_minor": 0
      },
      "text/plain": [
       "WPO:   0%|          | 0/500 [00:00<?, ?it/s]"
      ]
     },
     "metadata": {},
     "output_type": "display_data"
    },
    {
     "data": {
      "application/vnd.jupyter.widget-view+json": {
       "model_id": "571ed89fe27741f0bef4d67bfdbe15fe",
       "version_major": 2,
       "version_minor": 0
      },
      "text/plain": [
       "WU:   0%|          | 0/500 [00:00<?, ?it/s]"
      ]
     },
     "metadata": {},
     "output_type": "display_data"
    },
    {
     "data": {
      "application/vnd.jupyter.widget-view+json": {
       "model_id": "23075ff8c267422cad35feb2b05ed8d3",
       "version_major": 2,
       "version_minor": 0
      },
      "text/plain": [
       "WY:   0%|          | 0/500 [00:00<?, ?it/s]"
      ]
     },
     "metadata": {},
     "output_type": "display_data"
    },
    {
     "data": {
      "application/vnd.jupyter.widget-view+json": {
       "model_id": "11a0f4c4636a4cf5938dff0431ac93be",
       "version_major": 2,
       "version_minor": 0
      },
      "text/plain": [
       "WYN:   0%|          | 0/500 [00:00<?, ?it/s]"
      ]
     },
     "metadata": {},
     "output_type": "display_data"
    },
    {
     "data": {
      "application/vnd.jupyter.widget-view+json": {
       "model_id": "47795ce77380429c8c06cd211d379294",
       "version_major": 2,
       "version_minor": 0
      },
      "text/plain": [
       "X:   0%|          | 0/500 [00:00<?, ?it/s]"
      ]
     },
     "metadata": {},
     "output_type": "display_data"
    },
    {
     "data": {
      "application/vnd.jupyter.widget-view+json": {
       "model_id": "34f75c76c5c84591879399f6dd87cb8d",
       "version_major": 2,
       "version_minor": 0
      },
      "text/plain": [
       "XL:   0%|          | 0/500 [00:00<?, ?it/s]"
      ]
     },
     "metadata": {},
     "output_type": "display_data"
    },
    {
     "data": {
      "application/vnd.jupyter.widget-view+json": {
       "model_id": "1068666ed95743d48f09e2ac07c44d92",
       "version_major": 2,
       "version_minor": 0
      },
      "text/plain": [
       "XLNX:   0%|          | 0/500 [00:00<?, ?it/s]"
      ]
     },
     "metadata": {},
     "output_type": "display_data"
    },
    {
     "data": {
      "application/vnd.jupyter.widget-view+json": {
       "model_id": "3870d40e6437462a80ffd39719975463",
       "version_major": 2,
       "version_minor": 0
      },
      "text/plain": [
       "XOM:   0%|          | 0/500 [00:00<?, ?it/s]"
      ]
     },
     "metadata": {},
     "output_type": "display_data"
    },
    {
     "data": {
      "application/vnd.jupyter.widget-view+json": {
       "model_id": "ec92f8f484e6436fb58916c9aba9f7ca",
       "version_major": 2,
       "version_minor": 0
      },
      "text/plain": [
       "XRAY:   0%|          | 0/500 [00:00<?, ?it/s]"
      ]
     },
     "metadata": {},
     "output_type": "display_data"
    },
    {
     "data": {
      "application/vnd.jupyter.widget-view+json": {
       "model_id": "83bec8427dba4a26bdea0612f00aaa47",
       "version_major": 2,
       "version_minor": 0
      },
      "text/plain": [
       "XRX:   0%|          | 0/500 [00:00<?, ?it/s]"
      ]
     },
     "metadata": {},
     "output_type": "display_data"
    },
    {
     "data": {
      "application/vnd.jupyter.widget-view+json": {
       "model_id": "c42f4b135fac4f29a5ba0688217f4b10",
       "version_major": 2,
       "version_minor": 0
      },
      "text/plain": [
       "YHOO:   0%|          | 0/500 [00:00<?, ?it/s]"
      ]
     },
     "metadata": {},
     "output_type": "display_data"
    },
    {
     "data": {
      "application/vnd.jupyter.widget-view+json": {
       "model_id": "2cf64602f7be4c298afad19a70d26493",
       "version_major": 2,
       "version_minor": 0
      },
      "text/plain": [
       "YUM:   0%|          | 0/500 [00:00<?, ?it/s]"
      ]
     },
     "metadata": {},
     "output_type": "display_data"
    },
    {
     "data": {
      "application/vnd.jupyter.widget-view+json": {
       "model_id": "90422e7a8848468ab2a164323c332e81",
       "version_major": 2,
       "version_minor": 0
      },
      "text/plain": [
       "ZION:   0%|          | 0/500 [00:00<?, ?it/s]"
      ]
     },
     "metadata": {},
     "output_type": "display_data"
    },
    {
     "data": {
      "application/vnd.jupyter.widget-view+json": {
       "model_id": "ab4c8cd7afa746f3be65e103b6099e13",
       "version_major": 2,
       "version_minor": 0
      },
      "text/plain": [
       "ZMH:   0%|          | 0/500 [00:00<?, ?it/s]"
      ]
     },
     "metadata": {},
     "output_type": "display_data"
    }
   ],
   "source": [
    "all_other = pd.DataFrame()\n",
    "for stock in tqdm(other_code_list):\n",
    "    for page in tqdm(range(500),desc = stock):\n",
    "        url = f\"https://financialmodelingprep.com/api/v3/stock_news?tickers={stock}&page={page+1}&apikey=bbefd29f7b576e2db216612f20b7c39c\"\n",
    "        res = requests.get(url)\n",
    "        res = json.loads(res.text)\n",
    "        if len(res) == 0:\n",
    "            break\n",
    "        else:\n",
    "            res = pd.DataFrame(res)\n",
    "            all_other = pd.concat([all_other, res])"
   ]
  },
  {
   "cell_type": "code",
   "execution_count": 22,
   "metadata": {},
   "outputs": [
    {
     "data": {
      "text/plain": [
       "(244667, 7)"
      ]
     },
     "execution_count": 22,
     "metadata": {},
     "output_type": "execute_result"
    }
   ],
   "source": [
    "all.shape"
   ]
  },
  {
   "cell_type": "code",
   "execution_count": 25,
   "metadata": {},
   "outputs": [],
   "source": [
    "all = all.reset_index(drop=True)"
   ]
  },
  {
   "cell_type": "code",
   "execution_count": 26,
   "metadata": {},
   "outputs": [
    {
     "data": {
      "text/html": [
       "<div>\n",
       "<style scoped>\n",
       "    .dataframe tbody tr th:only-of-type {\n",
       "        vertical-align: middle;\n",
       "    }\n",
       "\n",
       "    .dataframe tbody tr th {\n",
       "        vertical-align: top;\n",
       "    }\n",
       "\n",
       "    .dataframe thead th {\n",
       "        text-align: right;\n",
       "    }\n",
       "</style>\n",
       "<table border=\"1\" class=\"dataframe\">\n",
       "  <thead>\n",
       "    <tr style=\"text-align: right;\">\n",
       "      <th></th>\n",
       "      <th>symbol</th>\n",
       "      <th>publishedDate</th>\n",
       "      <th>title</th>\n",
       "      <th>image</th>\n",
       "      <th>site</th>\n",
       "      <th>text</th>\n",
       "      <th>url</th>\n",
       "    </tr>\n",
       "  </thead>\n",
       "  <tbody>\n",
       "    <tr>\n",
       "      <th>0</th>\n",
       "      <td>AAL</td>\n",
       "      <td>2022-06-06 14:06:29</td>\n",
       "      <td>In The Partnership With JetBlue, Investors Sho...</td>\n",
       "      <td>https://cdn.snapi.dev/images/v1/q/g/image-6917...</td>\n",
       "      <td>Seeking Alpha</td>\n",
       "      <td>The U.S. airline industry is experiencing stro...</td>\n",
       "      <td>https://seekingalpha.com/article/4516691-in-pa...</td>\n",
       "    </tr>\n",
       "    <tr>\n",
       "      <th>1</th>\n",
       "      <td>AAL</td>\n",
       "      <td>2022-06-03 18:01:04</td>\n",
       "      <td>American CEO says the airline has grounded 100...</td>\n",
       "      <td>https://cdn.snapi.dev/images/v1/6/2/62101889f0...</td>\n",
       "      <td>Business Insider</td>\n",
       "      <td>American is the latest carrier to take action ...</td>\n",
       "      <td>https://www.businessinsider.com/american-groun...</td>\n",
       "    </tr>\n",
       "    <tr>\n",
       "      <th>2</th>\n",
       "      <td>AAL</td>\n",
       "      <td>2022-06-03 17:33:35</td>\n",
       "      <td>Starbucks Shanghai stores reopen, American Air...</td>\n",
       "      <td>https://cdn.snapi.dev/images/v1/b/6/starbucks-...</td>\n",
       "      <td>Yahoo Finance</td>\n",
       "      <td>Yahoo Finance Live checks out several stocks t...</td>\n",
       "      <td>https://www.youtube.com/watch?v=wyo2MRzH7FU</td>\n",
       "    </tr>\n",
       "    <tr>\n",
       "      <th>3</th>\n",
       "      <td>AAL</td>\n",
       "      <td>2022-06-03 16:05:44</td>\n",
       "      <td>Why American Airlines Stock Was Diving Today</td>\n",
       "      <td>https://cdn.snapi.dev/images/v1/h/k/qjne2222-1...</td>\n",
       "      <td>The Motley Fool</td>\n",
       "      <td>An important cost item for the company will be...</td>\n",
       "      <td>https://www.fool.com/investing/2022/06/03/why-...</td>\n",
       "    </tr>\n",
       "    <tr>\n",
       "      <th>4</th>\n",
       "      <td>AAL</td>\n",
       "      <td>2022-06-03 14:49:02</td>\n",
       "      <td>American Airlines Raises Outlook, Falls On Fue...</td>\n",
       "      <td>https://cdn.snapi.dev/images/v1/n/v/social-131...</td>\n",
       "      <td>Benzinga</td>\n",
       "      <td>American Airlines Group, Inc (NASDAQ: AAL) was...</td>\n",
       "      <td>https://www.benzinga.com/trading-ideas/movers/...</td>\n",
       "    </tr>\n",
       "    <tr>\n",
       "      <th>...</th>\n",
       "      <td>...</td>\n",
       "      <td>...</td>\n",
       "      <td>...</td>\n",
       "      <td>...</td>\n",
       "      <td>...</td>\n",
       "      <td>...</td>\n",
       "      <td>...</td>\n",
       "    </tr>\n",
       "    <tr>\n",
       "      <th>244662</th>\n",
       "      <td>XEL</td>\n",
       "      <td>2019-04-25 14:58:08</td>\n",
       "      <td>Xcel Energy Inc. (XEL) CEO Ben Fowke on Q1 201...</td>\n",
       "      <td>https://cdn.snapi.dev/images/v1/7/q/transcript...</td>\n",
       "      <td>Seeking Alpha</td>\n",
       "      <td>Xcel Energy Inc. (XEL) CEO Ben Fowke on Q1 201...</td>\n",
       "      <td>https://seekingalpha.com/article/4256807-xcel-...</td>\n",
       "    </tr>\n",
       "    <tr>\n",
       "      <th>244663</th>\n",
       "      <td>XEL</td>\n",
       "      <td>2019-04-25 09:26:00</td>\n",
       "      <td>Xcel Energy's (XEL) Earnings Meet Estimates in...</td>\n",
       "      <td>https://cdn.snapi.dev/images/v1/f/k/utilities8...</td>\n",
       "      <td>Zacks Investment Research</td>\n",
       "      <td>New electric and natural gas rate drives Xcel ...</td>\n",
       "      <td>https://www.zacks.com/stock/news/399436/xcel-e...</td>\n",
       "    </tr>\n",
       "    <tr>\n",
       "      <th>244664</th>\n",
       "      <td>XEL</td>\n",
       "      <td>2019-04-25 08:29:00</td>\n",
       "      <td>Xcel Energy (XEL) Q1 Earnings Meet Estimates, ...</td>\n",
       "      <td>https://cdn.snapi.dev/images/v1/c/k/utilities6...</td>\n",
       "      <td>Zacks Investment Research</td>\n",
       "      <td>Higher revenues in all three segments boost Xc...</td>\n",
       "      <td>https://www.zacks.com/stock/news/399179/xcel-e...</td>\n",
       "    </tr>\n",
       "    <tr>\n",
       "      <th>244665</th>\n",
       "      <td>XEL</td>\n",
       "      <td>2019-04-22 08:30:00</td>\n",
       "      <td>Xcel Energy (XEL) to Post Q1 Earnings: What's ...</td>\n",
       "      <td>https://cdn.snapi.dev/images/v1/h/y/utilities4...</td>\n",
       "      <td>Zacks Investment Research</td>\n",
       "      <td>Positive impact of steel for fuel investment s...</td>\n",
       "      <td>https://www.zacks.com/stock/news/389861/xcel-e...</td>\n",
       "    </tr>\n",
       "    <tr>\n",
       "      <th>244666</th>\n",
       "      <td>XEL</td>\n",
       "      <td>2019-04-18 09:58:00</td>\n",
       "      <td>Xcel Energy to Take Over Wind Project Construc...</td>\n",
       "      <td>https://cdn.snapi.dev/images/v1/x/w/xwi2.jpg</td>\n",
       "      <td>Zacks Investment Research</td>\n",
       "      <td>Xcel Energy (XEL) to expand wind by developing...</td>\n",
       "      <td>https://www.zacks.com/stock/news/388343/xcel-e...</td>\n",
       "    </tr>\n",
       "  </tbody>\n",
       "</table>\n",
       "<p>244667 rows × 7 columns</p>\n",
       "</div>"
      ],
      "text/plain": [
       "       symbol        publishedDate  \\\n",
       "0         AAL  2022-06-06 14:06:29   \n",
       "1         AAL  2022-06-03 18:01:04   \n",
       "2         AAL  2022-06-03 17:33:35   \n",
       "3         AAL  2022-06-03 16:05:44   \n",
       "4         AAL  2022-06-03 14:49:02   \n",
       "...       ...                  ...   \n",
       "244662    XEL  2019-04-25 14:58:08   \n",
       "244663    XEL  2019-04-25 09:26:00   \n",
       "244664    XEL  2019-04-25 08:29:00   \n",
       "244665    XEL  2019-04-22 08:30:00   \n",
       "244666    XEL  2019-04-18 09:58:00   \n",
       "\n",
       "                                                    title  \\\n",
       "0       In The Partnership With JetBlue, Investors Sho...   \n",
       "1       American CEO says the airline has grounded 100...   \n",
       "2       Starbucks Shanghai stores reopen, American Air...   \n",
       "3            Why American Airlines Stock Was Diving Today   \n",
       "4       American Airlines Raises Outlook, Falls On Fue...   \n",
       "...                                                   ...   \n",
       "244662  Xcel Energy Inc. (XEL) CEO Ben Fowke on Q1 201...   \n",
       "244663  Xcel Energy's (XEL) Earnings Meet Estimates in...   \n",
       "244664  Xcel Energy (XEL) Q1 Earnings Meet Estimates, ...   \n",
       "244665  Xcel Energy (XEL) to Post Q1 Earnings: What's ...   \n",
       "244666  Xcel Energy to Take Over Wind Project Construc...   \n",
       "\n",
       "                                                    image  \\\n",
       "0       https://cdn.snapi.dev/images/v1/q/g/image-6917...   \n",
       "1       https://cdn.snapi.dev/images/v1/6/2/62101889f0...   \n",
       "2       https://cdn.snapi.dev/images/v1/b/6/starbucks-...   \n",
       "3       https://cdn.snapi.dev/images/v1/h/k/qjne2222-1...   \n",
       "4       https://cdn.snapi.dev/images/v1/n/v/social-131...   \n",
       "...                                                   ...   \n",
       "244662  https://cdn.snapi.dev/images/v1/7/q/transcript...   \n",
       "244663  https://cdn.snapi.dev/images/v1/f/k/utilities8...   \n",
       "244664  https://cdn.snapi.dev/images/v1/c/k/utilities6...   \n",
       "244665  https://cdn.snapi.dev/images/v1/h/y/utilities4...   \n",
       "244666       https://cdn.snapi.dev/images/v1/x/w/xwi2.jpg   \n",
       "\n",
       "                             site  \\\n",
       "0                   Seeking Alpha   \n",
       "1                Business Insider   \n",
       "2                   Yahoo Finance   \n",
       "3                 The Motley Fool   \n",
       "4                        Benzinga   \n",
       "...                           ...   \n",
       "244662              Seeking Alpha   \n",
       "244663  Zacks Investment Research   \n",
       "244664  Zacks Investment Research   \n",
       "244665  Zacks Investment Research   \n",
       "244666  Zacks Investment Research   \n",
       "\n",
       "                                                     text  \\\n",
       "0       The U.S. airline industry is experiencing stro...   \n",
       "1       American is the latest carrier to take action ...   \n",
       "2       Yahoo Finance Live checks out several stocks t...   \n",
       "3       An important cost item for the company will be...   \n",
       "4       American Airlines Group, Inc (NASDAQ: AAL) was...   \n",
       "...                                                   ...   \n",
       "244662  Xcel Energy Inc. (XEL) CEO Ben Fowke on Q1 201...   \n",
       "244663  New electric and natural gas rate drives Xcel ...   \n",
       "244664  Higher revenues in all three segments boost Xc...   \n",
       "244665  Positive impact of steel for fuel investment s...   \n",
       "244666  Xcel Energy (XEL) to expand wind by developing...   \n",
       "\n",
       "                                                      url  \n",
       "0       https://seekingalpha.com/article/4516691-in-pa...  \n",
       "1       https://www.businessinsider.com/american-groun...  \n",
       "2             https://www.youtube.com/watch?v=wyo2MRzH7FU  \n",
       "3       https://www.fool.com/investing/2022/06/03/why-...  \n",
       "4       https://www.benzinga.com/trading-ideas/movers/...  \n",
       "...                                                   ...  \n",
       "244662  https://seekingalpha.com/article/4256807-xcel-...  \n",
       "244663  https://www.zacks.com/stock/news/399436/xcel-e...  \n",
       "244664  https://www.zacks.com/stock/news/399179/xcel-e...  \n",
       "244665  https://www.zacks.com/stock/news/389861/xcel-e...  \n",
       "244666  https://www.zacks.com/stock/news/388343/xcel-e...  \n",
       "\n",
       "[244667 rows x 7 columns]"
      ]
     },
     "execution_count": 26,
     "metadata": {},
     "output_type": "execute_result"
    }
   ],
   "source": [
    "all"
   ]
  },
  {
   "cell_type": "code",
   "execution_count": 27,
   "metadata": {},
   "outputs": [],
   "source": [
    "all.to_csv(\"dataset.csv\")"
   ]
  },
  {
   "cell_type": "code",
   "execution_count": 28,
   "metadata": {},
   "outputs": [
    {
     "data": {
      "text/plain": [
       "80"
      ]
     },
     "execution_count": 28,
     "metadata": {},
     "output_type": "execute_result"
    }
   ],
   "source": [
    "all.symbol.nunique()"
   ]
  },
  {
   "cell_type": "code",
   "execution_count": 34,
   "metadata": {},
   "outputs": [],
   "source": [
    "all.groupby(\"symbol\").publishedDate.min().to_csv(\"last_date.csv\")"
   ]
  },
  {
   "cell_type": "code",
   "execution_count": 32,
   "metadata": {},
   "outputs": [
    {
     "data": {
      "text/html": [
       "<div>\n",
       "<style scoped>\n",
       "    .dataframe tbody tr th:only-of-type {\n",
       "        vertical-align: middle;\n",
       "    }\n",
       "\n",
       "    .dataframe tbody tr th {\n",
       "        vertical-align: top;\n",
       "    }\n",
       "\n",
       "    .dataframe thead th {\n",
       "        text-align: right;\n",
       "    }\n",
       "</style>\n",
       "<table border=\"1\" class=\"dataframe\">\n",
       "  <thead>\n",
       "    <tr style=\"text-align: right;\">\n",
       "      <th></th>\n",
       "      <th>symbol</th>\n",
       "      <th>publishedDate</th>\n",
       "      <th>title</th>\n",
       "      <th>image</th>\n",
       "      <th>site</th>\n",
       "      <th>text</th>\n",
       "      <th>url</th>\n",
       "    </tr>\n",
       "  </thead>\n",
       "  <tbody>\n",
       "    <tr>\n",
       "      <th>0</th>\n",
       "      <td>AAL</td>\n",
       "      <td>2022-06-06 14:06:29</td>\n",
       "      <td>In The Partnership With JetBlue, Investors Sho...</td>\n",
       "      <td>https://cdn.snapi.dev/images/v1/q/g/image-6917...</td>\n",
       "      <td>Seeking Alpha</td>\n",
       "      <td>The U.S. airline industry is experiencing stro...</td>\n",
       "      <td>https://seekingalpha.com/article/4516691-in-pa...</td>\n",
       "    </tr>\n",
       "    <tr>\n",
       "      <th>1</th>\n",
       "      <td>AAL</td>\n",
       "      <td>2022-06-03 18:01:04</td>\n",
       "      <td>American CEO says the airline has grounded 100...</td>\n",
       "      <td>https://cdn.snapi.dev/images/v1/6/2/62101889f0...</td>\n",
       "      <td>Business Insider</td>\n",
       "      <td>American is the latest carrier to take action ...</td>\n",
       "      <td>https://www.businessinsider.com/american-groun...</td>\n",
       "    </tr>\n",
       "  </tbody>\n",
       "</table>\n",
       "</div>"
      ],
      "text/plain": [
       "  symbol        publishedDate  \\\n",
       "0    AAL  2022-06-06 14:06:29   \n",
       "1    AAL  2022-06-03 18:01:04   \n",
       "\n",
       "                                               title  \\\n",
       "0  In The Partnership With JetBlue, Investors Sho...   \n",
       "1  American CEO says the airline has grounded 100...   \n",
       "\n",
       "                                               image              site  \\\n",
       "0  https://cdn.snapi.dev/images/v1/q/g/image-6917...     Seeking Alpha   \n",
       "1  https://cdn.snapi.dev/images/v1/6/2/62101889f0...  Business Insider   \n",
       "\n",
       "                                                text  \\\n",
       "0  The U.S. airline industry is experiencing stro...   \n",
       "1  American is the latest carrier to take action ...   \n",
       "\n",
       "                                                 url  \n",
       "0  https://seekingalpha.com/article/4516691-in-pa...  \n",
       "1  https://www.businessinsider.com/american-groun...  "
      ]
     },
     "execution_count": 32,
     "metadata": {},
     "output_type": "execute_result"
    }
   ],
   "source": [
    "all.head(2)"
   ]
  },
  {
   "cell_type": "code",
   "execution_count": 13,
   "metadata": {},
   "outputs": [
    {
     "data": {
      "text/plain": [
       "'https://www.youtube.com/watch?v=IL91F3dTpRs&t=124s'"
      ]
     },
     "execution_count": 13,
     "metadata": {},
     "output_type": "execute_result"
    }
   ],
   "source": [
    "res.url[0]"
   ]
  }
 ],
 "metadata": {
  "kernelspec": {
   "display_name": "finrl",
   "language": "python",
   "name": "python3"
  },
  "language_info": {
   "codemirror_mode": {
    "name": "ipython",
    "version": 3
   },
   "file_extension": ".py",
   "mimetype": "text/x-python",
   "name": "python",
   "nbconvert_exporter": "python",
   "pygments_lexer": "ipython3",
   "version": "3.7.12"
  },
  "orig_nbformat": 4
 },
 "nbformat": 4,
 "nbformat_minor": 2
}
