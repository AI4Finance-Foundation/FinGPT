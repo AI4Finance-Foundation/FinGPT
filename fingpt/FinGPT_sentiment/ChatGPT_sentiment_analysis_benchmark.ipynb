{
 "cells": [
  {
   "cell_type": "code",
   "execution_count": 4,
   "id": "734ab037",
   "metadata": {},
   "outputs": [],
   "source": [
    "# import pkg_resources\n",
    "# import pip\n",
    "# installedPackages = {pkg.key for pkg in pkg_resources.working_set}\n",
    "# required = { 'openai','datasets', 'sklearn', 'tqdm'}\n",
    "# missing = required - installedPackages\n",
    "# if missing:\n",
    "#     !pip install openai\n",
    "#     !pip install datasets\n",
    "#     !pip install scikit-learn\n",
    "#     !pip install tqdm\n"
   ]
  },
  {
   "cell_type": "code",
   "execution_count": 5,
   "id": "85fc3896",
   "metadata": {},
   "outputs": [],
   "source": [
    "import warnings\n",
    "warnings.filterwarnings('ignore')"
   ]
  },
  {
   "cell_type": "code",
   "execution_count": 6,
   "id": "d6f2f32e",
   "metadata": {},
   "outputs": [],
   "source": [
    "import openai\n",
    "from datasets import load_dataset\n",
    "from sklearn.metrics import accuracy_score, f1_score,confusion_matrix\n",
    "from tqdm import tqdm\n"
   ]
  },
  {
   "cell_type": "code",
   "execution_count": null,
   "id": "9c3cadd0",
   "metadata": {},
   "outputs": [],
   "source": [
    "#set your OpenAI API key\n",
    "openai.api_key='your api key'"
   ]
  },
  {
   "cell_type": "code",
   "execution_count": 7,
   "id": "057d076a",
   "metadata": {},
   "outputs": [],
   "source": []
  },
  {
   "cell_type": "code",
   "execution_count": 8,
   "id": "fa210088",
   "metadata": {},
   "outputs": [],
   "source": [
    "#load dataset and add prompt\n",
    "def get_dataset(n_limit=0):\n",
    "    dataset=load_dataset('financial_phrasebank','sentences_50agree')\n",
    "    if n_limit>0:\n",
    "        dataset['train']=dataset['train'][:n_limit]\n",
    "    print(\"size of dataset: \", len( dataset['train']['sentence']))\n",
    "    text_inputs = dataset['train']['sentence']\n",
    "    process_inputs=[\n",
    "        f\"Human: Determine the sentiment of the financial news as negative, neutral or positive: {text_inputs[i]} Assistant: \"\n",
    "        for i in range(len(text_inputs))]\n",
    "    labels=dataset['train']['label']\n",
    "    return process_inputs, labels    "
   ]
  },
  {
   "cell_type": "code",
   "execution_count": null,
   "id": "75b6e93f",
   "metadata": {},
   "outputs": [],
   "source": []
  }
 ],
 "metadata": {
  "kernelspec": {
   "display_name": "Python 3 (ipykernel)",
   "language": "python",
   "name": "python3"
  },
  "language_info": {
   "codemirror_mode": {
    "name": "ipython",
    "version": 3
   },
   "file_extension": ".py",
   "mimetype": "text/x-python",
   "name": "python",
   "nbconvert_exporter": "python",
   "pygments_lexer": "ipython3",
   "version": "3.10.9"
  }
 },
 "nbformat": 4,
 "nbformat_minor": 5
}
