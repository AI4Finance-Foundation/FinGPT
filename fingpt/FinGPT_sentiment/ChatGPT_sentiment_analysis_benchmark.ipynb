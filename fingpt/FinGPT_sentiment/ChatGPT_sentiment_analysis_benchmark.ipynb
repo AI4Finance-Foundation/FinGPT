{
 "cells": [
  {
   "cell_type": "code",
   "execution_count": 4,
   "id": "b9b73f4a",
   "metadata": {},
   "outputs": [],
   "source": [
    "# import pkg_resources\n",
    "# import pip\n",
    "# installedPackages = {pkg.key for pkg in pkg_resources.working_set}\n",
    "# required = { 'openai','datasets', 'sklearn', 'tqdm'}\n",
    "# missing = required - installedPackages\n",
    "# if missing:\n",
    "#     !pip install openai\n",
    "#     !pip install datasets\n",
    "#     !pip install scikit-learn\n",
    "#     !pip install tqdm\n"
   ]
  },
  {
   "cell_type": "code",
   "execution_count": 5,
   "id": "eda9905a",
   "metadata": {},
   "outputs": [],
   "source": [
    "import warnings\n",
    "warnings.filterwarnings('ignore')"
   ]
  },
  {
   "cell_type": "code",
   "execution_count": 6,
   "id": "39b452e1",
   "metadata": {},
   "outputs": [],
   "source": [
    "import openai\n",
    "from datasets import load_dataset\n",
    "from sklearn.metrics import accuracy_score, f1_score,confusion_matrix\n",
    "from tqdm import tqdm\n"
   ]
  },
  {
   "cell_type": "code",
   "execution_count": null,
   "id": "dca22c73",
   "metadata": {},
   "outputs": [],
   "source": [
    "#set your OpenAI API key\n",
    "openai.api_key='your api key'"
   ]
  },
  {
   "cell_type": "code",
   "execution_count": 9,
   "id": "6c3427fd",
   "metadata": {},
   "outputs": [],
   "source": []
  },
  {
   "cell_type": "code",
   "execution_count": 8,
   "id": "566e9dca",
   "metadata": {},
   "outputs": [],
   "source": [
    "#load dataset and add prompt\n",
    "def get_dataset(n_limit=0):\n",
    "    dataset=load_dataset('financial_phrasebank','sentences_50agree')\n",
    "    if n_limit>0:\n",
    "        dataset['train']=dataset['train'][:n_limit]\n",
    "    print(\"size of dataset: \", len( dataset['train']['sentence']))\n",
    "    text_inputs = dataset['train']['sentence']\n",
    "    process_inputs=[\n",
    "        f\"Human: Determine the sentiment of the financial news as negative, neutral or positive: {text_inputs[i]} Assistant: \"\n",
    "        for i in range(len(text_inputs))]\n",
    "    labels=dataset['train']['label']\n",
    "    return process_inputs, labels    "
   ]
  },
  {
   "cell_type": "code",
   "execution_count": 10,
   "id": "4c0f2fc6",
   "metadata": {},
   "outputs": [],
   "source": [
    "#ChatGPT API\n",
    "def chat_with_gpt(prompt):\n",
    "    response=openai.ChatCompletion.create(\n",
    "        model='gpt-3.5-turbo',\n",
    "        messages=[\n",
    "            {\"role\":\"system\", \"content\":\"Hello\"},\n",
    "            {\"role\": \"user\",\"content\":prompt}\n",
    "        ]\n",
    "    )\n",
    "    return response.choices[0].message.content.strip()"
   ]
  },
  {
   "cell_type": "code",
   "execution_count": null,
   "id": "4726f043",
   "metadata": {},
   "outputs": [],
   "source": []
  }
 ],
 "metadata": {
  "kernelspec": {
   "display_name": "Python 3 (ipykernel)",
   "language": "python",
   "name": "python3"
  },
  "language_info": {
   "codemirror_mode": {
    "name": "ipython",
    "version": 3
   },
   "file_extension": ".py",
   "mimetype": "text/x-python",
   "name": "python",
   "nbconvert_exporter": "python",
   "pygments_lexer": "ipython3",
   "version": "3.10.9"
  }
 },
 "nbformat": 4,
 "nbformat_minor": 5
}
