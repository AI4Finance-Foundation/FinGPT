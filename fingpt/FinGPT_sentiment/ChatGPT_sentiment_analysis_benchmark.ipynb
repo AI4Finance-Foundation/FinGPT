{
 "cells": [
  {
   "cell_type": "code",
   "execution_count": 4,
   "id": "47010d1a",
   "metadata": {},
   "outputs": [],
   "source": [
    "# import pkg_resources\n",
    "# import pip\n",
    "# installedPackages = {pkg.key for pkg in pkg_resources.working_set}\n",
    "# required = { 'openai','datasets', 'sklearn', 'tqdm'}\n",
    "# missing = required - installedPackages\n",
    "# if missing:\n",
    "#     !pip install openai\n",
    "#     !pip install datasets\n",
    "#     !pip install scikit-learn\n",
    "#     !pip install tqdm\n"
   ]
  },
  {
   "cell_type": "code",
   "execution_count": 5,
   "id": "67d98857",
   "metadata": {},
   "outputs": [],
   "source": [
    "import warnings\n",
    "warnings.filterwarnings('ignore')"
   ]
  },
  {
   "cell_type": "code",
   "execution_count": 6,
   "id": "3485f34e",
   "metadata": {},
   "outputs": [],
   "source": [
    "import openai\n",
    "from datasets import load_dataset\n",
    "from sklearn.metrics import accuracy_score, f1_score,confusion_matrix\n",
    "from tqdm import tqdm\n"
   ]
  },
  {
   "cell_type": "code",
   "execution_count": null,
   "id": "6c593d8e",
   "metadata": {},
   "outputs": [],
   "source": [
    "#set your OpenAI API key\n",
    "openai.api_key='your api key'"
   ]
  },
  {
   "cell_type": "code",
   "execution_count": null,
   "id": "ac14274a",
   "metadata": {},
   "outputs": [],
   "source": []
  }
 ],
 "metadata": {
  "kernelspec": {
   "display_name": "Python 3 (ipykernel)",
   "language": "python",
   "name": "python3"
  },
  "language_info": {
   "codemirror_mode": {
    "name": "ipython",
    "version": 3
   },
   "file_extension": ".py",
   "mimetype": "text/x-python",
   "name": "python",
   "nbconvert_exporter": "python",
   "pygments_lexer": "ipython3",
   "version": "3.10.9"
  }
 },
 "nbformat": 4,
 "nbformat_minor": 5
}
