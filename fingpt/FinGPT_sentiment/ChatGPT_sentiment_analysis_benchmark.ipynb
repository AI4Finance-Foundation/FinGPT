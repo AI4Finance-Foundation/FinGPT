{
 "cells": [
  {
   "cell_type": "code",
   "execution_count": 4,
   "id": "a44fb4e5",
   "metadata": {},
   "outputs": [],
   "source": [
    "# import pkg_resources\n",
    "# import pip\n",
    "# installedPackages = {pkg.key for pkg in pkg_resources.working_set}\n",
    "# required = { 'openai','datasets', 'sklearn', 'tqdm'}\n",
    "# missing = required - installedPackages\n",
    "# if missing:\n",
    "#     !pip install openai\n",
    "#     !pip install datasets\n",
    "#     !pip install scikit-learn\n",
    "#     !pip install tqdm\n"
   ]
  },
  {
   "cell_type": "code",
   "execution_count": 5,
   "id": "320cd557",
   "metadata": {},
   "outputs": [],
   "source": [
    "import warnings\n",
    "warnings.filterwarnings('ignore')"
   ]
  },
  {
   "cell_type": "code",
   "execution_count": 6,
   "id": "e9d34823",
   "metadata": {},
   "outputs": [],
   "source": [
    "import openai\n",
    "from datasets import load_dataset\n",
    "from sklearn.metrics import accuracy_score, f1_score,confusion_matrix\n",
    "from tqdm import tqdm\n"
   ]
  },
  {
   "cell_type": "code",
   "execution_count": null,
   "id": "b241b755",
   "metadata": {},
   "outputs": [],
   "source": []
  }
 ],
 "metadata": {
  "kernelspec": {
   "display_name": "Python 3 (ipykernel)",
   "language": "python",
   "name": "python3"
  },
  "language_info": {
   "codemirror_mode": {
    "name": "ipython",
    "version": 3
   },
   "file_extension": ".py",
   "mimetype": "text/x-python",
   "name": "python",
   "nbconvert_exporter": "python",
   "pygments_lexer": "ipython3",
   "version": "3.10.9"
  }
 },
 "nbformat": 4,
 "nbformat_minor": 5
}
