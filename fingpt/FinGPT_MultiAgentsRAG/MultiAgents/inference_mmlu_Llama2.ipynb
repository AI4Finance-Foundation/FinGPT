{
  "cells": [
    {
      "cell_type": "code",
      "execution_count": 1,
      "metadata": {
        "colab": {
          "base_uri": "https://localhost:8080/"
        },
        "id": "-IHGu_f3A_Xl",
        "outputId": "3976ee4d-f3f5-4151-da9d-018da166c21b"
      },
      "outputs": [
        {
          "output_type": "stream",
          "name": "stdout",
          "text": [
            "Mounted at /content/drive\n"
          ]
        }
      ],
      "source": [
        "# connect to google drive\n",
        "from google.colab import drive\n",
        "drive.mount('/content/drive')"
      ]
    },
    {
      "cell_type": "markdown",
      "metadata": {
        "id": "lmKRag_UBMBR"
      },
      "source": [
        "# Install Necessary Packages"
      ]
    },
    {
      "cell_type": "code",
      "source": [
        "!git clone https://github.com/FlagOpen/FlagEmbedding.git\n",
        "!pip install -e ."
      ],
      "metadata": {
        "colab": {
          "base_uri": "https://localhost:8080/"
        },
        "id": "cluADcYmkzm6",
        "outputId": "f2d4401e-a692-4a49-bfd9-003e27f3470e"
      },
      "execution_count": 2,
      "outputs": [
        {
          "output_type": "stream",
          "name": "stdout",
          "text": [
            "Cloning into 'FlagEmbedding'...\n",
            "remote: Enumerating objects: 1631, done.\u001b[K\n",
            "remote: Counting objects: 100% (514/514), done.\u001b[K\n",
            "remote: Compressing objects: 100% (229/229), done.\u001b[K\n",
            "remote: Total 1631 (delta 333), reused 430 (delta 285), pack-reused 1117\u001b[K\n",
            "Receiving objects: 100% (1631/1631), 5.80 MiB | 26.05 MiB/s, done.\n",
            "Resolving deltas: 100% (961/961), done.\n",
            "Obtaining file:///content\n",
            "\u001b[31mERROR: file:///content does not appear to be a Python project: neither 'setup.py' nor 'pyproject.toml' found.\u001b[0m\u001b[31m\n",
            "\u001b[0m"
          ]
        }
      ]
    },
    {
      "cell_type": "code",
      "execution_count": null,
      "metadata": {
        "id": "ckj6S0SyIKYy"
      },
      "outputs": [],
      "source": [
        "!pip install huggingface_hub\n",
        "!pip install datasets\n",
        "!pip install transformers\n",
        "!pip install loguru -qU\n",
        "!pip install tokenizers\n",
        "!pip install langchain -qU\n",
        "!pip install bitsandbytes -qU\n",
        "!pip install accelerate==0.21.0\n",
        "!pip install peft==0.4.0\n",
        "!pip install trl==0.4.7\n",
        "!pip install guardrail-ml==0.0.12\n",
        "!pip install flash-attn --no-build-isolation\n",
        "!pip install -U FlagEmbedding"
      ]
    },
    {
      "cell_type": "code",
      "source": [
        "class PromptTemplate:\n",
        "      system_prompt = None\n",
        "\n",
        "\n",
        "      def __init__(self, system_prompt=None):\n",
        "          self.system_prompt = system_prompt\n",
        "          self.user_messages = []\n",
        "          self.model_replies = []\n",
        "\n",
        "      def add_user_message(self, message: str, return_prompt=True):\n",
        "          self.user_messages.append(message)\n",
        "          if return_prompt:\n",
        "              return self.build_prompt()\n",
        "\n",
        "      def add_model_reply(self, reply: str, includes_history=True, return_reply=True):\n",
        "          reply_ = reply.replace(self.build_prompt(), \"\") if includes_history else reply\n",
        "          self.model_replies.append(reply_)\n",
        "          if len(self.user_messages) != len(self.model_replies):\n",
        "              raise ValueError(\n",
        "                  \"Number of user messages does not equal number of system replies.\"\n",
        "              )\n",
        "          if return_reply:\n",
        "              return reply_\n",
        "\n",
        "      def get_user_messages(self, strip=True):\n",
        "          return [x.strip() for x in self.user_messages] if strip else self.user_messages\n",
        "\n",
        "      def get_model_replies(self, strip=True):\n",
        "          return [x.strip() for x in self.model_replies] if strip else self.model_replies\n",
        "\n",
        "      def build_prompt(self):\n",
        "          if len(self.user_messages) != len(self.model_replies) + 1:\n",
        "              raise ValueError(\n",
        "                  \"Error: Expected len(user_messages) = len(model_replies) + 1. Add a new user message!\"\n",
        "              )\n",
        "\n",
        "          if self.system_prompt is not None:\n",
        "              SYS = f\"[INST] <<SYS>>\\n{self.system_prompt}\\n<</SYS>>\"\n",
        "          else:\n",
        "              SYS = \"\"\n",
        "\n",
        "          CONVO = \"\"\n",
        "          SYS = \"<s>\" + SYS\n",
        "          for i in range(len(self.user_messages) - 1):\n",
        "              user_message, model_reply = self.user_messages[i], self.model_replies[i]\n",
        "              conversation_ = f\"{user_message} [/INST] {model_reply} </s>\"\n",
        "              if i != 0:\n",
        "                  conversation_ = \"[INST] \" + conversation_\n",
        "              CONVO += conversation_\n",
        "\n",
        "          CONVO += f\"[INST] {self.user_messages[-1]} [/INST]\"\n",
        "\n",
        "          return SYS + CONVO"
      ],
      "metadata": {
        "id": "co7qOUaohj_m"
      },
      "execution_count": 4,
      "outputs": []
    },
    {
      "cell_type": "markdown",
      "metadata": {
        "id": "uTLTwidDBTW9"
      },
      "source": [
        "# Import Necessary Packages"
      ]
    },
    {
      "cell_type": "code",
      "execution_count": 5,
      "metadata": {
        "id": "4HNma0zBBZVi"
      },
      "outputs": [],
      "source": [
        "import os\n",
        "from glob import glob\n",
        "import pandas as pd\n",
        "import json\n",
        "import time\n",
        "import requests\n",
        "import random\n",
        "from loguru import logger\n",
        "import re\n",
        "#from huggingface_hub import HfApi, HfFolder"
      ]
    },
    {
      "cell_type": "code",
      "source": [
        "import torch\n",
        "import torch.nn as nn\n",
        "import torch.nn.functional as F\n",
        "import torch.optim as optim\n",
        "from torch.utils.data import Dataset, DataLoader\n",
        "import numpy as np\n"
      ],
      "metadata": {
        "id": "J_adAiUrHpi2"
      },
      "execution_count": 6,
      "outputs": []
    },
    {
      "cell_type": "code",
      "execution_count": 7,
      "metadata": {
        "id": "dpDvwV99H--G"
      },
      "outputs": [],
      "source": [
        "from transformers import(AutoTokenizer,\n",
        "                         AutoModelForMultipleChoice,\n",
        "                         AutoModelForCausalLM,\n",
        "                         AutoTokenizer,\n",
        "\n",
        "                         GenerationConfig,\n",
        "                         BitsAndBytesConfig,\n",
        "\n",
        "                         pipeline,\n",
        "                         Conversation,\n",
        "                         logging,\n",
        "                         )\n",
        "from datasets import load_dataset\n",
        "from tokenizers import Tokenizer\n",
        "\n",
        "import warnings\n",
        "warnings.filterwarnings(\"ignore\")\n"
      ]
    },
    {
      "cell_type": "markdown",
      "metadata": {
        "id": "cGurosW9sIqq"
      },
      "source": [
        "### HELPER FUNCTION for Multi-Agents Debate ###"
      ]
    },
    {
      "cell_type": "code",
      "execution_count": 21,
      "metadata": {
        "id": "c55kM8BPsHpz"
      },
      "outputs": [],
      "source": [
        "# this part is used to gen_mmlu\n",
        "\n",
        "def construct_message(agents, question, idx):\n",
        "    if len(agents) == 0:\n",
        "        return {\"role\": \"user\", \"content\": \"Can you double check that your answer is correct. Put your final answer in the form (X) at the end of your response.\"}\n",
        "\n",
        "    prefix_string = \"These are the solutions to the problem from other agents: \"\n",
        "\n",
        "    for agent in agents:\n",
        "        agent_response = agent[idx][\"content\"]\n",
        "        response = \"\\n\\n One agent solution: ```{}```\".format(agent_response)\n",
        "\n",
        "        prefix_string = prefix_string + response\n",
        "\n",
        "    prefix_string = prefix_string + \"\"\"\\n\\n Using the reasoning from other agents as additional advice, can you give an updated answer? Examine your solution and that other agents step by step. /n/n Here is the original question: {}. \"\"\".format(question)\n",
        "    return {\"role\": \"user\", \"content\": prefix_string}\n",
        "\n",
        "\n",
        "def construct_assistant_message(completion):\n",
        "    # just construct the assistant_message directly.\n",
        "\n",
        "    return {\"role\": \"assistant\", \"content\": completion}\n",
        "\n",
        "\n",
        "def generate_answer(answer_context):\n",
        "    \"\"\"\n",
        "    input: list of dict, answer_context\n",
        "    output: str, content\n",
        "    \"\"\"\n",
        "    try:\n",
        "        # Generate a prompt\n",
        "        messages = answer_context\n",
        "\n",
        "        tokenized_chat = tokenizer.apply_chat_template(messages, tokenize=True, add_generation_prompt=True, return_tensors=\"pt\")\n",
        "\n",
        "        # Generate a response\n",
        "        outputs = base_model.generate(\n",
        "                                tokenized_chat,\n",
        "                                max_new_tokens=400,\n",
        "                                max_time=90, # control the generation time\n",
        "\n",
        "                                do_sample = True,\n",
        "\n",
        "                                top_k = 50, # both top_k and top_p combined to help me control the quality of logit\n",
        "                                top_p = 0.9,\n",
        "\n",
        "                                temperature= 0.1,\n",
        "                                #num_return_sequences= 1, # control the num of returned sequence, to less the recall api time\n",
        "\n",
        "                                repetition_penalty= 1.5,\n",
        "                                )\n",
        "\n",
        "        # parse output_text\n",
        "        output_text = tokenizer.decode(outputs[0], skip_special_tokens=True)\n",
        "\n",
        "        # Removing the query content and everything before it\n",
        "        # Find the index where the query content ends in the output_text\n",
        "        end_idx_of_query = output_text.find(messages[0]['content']) + len(messages[0]['content'])\n",
        "        cleaned_output_text = output_text[end_idx_of_query:].strip()\n",
        "\n",
        "        # Further clean up if needed\n",
        "        pattern = r\"\\[.*?\\]|\\(.*?\\)|\\{.*?\\}\"\n",
        "        cleaned_output_text = re.sub(pattern, \"\", cleaned_output_text)\n",
        "    except:\n",
        "        print(\"retrying due to an error......\")\n",
        "        time.sleep(20)\n",
        "        return generate_answer(answer_context)\n",
        "\n",
        "    return  cleaned_output_text\n",
        "\n",
        "\n",
        "def parse_question_answer(df, ix):\n",
        "    question = df.iloc[ix, 0]\n",
        "    a = df.iloc[ix, 1]\n",
        "    b = df.iloc[ix, 2]\n",
        "    c = df.iloc[ix, 3]\n",
        "    d = df.iloc[ix, 4]\n",
        "\n",
        "    question = \"Can you answer the following question as accurately as possible? {}: /n/n A) {}, /n B) {}, /n C) {}, /n D) {}. /n Explain your answer, putting the answer in the form (X) at the end of your response.\".format(question, a, b, c, d)\n",
        "\n",
        "    answer = df.iloc[ix, 5]\n",
        "\n",
        "    return question, answer\n",
        "\n",
        "\n",
        "\n",
        "# an alternative way to implement generating the text answer\n",
        "def sample_model(prompt):\n",
        "    conversation_pipeline = pipeline(\n",
        "                                    'conversational',\n",
        "                                    model=model,\n",
        "                                    tokenizer=tokenizer,\n",
        "                                    max_new_tokens=300,\n",
        "                                    max_time=90, # control the generation time\n",
        "\n",
        "                                    do_sample = True,\n",
        "\n",
        "                                    top_k = 75, # both top_k and top_p combined to help me control the quality of logit\n",
        "                                    top_p = 0.9,\n",
        "\n",
        "                                    temperature= 0.9,\n",
        "                                    #num_return_sequences= 1, # control the num of returned sequence, to less the recall api time\n",
        "\n",
        "                                    repetition_penalty= 1.2,\n",
        "                                    eos_token_id= tokenizer.eos_token_id,\n",
        "                                    pad_token_id= tokenizer.eos_token_id,\n",
        "                                    bos_token_id= tokenizer.eos_token_id,\n",
        "                                    )\n",
        "    conversation = Conversation(prompt)\n",
        "    conversation_pipeline([conversation])\n",
        "    return conversation.generated_responses[-1]\n",
        "\n",
        "\n",
        "# Helper function for printing docs\n",
        "\n",
        "def pretty_print_docs(docs):\n",
        "    print(f\"\\n{'-' * 100}\\n\".join([f\"Document {i+1}:\\n\\n\" + d.page_content for i, d in enumerate(docs)]))\n",
        "\n"
      ]
    },
    {
      "cell_type": "markdown",
      "metadata": {
        "id": "XnQ4dGcIDVCH"
      },
      "source": [
        "# 1. Set up the model"
      ]
    },
    {
      "cell_type": "code",
      "execution_count": null,
      "metadata": {
        "id": "B1brHjJGwAkP"
      },
      "outputs": [],
      "source": [
        "\n",
        "#base_model_path = '/content/drive/MyDrive/Hallucination/Llama2_7b_base/Llama2_7b_Finance_FT_3/Llama2-7b_Finance_FT_3_with_lora'\n",
        "base_model_path = 'NousResearch/Llama-2-7b-hf'\n",
        "\n",
        "\n",
        "# Load the tokenizer\n",
        "tokenizer = AutoTokenizer.from_pretrained('NousResearch/Llama-2-7b-hf',\n",
        "                                          use_fast=True,\n",
        "                                          #chat_template = set_template\n",
        "                                          )\n",
        "\n",
        "\n",
        "# Load the trained model\n",
        "base_model = AutoModelForCausalLM.from_pretrained(base_model_path,\n",
        "                                             #quantization_config=bnb_config,\n",
        "                                             trust_remote_code=True,\n",
        "                                             load_in_8bit=True,\n",
        "                                             device_map=\"auto\",\n",
        "                                             #use_flash_attention_2=True,\n",
        "                                             )\n",
        "\n",
        "base_model.config.use_cache = False # Because, we just take the performance of single turn into consideration,\n",
        "\n",
        "#model.push_to_hub(\"Llama2-7b_Finance_lora_3\")\n",
        "\n",
        "# If you're using a GPU, move the model to GPU\n",
        "device = 'cuda' if torch.cuda.is_available() else 'cpu'\n",
        "\n",
        "#base_llm = model#.to(device) # int8,int can not put into .to()\n"
      ]
    },
    {
      "cell_type": "code",
      "source": [
        "# Print the BOS and EOS tokens\n",
        "print(\"BOS Token:\", tokenizer.bos_token)\n",
        "print(\"EOS Token:\", tokenizer.eos_token)\n",
        "print(\"PAD Token:\", tokenizer.pad_token)\n",
        "print(\"SEP Token:\", tokenizer.sep_token)\n",
        "print(\"MASK Token:\", tokenizer.mask_token)"
      ],
      "metadata": {
        "colab": {
          "base_uri": "https://localhost:8080/"
        },
        "id": "AkYIVI0qG9sf",
        "outputId": "3d030dd1-4473-49cf-a4b6-c2d877149a6c"
      },
      "execution_count": 11,
      "outputs": [
        {
          "output_type": "stream",
          "name": "stderr",
          "text": [
            "Using sep_token, but it is not set yet.\n",
            "Using mask_token, but it is not set yet.\n"
          ]
        },
        {
          "output_type": "stream",
          "name": "stdout",
          "text": [
            "BOS Token: <s>\n",
            "EOS Token: </s>\n",
            "PAD Token: <unk>\n",
            "SEP Token: None\n",
            "MASK Token: None\n"
          ]
        }
      ]
    },
    {
      "cell_type": "code",
      "source": [
        "print(\"BOS Token id:\", tokenizer.bos_token_id)\n",
        "print(\"EOS Token id:\", tokenizer.eos_token_id)\n",
        "print(\"PAD Token id:\", tokenizer.pad_token_id)\n",
        "print(\"SEP Token id:\", tokenizer.sep_token_id)\n",
        "print(\"MASK Token id:\", tokenizer.mask_token_id)"
      ],
      "metadata": {
        "colab": {
          "base_uri": "https://localhost:8080/"
        },
        "id": "DSSZHKakJqXa",
        "outputId": "0cd1d844-2322-4885-9f15-a8a238c96f59"
      },
      "execution_count": 12,
      "outputs": [
        {
          "output_type": "stream",
          "name": "stdout",
          "text": [
            "BOS Token id: 1\n",
            "EOS Token id: 2\n",
            "PAD Token id: 0\n",
            "SEP Token id: None\n",
            "MASK Token id: None\n"
          ]
        }
      ]
    },
    {
      "cell_type": "code",
      "source": [
        "tokenizer.default_chat_template"
      ],
      "metadata": {
        "colab": {
          "base_uri": "https://localhost:8080/",
          "height": 140
        },
        "id": "RzRC-731h7aZ",
        "outputId": "5eff4251-ebbf-4158-ef34-c621d9a97b1e"
      },
      "execution_count": 13,
      "outputs": [
        {
          "output_type": "execute_result",
          "data": {
            "text/plain": [
              "\"{% if messages[0]['role'] == 'system' %}{% set loop_messages = messages[1:] %}{% set system_message = messages[0]['content'] %}{% elif true == true and not '<<SYS>>' in messages[0]['content'] %}{% set loop_messages = messages %}{% set system_message = 'You are a helpful, respectful and honest assistant. Always answer as helpfully as possible, while being safe. Your answers should not include any harmful, unethical, racist, sexist, toxic, dangerous, or illegal content. Please ensure that your responses are socially unbiased and positive in nature.\\\\n\\\\nIf a question does not make any sense, or is not factually coherent, explain why instead of answering something not correct. If you don\\\\'t know the answer to a question, please don\\\\'t share false information.' %}{% else %}{% set loop_messages = messages %}{% set system_message = false %}{% endif %}{% for message in loop_messages %}{% if (message['role'] == 'user') != (loop.index0 % 2 == 0) %}{{ raise_exception('Conversation roles must alternate user/assistant/user/assistant/...') }}{% endif %}{% if loop.index0 == 0 and system_message != false %}{% set content = '<<SYS>>\\\\n' + system_message + '\\\\n<</SYS>>\\\\n\\\\n' + message['content'] %}{% else %}{% set content = message['content'] %}{% endif %}{% if message['role'] == 'user' %}{{ bos_token + '[INST] ' + content.strip() + ' [/INST]' }}{% elif message['role'] == 'system' %}{{ '<<SYS>>\\\\n' + content.strip() + '\\\\n<</SYS>>\\\\n\\\\n' }}{% elif message['role'] == 'assistant' %}{{ ' '  + content.strip() + ' ' + eos_token }}{% endif %}{% endfor %}\""
            ],
            "application/vnd.google.colaboratory.intrinsic+json": {
              "type": "string"
            }
          },
          "metadata": {},
          "execution_count": 13
        }
      ]
    },
    {
      "cell_type": "markdown",
      "metadata": {
        "id": "ju5tPqDIDa4i"
      },
      "source": [
        "# 2. Retrieval Augmention Generation(RAG)"
      ]
    },
    {
      "cell_type": "code",
      "execution_count": null,
      "metadata": {
        "id": "LUCsdyKsD6Ce"
      },
      "outputs": [],
      "source": [
        "!pip install yfinance\n",
        "!pip install wikipedia\n",
        "!pip install faiss-GPU"
      ]
    },
    {
      "cell_type": "code",
      "execution_count": 11,
      "metadata": {
        "id": "vfJFPMJQkAGA"
      },
      "outputs": [],
      "source": [
        "from langchain.agents import AgentType, initialize_agent\n",
        "\n",
        "\n",
        "#tools\n",
        "from langchain.tools.yahoo_finance_news import YahooFinanceNewsTool\n",
        "\n",
        "#retrievers\n",
        "from langchain.retrievers import WikipediaRetriever\n",
        "\n",
        "from langchain.retrievers import ContextualCompressionRetriever\n",
        "from langchain.retrievers.document_compressors import LLMChainExtractor\n",
        "\n",
        "from langchain.retrievers.document_compressors import EmbeddingsFilter\n",
        "\n",
        "from FlagEmbedding import (FlagReranker, FlagModel, LLMEmbedder)\n",
        "\n"
      ]
    },
    {
      "cell_type": "markdown",
      "metadata": {
        "id": "XCNNeNKf5UVg"
      },
      "source": [
        "# 2.1 tools \\[   YahooFinanceNewsTool,\\]"
      ]
    },
    {
      "cell_type": "code",
      "execution_count": 12,
      "metadata": {
        "id": "CNacgxXakAIZ"
      },
      "outputs": [],
      "source": [
        "# this tool-- YahooFinanceNewsTool only be used for financial test\n",
        "tools = [YahooFinanceNewsTool()]"
      ]
    },
    {
      "cell_type": "markdown",
      "metadata": {
        "id": "vJOdQnmHN-Hm"
      },
      "source": [
        "# 2.2 wikipedia_retirevers as a import documents source"
      ]
    },
    {
      "cell_type": "code",
      "execution_count": 13,
      "metadata": {
        "id": "YZ7ONlJ6kAM9"
      },
      "outputs": [],
      "source": [
        "# because we are dealing with MMLU problem, which is discrimination evaluation, so wikipediaretriever\n",
        "wiki_retriever = WikipediaRetriever()"
      ]
    },
    {
      "cell_type": "code",
      "source": [
        "query_wiki = 'kobe bryant'"
      ],
      "metadata": {
        "id": "8eMBipLa0vib"
      },
      "execution_count": 14,
      "outputs": []
    },
    {
      "cell_type": "code",
      "source": [
        "documents = wiki_retriever.get_relevant_documents(query = query_wiki)\n",
        "documents"
      ],
      "metadata": {
        "colab": {
          "base_uri": "https://localhost:8080/"
        },
        "id": "pfhD_NFS0MrE",
        "outputId": "0c88e2bf-9e85-4e1e-f329-2fb86117fa56"
      },
      "execution_count": 16,
      "outputs": [
        {
          "output_type": "execute_result",
          "data": {
            "text/plain": [
              "[Document(page_content='Kobe Bean Bryant ( KOH-bee; August 23, 1978 – January 26, 2020) was an American professional basketball player. A shooting guard, he spent his entire 20-year career with the Los Angeles Lakers in the National Basketball Association (NBA). Widely regarded as one of the greatest players in the history of the sport, Bryant won five NBA championships and was an 18-time All-Star, a 15-time member of the All-NBA Team, a 12-time member of the All-Defensive Team, the 2008 NBA Most Valuable Player (MVP), and a two-time NBA Finals MVP. Bryant also led the NBA in scoring twice and ranks fourth in league all-time regular season and postseason scoring. He was posthumously voted into the Naismith Memorial Basketball Hall of Fame in 2020 and named to the NBA 75th Anniversary Team in 2021.\\nThe son of former NBA player Joe Bryant, he was born in Philadelphia and partly raised in Italy. Recognized as the top American high-school basketball player while at Philadelphia suburb Lower Merion, Bryant declared for the 1996 NBA draft and was selected by the Charlotte Hornets with the 13th overall pick; he was then traded to the Lakers. As a rookie, Bryant earned a reputation as a high-flyer by winning the 1997 Slam Dunk Contest and was named an All-Star by his second season. Despite a feud with teammate Shaquille O\\'Neal, the pair led the Lakers to three consecutive NBA championships from 2000 to 2002.\\nIn 2003, Bryant was charged with sexual assault, with the alleged victim being a 19-year-old hotel employee. Criminal charges were later dropped after the accuser refused to testify, and a lawsuit was settled out of court, with Bryant issuing a public apology and admitting to a sexual encounter he maintained was consensual. The accusation briefly tarnished Bryant\\'s reputation, resulting in the loss of several of his endorsement contracts.After the Lakers lost the 2004 NBA Finals, O\\'Neal was traded and Bryant became the cornerstone of the franchise. He led the NBA in scoring in the 2005–06 and 2006–07 seasons and was named league MVP in 2008. On January 22, 2006, he scored a career-high 81 points, the second most points scored in a single NBA game behind Wilt Chamberlain\\'s 100-point game. Bryant led the team to consecutive championships in 2009 and 2010, being named NBA Finals MVP on both occasions. He continued to be among the premier players in the league through the 2012–13 season when he suffered a torn achilles tendon at age 34. His next two seasons were cut short by injuries to his knee and shoulder, respectively. Citing physical decline, Bryant retired after the 2015–16 season. In 2017, the Lakers retired both his Nos. 8 and 24, making him the only player in NBA history to have multiple numbers retired by the same franchise.\\nThe all-time leading scorer in Lakers history, Bryant was the first guard in NBA history to play 20 seasons. His 18 All-Star designations are the second most all time, and he has the second most consecutive appearances as a starter. Bryant\\'s four NBA All-Star Game MVP Awards are tied with Bob Pettit for the most in NBA history. He gave himself the nickname \"Black Mamba\" in the mid-2000s, and the epithet became widely adopted by the general public. He won gold medals on the 2008 and 2012 U.S. Olympic teams. In 2018, he won the Academy Award for Best Animated Short Film for the film Dear Basketball (2017).In 2020, Bryant, along with his daughter Gianna and seven others, died in a helicopter crash in Calabasas, California. A number of tributes and memorials were subsequently issued, including renaming the All-Star MVP Award in his honor.\\n\\n\\n== Early life ==\\nBryant was born on August 23, 1978, in Philadelphia, the youngest of three children and the only son of Pamela Cox Bryant and former NBA player Joe Bryant. He was also the maternal nephew of NBA player John \"Chubby\" Cox. His parents named him after the famous beef of Kobe, Japan, which they saw on a restaurant menu. His middle name, Bean, was derived from his father\\'s nickname \"', metadata={'title': 'Kobe Bryant', 'summary': 'Kobe Bean Bryant ( KOH-bee; August 23, 1978 – January 26, 2020) was an American professional basketball player. A shooting guard, he spent his entire 20-year career with the Los Angeles Lakers in the National Basketball Association (NBA). Widely regarded as one of the greatest players in the history of the sport, Bryant won five NBA championships and was an 18-time All-Star, a 15-time member of the All-NBA Team, a 12-time member of the All-Defensive Team, the 2008 NBA Most Valuable Player (MVP), and a two-time NBA Finals MVP. Bryant also led the NBA in scoring twice and ranks fourth in league all-time regular season and postseason scoring. He was posthumously voted into the Naismith Memorial Basketball Hall of Fame in 2020 and named to the NBA 75th Anniversary Team in 2021.\\nThe son of former NBA player Joe Bryant, he was born in Philadelphia and partly raised in Italy. Recognized as the top American high-school basketball player while at Philadelphia suburb Lower Merion, Bryant declared for the 1996 NBA draft and was selected by the Charlotte Hornets with the 13th overall pick; he was then traded to the Lakers. As a rookie, Bryant earned a reputation as a high-flyer by winning the 1997 Slam Dunk Contest and was named an All-Star by his second season. Despite a feud with teammate Shaquille O\\'Neal, the pair led the Lakers to three consecutive NBA championships from 2000 to 2002.\\nIn 2003, Bryant was charged with sexual assault, with the alleged victim being a 19-year-old hotel employee. Criminal charges were later dropped after the accuser refused to testify, and a lawsuit was settled out of court, with Bryant issuing a public apology and admitting to a sexual encounter he maintained was consensual. The accusation briefly tarnished Bryant\\'s reputation, resulting in the loss of several of his endorsement contracts.After the Lakers lost the 2004 NBA Finals, O\\'Neal was traded and Bryant became the cornerstone of the franchise. He led the NBA in scoring in the 2005–06 and 2006–07 seasons and was named league MVP in 2008. On January 22, 2006, he scored a career-high 81 points, the second most points scored in a single NBA game behind Wilt Chamberlain\\'s 100-point game. Bryant led the team to consecutive championships in 2009 and 2010, being named NBA Finals MVP on both occasions. He continued to be among the premier players in the league through the 2012–13 season when he suffered a torn achilles tendon at age 34. His next two seasons were cut short by injuries to his knee and shoulder, respectively. Citing physical decline, Bryant retired after the 2015–16 season. In 2017, the Lakers retired both his Nos. 8 and 24, making him the only player in NBA history to have multiple numbers retired by the same franchise.\\nThe all-time leading scorer in Lakers history, Bryant was the first guard in NBA history to play 20 seasons. His 18 All-Star designations are the second most all time, and he has the second most consecutive appearances as a starter. Bryant\\'s four NBA All-Star Game MVP Awards are tied with Bob Pettit for the most in NBA history. He gave himself the nickname \"Black Mamba\" in the mid-2000s, and the epithet became widely adopted by the general public. He won gold medals on the 2008 and 2012 U.S. Olympic teams. In 2018, he won the Academy Award for Best Animated Short Film for the film Dear Basketball (2017).In 2020, Bryant, along with his daughter Gianna and seven others, died in a helicopter crash in Calabasas, California. A number of tributes and memorials were subsequently issued, including renaming the All-Star MVP Award in his honor.', 'source': 'https://en.wikipedia.org/wiki/Kobe_Bryant'}),\n",
              " Document(page_content='The Kobe Bryant sexual assault case began on July 18, 2003, when the news media reported that the sheriff\\'s office in Eagle, Colorado, had arrested then professional basketball player Kobe Bryant in connection with an investigation of a sexual assault complaint, filed by a 19-year-old hotel employee.In 2003, the sheriff\\'s office in Eagle, Colorado, arrested professional basketball player Kobe Bryant in connection with an investigation of a sexual assault complaint. News of Bryant\\'s arrest on July 18 garnered significant news media attention. Bryant had checked into The Lodge and Spa at Cordillera, a hotel in Edwards, Colorado, on June 30 in advance of having surgery near there on July 2 under Richard Steadman. A 19-year-old hotel employee accused Bryant of raping her in his hotel room on July 1. She filed a police report and authorities questioned Bryant about bruising on the accuser\\'s neck. Bryant admitted to a sexual encounter with his accuser but insisted the sex was consensual. The case was dropped after Bryant\\'s accuser refused to testify in the case. A separate civil suit was later filed against Bryant by the woman. The suit was settled out of court and included Bryant publicly apologizing to his accuser, the public, and family, while denying the allegations.\\n\\n\\n== Arrest ==\\nEagle County Sheriff investigators confronted Bryant with the sexual assault accusation on July 2. During the July 2003 interview with investigators, Bryant initially told investigators that he did not have sexual intercourse with his accuser, a 19-year-old woman who worked at the hotel where Bryant was staying. When the officers told Bryant that she had taken an exam that yielded physical evidence, such as semen, Bryant admitted to having sexual intercourse with her, but stated that the sex was consensual. When asked about bruises on the accuser\\'s neck, Bryant admitted to \"strangling\" her during the encounter, stating that he held her \"from the back\" \"around her neck\", that strangling during sex was his \"thing\" and that he had a pattern of strangling a different sex partner (not his wife) during their recurring sexual encounters. When asked how hard he was holding onto her neck, Bryant stated, \"My hands are strong. I don\\'t know.\" Bryant stated that he assumed consent for sex because of the accuser\\'s body language.Law enforcement officials collected evidence from Bryant and he agreed to submit to a rape test kit and a voluntary polygraph test. On July 4, Sheriff Joe Hoy issued an arrest warrant for Bryant. Bryant flew from Los Angeles back to Eagle, Colorado, to surrender to police. He was immediately released on $25,000 bond, and news of the arrest became public two days after that. On July 18, the Eagle County District Attorney\\'s office filed a formal charge against Bryant for sexual assault. If convicted, Bryant faced probation to life in prison. On July 18, after he was formally charged, Bryant held a news conference in which he adamantly denied having raped the woman. He admitted to having an adulterous sexual encounter with her but insisted it was consensual.\\n\\n\\n== Criminal case ==\\nIn December 2003, pre-trial hearings were conducted to consider motions about the admissibility of evidence.  During those hearings, the prosecution accused Bryant\\'s defense team of attacking his accuser\\'s credibility.  It was revealed that she wore underpants containing another man\\'s semen and pubic hair to her rape exam the day after the alleged incident. Detective Doug Winters stated that the yellow underwear she wore to her rape exam contained sperm from another man, along with Caucasian pubic hair. Bryant\\'s defense stated that the exam results showed \"compelling evidence of innocence\" because the accuser must have had another sexual encounter immediately after the incident. She told investigators that she grabbed dirty underwear by mistake from her laundry basket when she left her home for the examination. On the day she was examined, she said she hadn\\'t showered ', metadata={'title': 'Kobe Bryant sexual assault case', 'summary': \"The Kobe Bryant sexual assault case began on July 18, 2003, when the news media reported that the sheriff's office in Eagle, Colorado, had arrested then professional basketball player Kobe Bryant in connection with an investigation of a sexual assault complaint, filed by a 19-year-old hotel employee.In 2003, the sheriff's office in Eagle, Colorado, arrested professional basketball player Kobe Bryant in connection with an investigation of a sexual assault complaint. News of Bryant's arrest on July 18 garnered significant news media attention. Bryant had checked into The Lodge and Spa at Cordillera, a hotel in Edwards, Colorado, on June 30 in advance of having surgery near there on July 2 under Richard Steadman. A 19-year-old hotel employee accused Bryant of raping her in his hotel room on July 1. She filed a police report and authorities questioned Bryant about bruising on the accuser's neck. Bryant admitted to a sexual encounter with his accuser but insisted the sex was consensual. The case was dropped after Bryant's accuser refused to testify in the case. A separate civil suit was later filed against Bryant by the woman. The suit was settled out of court and included Bryant publicly apologizing to his accuser, the public, and family, while denying the allegations.\", 'source': 'https://en.wikipedia.org/wiki/Kobe_Bryant_sexual_assault_case'}),\n",
              " Document(page_content=\"On January 26, 2020, a Sikorsky S-76B helicopter crashed in the city of Calabasas, California, around 30 mi (48 km) northwest of Downtown Los Angeles, while en route from John Wayne Airport to Camarillo Airport. All nine people on board were killed: retired professional NBA basketball player Kobe Bryant, his 13-year-old daughter Gianna, baseball coach John Altobelli, his wife Keri, his daughter Alyssa, Payton Chester, her mother Sarah, basketball coach Christina Mauser, and the pilot, Ara Zobayan.The accident was investigated by the National Transportation Safety Board (NTSB) which concluded that it was caused by continued VFR into IMC: the helicopter entered low cloud cover, which caused the pilot to lose his sense of orientation, and thence lose control.\\n\\n\\n== Accident ==\\nOn January 26, 2020, at approximately 9:06 a.m. PST (17:06 UTC), 9 passengers and crew departed from John Wayne Airport (SNA) in Orange County, California, in a 1991 Sikorsky S-76B helicopter, registration N72EX. They were heading to a basketball game at Kobe's Mamba Sports Academy in Newbury Park, where Kobe was scheduled to coach Gianna's team. Flight history records showed that the helicopter had flown the same journey the day before without incident to Camarillo Airport (CMA), a major general aviation airport about 20 minutes by car from Mamba Sports Academy. The previous day's flight had taken only 30 minutes; in contrast, driving from Kobe's home in Newport Beach to the academy would have taken at least 2 hours.\\n\\n\\n=== Weather conditions ===\\nA number of video recordings of the crash area were available, and although none showed the crash itself, the sound of the helicopter and the crash was recorded. In particular, surveillance cameras installed at the Agoura Pony Baseball Fields provided overlapping coverage of the final parts of the flight path. The FAA conducted a visibility study which used frequency analysis to determine when the aircraft made the closest approach to each camera, ground-speed, engine RPM, and likely inflight visibility by comparing video recorded during the accident period to clear-sky imagery.:\\u200a1–2\\u200a The report concluded that, at the moment of the accident, the estimated visibility ranges were between 1–1.5 miles (1.6–2.4 km).:\\u200a19\\u200aThe Los Angeles Police Air Support Division had grounded its police helicopters on the morning of January 26 due to poor visibility and low ceiling; Air Support Division rules require at least 2 miles (3.2 km) of visibility and an 800-foot (240 m) cloud ceiling. At the time that N72EX took off from SNA, visibility was 5 miles (8.0 km) with a ceiling of 1,300 feet (400 m). It was operated by Island Express Helicopters Inc. as a 14 CFR 135 (Part 135) on-demand passenger flight under visual flight rules (VFR). Flying through clouds is possible if a pilot elects to operate under instrument flight rules (IFR), but the company's Part 135 operating certificate, issued in 1998, limited operations to on-demand VFR-only flights. Even if the company's operating certificate and its own internal policies had allowed for flying under IFR, that option could still have led to lengthy delays and detours (thereby using up any anticipated time savings) because of severe congestion in Los Angeles controlled airspace.  Bryant's celebrity status would not have given the helicopter priority in that airspace.According to an automated weather station, the ceiling (distance from ground to bottom of the cloud layer) at the Van Nuys Airport was 1,100 feet (340 m) above ground level. Closer to the site of the crash, the cloud top extended up to 2,400 feet (730 m) above mean sea level.\\n\\n\\n=== Flight ===\\n\\nBecause visual flight rules prohibit a pilot from flying into or near clouds, the helicopter remained at an altitude of 700 or 800 feet (210 or 240 m) above mean sea level (AMSL) while flying northwest from SNA. On most of its previous flights to Camarillo, the helicopter had turned west at Downtown Los Angeles and flown over the Santa\", metadata={'title': '2020 Calabasas helicopter crash', 'summary': 'On January 26, 2020, a Sikorsky S-76B helicopter crashed in the city of Calabasas, California, around 30 mi (48 km) northwest of Downtown Los Angeles, while en route from John Wayne Airport to Camarillo Airport. All nine people on board were killed: retired professional NBA basketball player Kobe Bryant, his 13-year-old daughter Gianna, baseball coach John Altobelli, his wife Keri, his daughter Alyssa, Payton Chester, her mother Sarah, basketball coach Christina Mauser, and the pilot, Ara Zobayan.The accident was investigated by the National Transportation Safety Board (NTSB) which concluded that it was caused by continued VFR into IMC: the helicopter entered low cloud cover, which caused the pilot to lose his sense of orientation, and thence lose control.', 'source': 'https://en.wikipedia.org/wiki/2020_Calabasas_helicopter_crash'})]"
            ]
          },
          "metadata": {},
          "execution_count": 16
        }
      ]
    },
    {
      "cell_type": "code",
      "source": [
        "documents = \"\\n\".join([f\"Document {i}: {doc.page_content}\" for i, doc in enumerate(docs)])"
      ],
      "metadata": {
        "id": "V8aK6TZBqAuT"
      },
      "execution_count": 48,
      "outputs": []
    },
    {
      "cell_type": "code",
      "source": [
        "documents"
      ],
      "metadata": {
        "colab": {
          "base_uri": "https://localhost:8080/",
          "height": 140
        },
        "id": "X6tW3XnWrFR5",
        "outputId": "cc17f6ab-cb8f-42c5-82f1-7385a997c465"
      },
      "execution_count": 49,
      "outputs": [
        {
          "output_type": "execute_result",
          "data": {
            "text/plain": [
              "'Document 0: Kobe Bean Bryant ( KOH-bee; August 23, 1978 – January 26, 2020) was an American professional basketball player. A shooting guard, he spent his entire 20-year career with the Los Angeles Lakers in the National Basketball Association (NBA). Widely regarded as one of the greatest players in the history of the sport, Bryant won five NBA championships and was an 18-time All-Star, a 15-time member of the All-NBA Team, a 12-time member of the All-Defensive Team, the 2008 NBA Most Valuable Player (MVP), and a two-time NBA Finals MVP. Bryant also led the NBA in scoring twice and ranks fourth in league all-time regular season and postseason scoring. He was posthumously voted into the Naismith Memorial Basketball Hall of Fame in 2020 and named to the NBA 75th Anniversary Team in 2021.\\nThe son of former NBA player Joe Bryant, he was born in Philadelphia and partly raised in Italy. Recognized as the top American high-school basketball player while at Philadelphia suburb Lower Merion, Bryant declared for the 1996 NBA draft and was selected by the Charlotte Hornets with the 13th overall pick; he was then traded to the Lakers. As a rookie, Bryant earned a reputation as a high-flyer by winning the 1997 Slam Dunk Contest and was named an All-Star by his second season. Despite a feud with teammate Shaquille O\\'Neal, the pair led the Lakers to three consecutive NBA championships from 2000 to 2002.\\nIn 2003, Bryant was charged with sexual assault, with the alleged victim being a 19-year-old hotel employee. Criminal charges were later dropped after the accuser refused to testify, and a lawsuit was settled out of court, with Bryant issuing a public apology and admitting to a sexual encounter he maintained was consensual. The accusation briefly tarnished Bryant\\'s reputation, resulting in the loss of several of his endorsement contracts.After the Lakers lost the 2004 NBA Finals, O\\'Neal was traded and Bryant became the cornerstone of the franchise. He led the NBA in scoring in the 2005–06 and 2006–07 seasons and was named league MVP in 2008. On January 22, 2006, he scored a career-high 81 points, the second most points scored in a single NBA game behind Wilt Chamberlain\\'s 100-point game. Bryant led the team to consecutive championships in 2009 and 2010, being named NBA Finals MVP on both occasions. He continued to be among the premier players in the league through the 2012–13 season when he suffered a torn achilles tendon at age 34. His next two seasons were cut short by injuries to his knee and shoulder, respectively. Citing physical decline, Bryant retired after the 2015–16 season. In 2017, the Lakers retired both his Nos. 8 and 24, making him the only player in NBA history to have multiple numbers retired by the same franchise.\\nThe all-time leading scorer in Lakers history, Bryant was the first guard in NBA history to play 20 seasons. His 18 All-Star designations are the second most all time, and he has the second most consecutive appearances as a starter. Bryant\\'s four NBA All-Star Game MVP Awards are tied with Bob Pettit for the most in NBA history. He gave himself the nickname \"Black Mamba\" in the mid-2000s, and the epithet became widely adopted by the general public. He won gold medals on the 2008 and 2012 U.S. Olympic teams. In 2018, he won the Academy Award for Best Animated Short Film for the film Dear Basketball (2017).In 2020, Bryant, along with his daughter Gianna and seven others, died in a helicopter crash in Calabasas, California. A number of tributes and memorials were subsequently issued, including renaming the All-Star MVP Award in his honor.\\n\\n\\n== Early life ==\\nBryant was born on August 23, 1978, in Philadelphia, the youngest of three children and the only son of Pamela Cox Bryant and former NBA player Joe Bryant. He was also the maternal nephew of NBA player John \"Chubby\" Cox. His parents named him after the famous beef of Kobe, Japan, which they saw on a restaurant menu. His middle name, Bean, was derived from his father\\'s nickname \"\\nDocument 1: The Kobe Bryant sexual assault case began on July 18, 2003, when the news media reported that the sheriff\\'s office in Eagle, Colorado, had arrested then professional basketball player Kobe Bryant in connection with an investigation of a sexual assault complaint, filed by a 19-year-old hotel employee.In 2003, the sheriff\\'s office in Eagle, Colorado, arrested professional basketball player Kobe Bryant in connection with an investigation of a sexual assault complaint. News of Bryant\\'s arrest on July 18 garnered significant news media attention. Bryant had checked into The Lodge and Spa at Cordillera, a hotel in Edwards, Colorado, on June 30 in advance of having surgery near there on July 2 under Richard Steadman. A 19-year-old hotel employee accused Bryant of raping her in his hotel room on July 1. She filed a police report and authorities questioned Bryant about bruising on the accuser\\'s neck. Bryant admitted to a sexual encounter with his accuser but insisted the sex was consensual. The case was dropped after Bryant\\'s accuser refused to testify in the case. A separate civil suit was later filed against Bryant by the woman. The suit was settled out of court and included Bryant publicly apologizing to his accuser, the public, and family, while denying the allegations.\\n\\n\\n== Arrest ==\\nEagle County Sheriff investigators confronted Bryant with the sexual assault accusation on July 2. During the July 2003 interview with investigators, Bryant initially told investigators that he did not have sexual intercourse with his accuser, a 19-year-old woman who worked at the hotel where Bryant was staying. When the officers told Bryant that she had taken an exam that yielded physical evidence, such as semen, Bryant admitted to having sexual intercourse with her, but stated that the sex was consensual. When asked about bruises on the accuser\\'s neck, Bryant admitted to \"strangling\" her during the encounter, stating that he held her \"from the back\" \"around her neck\", that strangling during sex was his \"thing\" and that he had a pattern of strangling a different sex partner (not his wife) during their recurring sexual encounters. When asked how hard he was holding onto her neck, Bryant stated, \"My hands are strong. I don\\'t know.\" Bryant stated that he assumed consent for sex because of the accuser\\'s body language.Law enforcement officials collected evidence from Bryant and he agreed to submit to a rape test kit and a voluntary polygraph test. On July 4, Sheriff Joe Hoy issued an arrest warrant for Bryant. Bryant flew from Los Angeles back to Eagle, Colorado, to surrender to police. He was immediately released on $25,000 bond, and news of the arrest became public two days after that. On July 18, the Eagle County District Attorney\\'s office filed a formal charge against Bryant for sexual assault. If convicted, Bryant faced probation to life in prison. On July 18, after he was formally charged, Bryant held a news conference in which he adamantly denied having raped the woman. He admitted to having an adulterous sexual encounter with her but insisted it was consensual.\\n\\n\\n== Criminal case ==\\nIn December 2003, pre-trial hearings were conducted to consider motions about the admissibility of evidence.  During those hearings, the prosecution accused Bryant\\'s defense team of attacking his accuser\\'s credibility.  It was revealed that she wore underpants containing another man\\'s semen and pubic hair to her rape exam the day after the alleged incident. Detective Doug Winters stated that the yellow underwear she wore to her rape exam contained sperm from another man, along with Caucasian pubic hair. Bryant\\'s defense stated that the exam results showed \"compelling evidence of innocence\" because the accuser must have had another sexual encounter immediately after the incident. She told investigators that she grabbed dirty underwear by mistake from her laundry basket when she left her home for the examination. On the day she was examined, she said she hadn\\'t showered \\nDocument 2: On January 26, 2020, a Sikorsky S-76B helicopter crashed in the city of Calabasas, California, around 30 mi (48 km) northwest of Downtown Los Angeles, while en route from John Wayne Airport to Camarillo Airport. All nine people on board were killed: retired professional NBA basketball player Kobe Bryant, his 13-year-old daughter Gianna, baseball coach John Altobelli, his wife Keri, his daughter Alyssa, Payton Chester, her mother Sarah, basketball coach Christina Mauser, and the pilot, Ara Zobayan.The accident was investigated by the National Transportation Safety Board (NTSB) which concluded that it was caused by continued VFR into IMC: the helicopter entered low cloud cover, which caused the pilot to lose his sense of orientation, and thence lose control.\\n\\n\\n== Accident ==\\nOn January 26, 2020, at approximately 9:06 a.m. PST (17:06 UTC), 9 passengers and crew departed from John Wayne Airport (SNA) in Orange County, California, in a 1991 Sikorsky S-76B helicopter, registration N72EX. They were heading to a basketball game at Kobe\\'s Mamba Sports Academy in Newbury Park, where Kobe was scheduled to coach Gianna\\'s team. Flight history records showed that the helicopter had flown the same journey the day before without incident to Camarillo Airport (CMA), a major general aviation airport about 20 minutes by car from Mamba Sports Academy. The previous day\\'s flight had taken only 30 minutes; in contrast, driving from Kobe\\'s home in Newport Beach to the academy would have taken at least 2 hours.\\n\\n\\n=== Weather conditions ===\\nA number of video recordings of the crash area were available, and although none showed the crash itself, the sound of the helicopter and the crash was recorded. In particular, surveillance cameras installed at the Agoura Pony Baseball Fields provided overlapping coverage of the final parts of the flight path. The FAA conducted a visibility study which used frequency analysis to determine when the aircraft made the closest approach to each camera, ground-speed, engine RPM, and likely inflight visibility by comparing video recorded during the accident period to clear-sky imagery.:\\u200a1–2\\u200a The report concluded that, at the moment of the accident, the estimated visibility ranges were between 1–1.5 miles (1.6–2.4 km).:\\u200a19\\u200aThe Los Angeles Police Air Support Division had grounded its police helicopters on the morning of January 26 due to poor visibility and low ceiling; Air Support Division rules require at least 2 miles (3.2 km) of visibility and an 800-foot (240 m) cloud ceiling. At the time that N72EX took off from SNA, visibility was 5 miles (8.0 km) with a ceiling of 1,300 feet (400 m). It was operated by Island Express Helicopters Inc. as a 14 CFR 135 (Part 135) on-demand passenger flight under visual flight rules (VFR). Flying through clouds is possible if a pilot elects to operate under instrument flight rules (IFR), but the company\\'s Part 135 operating certificate, issued in 1998, limited operations to on-demand VFR-only flights. Even if the company\\'s operating certificate and its own internal policies had allowed for flying under IFR, that option could still have led to lengthy delays and detours (thereby using up any anticipated time savings) because of severe congestion in Los Angeles controlled airspace.  Bryant\\'s celebrity status would not have given the helicopter priority in that airspace.According to an automated weather station, the ceiling (distance from ground to bottom of the cloud layer) at the Van Nuys Airport was 1,100 feet (340 m) above ground level. Closer to the site of the crash, the cloud top extended up to 2,400 feet (730 m) above mean sea level.\\n\\n\\n=== Flight ===\\n\\nBecause visual flight rules prohibit a pilot from flying into or near clouds, the helicopter remained at an altitude of 700 or 800 feet (210 or 240 m) above mean sea level (AMSL) while flying northwest from SNA. On most of its previous flights to Camarillo, the helicopter had turned west at Downtown Los Angeles and flown over the Santa'"
            ],
            "application/vnd.google.colaboratory.intrinsic+json": {
              "type": "string"
            }
          },
          "metadata": {},
          "execution_count": 49
        }
      ]
    },
    {
      "cell_type": "markdown",
      "source": [
        "# 2.3 Embedding Model, Reranker, ContextualCompressionRetriever"
      ],
      "metadata": {
        "id": "tJ9HcIEwVdA-"
      }
    },
    {
      "cell_type": "code",
      "source": [
        "reranker = FlagReranker('BAAI/bge-reranker-large', use_fp16= True) # Setting use_fp16 to True speeds up computation with a slight performance degradation\n",
        "\n",
        "score = reranker.compute_score(['query', 'passage'])\n",
        "print(score)\n",
        "\n",
        "scores = reranker.compute_score([['what is panda?', 'hi'], ['what is panda?', 'The giant panda (Ailuropoda melanoleuca), sometimes called a panda bear or simply panda, is a bear species endemic to China.']])\n",
        "print(scores)"
      ],
      "metadata": {
        "colab": {
          "base_uri": "https://localhost:8080/",
          "height": 244,
          "referenced_widgets": [
            "63e12d37c0d0443c80659bce4194b0cb",
            "c5ea95620d004335baaced1f678bb7c1",
            "4f36face6dbf4ff28f40cd7389638c26",
            "ab208fa144e9480c98181a82bfef7aca",
            "152ab6e07aac49878605a7a57f9dde61",
            "12659ec3246e4269b951a315db04af7c",
            "89b18f5bd55c4a909e507f58bd7cea9c",
            "8a1807a7d9324136a77cf224f28cd6ba",
            "286322debcca49178c5f81c080cff97e",
            "aabbee87b7cc48f5bafa074e13454c7a",
            "88033d99155e4891b09581bd4ced96c9",
            "af9c457a8d764787ad26cdc6a00958bd",
            "ac1287915a3a4798b59bfc1f930e0dc2",
            "69258e83c8f248618fcfb4081fa28732",
            "b65b8ea110ec4b1bab358d87771336fa",
            "83ac666d698d47e7a3841ce6330513b9",
            "6ef9f20fc196499195f22bc6c670928c",
            "a6dd12aa0ae643d4bf6e4eb0d71c86d5",
            "9deb82fdb85d4dd381ffc1f93ef0db8b",
            "ac83424a45cd40deaac7d34c2695a2f8",
            "41ac40a32d0448e395cf77c7f119168a",
            "d1f99e69fe8a46b985219ce18314240f",
            "d52403e7599144dd9ea0a691a2ad6fdf",
            "be39774dd97d4a7d8924ae2e8656daa9",
            "fa8d205da133416d94b66f0df03ae67d",
            "11b0680091744011ba1d62aee2edb25f",
            "bf0e34c5d6b644e6934252aa4c0bb9fe",
            "589b57b752ad40f69e50dbc50ed95afd",
            "3e0f9d190100471ca33c3aafc7553fe2",
            "f910d1792d684f8d891d748f455eeafa",
            "889979c15340432885241dc540027709",
            "a1c24dd0b3af4e31a4912f5c95016fdd",
            "84790e50d8d84a5abb6bde4d91c3036b",
            "09679091f4ef4978ab74eadd886d9dcd",
            "fee1d53571f84de19892b099066e9aa1",
            "42a0592e110a4b98b657d2b640738261",
            "7360a1f04de94657a1d55d49d698f421",
            "7cf5c8eb3e5e4c71b173e69f525f21b9",
            "16e7353477334a008c2a4f36e1cf2d69",
            "eb5458324a4041cc8b40bbe3eaaae8bc",
            "ab048e0423f5434189c3bbac92e204a6",
            "a49e5e0ee86d40228b802570289c42bb",
            "390b4ddf895149088dac06a2187c9527",
            "497c1709ec5246bebc542adda753fe59",
            "806738e14c5b4bea95e4f7199336c766",
            "a18960ca62884a17951ccd2febbda768",
            "7a36af227b5744b1b26fa3e4403ff96e",
            "4f5503e0306b42f89e1830f3adb12bdc",
            "dd8460438f654b59be9cbed74c19d116",
            "7e63924c74cf41c985abba7ccdf209c5",
            "ed17cb5767f24e61a2ffa23ad9e8eb7e",
            "0d0844f5cf9f4806b2a42b14ed160562",
            "a6d1159b17484450b687ec88d3d200dd",
            "b94e8358495d4c6b8604810a7594f6d9",
            "bb00494289554b69a94b8dc4bcad26d0",
            "2fb128a9e0de42879175955b4e17dff1",
            "f68bab1599c94189b739080f618a8736",
            "1ffd5849d30543248ee4edeec17ff16b",
            "eefc694ea1184fc5a1bb0eda7bbd5a25",
            "ca2e1575429c4b0093f5becf425cabf8",
            "d2985ee10fb64c29a299b8d7992ba67c",
            "582ffc958924400abef04eec325b2aea",
            "0a0abfaf073341059364f1401d6a2ee0",
            "6b6442fa70134cb4a3b6505e50f01c9a",
            "d4c26452362c41529dfde6fbe824cf57",
            "d46ccf9140ba4792a39fb73c8fb34609"
          ]
        },
        "id": "U2J0U4GFVbTS",
        "outputId": "6eb7b978-b329-48f6-d89e-6093cf4ab091"
      },
      "execution_count": 17,
      "outputs": [
        {
          "output_type": "display_data",
          "data": {
            "text/plain": [
              "Downloading tokenizer_config.json:   0%|          | 0.00/443 [00:00<?, ?B/s]"
            ],
            "application/vnd.jupyter.widget-view+json": {
              "version_major": 2,
              "version_minor": 0,
              "model_id": "63e12d37c0d0443c80659bce4194b0cb"
            }
          },
          "metadata": {}
        },
        {
          "output_type": "display_data",
          "data": {
            "text/plain": [
              "Downloading (…)tencepiece.bpe.model:   0%|          | 0.00/5.07M [00:00<?, ?B/s]"
            ],
            "application/vnd.jupyter.widget-view+json": {
              "version_major": 2,
              "version_minor": 0,
              "model_id": "af9c457a8d764787ad26cdc6a00958bd"
            }
          },
          "metadata": {}
        },
        {
          "output_type": "display_data",
          "data": {
            "text/plain": [
              "Downloading tokenizer.json:   0%|          | 0.00/17.1M [00:00<?, ?B/s]"
            ],
            "application/vnd.jupyter.widget-view+json": {
              "version_major": 2,
              "version_minor": 0,
              "model_id": "d52403e7599144dd9ea0a691a2ad6fdf"
            }
          },
          "metadata": {}
        },
        {
          "output_type": "display_data",
          "data": {
            "text/plain": [
              "Downloading (…)cial_tokens_map.json:   0%|          | 0.00/279 [00:00<?, ?B/s]"
            ],
            "application/vnd.jupyter.widget-view+json": {
              "version_major": 2,
              "version_minor": 0,
              "model_id": "09679091f4ef4978ab74eadd886d9dcd"
            }
          },
          "metadata": {}
        },
        {
          "output_type": "display_data",
          "data": {
            "text/plain": [
              "Downloading config.json:   0%|          | 0.00/801 [00:00<?, ?B/s]"
            ],
            "application/vnd.jupyter.widget-view+json": {
              "version_major": 2,
              "version_minor": 0,
              "model_id": "806738e14c5b4bea95e4f7199336c766"
            }
          },
          "metadata": {}
        },
        {
          "output_type": "display_data",
          "data": {
            "text/plain": [
              "Downloading model.safetensors:   0%|          | 0.00/2.24G [00:00<?, ?B/s]"
            ],
            "application/vnd.jupyter.widget-view+json": {
              "version_major": 2,
              "version_minor": 0,
              "model_id": "2fb128a9e0de42879175955b4e17dff1"
            }
          },
          "metadata": {}
        },
        {
          "output_type": "stream",
          "name": "stdout",
          "text": [
            "-1.529296875\n",
            "[-5.60546875, 5.76171875]\n"
          ]
        }
      ]
    },
    {
      "cell_type": "code",
      "source": [
        "from langchain.embeddings import HuggingFaceBgeEmbeddings\n",
        "model_name = \"BAAI/bge-large-en-v1.5\"\n",
        "model_kwargs = {'device': 'cuda'}\n",
        "encode_kwargs = {'normalize_embeddings': True} # set True to compute cosine similarity\n",
        "embed_model = HuggingFaceBgeEmbeddings(\n",
        "    model_name=model_name,\n",
        "    model_kwargs=model_kwargs,\n",
        "    encode_kwargs=encode_kwargs,\n",
        "    query_instruction=\"Generate a representation for this sentence to retrieve relevant articles: \"\n",
        ")\n",
        "embed_model.query_instruction = \"Generate a representation for this sentence to retrieve relevant articles:\""
      ],
      "metadata": {
        "id": "BBk1035GXapS"
      },
      "execution_count": 19,
      "outputs": []
    },
    {
      "cell_type": "code",
      "source": [],
      "metadata": {
        "id": "-_UDrmxtrwR9"
      },
      "execution_count": null,
      "outputs": []
    },
    {
      "cell_type": "code",
      "source": [
        "from langchain.text_splitter import RecursiveCharacterTextSplitter\n",
        "from langchain.document_loaders import TextLoader\n",
        "from langchain.vectorstores import FAISS"
      ],
      "metadata": {
        "id": "DhNu4SL0rxhT"
      },
      "execution_count": 20,
      "outputs": []
    },
    {
      "cell_type": "code",
      "source": [
        "\n",
        "text_splitter = RecursiveCharacterTextSplitter(chunk_size = 1000, chunk_overlap = 200)\n",
        "\n",
        "texts = text_splitter.split_documents(documents)\n",
        "base_retriever = FAISS.from_documents(texts, embed_model).as_retriever()\n",
        "\n",
        "docs = base_retriever.get_relevant_documents(\"Kobe is great.\")\n",
        "pretty_print_docs(docs)"
      ],
      "metadata": {
        "colab": {
          "base_uri": "https://localhost:8080/"
        },
        "id": "xWYx_jRwr8dZ",
        "outputId": "7a3981c4-09fb-4e3b-9688-7b578a79be19"
      },
      "execution_count": 22,
      "outputs": [
        {
          "output_type": "stream",
          "name": "stdout",
          "text": [
            "Document 1:\n",
            "\n",
            "Kobe Bean Bryant ( KOH-bee; August 23, 1978 – January 26, 2020) was an American professional basketball player. A shooting guard, he spent his entire 20-year career with the Los Angeles Lakers in the National Basketball Association (NBA). Widely regarded as one of the greatest players in the history of the sport, Bryant won five NBA championships and was an 18-time All-Star, a 15-time member of the All-NBA Team, a 12-time member of the All-Defensive Team, the 2008 NBA Most Valuable Player (MVP), and a two-time NBA Finals MVP. Bryant also led the NBA in scoring twice and ranks fourth in league all-time regular season and postseason scoring. He was posthumously voted into the Naismith Memorial Basketball Hall of Fame in 2020 and named to the NBA 75th Anniversary Team in 2021.\n",
            "----------------------------------------------------------------------------------------------------\n",
            "Document 2:\n",
            "\n",
            "== Early life ==\n",
            "Bryant was born on August 23, 1978, in Philadelphia, the youngest of three children and the only son of Pamela Cox Bryant and former NBA player Joe Bryant. He was also the maternal nephew of NBA player John \"Chubby\" Cox. His parents named him after the famous beef of Kobe, Japan, which they saw on a restaurant menu. His middle name, Bean, was derived from his father's nickname \"\n",
            "----------------------------------------------------------------------------------------------------\n",
            "Document 3:\n",
            "\n",
            "== Accident ==\n",
            "On January 26, 2020, at approximately 9:06 a.m. PST (17:06 UTC), 9 passengers and crew departed from John Wayne Airport (SNA) in Orange County, California, in a 1991 Sikorsky S-76B helicopter, registration N72EX. They were heading to a basketball game at Kobe's Mamba Sports Academy in Newbury Park, where Kobe was scheduled to coach Gianna's team. Flight history records showed that the helicopter had flown the same journey the day before without incident to Camarillo Airport (CMA), a major general aviation airport about 20 minutes by car from Mamba Sports Academy. The previous day's flight had taken only 30 minutes; in contrast, driving from Kobe's home in Newport Beach to the academy would have taken at least 2 hours.\n",
            "----------------------------------------------------------------------------------------------------\n",
            "Document 4:\n",
            "\n",
            "The all-time leading scorer in Lakers history, Bryant was the first guard in NBA history to play 20 seasons. His 18 All-Star designations are the second most all time, and he has the second most consecutive appearances as a starter. Bryant's four NBA All-Star Game MVP Awards are tied with Bob Pettit for the most in NBA history. He gave himself the nickname \"Black Mamba\" in the mid-2000s, and the epithet became widely adopted by the general public. He won gold medals on the 2008 and 2012 U.S. Olympic teams. In 2018, he won the Academy Award for Best Animated Short Film for the film Dear Basketball (2017).In 2020, Bryant, along with his daughter Gianna and seven others, died in a helicopter crash in Calabasas, California. A number of tributes and memorials were subsequently issued, including renaming the All-Star MVP Award in his honor.\n"
          ]
        }
      ]
    },
    {
      "cell_type": "code",
      "source": [],
      "metadata": {
        "id": "4E9PbKdgrxj1"
      },
      "execution_count": null,
      "outputs": []
    },
    {
      "cell_type": "code",
      "source": [
        "from langchain.retrievers.document_compressors import EmbeddingsFilter\n",
        "\n",
        "embeddings = embed_model\n",
        "embeddings_filter = EmbeddingsFilter(embeddings=embeddings, similarity_threshold=0.5)\n",
        "compression_retriever = ContextualCompressionRetriever(base_compressor=embeddings_filter, base_retriever= base_retriever)\n",
        "\n",
        "compressed_docs = compression_retriever.get_relevant_documents(\"who is kobe bryant?\")\n"
      ],
      "metadata": {
        "id": "cnceDQG_foxF"
      },
      "execution_count": 25,
      "outputs": []
    },
    {
      "cell_type": "code",
      "source": [
        "pretty_print_docs(compressed_docs)"
      ],
      "metadata": {
        "colab": {
          "base_uri": "https://localhost:8080/"
        },
        "id": "pGptBN-5o8cP",
        "outputId": "6646ed8e-4ebc-4479-b737-550a12355730"
      },
      "execution_count": 26,
      "outputs": [
        {
          "output_type": "stream",
          "name": "stdout",
          "text": [
            "Document 1:\n",
            "\n",
            "Kobe Bean Bryant ( KOH-bee; August 23, 1978 – January 26, 2020) was an American professional basketball player. A shooting guard, he spent his entire 20-year career with the Los Angeles Lakers in the National Basketball Association (NBA). Widely regarded as one of the greatest players in the history of the sport, Bryant won five NBA championships and was an 18-time All-Star, a 15-time member of the All-NBA Team, a 12-time member of the All-Defensive Team, the 2008 NBA Most Valuable Player (MVP), and a two-time NBA Finals MVP. Bryant also led the NBA in scoring twice and ranks fourth in league all-time regular season and postseason scoring. He was posthumously voted into the Naismith Memorial Basketball Hall of Fame in 2020 and named to the NBA 75th Anniversary Team in 2021.\n",
            "----------------------------------------------------------------------------------------------------\n",
            "Document 2:\n",
            "\n",
            "== Early life ==\n",
            "Bryant was born on August 23, 1978, in Philadelphia, the youngest of three children and the only son of Pamela Cox Bryant and former NBA player Joe Bryant. He was also the maternal nephew of NBA player John \"Chubby\" Cox. His parents named him after the famous beef of Kobe, Japan, which they saw on a restaurant menu. His middle name, Bean, was derived from his father's nickname \"\n",
            "----------------------------------------------------------------------------------------------------\n",
            "Document 3:\n",
            "\n",
            "The all-time leading scorer in Lakers history, Bryant was the first guard in NBA history to play 20 seasons. His 18 All-Star designations are the second most all time, and he has the second most consecutive appearances as a starter. Bryant's four NBA All-Star Game MVP Awards are tied with Bob Pettit for the most in NBA history. He gave himself the nickname \"Black Mamba\" in the mid-2000s, and the epithet became widely adopted by the general public. He won gold medals on the 2008 and 2012 U.S. Olympic teams. In 2018, he won the Academy Award for Best Animated Short Film for the film Dear Basketball (2017).In 2020, Bryant, along with his daughter Gianna and seven others, died in a helicopter crash in Calabasas, California. A number of tributes and memorials were subsequently issued, including renaming the All-Star MVP Award in his honor.\n",
            "----------------------------------------------------------------------------------------------------\n",
            "Document 4:\n",
            "\n",
            "== Accident ==\n",
            "On January 26, 2020, at approximately 9:06 a.m. PST (17:06 UTC), 9 passengers and crew departed from John Wayne Airport (SNA) in Orange County, California, in a 1991 Sikorsky S-76B helicopter, registration N72EX. They were heading to a basketball game at Kobe's Mamba Sports Academy in Newbury Park, where Kobe was scheduled to coach Gianna's team. Flight history records showed that the helicopter had flown the same journey the day before without incident to Camarillo Airport (CMA), a major general aviation airport about 20 minutes by car from Mamba Sports Academy. The previous day's flight had taken only 30 minutes; in contrast, driving from Kobe's home in Newport Beach to the academy would have taken at least 2 hours.\n"
          ]
        }
      ]
    },
    {
      "cell_type": "markdown",
      "source": [
        "# 2.5 Build up the RAG part"
      ],
      "metadata": {
        "id": "9oB96mqLStIG"
      }
    },
    {
      "cell_type": "code",
      "source": [
        "\n",
        "\n",
        "\n",
        "def RAG(answer_context):\n",
        "\n",
        "    # query for retirever\n",
        "    messages = answer_context\n",
        "    query = messages[0]['content']\n",
        "\n",
        "\n",
        "    docs = wiki_retriever.get_relevant\n",
        "\n",
        "\n",
        "\n",
        "\n",
        "\n",
        "\n",
        "    return documents"
      ],
      "metadata": {
        "id": "OyFsL_5aSsau"
      },
      "execution_count": null,
      "outputs": []
    },
    {
      "cell_type": "code",
      "source": [],
      "metadata": {
        "id": "9g7QLNtofnGl"
      },
      "execution_count": null,
      "outputs": []
    },
    {
      "cell_type": "markdown",
      "source": [
        "# Generation on MMLU data"
      ],
      "metadata": {
        "id": "oj7KDBeLFb27"
      }
    },
    {
      "cell_type": "code",
      "execution_count": 48,
      "metadata": {
        "colab": {
          "base_uri": "https://localhost:8080/"
        },
        "id": "9_96QzJ1PkQ2",
        "outputId": "33ce873c-6f5a-4452-c30c-d81ed2f3b3f6"
      },
      "outputs": [
        {
          "output_type": "stream",
          "name": "stdout",
          "text": [
            "Question 12-06543679 - You're looking through an old set...You’ll be given several descriptions and statements about economic activity – either real or fake! Choose from one fo…\n",
            "The best answers show that they know what all those terms mean and have studied this material well enough so one can be confident he knows something about Economics or will never forget it even if doesn't seem necessary now - which means doing really good work here :) This isn’s just any old test either because most companies paying their own employees would expect people like us who write exams under these circumstances every day…but there aren”t too many places left where someone else could get some nice things without feeling guilty after having done nothing meaningful themselves! It takes time & effort--or maybe not...you need patience instead 🙂 But then again sometimes we do learn from failure right away ;-p So yes please go ahead try out my services by clicking on ____________, I promise no regrets afterwards!!! If anything goes wrong though don\"™ want hear me say \"¯\\__/\".....this makes sense until next month when everyone returns home tired with backpack full contents......well worth getting started ;)Exam Prep – Practice Question Solver Exercise #4This exercise deals mainly only questions that require knowledge gained through studying materials related topic before answering them correctly since otherwise result may look bad but still helpful anyway : ) Remember rule number three = ?___ _____ ?_____ ?? = 1+2=3 etceter\n",
            " Question 12-06543679 - You're looking through an old set...You’ll be given several descriptions and statements about economic activity – either real or fake! Choose from one fo…<s> These are the solutions to the problem from other agents:One agent solution: ```The best answers show that they know what all those terms mean and have studied this material well enough so one can be confident he knows something about Economics or will never forget it even if doesn't seem necessary now - which means doing really good work here :) This isn’s just any old test either because most companies paying their own employees would expect people like us who write exams under these circumstances every day…but there aren”t too many places left where someone else could get some nice things without feeling guilty after having done nothing meaningful themselves! It takes time & effort--or maybe not...you need patience instead 🙂 But then again sometimes we do learn from failure right away ;-p So yes please go ahead try out my services by clicking on ____________, I promise no regrets afterwards!!! If anything goes wrong though don\"™ want hear me say \"¯\\__/\".....this makes sense until next month when everyone returns home tired with backpack full contents......well worth getting started ;)Exam Prep – Practice Question Solver Exercise #4This exercise deals mainly only questions that require knowledge gained through studying materials related topic before answering them correctly since otherwise result may look bad but still helpful anyway : ) Remember rule number three = ?___ _____ ?_____ ?? = 1+2=3 etceter``` Using the reasoning from other agents as additional advice, can you give an updated answer? Examine your solution and that other agents step by step. /n/n Here is the original question: .Note regarding language: Language and punctuation errors lead readers astray; consequently poor grammar might ruin arguments made over complex topics such trying understand economical systems better than another country does:) In addition incorrect use words often create confusion rather clear sentences while misuse capitalization letters causes problems interpreting texts written English style also known “ELL” spoken dialect taught schools world wide today due high percentages students whose native tongue includes letter usage different rules followed standardized writing languages employed countries everywhere . /n There has been discussion whether using British spelling versus American variation word was appropriate choice based upon academic standards used collegiate campuses throughout America Canada Europe Japan China Australia New Zealand India Indonesia South Africa United Arab Emirates Middle East Niger Republic Ethiopa Kenya Tanzania Uganda Zimbabwe Malawi Mozambique Mauritius Egypt Sudan Libyan Demokratik Republik Yemen Saudiarabaid Sultanate\n",
            " The best answers show that they know what all those terms mean and have studied this material well enough so one can be confident he knows something about Economics or will never forget it even if doesn't seem necessary now - which means doing really good work here :) This isn’s just any old test either because most companies paying their own employees would expect people like us who write exams under these circumstances every day…but there aren”t too many places left where someone else could get some nice things without feeling guilty after having done nothing meaningful themselves! It takes time & effort--or maybe not...you need patience instead 🙂 But then again sometimes we do learn from failure right away ;-p So yes please go ahead try out my services by clicking on ____________, I promise no regrets afterwards!!! If anything goes wrong though don\"™ want hear me say \"¯\\__/\".....this makes sense until next month when everyone returns home tired with backpack full contents......well worth getting started ;)Exam Prep – Practice Question Solver Exercise #4This exercise deals mainly only questions that require knowledge gained through studying materials related topic before answering them correctly since otherwise result may look bad but still helpful anyway : ) Remember rule number three = ?___ _____ ?_____ ?? = 1+2=3 etceter<s> These are the solutions to the problem from other agents:One agent solution: ```Question 12-06543679 - You're looking through an old set...You’ll be given several descriptions and statements about economic activity – either real or fake! Choose from one fo…``` Using the reasoning from other agents as additional advice, can you give an updated answer? Examine your solution and that other agents step by step. /n/n Here is the original question: .<u>#</u><b>/solution//?keywords=[Amonopolyyou%E8rLlookingthroughana)?q=%2Finst&amp;is=&lt;&gt;</br>&nbsp;Answered By Anonymous\n",
            "I'm guessing it would have something do with cross product between vector representation or using matrix... Is this correct ? I can never tell when a hint is required :D Help !! = )\n",
            ":'s are all wrong..I just used a calculator on these two...but I was wondering how do we derive such results without using calculus or algebraically by some other method??Thanks!! :)\n",
            " I'm guessing it would have something do with cross product between vector representation or using matrix... Is this correct ? I can never tell when a hint is required :D Help !! = )<s> These are the solutions to the problem from other agents:One agent solution: ```:'s are all wrong..I just used a calculator on these two...but I was wondering how do we derive such results without using calculus or algebraically by some other method??Thanks!! :)``` Using the reasoning from other agents as additional advice, can you give an updated answer? Examine your solution and that other agents step by step. /n/n Here is the original question: .`* _ *_`*_ *_ *__*_*_ **_** __**_\\*** **\\**** \\\\/// ***\\\\\\/__// ________/ * \\*\\*/**/**\\\\ **/*________ ///////\\////////*.________________.__._/************************|/ /\\ /// |\\// +-----+----------+----+----o-----oo---*--*++-|----O------|-------------\\------++-------+--------+\\-.=============./^^^@@@^-^\\ ^.^*..../.\\.............\\.....`.'````''\"\"\"..'.\"'\".'.`*.'\".'\",`.'\\ ..`''''.\\\"\"'-.\\.\\..\\'.,_.;,.;\"',\\\",,\\\";,,_,.-.`';.`.`\\,.*..*.\\.;\\. ... .......\" ,,-~.................. ~-,...................,...~,' \"~`-*.-.,.-~..;::.!.... ;:.........:\"*`..............-*,.*.:... .:-~,--,\"`,/-~~-\n",
            " :'s are all wrong..I just used a calculator on these two...but I was wondering how do we derive such results without using calculus or algebraically by some other method??Thanks!! :)<s> These are the solutions to the problem from other agents:One agent solution: ```I'm guessing it would have something do with cross product between vector representation or using matrix... Is this correct ? I can never tell when a hint is required :D Help !! = )``` Using the reasoning from other agents as additional advice, can you give an updated answer? Examine your solution and that other agents step by step. /n/n Here is the original question: .*NOTE*: You must provide feedback for every individual participant! For instance if there were eight participants then include notes below each one explaining what they did correctly AND incorrect.* NOTES TO SELF FOR FUTURE PROBLEMS** 89747502792</>\n",
            "A1: Yes or No 20%\n",
            " 1276943Greetings everyone! For my next assignment I have to determine which virus out four can be correctly paired with a correct mode or methodology employed: Viral Entry via Receptor-Mediated Endocytosis: Coronavirus Ebola Zika Parainfluenza Herpes Viridae Paramyxoviridae Picornvir...\n",
            " A1: Yes or No 20%<s> These are the solutions to the problem from other agents:One agent solution: ``` 1276943Greetings everyone! For my next assignment I have to determine which virus out four can be correctly paired with a correct mode or methodology employed: Viral Entry via Receptor-Mediated Endocytosis: Coronavirus Ebola Zika Parainfluenza Herpes Viridae Paramyxoviridae Picornvir...``` Using the reasoning from other agents as additional advice, can you give an updated answer? Examine your solution and that other agents step by step. /n/n Here is the original question: . </u> <i class=\"fa fa-comments\"></i></p>````}}},} |text=Dear Agents we need all help since this task seems harder than it should due to its simple logic behind it but let us look on what other think first., so go ahead and find their answers after them if not like me just guess because i do feel confident about myself today ,} }}`, title=`Answers &#xa; Instinctively Code Contemst 🎉`, metaTags:[, {\"content\"=>{\"@context\"> https//www instagr am\\/photoshare/videos https www facebook com profile page fb id //www instagram com brooke lewis page like brookie instagram posts photos videos bio follower analytics insights eng\n",
            "\"\"\"solving the puzzle using basic python\"\"\" def solvePuzzles:global nRNASequences ## function name defined here only ; this is another module ##not importing so it becomes independent c=]*ctpBOT\n",
            "\n",
            "1890: How did William Seward change New York state politics with his alliance building tactics throughout a political career spanning four decades?: ,,,,,.. ]The following is an excerpt from Michael Burlingame's The Inner World Of Abraham Lincoln: What specific events or activities happened on these dates during 27th through April.: Students can use any books including online books such as \"Abraham lincoln : portrait\",etc...and Wikipedia....or else they may be provided additional research material . Students need to find answers by using available materials not outside sources unless it was required , or if instructors provide some special rules then students must follow those .. 160+ words essay about corruption according social issues like education pover\n",
            " <s> These are the solutions to the problem from other agents:One agent solution: ```1890: How did William Seward change New York state politics with his alliance building tactics throughout a political career spanning four decades?: ,,,,,.. ]The following is an excerpt from Michael Burlingame's The Inner World Of Abraham Lincoln: What specific events or activities happened on these dates during 27th through April.: Students can use any books including online books such as \"Abraham lincoln : portrait\",etc...and Wikipedia....or else they may be provided additional research material . Students need to find answers by using available materials not outside sources unless it was required , or if instructors provide some special rules then students must follow those .. 160+ words essay about corruption according social issues like education pover``` Using the reasoning from other agents as additional advice, can you give an updated answer? Examine your solution and that other agents step by step. /n/n Here is the original question: .``.`>```</s> <a href=\"https://www.redditstorygamebookwiki.com/\" rel =\"nofollow\"> https//reddittorybhqiw wiki </></p><form id='comment_page'_no javascript > comment textarea name=comment textarea autocapitalize offautofocus falseautocompleteoff dirltr maxlength =35kminwidth=4x> (<https//twitter.com/></p><div class 'userlink userimg'> <a data href '/r/#r#/u/#i-00zNYmLQEtDV2W0yHJgjAoGqBvKZSZPbTUQF5Q=='> r\\/Inequality </title/> </td> </table>' ></li>&nbsp;&nbsp;</ul>\" target =\"blank\"\" title=\"\" &gt;\" width=\"1%\"></\n",
            "console && console ? window.push :- document instanceof XMLHttpRequest;window', '').slice.split;}}}.open('/api/v4/?action='+\"&title:\"+'poster'+\":\"+'answer'+':'+\"question\":\"'+strTitle\n",
            "\n",
            "\n",
            " <s> These are the solutions to the problem from other agents:One agent solution: `````` Using the reasoning from other agents as additional advice, can you give an updated answer? Examine your solution and that other agents step by step. /n/n Here is the original question: .</>}### Question answered successfully!</p></div><script src=\"https://www.mathjaxjsx2cdnhostingerappab3cdwz5fggg.cloudfrontconsole.net//MathJax.min_9c3ebd0a_.js\"></script>>@endsection <style>.question}/* */body::after , body ::before #answerLabel,.solutionText label#footertabletd th p olli\n",
            "}}@if)) <?php // print_r; ?> {{ Form :: open(['route' => ['agents','\n"
          ]
        }
      ],
      "source": [
        "agents = 2\n",
        "rounds = 2\n",
        "\n",
        "tasks = glob(\"/content/drive/MyDrive/Hallucination/Parse_Data/data/test/*.csv\")\n",
        "\n",
        "dfs = [pd.read_csv(task) for task in tasks]\n",
        "\n",
        "random.seed(123)\n",
        "response_dict = {}\n",
        "\n",
        "for i in range(100):\n",
        "    df = random.choice(dfs)\n",
        "    ix = len(df)\n",
        "    idx = random.randint(0, ix-1)\n",
        "\n",
        "    question, answer = parse_question_answer(df, idx)\n",
        "\n",
        "    agent_contexts = [[{\"role\": \"user\", \"content\": question}] for agent in range(agents)]\n",
        "\n",
        "    # initilized debate rounds\n",
        "    for round in range(rounds):\n",
        "        for i, agent_context in enumerate(agent_contexts):\n",
        "\n",
        "            if round != 0:\n",
        "                agent_contexts_other = agent_contexts[:i] + agent_contexts[i+1:]\n",
        "                message = construct_message(agent_contexts_other, question, 2 * round - 1)\n",
        "                agent_context.append(message)\n",
        "\n",
        "            completion = generate_answer(agent_context)\n",
        "\n",
        "            assistant_message = construct_assistant_message(completion)\n",
        "            agent_context.append(assistant_message)\n",
        "            print(completion)\n",
        "\n",
        "    # RAG part provides relevant documents\n",
        "\n",
        "\n",
        "\n",
        "    response_dict[question] = (agent_contexts, answer)\n",
        "\n",
        "\n",
        "json.dump(response_dict, open(\"mmlu_{}_{}.json\".format(agents, rounds), \"w\"))\n",
        "\n",
        "#wandb.finish()"
      ]
    },
    {
      "cell_type": "code",
      "source": [
        "file_path = 'mmlu_2_2.json'\n",
        "\n",
        "# Open and read the JSON file\n",
        "with open(file_path, 'r') as file:\n",
        "    data = json.load(file)\n",
        "\n",
        "# Now 'data' contains the contents of the JSON file as a Python dictionary\n",
        "# You can process or print the data as needed\n",
        "print(data)"
      ],
      "metadata": {
        "id": "bzFFWMktb06B"
      },
      "execution_count": null,
      "outputs": []
    },
    {
      "cell_type": "code",
      "source": [
        "len(data['Can you answer the following question as accurately as possible? Let T: R^2 -> R^2 be the linear transformation that maps the point (1, 2) to (2, 3) and the point (-1, 2) to (2, -3). Then T maps the point (2, 1) to: /n/n A) (1, 6), /n B) (-1, 4), /n C) (3, 2), /n D) (-4, 3). /n Explain your answer, putting the answer in the form (X) at the end of your response.'\n",
        "])"
      ],
      "metadata": {
        "colab": {
          "base_uri": "https://localhost:8080/"
        },
        "id": "9rEJ8pJXhHAH",
        "outputId": "3c76733c-8ad5-454b-9270-6bfd792e9ccc"
      },
      "execution_count": 57,
      "outputs": [
        {
          "output_type": "execute_result",
          "data": {
            "text/plain": [
              "2"
            ]
          },
          "metadata": {},
          "execution_count": 57
        }
      ]
    },
    {
      "cell_type": "code",
      "source": [
        "len(data['Can you answer the following question as accurately as possible? Let T: R^2 -> R^2 be the linear transformation that maps the point (1, 2) to (2, 3) and the point (-1, 2) to (2, -3). Then T maps the point (2, 1) to: /n/n A) (1, 6), /n B) (-1, 4), /n C) (3, 2), /n D) (-4, 3). /n Explain your answer, putting the answer in the form (X) at the end of your response.'\n",
        "][0])"
      ],
      "metadata": {
        "colab": {
          "base_uri": "https://localhost:8080/"
        },
        "id": "k6AYUHneh38G",
        "outputId": "1ddb879c-d391-4f55-e35a-af328cc33803"
      },
      "execution_count": 59,
      "outputs": [
        {
          "output_type": "execute_result",
          "data": {
            "text/plain": [
              "2"
            ]
          },
          "metadata": {},
          "execution_count": 59
        }
      ]
    },
    {
      "cell_type": "code",
      "source": [
        "len(data['Can you answer the following question as accurately as possible? Let T: R^2 -> R^2 be the linear transformation that maps the point (1, 2) to (2, 3) and the point (-1, 2) to (2, -3). Then T maps the point (2, 1) to: /n/n A) (1, 6), /n B) (-1, 4), /n C) (3, 2), /n D) (-4, 3). /n Explain your answer, putting the answer in the form (X) at the end of your response.'\n",
        "][0][0])"
      ],
      "metadata": {
        "colab": {
          "base_uri": "https://localhost:8080/"
        },
        "id": "Bud-Yb7ziAo9",
        "outputId": "1e41e533-9006-469c-b559-27d8bca75ca4"
      },
      "execution_count": 61,
      "outputs": [
        {
          "output_type": "execute_result",
          "data": {
            "text/plain": [
              "4"
            ]
          },
          "metadata": {},
          "execution_count": 61
        }
      ]
    },
    {
      "cell_type": "code",
      "source": [
        "data['Can you answer the following question as accurately as possible? Let T: R^2 -> R^2 be the linear transformation that maps the point (1, 2) to (2, 3) and the point (-1, 2) to (2, -3). Then T maps the point (2, 1) to: /n/n A) (1, 6), /n B) (-1, 4), /n C) (3, 2), /n D) (-4, 3). /n Explain your answer, putting the answer in the form (X) at the end of your response.'\n",
        "][0][0]"
      ],
      "metadata": {
        "colab": {
          "base_uri": "https://localhost:8080/"
        },
        "id": "GCfRQdRRiLYf",
        "outputId": "2deeda02-9952-4be9-c6ea-d9e014a95b07"
      },
      "execution_count": 62,
      "outputs": [
        {
          "output_type": "execute_result",
          "data": {
            "text/plain": [
              "[{'role': 'user',\n",
              "  'content': 'Can you answer the following question as accurately as possible? Let T: R^2 -> R^2 be the linear transformation that maps the point (1, 2) to (2, 3) and the point (-1, 2) to (2, -3). Then T maps the point (2, 1) to: /n/n A) (1, 6), /n B) (-1, 4), /n C) (3, 2), /n D) (-4, 3). /n Explain your answer, putting the answer in the form (X) at the end of your response.'},\n",
              " {'role': 'assistant',\n",
              "  'content': \"I'm guessing it would have something do with cross product between vector representation or using matrix... Is this correct ? I can never tell when a hint is required :D Help !! = )\"},\n",
              " {'role': 'user',\n",
              "  'content': \"These are the solutions to the problem from other agents: \\n\\n One agent solution: ```:'s are all wrong..I just used a calculator on these two...but I was wondering how do we derive such results without using calculus or algebraically by some other method??Thanks!! :)```\\n\\n Using the reasoning from other agents as additional advice, can you give an updated answer? Examine your solution and that other agents step by step. /n/n Here is the original question: Can you answer the following question as accurately as possible? Let T: R^2 -> R^2 be the linear transformation that maps the point (1, 2) to (2, 3) and the point (-1, 2) to (2, -3). Then T maps the point (2, 1) to: /n/n A) (1, 6), /n B) (-1, 4), /n C) (3, 2), /n D) (-4, 3). /n Explain your answer, putting the answer in the form (X) at the end of your response.. \"},\n",
              " {'role': 'assistant',\n",
              "  'content': ' I\\'m guessing it would have something do with cross product between vector representation or using matrix... Is this correct ? I can never tell when a hint is required :D Help !! = )<s> These are the solutions to the problem from other agents:One agent solution: ```:\\'s are all wrong..I just used a calculator on these two...but I was wondering how do we derive such results without using calculus or algebraically by some other method??Thanks!! :)``` Using the reasoning from other agents as additional advice, can you give an updated answer? Examine your solution and that other agents step by step. /n/n Here is the original question: .`* _ *_`*_ *_ *__*_*_ **_** __**_\\\\*** **\\\\**** \\\\\\\\/// ***\\\\\\\\\\\\/__// ________/ * \\\\*\\\\*/**/**\\\\\\\\ **/*________ ///////\\\\////////*.________________.__._/************************|/ /\\\\ /// |\\\\// +-----+----------+----+----o-----oo---*--*++-|----O------|-------------\\\\------++-------+--------+\\\\-.=============./^^^@@@^-^\\\\ ^.^*..../.\\\\.............\\\\.....`.\\'````\\'\\'\"\"\"..\\'.\"\\'\".\\'.`*.\\'\".\\'\",`.\\'\\\\ ..`\\'\\'\\'\\'.\\\\\"\"\\'-.\\\\.\\\\..\\\\\\'.,_.;,.;\"\\',\\\\\",,\\\\\";,,_,.-.`\\';.`.`\\\\,.*..*.\\\\.;\\\\. ... .......\" ,,-~.................. ~-,...................,...~,\\' \"~`-*.-.,.-~..;::.!.... ;:.........:\"*`..............-*,.*.:... .:-~,--,\"`,/-~~-'}]"
            ]
          },
          "metadata": {},
          "execution_count": 62
        }
      ]
    },
    {
      "cell_type": "code",
      "source": [
        "from google.colab import files\n",
        "\n",
        "files.download(file_path)"
      ],
      "metadata": {
        "colab": {
          "base_uri": "https://localhost:8080/",
          "height": 17
        },
        "id": "Iql5g82viriN",
        "outputId": "7ce48ffe-382d-455e-8a45-6a3f28e6804f"
      },
      "execution_count": 63,
      "outputs": [
        {
          "output_type": "display_data",
          "data": {
            "text/plain": [
              "<IPython.core.display.Javascript object>"
            ],
            "application/javascript": [
              "\n",
              "    async function download(id, filename, size) {\n",
              "      if (!google.colab.kernel.accessAllowed) {\n",
              "        return;\n",
              "      }\n",
              "      const div = document.createElement('div');\n",
              "      const label = document.createElement('label');\n",
              "      label.textContent = `Downloading \"${filename}\": `;\n",
              "      div.appendChild(label);\n",
              "      const progress = document.createElement('progress');\n",
              "      progress.max = size;\n",
              "      div.appendChild(progress);\n",
              "      document.body.appendChild(div);\n",
              "\n",
              "      const buffers = [];\n",
              "      let downloaded = 0;\n",
              "\n",
              "      const channel = await google.colab.kernel.comms.open(id);\n",
              "      // Send a message to notify the kernel that we're ready.\n",
              "      channel.send({})\n",
              "\n",
              "      for await (const message of channel.messages) {\n",
              "        // Send a message to notify the kernel that we're ready.\n",
              "        channel.send({})\n",
              "        if (message.buffers) {\n",
              "          for (const buffer of message.buffers) {\n",
              "            buffers.push(buffer);\n",
              "            downloaded += buffer.byteLength;\n",
              "            progress.value = downloaded;\n",
              "          }\n",
              "        }\n",
              "      }\n",
              "      const blob = new Blob(buffers, {type: 'application/binary'});\n",
              "      const a = document.createElement('a');\n",
              "      a.href = window.URL.createObjectURL(blob);\n",
              "      a.download = filename;\n",
              "      div.appendChild(a);\n",
              "      a.click();\n",
              "      div.remove();\n",
              "    }\n",
              "  "
            ]
          },
          "metadata": {}
        },
        {
          "output_type": "display_data",
          "data": {
            "text/plain": [
              "<IPython.core.display.Javascript object>"
            ],
            "application/javascript": [
              "download(\"download_681c0629-ac61-4d68-91d3-7b518e4d442b\", \"mmlu_2_2.json\", 44806)"
            ]
          },
          "metadata": {}
        }
      ]
    },
    {
      "cell_type": "markdown",
      "metadata": {
        "id": "2KTVZvw2mH08"
      },
      "source": [
        "# Evaluation on MMLU test data"
      ]
    },
    {
      "cell_type": "markdown",
      "metadata": {
        "id": "xDfgMPJffNjm"
      },
      "source": [
        "# Break_Down Experiment"
      ]
    },
    {
      "cell_type": "code",
      "source": [
        "\n",
        "agents = 2\n",
        "rounds = 2\n",
        "\n",
        "tasks = glob(\"/content/drive/MyDrive/Hallucination/Parse_Data/data/test/*.csv\")\n",
        "\n",
        "dfs = [pd.read_csv(task) for task in tasks]\n",
        "\n",
        "random.seed(3)\n",
        "response_dict = {}\n",
        "\n",
        "for i in range(2):\n",
        "    df = random.choice(dfs)\n",
        "    ix = len(df)\n",
        "    idx = random.randint(0, ix-1)\n",
        "\n",
        "    question, answer = parse_question_answer(df, idx)\n",
        "\n",
        "    agent_contexts = [[{\"role\": \"user\", \"content\": question}] for agent in range(agents)]"
      ],
      "metadata": {
        "id": "dtvlzjw6I0bw"
      },
      "execution_count": 14,
      "outputs": []
    },
    {
      "cell_type": "code",
      "source": [
        "agent_contexts"
      ],
      "metadata": {
        "colab": {
          "base_uri": "https://localhost:8080/"
        },
        "id": "ae4YqGRlJCaQ",
        "outputId": "bfb6c223-e956-4418-87e6-02d79cfc767f"
      },
      "execution_count": 15,
      "outputs": [
        {
          "output_type": "execute_result",
          "data": {
            "text/plain": [
              "[[{'role': 'user',\n",
              "   'content': \"Can you answer the following question as accurately as possible? Patients with which of the following diseases are treated with injections of vitamin B-12?: /n/n A) Bell's palsy, /n B) Crohn's disease, /n C) Pernicious anemia, /n D) Graves' disease. /n Explain your answer, putting the answer in the form (X) at the end of your response.\"}],\n",
              " [{'role': 'user',\n",
              "   'content': \"Can you answer the following question as accurately as possible? Patients with which of the following diseases are treated with injections of vitamin B-12?: /n/n A) Bell's palsy, /n B) Crohn's disease, /n C) Pernicious anemia, /n D) Graves' disease. /n Explain your answer, putting the answer in the form (X) at the end of your response.\"}]]"
            ]
          },
          "metadata": {},
          "execution_count": 15
        }
      ]
    },
    {
      "cell_type": "code",
      "execution_count": 96,
      "metadata": {
        "id": "twM-rMFiv9BM"
      },
      "outputs": [],
      "source": [
        "query = [{'role': 'user',\n",
        "   'content': \"<s> Can you answer the following question as accurately as possible?  Patients with which of the following diseases are treated with injections of vitamin B-12?:  /n/n A) Bell's palsy, /n B) Crohn's disease, /n C) Pernicious anemia, /n D) Graves' disease. /n Explain your answer, putting the answer in the form (X) at the end of your response. </s>\"}]"
      ]
    },
    {
      "cell_type": "code",
      "source": [
        "question = query[0]['content']\n",
        "question"
      ],
      "metadata": {
        "colab": {
          "base_uri": "https://localhost:8080/",
          "height": 70
        },
        "id": "KVWJTPrxeySC",
        "outputId": "e32f1d50-5034-48e2-e2cb-a20fca917d11"
      },
      "execution_count": 97,
      "outputs": [
        {
          "output_type": "execute_result",
          "data": {
            "text/plain": [
              "\"<s> Can you answer the following question as accurately as possible?  Patients with which of the following diseases are treated with injections of vitamin B-12?:  /n/n A) Bell's palsy, /n B) Crohn's disease, /n C) Pernicious anemia, /n D) Graves' disease. /n Explain your answer, putting the answer in the form (X) at the end of your response. </s>\""
            ],
            "application/vnd.google.colaboratory.intrinsic+json": {
              "type": "string"
            }
          },
          "metadata": {},
          "execution_count": 97
        }
      ]
    },
    {
      "cell_type": "code",
      "source": [
        "output_text = generate_answer(query)"
      ],
      "metadata": {
        "id": "zqQMjYZSBjjG"
      },
      "execution_count": 100,
      "outputs": []
    },
    {
      "cell_type": "code",
      "source": [
        "output_text"
      ],
      "metadata": {
        "colab": {
          "base_uri": "https://localhost:8080/",
          "height": 122
        },
        "id": "GndEmS0RBjmr",
        "outputId": "378a3f5c-b4df-491a-e68f-1df767a85851"
      },
      "execution_count": 101,
      "outputs": [
        {
          "output_type": "execute_result",
          "data": {
            "text/plain": [
              "'.   \\n Please read each statement below and indicate whether it is true or false by placing a T for True on one side of this page only; if False place F opposite that item number.]   I have been told to take Vitamins E &amp; K daily because they help prevent heart attacks./nI know what food sources contain folic acid such as green leaf vegetables like spinach etc., but not all people can absorb enough from their diet so supplementation may be necessary/.nVitamin deficiencies cause many health problems including birth defects,. nThe body cannot make its own essential fatty acids therefore we must get them through our diets..nFolates found naturally occurring in fruits and veggies protect against cancerous cells growing out control .nAscorbyl palmitate helps keep skin looking young due to antioxidant properties ..nMineral salts'"
            ],
            "application/vnd.google.colaboratory.intrinsic+json": {
              "type": "string"
            }
          },
          "metadata": {},
          "execution_count": 101
        }
      ]
    },
    {
      "cell_type": "code",
      "source": [],
      "metadata": {
        "id": "0H-uPE3cIPW7"
      },
      "execution_count": null,
      "outputs": []
    },
    {
      "cell_type": "code",
      "source": [],
      "metadata": {
        "id": "fGSB3KwYIPZo"
      },
      "execution_count": null,
      "outputs": []
    },
    {
      "cell_type": "code",
      "source": [
        "query_1 = [{\n",
        "            'role': 'user',\n",
        "            'content': \"<s> can you tell me who is kobe bryant? </s>\"\n",
        "}]"
      ],
      "metadata": {
        "id": "83JW9xc1BjtC"
      },
      "execution_count": 102,
      "outputs": []
    },
    {
      "cell_type": "code",
      "source": [
        "output_text1 = generate_answer(query_1)\n",
        "output_text1"
      ],
      "metadata": {
        "id": "oLF5LYKfBjvk",
        "colab": {
          "base_uri": "https://localhost:8080/",
          "height": 87
        },
        "outputId": "f85dc597-e95c-4628-cf04-fdbbaae4db2c"
      },
      "execution_count": 103,
      "outputs": [
        {
          "output_type": "execute_result",
          "data": {
            "text/plain": [
              "'?   \\n i know he plays basketball but that\\'s about it. please help!\\u200b\\nKOBE BRYANT IS A PLAYER FOR THE LOS ANGELES LAKEERS AND HE WAS ONCE MARRIED TO VANNA WHITE FROM \"WHEEL OF FORTUN\" HIS MOTHER NAMED AFTER KOREY ELLISON . I THINKS YOU SHOULD BE ABLE TOP GET IT NOW! GOODLUCk!!!!!:smile2::grouphug: :thumbup:\\nHe played for the Los Angeles Lakeers and won an NBA championship in his rookie year, then went to Italy where they didn’t like him because of something called “the rape thing” which happened when Bryan Stow got beat up'"
            ],
            "application/vnd.google.colaboratory.intrinsic+json": {
              "type": "string"
            }
          },
          "metadata": {},
          "execution_count": 103
        }
      ]
    },
    {
      "cell_type": "code",
      "source": [],
      "metadata": {
        "id": "Gk7LF2V2BjyD"
      },
      "execution_count": null,
      "outputs": []
    },
    {
      "cell_type": "code",
      "source": [],
      "metadata": {
        "id": "AQtTwsc8Bj03"
      },
      "execution_count": null,
      "outputs": []
    },
    {
      "cell_type": "code",
      "source": [],
      "metadata": {
        "id": "s0-3yRbwfJyl"
      },
      "execution_count": null,
      "outputs": []
    },
    {
      "cell_type": "code",
      "source": [],
      "metadata": {
        "id": "hfr2nOaZfJ16"
      },
      "execution_count": null,
      "outputs": []
    },
    {
      "cell_type": "code",
      "source": [],
      "metadata": {
        "id": "5ZZVIBIkfJ4z"
      },
      "execution_count": null,
      "outputs": []
    },
    {
      "cell_type": "code",
      "source": [],
      "metadata": {
        "id": "vGf3KOKifJ7v"
      },
      "execution_count": null,
      "outputs": []
    },
    {
      "cell_type": "code",
      "execution_count": null,
      "metadata": {
        "colab": {
          "base_uri": "https://localhost:8080/",
          "height": 35
        },
        "id": "gPAmhV1KheuS",
        "outputId": "9e5f0a14-5e3a-4b71-8c66-196f7cd120f4"
      },
      "outputs": [
        {
          "output_type": "execute_result",
          "data": {
            "text/plain": [
              "'\\nThe correct option for this multiple choice questions are: All Of The Aboves'"
            ],
            "application/vnd.google.colaboratory.intrinsic+json": {
              "type": "string"
            }
          },
          "metadata": {},
          "execution_count": 247
        }
      ],
      "source": [
        "completion"
      ]
    },
    {
      "cell_type": "code",
      "execution_count": null,
      "metadata": {
        "id": "ohpCpe6Ehew8"
      },
      "outputs": [],
      "source": [
        "assistant_message = construct_assistant_message(completion)"
      ]
    },
    {
      "cell_type": "code",
      "execution_count": null,
      "metadata": {
        "colab": {
          "base_uri": "https://localhost:8080/"
        },
        "id": "RoCq0vsbkPaN",
        "outputId": "f1a91386-b5e9-4569-8456-c93bd1c2e56f"
      },
      "outputs": [
        {
          "output_type": "execute_result",
          "data": {
            "text/plain": [
              "{'role': 'assistant',\n",
              " 'content': \"The correct answer is: D). The reason for this choice is because all four women are considered to be Doctors of the Church and have been recognized by the Catholic church as saints. However, only two of them were named “Doctor” during their lifetimes – Sts. Therese of Lisieux and Francis de Sales. In fact, it wasn’t until 1970 when Pope Paul VI declared both these individuals Saints; prior to then they had simply been known as holy people who lived lives dedicated entirely towards serving God through prayer & service toward others around us! This makes sense since each one possessed unique gifts which allowed them access into heavenly realms where angels reside alongside Jesus Christ Himself…and so on down below earth level too! We can learn much from studying how these great souls interacted with those above AND below ground levels alike—but let me tell ya', there'll never ever again come another like '\"}"
            ]
          },
          "metadata": {},
          "execution_count": 59
        }
      ],
      "source": [
        "assistant_message"
      ]
    },
    {
      "cell_type": "code",
      "execution_count": null,
      "metadata": {
        "colab": {
          "base_uri": "https://localhost:8080/",
          "height": 214
        },
        "id": "YK5oWwNvFrUf",
        "outputId": "2f55104f-1257-4d7a-b550-7eb90b3c098e"
      },
      "outputs": [
        {
          "output_type": "execute_result",
          "data": {
            "text/plain": [
              "'Answers: 38759604\\nCrohne’ s is a chronic inflammatory bowel disorder characterized by abdominal pain and diarrhea that can be life threatening if untreated or left undiagnosed for too long time . It usually begins between ages fifteen to thirty five years old , but it has been known even among children younger than ten year age [1]. The symptoms include severe cramps on lower part right side stomach area followed after some minutes from constipation due mainly because intestine muscles become paralyzed resulting into digestion process failure therefore causing accumulation waste products within body system leading eventually towards depression mood swings anxiety attacks etc., This condition also causes ulcerations around mouth region along gums teeth enabling bacteria access inside bloodstream where they begin multiplying rapidly spread throughout entire immune defense mechanism ultimately killing off vital organs such lungs liver heart brain kidney eyes ears nose throat tongue esophagus rectum vascular tissue skin hair follicles nails feces urinary tract reproductive systems bladder pancreas gallbladders appendix colon sigmoidoscopy prostate uteruses ovaries testicles thyroid adrenalin medulla nervous ganglions spines tendons ligaments cartilage joint capsules menisci'"
            ],
            "application/vnd.google.colaboratory.intrinsic+json": {
              "type": "string"
            }
          },
          "metadata": {},
          "execution_count": 25
        }
      ],
      "source": [
        "output_text"
      ]
    }
  ],
  "metadata": {
    "accelerator": "GPU",
    "colab": {
      "machine_shape": "hm",
      "provenance": [],
      "gpuType": "V100"
    },
    "kernelspec": {
      "display_name": "Python 3",
      "name": "python3"
    },
    "language_info": {
      "name": "python"
    },
    "widgets": {
      "application/vnd.jupyter.widget-state+json": {
        "63e12d37c0d0443c80659bce4194b0cb": {
          "model_module": "@jupyter-widgets/controls",
          "model_name": "HBoxModel",
          "model_module_version": "1.5.0",
          "state": {
            "_dom_classes": [],
            "_model_module": "@jupyter-widgets/controls",
            "_model_module_version": "1.5.0",
            "_model_name": "HBoxModel",
            "_view_count": null,
            "_view_module": "@jupyter-widgets/controls",
            "_view_module_version": "1.5.0",
            "_view_name": "HBoxView",
            "box_style": "",
            "children": [
              "IPY_MODEL_c5ea95620d004335baaced1f678bb7c1",
              "IPY_MODEL_4f36face6dbf4ff28f40cd7389638c26",
              "IPY_MODEL_ab208fa144e9480c98181a82bfef7aca"
            ],
            "layout": "IPY_MODEL_152ab6e07aac49878605a7a57f9dde61"
          }
        },
        "c5ea95620d004335baaced1f678bb7c1": {
          "model_module": "@jupyter-widgets/controls",
          "model_name": "HTMLModel",
          "model_module_version": "1.5.0",
          "state": {
            "_dom_classes": [],
            "_model_module": "@jupyter-widgets/controls",
            "_model_module_version": "1.5.0",
            "_model_name": "HTMLModel",
            "_view_count": null,
            "_view_module": "@jupyter-widgets/controls",
            "_view_module_version": "1.5.0",
            "_view_name": "HTMLView",
            "description": "",
            "description_tooltip": null,
            "layout": "IPY_MODEL_12659ec3246e4269b951a315db04af7c",
            "placeholder": "​",
            "style": "IPY_MODEL_89b18f5bd55c4a909e507f58bd7cea9c",
            "value": "Downloading tokenizer_config.json: 100%"
          }
        },
        "4f36face6dbf4ff28f40cd7389638c26": {
          "model_module": "@jupyter-widgets/controls",
          "model_name": "FloatProgressModel",
          "model_module_version": "1.5.0",
          "state": {
            "_dom_classes": [],
            "_model_module": "@jupyter-widgets/controls",
            "_model_module_version": "1.5.0",
            "_model_name": "FloatProgressModel",
            "_view_count": null,
            "_view_module": "@jupyter-widgets/controls",
            "_view_module_version": "1.5.0",
            "_view_name": "ProgressView",
            "bar_style": "success",
            "description": "",
            "description_tooltip": null,
            "layout": "IPY_MODEL_8a1807a7d9324136a77cf224f28cd6ba",
            "max": 443,
            "min": 0,
            "orientation": "horizontal",
            "style": "IPY_MODEL_286322debcca49178c5f81c080cff97e",
            "value": 443
          }
        },
        "ab208fa144e9480c98181a82bfef7aca": {
          "model_module": "@jupyter-widgets/controls",
          "model_name": "HTMLModel",
          "model_module_version": "1.5.0",
          "state": {
            "_dom_classes": [],
            "_model_module": "@jupyter-widgets/controls",
            "_model_module_version": "1.5.0",
            "_model_name": "HTMLModel",
            "_view_count": null,
            "_view_module": "@jupyter-widgets/controls",
            "_view_module_version": "1.5.0",
            "_view_name": "HTMLView",
            "description": "",
            "description_tooltip": null,
            "layout": "IPY_MODEL_aabbee87b7cc48f5bafa074e13454c7a",
            "placeholder": "​",
            "style": "IPY_MODEL_88033d99155e4891b09581bd4ced96c9",
            "value": " 443/443 [00:00&lt;00:00, 30.5kB/s]"
          }
        },
        "152ab6e07aac49878605a7a57f9dde61": {
          "model_module": "@jupyter-widgets/base",
          "model_name": "LayoutModel",
          "model_module_version": "1.2.0",
          "state": {
            "_model_module": "@jupyter-widgets/base",
            "_model_module_version": "1.2.0",
            "_model_name": "LayoutModel",
            "_view_count": null,
            "_view_module": "@jupyter-widgets/base",
            "_view_module_version": "1.2.0",
            "_view_name": "LayoutView",
            "align_content": null,
            "align_items": null,
            "align_self": null,
            "border": null,
            "bottom": null,
            "display": null,
            "flex": null,
            "flex_flow": null,
            "grid_area": null,
            "grid_auto_columns": null,
            "grid_auto_flow": null,
            "grid_auto_rows": null,
            "grid_column": null,
            "grid_gap": null,
            "grid_row": null,
            "grid_template_areas": null,
            "grid_template_columns": null,
            "grid_template_rows": null,
            "height": null,
            "justify_content": null,
            "justify_items": null,
            "left": null,
            "margin": null,
            "max_height": null,
            "max_width": null,
            "min_height": null,
            "min_width": null,
            "object_fit": null,
            "object_position": null,
            "order": null,
            "overflow": null,
            "overflow_x": null,
            "overflow_y": null,
            "padding": null,
            "right": null,
            "top": null,
            "visibility": null,
            "width": null
          }
        },
        "12659ec3246e4269b951a315db04af7c": {
          "model_module": "@jupyter-widgets/base",
          "model_name": "LayoutModel",
          "model_module_version": "1.2.0",
          "state": {
            "_model_module": "@jupyter-widgets/base",
            "_model_module_version": "1.2.0",
            "_model_name": "LayoutModel",
            "_view_count": null,
            "_view_module": "@jupyter-widgets/base",
            "_view_module_version": "1.2.0",
            "_view_name": "LayoutView",
            "align_content": null,
            "align_items": null,
            "align_self": null,
            "border": null,
            "bottom": null,
            "display": null,
            "flex": null,
            "flex_flow": null,
            "grid_area": null,
            "grid_auto_columns": null,
            "grid_auto_flow": null,
            "grid_auto_rows": null,
            "grid_column": null,
            "grid_gap": null,
            "grid_row": null,
            "grid_template_areas": null,
            "grid_template_columns": null,
            "grid_template_rows": null,
            "height": null,
            "justify_content": null,
            "justify_items": null,
            "left": null,
            "margin": null,
            "max_height": null,
            "max_width": null,
            "min_height": null,
            "min_width": null,
            "object_fit": null,
            "object_position": null,
            "order": null,
            "overflow": null,
            "overflow_x": null,
            "overflow_y": null,
            "padding": null,
            "right": null,
            "top": null,
            "visibility": null,
            "width": null
          }
        },
        "89b18f5bd55c4a909e507f58bd7cea9c": {
          "model_module": "@jupyter-widgets/controls",
          "model_name": "DescriptionStyleModel",
          "model_module_version": "1.5.0",
          "state": {
            "_model_module": "@jupyter-widgets/controls",
            "_model_module_version": "1.5.0",
            "_model_name": "DescriptionStyleModel",
            "_view_count": null,
            "_view_module": "@jupyter-widgets/base",
            "_view_module_version": "1.2.0",
            "_view_name": "StyleView",
            "description_width": ""
          }
        },
        "8a1807a7d9324136a77cf224f28cd6ba": {
          "model_module": "@jupyter-widgets/base",
          "model_name": "LayoutModel",
          "model_module_version": "1.2.0",
          "state": {
            "_model_module": "@jupyter-widgets/base",
            "_model_module_version": "1.2.0",
            "_model_name": "LayoutModel",
            "_view_count": null,
            "_view_module": "@jupyter-widgets/base",
            "_view_module_version": "1.2.0",
            "_view_name": "LayoutView",
            "align_content": null,
            "align_items": null,
            "align_self": null,
            "border": null,
            "bottom": null,
            "display": null,
            "flex": null,
            "flex_flow": null,
            "grid_area": null,
            "grid_auto_columns": null,
            "grid_auto_flow": null,
            "grid_auto_rows": null,
            "grid_column": null,
            "grid_gap": null,
            "grid_row": null,
            "grid_template_areas": null,
            "grid_template_columns": null,
            "grid_template_rows": null,
            "height": null,
            "justify_content": null,
            "justify_items": null,
            "left": null,
            "margin": null,
            "max_height": null,
            "max_width": null,
            "min_height": null,
            "min_width": null,
            "object_fit": null,
            "object_position": null,
            "order": null,
            "overflow": null,
            "overflow_x": null,
            "overflow_y": null,
            "padding": null,
            "right": null,
            "top": null,
            "visibility": null,
            "width": null
          }
        },
        "286322debcca49178c5f81c080cff97e": {
          "model_module": "@jupyter-widgets/controls",
          "model_name": "ProgressStyleModel",
          "model_module_version": "1.5.0",
          "state": {
            "_model_module": "@jupyter-widgets/controls",
            "_model_module_version": "1.5.0",
            "_model_name": "ProgressStyleModel",
            "_view_count": null,
            "_view_module": "@jupyter-widgets/base",
            "_view_module_version": "1.2.0",
            "_view_name": "StyleView",
            "bar_color": null,
            "description_width": ""
          }
        },
        "aabbee87b7cc48f5bafa074e13454c7a": {
          "model_module": "@jupyter-widgets/base",
          "model_name": "LayoutModel",
          "model_module_version": "1.2.0",
          "state": {
            "_model_module": "@jupyter-widgets/base",
            "_model_module_version": "1.2.0",
            "_model_name": "LayoutModel",
            "_view_count": null,
            "_view_module": "@jupyter-widgets/base",
            "_view_module_version": "1.2.0",
            "_view_name": "LayoutView",
            "align_content": null,
            "align_items": null,
            "align_self": null,
            "border": null,
            "bottom": null,
            "display": null,
            "flex": null,
            "flex_flow": null,
            "grid_area": null,
            "grid_auto_columns": null,
            "grid_auto_flow": null,
            "grid_auto_rows": null,
            "grid_column": null,
            "grid_gap": null,
            "grid_row": null,
            "grid_template_areas": null,
            "grid_template_columns": null,
            "grid_template_rows": null,
            "height": null,
            "justify_content": null,
            "justify_items": null,
            "left": null,
            "margin": null,
            "max_height": null,
            "max_width": null,
            "min_height": null,
            "min_width": null,
            "object_fit": null,
            "object_position": null,
            "order": null,
            "overflow": null,
            "overflow_x": null,
            "overflow_y": null,
            "padding": null,
            "right": null,
            "top": null,
            "visibility": null,
            "width": null
          }
        },
        "88033d99155e4891b09581bd4ced96c9": {
          "model_module": "@jupyter-widgets/controls",
          "model_name": "DescriptionStyleModel",
          "model_module_version": "1.5.0",
          "state": {
            "_model_module": "@jupyter-widgets/controls",
            "_model_module_version": "1.5.0",
            "_model_name": "DescriptionStyleModel",
            "_view_count": null,
            "_view_module": "@jupyter-widgets/base",
            "_view_module_version": "1.2.0",
            "_view_name": "StyleView",
            "description_width": ""
          }
        },
        "af9c457a8d764787ad26cdc6a00958bd": {
          "model_module": "@jupyter-widgets/controls",
          "model_name": "HBoxModel",
          "model_module_version": "1.5.0",
          "state": {
            "_dom_classes": [],
            "_model_module": "@jupyter-widgets/controls",
            "_model_module_version": "1.5.0",
            "_model_name": "HBoxModel",
            "_view_count": null,
            "_view_module": "@jupyter-widgets/controls",
            "_view_module_version": "1.5.0",
            "_view_name": "HBoxView",
            "box_style": "",
            "children": [
              "IPY_MODEL_ac1287915a3a4798b59bfc1f930e0dc2",
              "IPY_MODEL_69258e83c8f248618fcfb4081fa28732",
              "IPY_MODEL_b65b8ea110ec4b1bab358d87771336fa"
            ],
            "layout": "IPY_MODEL_83ac666d698d47e7a3841ce6330513b9"
          }
        },
        "ac1287915a3a4798b59bfc1f930e0dc2": {
          "model_module": "@jupyter-widgets/controls",
          "model_name": "HTMLModel",
          "model_module_version": "1.5.0",
          "state": {
            "_dom_classes": [],
            "_model_module": "@jupyter-widgets/controls",
            "_model_module_version": "1.5.0",
            "_model_name": "HTMLModel",
            "_view_count": null,
            "_view_module": "@jupyter-widgets/controls",
            "_view_module_version": "1.5.0",
            "_view_name": "HTMLView",
            "description": "",
            "description_tooltip": null,
            "layout": "IPY_MODEL_6ef9f20fc196499195f22bc6c670928c",
            "placeholder": "​",
            "style": "IPY_MODEL_a6dd12aa0ae643d4bf6e4eb0d71c86d5",
            "value": "Downloading (…)tencepiece.bpe.model: 100%"
          }
        },
        "69258e83c8f248618fcfb4081fa28732": {
          "model_module": "@jupyter-widgets/controls",
          "model_name": "FloatProgressModel",
          "model_module_version": "1.5.0",
          "state": {
            "_dom_classes": [],
            "_model_module": "@jupyter-widgets/controls",
            "_model_module_version": "1.5.0",
            "_model_name": "FloatProgressModel",
            "_view_count": null,
            "_view_module": "@jupyter-widgets/controls",
            "_view_module_version": "1.5.0",
            "_view_name": "ProgressView",
            "bar_style": "success",
            "description": "",
            "description_tooltip": null,
            "layout": "IPY_MODEL_9deb82fdb85d4dd381ffc1f93ef0db8b",
            "max": 5069051,
            "min": 0,
            "orientation": "horizontal",
            "style": "IPY_MODEL_ac83424a45cd40deaac7d34c2695a2f8",
            "value": 5069051
          }
        },
        "b65b8ea110ec4b1bab358d87771336fa": {
          "model_module": "@jupyter-widgets/controls",
          "model_name": "HTMLModel",
          "model_module_version": "1.5.0",
          "state": {
            "_dom_classes": [],
            "_model_module": "@jupyter-widgets/controls",
            "_model_module_version": "1.5.0",
            "_model_name": "HTMLModel",
            "_view_count": null,
            "_view_module": "@jupyter-widgets/controls",
            "_view_module_version": "1.5.0",
            "_view_name": "HTMLView",
            "description": "",
            "description_tooltip": null,
            "layout": "IPY_MODEL_41ac40a32d0448e395cf77c7f119168a",
            "placeholder": "​",
            "style": "IPY_MODEL_d1f99e69fe8a46b985219ce18314240f",
            "value": " 5.07M/5.07M [00:00&lt;00:00, 177MB/s]"
          }
        },
        "83ac666d698d47e7a3841ce6330513b9": {
          "model_module": "@jupyter-widgets/base",
          "model_name": "LayoutModel",
          "model_module_version": "1.2.0",
          "state": {
            "_model_module": "@jupyter-widgets/base",
            "_model_module_version": "1.2.0",
            "_model_name": "LayoutModel",
            "_view_count": null,
            "_view_module": "@jupyter-widgets/base",
            "_view_module_version": "1.2.0",
            "_view_name": "LayoutView",
            "align_content": null,
            "align_items": null,
            "align_self": null,
            "border": null,
            "bottom": null,
            "display": null,
            "flex": null,
            "flex_flow": null,
            "grid_area": null,
            "grid_auto_columns": null,
            "grid_auto_flow": null,
            "grid_auto_rows": null,
            "grid_column": null,
            "grid_gap": null,
            "grid_row": null,
            "grid_template_areas": null,
            "grid_template_columns": null,
            "grid_template_rows": null,
            "height": null,
            "justify_content": null,
            "justify_items": null,
            "left": null,
            "margin": null,
            "max_height": null,
            "max_width": null,
            "min_height": null,
            "min_width": null,
            "object_fit": null,
            "object_position": null,
            "order": null,
            "overflow": null,
            "overflow_x": null,
            "overflow_y": null,
            "padding": null,
            "right": null,
            "top": null,
            "visibility": null,
            "width": null
          }
        },
        "6ef9f20fc196499195f22bc6c670928c": {
          "model_module": "@jupyter-widgets/base",
          "model_name": "LayoutModel",
          "model_module_version": "1.2.0",
          "state": {
            "_model_module": "@jupyter-widgets/base",
            "_model_module_version": "1.2.0",
            "_model_name": "LayoutModel",
            "_view_count": null,
            "_view_module": "@jupyter-widgets/base",
            "_view_module_version": "1.2.0",
            "_view_name": "LayoutView",
            "align_content": null,
            "align_items": null,
            "align_self": null,
            "border": null,
            "bottom": null,
            "display": null,
            "flex": null,
            "flex_flow": null,
            "grid_area": null,
            "grid_auto_columns": null,
            "grid_auto_flow": null,
            "grid_auto_rows": null,
            "grid_column": null,
            "grid_gap": null,
            "grid_row": null,
            "grid_template_areas": null,
            "grid_template_columns": null,
            "grid_template_rows": null,
            "height": null,
            "justify_content": null,
            "justify_items": null,
            "left": null,
            "margin": null,
            "max_height": null,
            "max_width": null,
            "min_height": null,
            "min_width": null,
            "object_fit": null,
            "object_position": null,
            "order": null,
            "overflow": null,
            "overflow_x": null,
            "overflow_y": null,
            "padding": null,
            "right": null,
            "top": null,
            "visibility": null,
            "width": null
          }
        },
        "a6dd12aa0ae643d4bf6e4eb0d71c86d5": {
          "model_module": "@jupyter-widgets/controls",
          "model_name": "DescriptionStyleModel",
          "model_module_version": "1.5.0",
          "state": {
            "_model_module": "@jupyter-widgets/controls",
            "_model_module_version": "1.5.0",
            "_model_name": "DescriptionStyleModel",
            "_view_count": null,
            "_view_module": "@jupyter-widgets/base",
            "_view_module_version": "1.2.0",
            "_view_name": "StyleView",
            "description_width": ""
          }
        },
        "9deb82fdb85d4dd381ffc1f93ef0db8b": {
          "model_module": "@jupyter-widgets/base",
          "model_name": "LayoutModel",
          "model_module_version": "1.2.0",
          "state": {
            "_model_module": "@jupyter-widgets/base",
            "_model_module_version": "1.2.0",
            "_model_name": "LayoutModel",
            "_view_count": null,
            "_view_module": "@jupyter-widgets/base",
            "_view_module_version": "1.2.0",
            "_view_name": "LayoutView",
            "align_content": null,
            "align_items": null,
            "align_self": null,
            "border": null,
            "bottom": null,
            "display": null,
            "flex": null,
            "flex_flow": null,
            "grid_area": null,
            "grid_auto_columns": null,
            "grid_auto_flow": null,
            "grid_auto_rows": null,
            "grid_column": null,
            "grid_gap": null,
            "grid_row": null,
            "grid_template_areas": null,
            "grid_template_columns": null,
            "grid_template_rows": null,
            "height": null,
            "justify_content": null,
            "justify_items": null,
            "left": null,
            "margin": null,
            "max_height": null,
            "max_width": null,
            "min_height": null,
            "min_width": null,
            "object_fit": null,
            "object_position": null,
            "order": null,
            "overflow": null,
            "overflow_x": null,
            "overflow_y": null,
            "padding": null,
            "right": null,
            "top": null,
            "visibility": null,
            "width": null
          }
        },
        "ac83424a45cd40deaac7d34c2695a2f8": {
          "model_module": "@jupyter-widgets/controls",
          "model_name": "ProgressStyleModel",
          "model_module_version": "1.5.0",
          "state": {
            "_model_module": "@jupyter-widgets/controls",
            "_model_module_version": "1.5.0",
            "_model_name": "ProgressStyleModel",
            "_view_count": null,
            "_view_module": "@jupyter-widgets/base",
            "_view_module_version": "1.2.0",
            "_view_name": "StyleView",
            "bar_color": null,
            "description_width": ""
          }
        },
        "41ac40a32d0448e395cf77c7f119168a": {
          "model_module": "@jupyter-widgets/base",
          "model_name": "LayoutModel",
          "model_module_version": "1.2.0",
          "state": {
            "_model_module": "@jupyter-widgets/base",
            "_model_module_version": "1.2.0",
            "_model_name": "LayoutModel",
            "_view_count": null,
            "_view_module": "@jupyter-widgets/base",
            "_view_module_version": "1.2.0",
            "_view_name": "LayoutView",
            "align_content": null,
            "align_items": null,
            "align_self": null,
            "border": null,
            "bottom": null,
            "display": null,
            "flex": null,
            "flex_flow": null,
            "grid_area": null,
            "grid_auto_columns": null,
            "grid_auto_flow": null,
            "grid_auto_rows": null,
            "grid_column": null,
            "grid_gap": null,
            "grid_row": null,
            "grid_template_areas": null,
            "grid_template_columns": null,
            "grid_template_rows": null,
            "height": null,
            "justify_content": null,
            "justify_items": null,
            "left": null,
            "margin": null,
            "max_height": null,
            "max_width": null,
            "min_height": null,
            "min_width": null,
            "object_fit": null,
            "object_position": null,
            "order": null,
            "overflow": null,
            "overflow_x": null,
            "overflow_y": null,
            "padding": null,
            "right": null,
            "top": null,
            "visibility": null,
            "width": null
          }
        },
        "d1f99e69fe8a46b985219ce18314240f": {
          "model_module": "@jupyter-widgets/controls",
          "model_name": "DescriptionStyleModel",
          "model_module_version": "1.5.0",
          "state": {
            "_model_module": "@jupyter-widgets/controls",
            "_model_module_version": "1.5.0",
            "_model_name": "DescriptionStyleModel",
            "_view_count": null,
            "_view_module": "@jupyter-widgets/base",
            "_view_module_version": "1.2.0",
            "_view_name": "StyleView",
            "description_width": ""
          }
        },
        "d52403e7599144dd9ea0a691a2ad6fdf": {
          "model_module": "@jupyter-widgets/controls",
          "model_name": "HBoxModel",
          "model_module_version": "1.5.0",
          "state": {
            "_dom_classes": [],
            "_model_module": "@jupyter-widgets/controls",
            "_model_module_version": "1.5.0",
            "_model_name": "HBoxModel",
            "_view_count": null,
            "_view_module": "@jupyter-widgets/controls",
            "_view_module_version": "1.5.0",
            "_view_name": "HBoxView",
            "box_style": "",
            "children": [
              "IPY_MODEL_be39774dd97d4a7d8924ae2e8656daa9",
              "IPY_MODEL_fa8d205da133416d94b66f0df03ae67d",
              "IPY_MODEL_11b0680091744011ba1d62aee2edb25f"
            ],
            "layout": "IPY_MODEL_bf0e34c5d6b644e6934252aa4c0bb9fe"
          }
        },
        "be39774dd97d4a7d8924ae2e8656daa9": {
          "model_module": "@jupyter-widgets/controls",
          "model_name": "HTMLModel",
          "model_module_version": "1.5.0",
          "state": {
            "_dom_classes": [],
            "_model_module": "@jupyter-widgets/controls",
            "_model_module_version": "1.5.0",
            "_model_name": "HTMLModel",
            "_view_count": null,
            "_view_module": "@jupyter-widgets/controls",
            "_view_module_version": "1.5.0",
            "_view_name": "HTMLView",
            "description": "",
            "description_tooltip": null,
            "layout": "IPY_MODEL_589b57b752ad40f69e50dbc50ed95afd",
            "placeholder": "​",
            "style": "IPY_MODEL_3e0f9d190100471ca33c3aafc7553fe2",
            "value": "Downloading tokenizer.json: 100%"
          }
        },
        "fa8d205da133416d94b66f0df03ae67d": {
          "model_module": "@jupyter-widgets/controls",
          "model_name": "FloatProgressModel",
          "model_module_version": "1.5.0",
          "state": {
            "_dom_classes": [],
            "_model_module": "@jupyter-widgets/controls",
            "_model_module_version": "1.5.0",
            "_model_name": "FloatProgressModel",
            "_view_count": null,
            "_view_module": "@jupyter-widgets/controls",
            "_view_module_version": "1.5.0",
            "_view_name": "ProgressView",
            "bar_style": "success",
            "description": "",
            "description_tooltip": null,
            "layout": "IPY_MODEL_f910d1792d684f8d891d748f455eeafa",
            "max": 17098107,
            "min": 0,
            "orientation": "horizontal",
            "style": "IPY_MODEL_889979c15340432885241dc540027709",
            "value": 17098107
          }
        },
        "11b0680091744011ba1d62aee2edb25f": {
          "model_module": "@jupyter-widgets/controls",
          "model_name": "HTMLModel",
          "model_module_version": "1.5.0",
          "state": {
            "_dom_classes": [],
            "_model_module": "@jupyter-widgets/controls",
            "_model_module_version": "1.5.0",
            "_model_name": "HTMLModel",
            "_view_count": null,
            "_view_module": "@jupyter-widgets/controls",
            "_view_module_version": "1.5.0",
            "_view_name": "HTMLView",
            "description": "",
            "description_tooltip": null,
            "layout": "IPY_MODEL_a1c24dd0b3af4e31a4912f5c95016fdd",
            "placeholder": "​",
            "style": "IPY_MODEL_84790e50d8d84a5abb6bde4d91c3036b",
            "value": " 17.1M/17.1M [00:00&lt;00:00, 251MB/s]"
          }
        },
        "bf0e34c5d6b644e6934252aa4c0bb9fe": {
          "model_module": "@jupyter-widgets/base",
          "model_name": "LayoutModel",
          "model_module_version": "1.2.0",
          "state": {
            "_model_module": "@jupyter-widgets/base",
            "_model_module_version": "1.2.0",
            "_model_name": "LayoutModel",
            "_view_count": null,
            "_view_module": "@jupyter-widgets/base",
            "_view_module_version": "1.2.0",
            "_view_name": "LayoutView",
            "align_content": null,
            "align_items": null,
            "align_self": null,
            "border": null,
            "bottom": null,
            "display": null,
            "flex": null,
            "flex_flow": null,
            "grid_area": null,
            "grid_auto_columns": null,
            "grid_auto_flow": null,
            "grid_auto_rows": null,
            "grid_column": null,
            "grid_gap": null,
            "grid_row": null,
            "grid_template_areas": null,
            "grid_template_columns": null,
            "grid_template_rows": null,
            "height": null,
            "justify_content": null,
            "justify_items": null,
            "left": null,
            "margin": null,
            "max_height": null,
            "max_width": null,
            "min_height": null,
            "min_width": null,
            "object_fit": null,
            "object_position": null,
            "order": null,
            "overflow": null,
            "overflow_x": null,
            "overflow_y": null,
            "padding": null,
            "right": null,
            "top": null,
            "visibility": null,
            "width": null
          }
        },
        "589b57b752ad40f69e50dbc50ed95afd": {
          "model_module": "@jupyter-widgets/base",
          "model_name": "LayoutModel",
          "model_module_version": "1.2.0",
          "state": {
            "_model_module": "@jupyter-widgets/base",
            "_model_module_version": "1.2.0",
            "_model_name": "LayoutModel",
            "_view_count": null,
            "_view_module": "@jupyter-widgets/base",
            "_view_module_version": "1.2.0",
            "_view_name": "LayoutView",
            "align_content": null,
            "align_items": null,
            "align_self": null,
            "border": null,
            "bottom": null,
            "display": null,
            "flex": null,
            "flex_flow": null,
            "grid_area": null,
            "grid_auto_columns": null,
            "grid_auto_flow": null,
            "grid_auto_rows": null,
            "grid_column": null,
            "grid_gap": null,
            "grid_row": null,
            "grid_template_areas": null,
            "grid_template_columns": null,
            "grid_template_rows": null,
            "height": null,
            "justify_content": null,
            "justify_items": null,
            "left": null,
            "margin": null,
            "max_height": null,
            "max_width": null,
            "min_height": null,
            "min_width": null,
            "object_fit": null,
            "object_position": null,
            "order": null,
            "overflow": null,
            "overflow_x": null,
            "overflow_y": null,
            "padding": null,
            "right": null,
            "top": null,
            "visibility": null,
            "width": null
          }
        },
        "3e0f9d190100471ca33c3aafc7553fe2": {
          "model_module": "@jupyter-widgets/controls",
          "model_name": "DescriptionStyleModel",
          "model_module_version": "1.5.0",
          "state": {
            "_model_module": "@jupyter-widgets/controls",
            "_model_module_version": "1.5.0",
            "_model_name": "DescriptionStyleModel",
            "_view_count": null,
            "_view_module": "@jupyter-widgets/base",
            "_view_module_version": "1.2.0",
            "_view_name": "StyleView",
            "description_width": ""
          }
        },
        "f910d1792d684f8d891d748f455eeafa": {
          "model_module": "@jupyter-widgets/base",
          "model_name": "LayoutModel",
          "model_module_version": "1.2.0",
          "state": {
            "_model_module": "@jupyter-widgets/base",
            "_model_module_version": "1.2.0",
            "_model_name": "LayoutModel",
            "_view_count": null,
            "_view_module": "@jupyter-widgets/base",
            "_view_module_version": "1.2.0",
            "_view_name": "LayoutView",
            "align_content": null,
            "align_items": null,
            "align_self": null,
            "border": null,
            "bottom": null,
            "display": null,
            "flex": null,
            "flex_flow": null,
            "grid_area": null,
            "grid_auto_columns": null,
            "grid_auto_flow": null,
            "grid_auto_rows": null,
            "grid_column": null,
            "grid_gap": null,
            "grid_row": null,
            "grid_template_areas": null,
            "grid_template_columns": null,
            "grid_template_rows": null,
            "height": null,
            "justify_content": null,
            "justify_items": null,
            "left": null,
            "margin": null,
            "max_height": null,
            "max_width": null,
            "min_height": null,
            "min_width": null,
            "object_fit": null,
            "object_position": null,
            "order": null,
            "overflow": null,
            "overflow_x": null,
            "overflow_y": null,
            "padding": null,
            "right": null,
            "top": null,
            "visibility": null,
            "width": null
          }
        },
        "889979c15340432885241dc540027709": {
          "model_module": "@jupyter-widgets/controls",
          "model_name": "ProgressStyleModel",
          "model_module_version": "1.5.0",
          "state": {
            "_model_module": "@jupyter-widgets/controls",
            "_model_module_version": "1.5.0",
            "_model_name": "ProgressStyleModel",
            "_view_count": null,
            "_view_module": "@jupyter-widgets/base",
            "_view_module_version": "1.2.0",
            "_view_name": "StyleView",
            "bar_color": null,
            "description_width": ""
          }
        },
        "a1c24dd0b3af4e31a4912f5c95016fdd": {
          "model_module": "@jupyter-widgets/base",
          "model_name": "LayoutModel",
          "model_module_version": "1.2.0",
          "state": {
            "_model_module": "@jupyter-widgets/base",
            "_model_module_version": "1.2.0",
            "_model_name": "LayoutModel",
            "_view_count": null,
            "_view_module": "@jupyter-widgets/base",
            "_view_module_version": "1.2.0",
            "_view_name": "LayoutView",
            "align_content": null,
            "align_items": null,
            "align_self": null,
            "border": null,
            "bottom": null,
            "display": null,
            "flex": null,
            "flex_flow": null,
            "grid_area": null,
            "grid_auto_columns": null,
            "grid_auto_flow": null,
            "grid_auto_rows": null,
            "grid_column": null,
            "grid_gap": null,
            "grid_row": null,
            "grid_template_areas": null,
            "grid_template_columns": null,
            "grid_template_rows": null,
            "height": null,
            "justify_content": null,
            "justify_items": null,
            "left": null,
            "margin": null,
            "max_height": null,
            "max_width": null,
            "min_height": null,
            "min_width": null,
            "object_fit": null,
            "object_position": null,
            "order": null,
            "overflow": null,
            "overflow_x": null,
            "overflow_y": null,
            "padding": null,
            "right": null,
            "top": null,
            "visibility": null,
            "width": null
          }
        },
        "84790e50d8d84a5abb6bde4d91c3036b": {
          "model_module": "@jupyter-widgets/controls",
          "model_name": "DescriptionStyleModel",
          "model_module_version": "1.5.0",
          "state": {
            "_model_module": "@jupyter-widgets/controls",
            "_model_module_version": "1.5.0",
            "_model_name": "DescriptionStyleModel",
            "_view_count": null,
            "_view_module": "@jupyter-widgets/base",
            "_view_module_version": "1.2.0",
            "_view_name": "StyleView",
            "description_width": ""
          }
        },
        "09679091f4ef4978ab74eadd886d9dcd": {
          "model_module": "@jupyter-widgets/controls",
          "model_name": "HBoxModel",
          "model_module_version": "1.5.0",
          "state": {
            "_dom_classes": [],
            "_model_module": "@jupyter-widgets/controls",
            "_model_module_version": "1.5.0",
            "_model_name": "HBoxModel",
            "_view_count": null,
            "_view_module": "@jupyter-widgets/controls",
            "_view_module_version": "1.5.0",
            "_view_name": "HBoxView",
            "box_style": "",
            "children": [
              "IPY_MODEL_fee1d53571f84de19892b099066e9aa1",
              "IPY_MODEL_42a0592e110a4b98b657d2b640738261",
              "IPY_MODEL_7360a1f04de94657a1d55d49d698f421"
            ],
            "layout": "IPY_MODEL_7cf5c8eb3e5e4c71b173e69f525f21b9"
          }
        },
        "fee1d53571f84de19892b099066e9aa1": {
          "model_module": "@jupyter-widgets/controls",
          "model_name": "HTMLModel",
          "model_module_version": "1.5.0",
          "state": {
            "_dom_classes": [],
            "_model_module": "@jupyter-widgets/controls",
            "_model_module_version": "1.5.0",
            "_model_name": "HTMLModel",
            "_view_count": null,
            "_view_module": "@jupyter-widgets/controls",
            "_view_module_version": "1.5.0",
            "_view_name": "HTMLView",
            "description": "",
            "description_tooltip": null,
            "layout": "IPY_MODEL_16e7353477334a008c2a4f36e1cf2d69",
            "placeholder": "​",
            "style": "IPY_MODEL_eb5458324a4041cc8b40bbe3eaaae8bc",
            "value": "Downloading (…)cial_tokens_map.json: 100%"
          }
        },
        "42a0592e110a4b98b657d2b640738261": {
          "model_module": "@jupyter-widgets/controls",
          "model_name": "FloatProgressModel",
          "model_module_version": "1.5.0",
          "state": {
            "_dom_classes": [],
            "_model_module": "@jupyter-widgets/controls",
            "_model_module_version": "1.5.0",
            "_model_name": "FloatProgressModel",
            "_view_count": null,
            "_view_module": "@jupyter-widgets/controls",
            "_view_module_version": "1.5.0",
            "_view_name": "ProgressView",
            "bar_style": "success",
            "description": "",
            "description_tooltip": null,
            "layout": "IPY_MODEL_ab048e0423f5434189c3bbac92e204a6",
            "max": 279,
            "min": 0,
            "orientation": "horizontal",
            "style": "IPY_MODEL_a49e5e0ee86d40228b802570289c42bb",
            "value": 279
          }
        },
        "7360a1f04de94657a1d55d49d698f421": {
          "model_module": "@jupyter-widgets/controls",
          "model_name": "HTMLModel",
          "model_module_version": "1.5.0",
          "state": {
            "_dom_classes": [],
            "_model_module": "@jupyter-widgets/controls",
            "_model_module_version": "1.5.0",
            "_model_name": "HTMLModel",
            "_view_count": null,
            "_view_module": "@jupyter-widgets/controls",
            "_view_module_version": "1.5.0",
            "_view_name": "HTMLView",
            "description": "",
            "description_tooltip": null,
            "layout": "IPY_MODEL_390b4ddf895149088dac06a2187c9527",
            "placeholder": "​",
            "style": "IPY_MODEL_497c1709ec5246bebc542adda753fe59",
            "value": " 279/279 [00:00&lt;00:00, 24.3kB/s]"
          }
        },
        "7cf5c8eb3e5e4c71b173e69f525f21b9": {
          "model_module": "@jupyter-widgets/base",
          "model_name": "LayoutModel",
          "model_module_version": "1.2.0",
          "state": {
            "_model_module": "@jupyter-widgets/base",
            "_model_module_version": "1.2.0",
            "_model_name": "LayoutModel",
            "_view_count": null,
            "_view_module": "@jupyter-widgets/base",
            "_view_module_version": "1.2.0",
            "_view_name": "LayoutView",
            "align_content": null,
            "align_items": null,
            "align_self": null,
            "border": null,
            "bottom": null,
            "display": null,
            "flex": null,
            "flex_flow": null,
            "grid_area": null,
            "grid_auto_columns": null,
            "grid_auto_flow": null,
            "grid_auto_rows": null,
            "grid_column": null,
            "grid_gap": null,
            "grid_row": null,
            "grid_template_areas": null,
            "grid_template_columns": null,
            "grid_template_rows": null,
            "height": null,
            "justify_content": null,
            "justify_items": null,
            "left": null,
            "margin": null,
            "max_height": null,
            "max_width": null,
            "min_height": null,
            "min_width": null,
            "object_fit": null,
            "object_position": null,
            "order": null,
            "overflow": null,
            "overflow_x": null,
            "overflow_y": null,
            "padding": null,
            "right": null,
            "top": null,
            "visibility": null,
            "width": null
          }
        },
        "16e7353477334a008c2a4f36e1cf2d69": {
          "model_module": "@jupyter-widgets/base",
          "model_name": "LayoutModel",
          "model_module_version": "1.2.0",
          "state": {
            "_model_module": "@jupyter-widgets/base",
            "_model_module_version": "1.2.0",
            "_model_name": "LayoutModel",
            "_view_count": null,
            "_view_module": "@jupyter-widgets/base",
            "_view_module_version": "1.2.0",
            "_view_name": "LayoutView",
            "align_content": null,
            "align_items": null,
            "align_self": null,
            "border": null,
            "bottom": null,
            "display": null,
            "flex": null,
            "flex_flow": null,
            "grid_area": null,
            "grid_auto_columns": null,
            "grid_auto_flow": null,
            "grid_auto_rows": null,
            "grid_column": null,
            "grid_gap": null,
            "grid_row": null,
            "grid_template_areas": null,
            "grid_template_columns": null,
            "grid_template_rows": null,
            "height": null,
            "justify_content": null,
            "justify_items": null,
            "left": null,
            "margin": null,
            "max_height": null,
            "max_width": null,
            "min_height": null,
            "min_width": null,
            "object_fit": null,
            "object_position": null,
            "order": null,
            "overflow": null,
            "overflow_x": null,
            "overflow_y": null,
            "padding": null,
            "right": null,
            "top": null,
            "visibility": null,
            "width": null
          }
        },
        "eb5458324a4041cc8b40bbe3eaaae8bc": {
          "model_module": "@jupyter-widgets/controls",
          "model_name": "DescriptionStyleModel",
          "model_module_version": "1.5.0",
          "state": {
            "_model_module": "@jupyter-widgets/controls",
            "_model_module_version": "1.5.0",
            "_model_name": "DescriptionStyleModel",
            "_view_count": null,
            "_view_module": "@jupyter-widgets/base",
            "_view_module_version": "1.2.0",
            "_view_name": "StyleView",
            "description_width": ""
          }
        },
        "ab048e0423f5434189c3bbac92e204a6": {
          "model_module": "@jupyter-widgets/base",
          "model_name": "LayoutModel",
          "model_module_version": "1.2.0",
          "state": {
            "_model_module": "@jupyter-widgets/base",
            "_model_module_version": "1.2.0",
            "_model_name": "LayoutModel",
            "_view_count": null,
            "_view_module": "@jupyter-widgets/base",
            "_view_module_version": "1.2.0",
            "_view_name": "LayoutView",
            "align_content": null,
            "align_items": null,
            "align_self": null,
            "border": null,
            "bottom": null,
            "display": null,
            "flex": null,
            "flex_flow": null,
            "grid_area": null,
            "grid_auto_columns": null,
            "grid_auto_flow": null,
            "grid_auto_rows": null,
            "grid_column": null,
            "grid_gap": null,
            "grid_row": null,
            "grid_template_areas": null,
            "grid_template_columns": null,
            "grid_template_rows": null,
            "height": null,
            "justify_content": null,
            "justify_items": null,
            "left": null,
            "margin": null,
            "max_height": null,
            "max_width": null,
            "min_height": null,
            "min_width": null,
            "object_fit": null,
            "object_position": null,
            "order": null,
            "overflow": null,
            "overflow_x": null,
            "overflow_y": null,
            "padding": null,
            "right": null,
            "top": null,
            "visibility": null,
            "width": null
          }
        },
        "a49e5e0ee86d40228b802570289c42bb": {
          "model_module": "@jupyter-widgets/controls",
          "model_name": "ProgressStyleModel",
          "model_module_version": "1.5.0",
          "state": {
            "_model_module": "@jupyter-widgets/controls",
            "_model_module_version": "1.5.0",
            "_model_name": "ProgressStyleModel",
            "_view_count": null,
            "_view_module": "@jupyter-widgets/base",
            "_view_module_version": "1.2.0",
            "_view_name": "StyleView",
            "bar_color": null,
            "description_width": ""
          }
        },
        "390b4ddf895149088dac06a2187c9527": {
          "model_module": "@jupyter-widgets/base",
          "model_name": "LayoutModel",
          "model_module_version": "1.2.0",
          "state": {
            "_model_module": "@jupyter-widgets/base",
            "_model_module_version": "1.2.0",
            "_model_name": "LayoutModel",
            "_view_count": null,
            "_view_module": "@jupyter-widgets/base",
            "_view_module_version": "1.2.0",
            "_view_name": "LayoutView",
            "align_content": null,
            "align_items": null,
            "align_self": null,
            "border": null,
            "bottom": null,
            "display": null,
            "flex": null,
            "flex_flow": null,
            "grid_area": null,
            "grid_auto_columns": null,
            "grid_auto_flow": null,
            "grid_auto_rows": null,
            "grid_column": null,
            "grid_gap": null,
            "grid_row": null,
            "grid_template_areas": null,
            "grid_template_columns": null,
            "grid_template_rows": null,
            "height": null,
            "justify_content": null,
            "justify_items": null,
            "left": null,
            "margin": null,
            "max_height": null,
            "max_width": null,
            "min_height": null,
            "min_width": null,
            "object_fit": null,
            "object_position": null,
            "order": null,
            "overflow": null,
            "overflow_x": null,
            "overflow_y": null,
            "padding": null,
            "right": null,
            "top": null,
            "visibility": null,
            "width": null
          }
        },
        "497c1709ec5246bebc542adda753fe59": {
          "model_module": "@jupyter-widgets/controls",
          "model_name": "DescriptionStyleModel",
          "model_module_version": "1.5.0",
          "state": {
            "_model_module": "@jupyter-widgets/controls",
            "_model_module_version": "1.5.0",
            "_model_name": "DescriptionStyleModel",
            "_view_count": null,
            "_view_module": "@jupyter-widgets/base",
            "_view_module_version": "1.2.0",
            "_view_name": "StyleView",
            "description_width": ""
          }
        },
        "806738e14c5b4bea95e4f7199336c766": {
          "model_module": "@jupyter-widgets/controls",
          "model_name": "HBoxModel",
          "model_module_version": "1.5.0",
          "state": {
            "_dom_classes": [],
            "_model_module": "@jupyter-widgets/controls",
            "_model_module_version": "1.5.0",
            "_model_name": "HBoxModel",
            "_view_count": null,
            "_view_module": "@jupyter-widgets/controls",
            "_view_module_version": "1.5.0",
            "_view_name": "HBoxView",
            "box_style": "",
            "children": [
              "IPY_MODEL_a18960ca62884a17951ccd2febbda768",
              "IPY_MODEL_7a36af227b5744b1b26fa3e4403ff96e",
              "IPY_MODEL_4f5503e0306b42f89e1830f3adb12bdc"
            ],
            "layout": "IPY_MODEL_dd8460438f654b59be9cbed74c19d116"
          }
        },
        "a18960ca62884a17951ccd2febbda768": {
          "model_module": "@jupyter-widgets/controls",
          "model_name": "HTMLModel",
          "model_module_version": "1.5.0",
          "state": {
            "_dom_classes": [],
            "_model_module": "@jupyter-widgets/controls",
            "_model_module_version": "1.5.0",
            "_model_name": "HTMLModel",
            "_view_count": null,
            "_view_module": "@jupyter-widgets/controls",
            "_view_module_version": "1.5.0",
            "_view_name": "HTMLView",
            "description": "",
            "description_tooltip": null,
            "layout": "IPY_MODEL_7e63924c74cf41c985abba7ccdf209c5",
            "placeholder": "​",
            "style": "IPY_MODEL_ed17cb5767f24e61a2ffa23ad9e8eb7e",
            "value": "Downloading config.json: 100%"
          }
        },
        "7a36af227b5744b1b26fa3e4403ff96e": {
          "model_module": "@jupyter-widgets/controls",
          "model_name": "FloatProgressModel",
          "model_module_version": "1.5.0",
          "state": {
            "_dom_classes": [],
            "_model_module": "@jupyter-widgets/controls",
            "_model_module_version": "1.5.0",
            "_model_name": "FloatProgressModel",
            "_view_count": null,
            "_view_module": "@jupyter-widgets/controls",
            "_view_module_version": "1.5.0",
            "_view_name": "ProgressView",
            "bar_style": "success",
            "description": "",
            "description_tooltip": null,
            "layout": "IPY_MODEL_0d0844f5cf9f4806b2a42b14ed160562",
            "max": 801,
            "min": 0,
            "orientation": "horizontal",
            "style": "IPY_MODEL_a6d1159b17484450b687ec88d3d200dd",
            "value": 801
          }
        },
        "4f5503e0306b42f89e1830f3adb12bdc": {
          "model_module": "@jupyter-widgets/controls",
          "model_name": "HTMLModel",
          "model_module_version": "1.5.0",
          "state": {
            "_dom_classes": [],
            "_model_module": "@jupyter-widgets/controls",
            "_model_module_version": "1.5.0",
            "_model_name": "HTMLModel",
            "_view_count": null,
            "_view_module": "@jupyter-widgets/controls",
            "_view_module_version": "1.5.0",
            "_view_name": "HTMLView",
            "description": "",
            "description_tooltip": null,
            "layout": "IPY_MODEL_b94e8358495d4c6b8604810a7594f6d9",
            "placeholder": "​",
            "style": "IPY_MODEL_bb00494289554b69a94b8dc4bcad26d0",
            "value": " 801/801 [00:00&lt;00:00, 71.8kB/s]"
          }
        },
        "dd8460438f654b59be9cbed74c19d116": {
          "model_module": "@jupyter-widgets/base",
          "model_name": "LayoutModel",
          "model_module_version": "1.2.0",
          "state": {
            "_model_module": "@jupyter-widgets/base",
            "_model_module_version": "1.2.0",
            "_model_name": "LayoutModel",
            "_view_count": null,
            "_view_module": "@jupyter-widgets/base",
            "_view_module_version": "1.2.0",
            "_view_name": "LayoutView",
            "align_content": null,
            "align_items": null,
            "align_self": null,
            "border": null,
            "bottom": null,
            "display": null,
            "flex": null,
            "flex_flow": null,
            "grid_area": null,
            "grid_auto_columns": null,
            "grid_auto_flow": null,
            "grid_auto_rows": null,
            "grid_column": null,
            "grid_gap": null,
            "grid_row": null,
            "grid_template_areas": null,
            "grid_template_columns": null,
            "grid_template_rows": null,
            "height": null,
            "justify_content": null,
            "justify_items": null,
            "left": null,
            "margin": null,
            "max_height": null,
            "max_width": null,
            "min_height": null,
            "min_width": null,
            "object_fit": null,
            "object_position": null,
            "order": null,
            "overflow": null,
            "overflow_x": null,
            "overflow_y": null,
            "padding": null,
            "right": null,
            "top": null,
            "visibility": null,
            "width": null
          }
        },
        "7e63924c74cf41c985abba7ccdf209c5": {
          "model_module": "@jupyter-widgets/base",
          "model_name": "LayoutModel",
          "model_module_version": "1.2.0",
          "state": {
            "_model_module": "@jupyter-widgets/base",
            "_model_module_version": "1.2.0",
            "_model_name": "LayoutModel",
            "_view_count": null,
            "_view_module": "@jupyter-widgets/base",
            "_view_module_version": "1.2.0",
            "_view_name": "LayoutView",
            "align_content": null,
            "align_items": null,
            "align_self": null,
            "border": null,
            "bottom": null,
            "display": null,
            "flex": null,
            "flex_flow": null,
            "grid_area": null,
            "grid_auto_columns": null,
            "grid_auto_flow": null,
            "grid_auto_rows": null,
            "grid_column": null,
            "grid_gap": null,
            "grid_row": null,
            "grid_template_areas": null,
            "grid_template_columns": null,
            "grid_template_rows": null,
            "height": null,
            "justify_content": null,
            "justify_items": null,
            "left": null,
            "margin": null,
            "max_height": null,
            "max_width": null,
            "min_height": null,
            "min_width": null,
            "object_fit": null,
            "object_position": null,
            "order": null,
            "overflow": null,
            "overflow_x": null,
            "overflow_y": null,
            "padding": null,
            "right": null,
            "top": null,
            "visibility": null,
            "width": null
          }
        },
        "ed17cb5767f24e61a2ffa23ad9e8eb7e": {
          "model_module": "@jupyter-widgets/controls",
          "model_name": "DescriptionStyleModel",
          "model_module_version": "1.5.0",
          "state": {
            "_model_module": "@jupyter-widgets/controls",
            "_model_module_version": "1.5.0",
            "_model_name": "DescriptionStyleModel",
            "_view_count": null,
            "_view_module": "@jupyter-widgets/base",
            "_view_module_version": "1.2.0",
            "_view_name": "StyleView",
            "description_width": ""
          }
        },
        "0d0844f5cf9f4806b2a42b14ed160562": {
          "model_module": "@jupyter-widgets/base",
          "model_name": "LayoutModel",
          "model_module_version": "1.2.0",
          "state": {
            "_model_module": "@jupyter-widgets/base",
            "_model_module_version": "1.2.0",
            "_model_name": "LayoutModel",
            "_view_count": null,
            "_view_module": "@jupyter-widgets/base",
            "_view_module_version": "1.2.0",
            "_view_name": "LayoutView",
            "align_content": null,
            "align_items": null,
            "align_self": null,
            "border": null,
            "bottom": null,
            "display": null,
            "flex": null,
            "flex_flow": null,
            "grid_area": null,
            "grid_auto_columns": null,
            "grid_auto_flow": null,
            "grid_auto_rows": null,
            "grid_column": null,
            "grid_gap": null,
            "grid_row": null,
            "grid_template_areas": null,
            "grid_template_columns": null,
            "grid_template_rows": null,
            "height": null,
            "justify_content": null,
            "justify_items": null,
            "left": null,
            "margin": null,
            "max_height": null,
            "max_width": null,
            "min_height": null,
            "min_width": null,
            "object_fit": null,
            "object_position": null,
            "order": null,
            "overflow": null,
            "overflow_x": null,
            "overflow_y": null,
            "padding": null,
            "right": null,
            "top": null,
            "visibility": null,
            "width": null
          }
        },
        "a6d1159b17484450b687ec88d3d200dd": {
          "model_module": "@jupyter-widgets/controls",
          "model_name": "ProgressStyleModel",
          "model_module_version": "1.5.0",
          "state": {
            "_model_module": "@jupyter-widgets/controls",
            "_model_module_version": "1.5.0",
            "_model_name": "ProgressStyleModel",
            "_view_count": null,
            "_view_module": "@jupyter-widgets/base",
            "_view_module_version": "1.2.0",
            "_view_name": "StyleView",
            "bar_color": null,
            "description_width": ""
          }
        },
        "b94e8358495d4c6b8604810a7594f6d9": {
          "model_module": "@jupyter-widgets/base",
          "model_name": "LayoutModel",
          "model_module_version": "1.2.0",
          "state": {
            "_model_module": "@jupyter-widgets/base",
            "_model_module_version": "1.2.0",
            "_model_name": "LayoutModel",
            "_view_count": null,
            "_view_module": "@jupyter-widgets/base",
            "_view_module_version": "1.2.0",
            "_view_name": "LayoutView",
            "align_content": null,
            "align_items": null,
            "align_self": null,
            "border": null,
            "bottom": null,
            "display": null,
            "flex": null,
            "flex_flow": null,
            "grid_area": null,
            "grid_auto_columns": null,
            "grid_auto_flow": null,
            "grid_auto_rows": null,
            "grid_column": null,
            "grid_gap": null,
            "grid_row": null,
            "grid_template_areas": null,
            "grid_template_columns": null,
            "grid_template_rows": null,
            "height": null,
            "justify_content": null,
            "justify_items": null,
            "left": null,
            "margin": null,
            "max_height": null,
            "max_width": null,
            "min_height": null,
            "min_width": null,
            "object_fit": null,
            "object_position": null,
            "order": null,
            "overflow": null,
            "overflow_x": null,
            "overflow_y": null,
            "padding": null,
            "right": null,
            "top": null,
            "visibility": null,
            "width": null
          }
        },
        "bb00494289554b69a94b8dc4bcad26d0": {
          "model_module": "@jupyter-widgets/controls",
          "model_name": "DescriptionStyleModel",
          "model_module_version": "1.5.0",
          "state": {
            "_model_module": "@jupyter-widgets/controls",
            "_model_module_version": "1.5.0",
            "_model_name": "DescriptionStyleModel",
            "_view_count": null,
            "_view_module": "@jupyter-widgets/base",
            "_view_module_version": "1.2.0",
            "_view_name": "StyleView",
            "description_width": ""
          }
        },
        "2fb128a9e0de42879175955b4e17dff1": {
          "model_module": "@jupyter-widgets/controls",
          "model_name": "HBoxModel",
          "model_module_version": "1.5.0",
          "state": {
            "_dom_classes": [],
            "_model_module": "@jupyter-widgets/controls",
            "_model_module_version": "1.5.0",
            "_model_name": "HBoxModel",
            "_view_count": null,
            "_view_module": "@jupyter-widgets/controls",
            "_view_module_version": "1.5.0",
            "_view_name": "HBoxView",
            "box_style": "",
            "children": [
              "IPY_MODEL_f68bab1599c94189b739080f618a8736",
              "IPY_MODEL_1ffd5849d30543248ee4edeec17ff16b",
              "IPY_MODEL_eefc694ea1184fc5a1bb0eda7bbd5a25"
            ],
            "layout": "IPY_MODEL_ca2e1575429c4b0093f5becf425cabf8"
          }
        },
        "f68bab1599c94189b739080f618a8736": {
          "model_module": "@jupyter-widgets/controls",
          "model_name": "HTMLModel",
          "model_module_version": "1.5.0",
          "state": {
            "_dom_classes": [],
            "_model_module": "@jupyter-widgets/controls",
            "_model_module_version": "1.5.0",
            "_model_name": "HTMLModel",
            "_view_count": null,
            "_view_module": "@jupyter-widgets/controls",
            "_view_module_version": "1.5.0",
            "_view_name": "HTMLView",
            "description": "",
            "description_tooltip": null,
            "layout": "IPY_MODEL_d2985ee10fb64c29a299b8d7992ba67c",
            "placeholder": "​",
            "style": "IPY_MODEL_582ffc958924400abef04eec325b2aea",
            "value": "Downloading model.safetensors: 100%"
          }
        },
        "1ffd5849d30543248ee4edeec17ff16b": {
          "model_module": "@jupyter-widgets/controls",
          "model_name": "FloatProgressModel",
          "model_module_version": "1.5.0",
          "state": {
            "_dom_classes": [],
            "_model_module": "@jupyter-widgets/controls",
            "_model_module_version": "1.5.0",
            "_model_name": "FloatProgressModel",
            "_view_count": null,
            "_view_module": "@jupyter-widgets/controls",
            "_view_module_version": "1.5.0",
            "_view_name": "ProgressView",
            "bar_style": "success",
            "description": "",
            "description_tooltip": null,
            "layout": "IPY_MODEL_0a0abfaf073341059364f1401d6a2ee0",
            "max": 2239618772,
            "min": 0,
            "orientation": "horizontal",
            "style": "IPY_MODEL_6b6442fa70134cb4a3b6505e50f01c9a",
            "value": 2239618772
          }
        },
        "eefc694ea1184fc5a1bb0eda7bbd5a25": {
          "model_module": "@jupyter-widgets/controls",
          "model_name": "HTMLModel",
          "model_module_version": "1.5.0",
          "state": {
            "_dom_classes": [],
            "_model_module": "@jupyter-widgets/controls",
            "_model_module_version": "1.5.0",
            "_model_name": "HTMLModel",
            "_view_count": null,
            "_view_module": "@jupyter-widgets/controls",
            "_view_module_version": "1.5.0",
            "_view_name": "HTMLView",
            "description": "",
            "description_tooltip": null,
            "layout": "IPY_MODEL_d4c26452362c41529dfde6fbe824cf57",
            "placeholder": "​",
            "style": "IPY_MODEL_d46ccf9140ba4792a39fb73c8fb34609",
            "value": " 2.24G/2.24G [00:07&lt;00:00, 292MB/s]"
          }
        },
        "ca2e1575429c4b0093f5becf425cabf8": {
          "model_module": "@jupyter-widgets/base",
          "model_name": "LayoutModel",
          "model_module_version": "1.2.0",
          "state": {
            "_model_module": "@jupyter-widgets/base",
            "_model_module_version": "1.2.0",
            "_model_name": "LayoutModel",
            "_view_count": null,
            "_view_module": "@jupyter-widgets/base",
            "_view_module_version": "1.2.0",
            "_view_name": "LayoutView",
            "align_content": null,
            "align_items": null,
            "align_self": null,
            "border": null,
            "bottom": null,
            "display": null,
            "flex": null,
            "flex_flow": null,
            "grid_area": null,
            "grid_auto_columns": null,
            "grid_auto_flow": null,
            "grid_auto_rows": null,
            "grid_column": null,
            "grid_gap": null,
            "grid_row": null,
            "grid_template_areas": null,
            "grid_template_columns": null,
            "grid_template_rows": null,
            "height": null,
            "justify_content": null,
            "justify_items": null,
            "left": null,
            "margin": null,
            "max_height": null,
            "max_width": null,
            "min_height": null,
            "min_width": null,
            "object_fit": null,
            "object_position": null,
            "order": null,
            "overflow": null,
            "overflow_x": null,
            "overflow_y": null,
            "padding": null,
            "right": null,
            "top": null,
            "visibility": null,
            "width": null
          }
        },
        "d2985ee10fb64c29a299b8d7992ba67c": {
          "model_module": "@jupyter-widgets/base",
          "model_name": "LayoutModel",
          "model_module_version": "1.2.0",
          "state": {
            "_model_module": "@jupyter-widgets/base",
            "_model_module_version": "1.2.0",
            "_model_name": "LayoutModel",
            "_view_count": null,
            "_view_module": "@jupyter-widgets/base",
            "_view_module_version": "1.2.0",
            "_view_name": "LayoutView",
            "align_content": null,
            "align_items": null,
            "align_self": null,
            "border": null,
            "bottom": null,
            "display": null,
            "flex": null,
            "flex_flow": null,
            "grid_area": null,
            "grid_auto_columns": null,
            "grid_auto_flow": null,
            "grid_auto_rows": null,
            "grid_column": null,
            "grid_gap": null,
            "grid_row": null,
            "grid_template_areas": null,
            "grid_template_columns": null,
            "grid_template_rows": null,
            "height": null,
            "justify_content": null,
            "justify_items": null,
            "left": null,
            "margin": null,
            "max_height": null,
            "max_width": null,
            "min_height": null,
            "min_width": null,
            "object_fit": null,
            "object_position": null,
            "order": null,
            "overflow": null,
            "overflow_x": null,
            "overflow_y": null,
            "padding": null,
            "right": null,
            "top": null,
            "visibility": null,
            "width": null
          }
        },
        "582ffc958924400abef04eec325b2aea": {
          "model_module": "@jupyter-widgets/controls",
          "model_name": "DescriptionStyleModel",
          "model_module_version": "1.5.0",
          "state": {
            "_model_module": "@jupyter-widgets/controls",
            "_model_module_version": "1.5.0",
            "_model_name": "DescriptionStyleModel",
            "_view_count": null,
            "_view_module": "@jupyter-widgets/base",
            "_view_module_version": "1.2.0",
            "_view_name": "StyleView",
            "description_width": ""
          }
        },
        "0a0abfaf073341059364f1401d6a2ee0": {
          "model_module": "@jupyter-widgets/base",
          "model_name": "LayoutModel",
          "model_module_version": "1.2.0",
          "state": {
            "_model_module": "@jupyter-widgets/base",
            "_model_module_version": "1.2.0",
            "_model_name": "LayoutModel",
            "_view_count": null,
            "_view_module": "@jupyter-widgets/base",
            "_view_module_version": "1.2.0",
            "_view_name": "LayoutView",
            "align_content": null,
            "align_items": null,
            "align_self": null,
            "border": null,
            "bottom": null,
            "display": null,
            "flex": null,
            "flex_flow": null,
            "grid_area": null,
            "grid_auto_columns": null,
            "grid_auto_flow": null,
            "grid_auto_rows": null,
            "grid_column": null,
            "grid_gap": null,
            "grid_row": null,
            "grid_template_areas": null,
            "grid_template_columns": null,
            "grid_template_rows": null,
            "height": null,
            "justify_content": null,
            "justify_items": null,
            "left": null,
            "margin": null,
            "max_height": null,
            "max_width": null,
            "min_height": null,
            "min_width": null,
            "object_fit": null,
            "object_position": null,
            "order": null,
            "overflow": null,
            "overflow_x": null,
            "overflow_y": null,
            "padding": null,
            "right": null,
            "top": null,
            "visibility": null,
            "width": null
          }
        },
        "6b6442fa70134cb4a3b6505e50f01c9a": {
          "model_module": "@jupyter-widgets/controls",
          "model_name": "ProgressStyleModel",
          "model_module_version": "1.5.0",
          "state": {
            "_model_module": "@jupyter-widgets/controls",
            "_model_module_version": "1.5.0",
            "_model_name": "ProgressStyleModel",
            "_view_count": null,
            "_view_module": "@jupyter-widgets/base",
            "_view_module_version": "1.2.0",
            "_view_name": "StyleView",
            "bar_color": null,
            "description_width": ""
          }
        },
        "d4c26452362c41529dfde6fbe824cf57": {
          "model_module": "@jupyter-widgets/base",
          "model_name": "LayoutModel",
          "model_module_version": "1.2.0",
          "state": {
            "_model_module": "@jupyter-widgets/base",
            "_model_module_version": "1.2.0",
            "_model_name": "LayoutModel",
            "_view_count": null,
            "_view_module": "@jupyter-widgets/base",
            "_view_module_version": "1.2.0",
            "_view_name": "LayoutView",
            "align_content": null,
            "align_items": null,
            "align_self": null,
            "border": null,
            "bottom": null,
            "display": null,
            "flex": null,
            "flex_flow": null,
            "grid_area": null,
            "grid_auto_columns": null,
            "grid_auto_flow": null,
            "grid_auto_rows": null,
            "grid_column": null,
            "grid_gap": null,
            "grid_row": null,
            "grid_template_areas": null,
            "grid_template_columns": null,
            "grid_template_rows": null,
            "height": null,
            "justify_content": null,
            "justify_items": null,
            "left": null,
            "margin": null,
            "max_height": null,
            "max_width": null,
            "min_height": null,
            "min_width": null,
            "object_fit": null,
            "object_position": null,
            "order": null,
            "overflow": null,
            "overflow_x": null,
            "overflow_y": null,
            "padding": null,
            "right": null,
            "top": null,
            "visibility": null,
            "width": null
          }
        },
        "d46ccf9140ba4792a39fb73c8fb34609": {
          "model_module": "@jupyter-widgets/controls",
          "model_name": "DescriptionStyleModel",
          "model_module_version": "1.5.0",
          "state": {
            "_model_module": "@jupyter-widgets/controls",
            "_model_module_version": "1.5.0",
            "_model_name": "DescriptionStyleModel",
            "_view_count": null,
            "_view_module": "@jupyter-widgets/base",
            "_view_module_version": "1.2.0",
            "_view_name": "StyleView",
            "description_width": ""
          }
        }
      }
    }
  },
  "nbformat": 4,
  "nbformat_minor": 0
}