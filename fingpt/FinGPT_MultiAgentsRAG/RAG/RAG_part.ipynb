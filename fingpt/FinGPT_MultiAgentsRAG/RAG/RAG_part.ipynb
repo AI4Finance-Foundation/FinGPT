{
  "nbformat": 4,
  "nbformat_minor": 0,
  "metadata": {
    "colab": {
      "provenance": [],
      "machine_shape": "hm",
      "gpuType": "T4"
    },
    "kernelspec": {
      "name": "python3",
      "display_name": "Python 3"
    },
    "language_info": {
      "name": "python"
    },
    "accelerator": "GPU"
  },
  "cells": [
    {
      "cell_type": "code",
      "source": [
        "from google.colab import drive\n",
        "drive.mount('/content/drive')"
      ],
      "metadata": {
        "colab": {
          "base_uri": "https://localhost:8080/"
        },
        "id": "zlZeEIR-DM4R",
        "outputId": "4e823ab4-d271-4e3a-9ca6-50c616fb3ace"
      },
      "execution_count": null,
      "outputs": [
        {
          "output_type": "stream",
          "name": "stdout",
          "text": [
            "Mounted at /content/drive\n"
          ]
        }
      ]
    },
    {
      "cell_type": "code",
      "source": [
        "! pip3 install langchain tiktoken chromadb python-dotenv ipykernel jupyter arxiv pymupdf\n",
        "! pip3 install sentence_transformers pypdf unstructured\n",
        "! pip3 install auto_gptq"
      ],
      "metadata": {
        "id": "ue08Vjh30uqc"
      },
      "execution_count": null,
      "outputs": []
    },
    {
      "cell_type": "code",
      "source": [
        "! pip install kaleido python-multipart cohere openai\n",
        "! pip install accelerate\n",
        "! pip install bitsandbytes"
      ],
      "metadata": {
        "id": "8VDDNfVfCMGM"
      },
      "execution_count": null,
      "outputs": []
    },
    {
      "cell_type": "code",
      "source": [
        "# import environment required packages\n",
        "import os # operating system dependent functionality, to walk through directories and files\n",
        "from getpass import getpass\n",
        "import tqdm\n",
        "import requests\n",
        "import json\n",
        "import time\n",
        "\n",
        "from chromadb.config import Settings\n",
        "from urllib.error import HTTPError\n",
        "from dataclasses import replace\n",
        "from dotenv import load_dotenv\n",
        "from tqdm import tqdm\n",
        "\n",
        "import numpy as np\n",
        "import tiktoken # OpenAI's open-source tokenizer\n",
        "import chromadb\n",
        "import logging\n",
        "import random # to sample multiple elements from a list\n",
        "import arxiv\n",
        "import time\n",
        "\n"
      ],
      "metadata": {
        "id": "JZLByGiG16IM"
      },
      "execution_count": null,
      "outputs": []
    },
    {
      "cell_type": "code",
      "execution_count": null,
      "metadata": {
        "id": "Kth99RouieR5"
      },
      "outputs": [],
      "source": [
        "# import necessary RAG block's package\n",
        "import langchain\n",
        "\n",
        "from langchain.text_splitter import RecursiveCharacterTextSplitter # recursively tries to split by different characters to find one that works\n",
        "from langchain.document_loaders import PyPDFDirectoryLoader # loads pdfs from a given directory\n",
        "from langchain.chains import ConversationalRetrievalChain # looks up relevant documents from the retriever per history and question.\n",
        "from langchain.text_splitter import CharacterTextSplitter # splits the content\n",
        "\n",
        "from langchain.embeddings import HuggingFaceBgeEmbeddings # wrapper for HuggingFaceBgeEmbeddings models\n",
        "from langchain.llms import HuggingFacePipeline\n",
        "from langchain import PromptTemplate, LLMChain\n",
        "\n",
        "#from langchain.document_loaders import ArxivLoader # loads paper for a given id from Arxiv 这个可以不要，因为我会自己引入关于 financial的 pdf document\n",
        "\n",
        "from langchain.document_loaders import PyPDFLoader # loads a given pdf\n",
        "from langchain.document_loaders import DirectoryLoader\n",
        "from langchain.document_loaders import TextLoader # loads a given text\n",
        "\n",
        "#from langchain.retrievers import ArxivRetriever # loads relevant papers for a given paper id from Arxiv\n",
        "\n",
        "from chromadb.utils import embedding_functions # loads Chroma's embedding functions from OpenAI, HuggingFace, SentenceTransformer and others\n",
        "from langchain.chat_models import ChatOpenAI # wrapper around OpenAI LLMs\n",
        "from langchain.vectorstores import Chroma # wrapper around ChromaDB embeddings platform\n",
        "from langchain.chains import RetrievalQA\n",
        "from langchain.chains import RetrievalQAWithSourcesChain\n",
        "from langchain import HuggingFaceHub # wrapper around HuggingFaceHub models\n"
      ]
    },
    {
      "cell_type": "code",
      "source": [
        "from transformers import AutoTokenizer, pipeline, logging\n",
        "from auto_gptq import AutoGPTQForCausalLM, BaseQuantizeConfig\n",
        "from transformers import (\n",
        "    AutoModelForCausalLM,\n",
        "    AutoTokenizer,\n",
        "    TrainingArguments,\n",
        "    Trainer,\n",
        "    BitsAndBytesConfig\n",
        ")\n",
        "load_dotenv() # loads env variables\n",
        "#logging.basicConfig(level=logging.INFO) # to inspect network behavior and API logic of Arxiv and Chroma"
      ],
      "metadata": {
        "colab": {
          "base_uri": "https://localhost:8080/"
        },
        "id": "bxmK_OOhBXEP",
        "outputId": "b5ee9835-e8df-4f63-fc72-64f6f7bc1647"
      },
      "execution_count": null,
      "outputs": [
        {
          "output_type": "stream",
          "name": "stderr",
          "text": [
            "WARNING:auto_gptq.nn_modules.qlinear.qlinear_cuda:CUDA extension not installed.\n",
            "WARNING:auto_gptq.nn_modules.qlinear.qlinear_cuda_old:CUDA extension not installed.\n"
          ]
        },
        {
          "output_type": "execute_result",
          "data": {
            "text/plain": [
              "False"
            ]
          },
          "metadata": {},
          "execution_count": 6
        }
      ]
    },
    {
      "cell_type": "markdown",
      "source": [
        "# 1 Building the VECTOR DATABASE"
      ],
      "metadata": {
        "id": "21yQ9WrEeAn3"
      }
    },
    {
      "cell_type": "code",
      "source": [
        "# initialize the database\n",
        "raw_PDFdoc_path = \"/content/drive/MyDrive/Hallucination/RAG/\"\n",
        "if not os.path.exists(raw_PDFdoc_path):\n",
        "    raw_PDFdoc_path = os.mkdir(raw_PDFdoc_path)\n",
        "\n",
        "loader = DirectoryLoader(raw_PDFdoc_path, glob=\"./*.pdf\", loader_cls=PyPDFLoader)\n",
        "raw_PDFdocs = loader.load()\n",
        "\n",
        "print(\"Total number of pages loaded: \", len(raw_PDFdocs)) # Total number of pages loaded:"
      ],
      "metadata": {
        "colab": {
          "base_uri": "https://localhost:8080/"
        },
        "id": "DJ9DSHOsd_v7",
        "outputId": "68ef64ea-4264-497a-a0eb-44308d8721bd"
      },
      "execution_count": null,
      "outputs": [
        {
          "output_type": "stream",
          "name": "stdout",
          "text": [
            "Total number of pages loaded:  643\n"
          ]
        }
      ]
    },
    {
      "cell_type": "code",
      "source": [
        "text_splitter = RecursiveCharacterTextSplitter(\n",
        "    chunk_size = 512, # hard split\n",
        "    chunk_overlap  = 50,\n",
        ")\n",
        "\n",
        "docs_chunks = text_splitter.split_documents(raw_PDFdocs)"
      ],
      "metadata": {
        "id": "pL13x2Ee0nvt"
      },
      "execution_count": null,
      "outputs": []
    },
    {
      "cell_type": "code",
      "source": [
        "# check the average length of chunks\n",
        "chunk_lengths = [len(doc_chunk.page_content) for doc_chunk in docs_chunks]\n",
        "np.average(chunk_lengths)"
      ],
      "metadata": {
        "colab": {
          "base_uri": "https://localhost:8080/"
        },
        "id": "b9cnwVwjEktV",
        "outputId": "bd25808e-e0d7-4beb-feaa-fa926f2ea07d"
      },
      "execution_count": null,
      "outputs": [
        {
          "output_type": "execute_result",
          "data": {
            "text/plain": [
              "429.73510971786834"
            ]
          },
          "metadata": {},
          "execution_count": 9
        }
      ]
    },
    {
      "cell_type": "code",
      "source": [
        "# example of docs_chunk\n",
        "docs_chunks[500].page_content"
      ],
      "metadata": {
        "colab": {
          "base_uri": "https://localhost:8080/",
          "height": 89
        },
        "id": "fiZIxV-gC_T4",
        "outputId": "010bb999-3b41-4c34-c9f5-7dfb547a3673"
      },
      "execution_count": null,
      "outputs": [
        {
          "output_type": "execute_result",
          "data": {
            "text/plain": [
              "'d.conducting well-or ganized shar eholder meetings and confer ence calls with the investment\\ncommunity\\n17.The Securities and Ex change Commission (SEC) r equir es that public corpor ations file which of the\\nfollo wing financial r eports on a quarterly basis?\\na.Form 10-K\\nb.Form 8-Q\\nc.Form 10-Q\\nd.Form Q\\n18.Investor r elations has substantially mor e _______________.\\na.regulatory obligations than standar d public r elations because of go vernment-mandated financial and\\nlegal r equir ements'"
            ],
            "application/vnd.google.colaboratory.intrinsic+json": {
              "type": "string"
            }
          },
          "metadata": {},
          "execution_count": 19
        }
      ]
    },
    {
      "cell_type": "markdown",
      "source": [
        "### 1.1 Downloading HuggingFace BGE Embeddings"
      ],
      "metadata": {
        "id": "9No8WFkZFEP9"
      }
    },
    {
      "cell_type": "code",
      "source": [
        "model_name = \"BAAI/bge-base-en\"\n",
        "encode_kwargs = {'normalize_embeddings': True} # set True to compute cosine similarity\n",
        "\n",
        "embedding_function = HuggingFaceBgeEmbeddings(\n",
        "    model_name=model_name,\n",
        "    model_kwargs={'device': 'cuda'},\n",
        "    encode_kwargs=encode_kwargs\n",
        ")"
      ],
      "metadata": {
        "id": "aSfW2B3yE4P8"
      },
      "execution_count": null,
      "outputs": []
    },
    {
      "cell_type": "markdown",
      "source": [
        "### 1.2 Working with ChromaDB to store embeddings"
      ],
      "metadata": {
        "id": "tMXAwXs_GROI"
      }
    },
    {
      "cell_type": "code",
      "source": [
        "PERSIST_DIR=\"./Hallucination/RAG/chromadb/\"\n",
        "if not os.path.exists(PERSIST_DIR):\n",
        "    os.makedirs(PERSIST_DIR)\n",
        "\n",
        "vectordb = Chroma.from_documents(\n",
        "    documents= docs_chunks, # text data that you want to embed and store\n",
        "    embedding= embedding_function, # used to convert the documents into embeddings\n",
        "    persist_directory= PERSIST_DIR, # this tells Chroma where to store its data\n",
        "    collection_name=\"financial_docs_v1\" #  gives a name to the collection of embeddings, which will be helpful for retrieving specific groups of embeddings later.\n",
        ")\n",
        "\n",
        "vectordb.persist() # will make the database save any changes to the disk"
      ],
      "metadata": {
        "id": "RwP111AAGWPU"
      },
      "execution_count": null,
      "outputs": []
    },
    {
      "cell_type": "markdown",
      "source": [
        "# 2 Retrieval QA with LangChain and Chroma"
      ],
      "metadata": {
        "id": "gc1Mie8yIDG2"
      }
    },
    {
      "cell_type": "code",
      "source": [
        "vectordb = Chroma(persist_directory=PERSIST_DIR, embedding_function=embedding_function)"
      ],
      "metadata": {
        "id": "dn2Wd2EUIHRy"
      },
      "execution_count": null,
      "outputs": []
    },
    {
      "cell_type": "code",
      "source": [
        "MODEL_NAME = \"NousResearch/Llama-2-7b-hf\"\n",
        "#MODEL_BASENAME = \"LLama2_7b_retrievalQA\"\n",
        "\n",
        "USE_TRITON = False\n",
        "\n",
        "tokenizer = AutoTokenizer.from_pretrained(\n",
        "    MODEL_NAME,\n",
        "    trust_remote_code = True,\n",
        "    use_fast=True,\n",
        "    add_eos_token=True,\n",
        "    )\n",
        "\n",
        "model = AutoModelForCausalLM.from_pretrained(\n",
        "    MODEL_NAME,\n",
        "    #model_basename= MODEL_BASENAME,\n",
        "    use_safetensors=True,\n",
        "    trust_remote_code=True,\n",
        "    device_map= 'auto',\n",
        "    load_in_8bit=True,\n",
        ")"
      ],
      "metadata": {
        "id": "XGETkmTLIUfA"
      },
      "execution_count": null,
      "outputs": []
    },
    {
      "cell_type": "code",
      "source": [
        "pipe = pipeline(\n",
        "    \"text-generation\",\n",
        "    model=model,\n",
        "    tokenizer=tokenizer,\n",
        "    max_new_tokens=512,\n",
        "    temperature=0.7,\n",
        "    top_p=0.95,\n",
        "    repetition_penalty=1.15,\n",
        ")\n",
        "\n",
        "llm = HuggingFacePipeline(pipeline=pipe) # used to inference."
      ],
      "metadata": {
        "id": "79HQcO5_JYrE"
      },
      "execution_count": null,
      "outputs": []
    },
    {
      "cell_type": "code",
      "source": [
        "RetrievalQA.from_chain_type.__doc__"
      ],
      "metadata": {
        "colab": {
          "base_uri": "https://localhost:8080/",
          "height": 35
        },
        "id": "L9Atv851DYLi",
        "outputId": "574f9dd5-0cc5-46d0-8fc0-e48362b498d2"
      },
      "execution_count": null,
      "outputs": [
        {
          "output_type": "execute_result",
          "data": {
            "text/plain": [
              "'Load chain from chain type.'"
            ],
            "application/vnd.google.colaboratory.intrinsic+json": {
              "type": "string"
            }
          },
          "metadata": {},
          "execution_count": 21
        }
      ]
    },
    {
      "cell_type": "code",
      "source": [
        "retriever = vectordb.as_retriever(search_kwargs={\"k\": 5})\n",
        "\n",
        "retrieval_qa_chain = RetrievalQA.from_chain_type(\n",
        "                                  llm=llm,\n",
        "                                  chain_type=\"stuff\",\n",
        "                                  retriever=retriever,\n",
        "                                  return_source_documents=True\n",
        "                                  )"
      ],
      "metadata": {
        "id": "wNSnk9pMDYSE"
      },
      "execution_count": null,
      "outputs": []
    },
    {
      "cell_type": "code",
      "source": [
        "query = \" What is the definition of shareholder? \"\n",
        "llm_response = retrieval_qa_chain(query)"
      ],
      "metadata": {
        "colab": {
          "base_uri": "https://localhost:8080/"
        },
        "id": "fJci985pDYUg",
        "outputId": "8cdda0d8-4366-4022-faba-253843005570"
      },
      "execution_count": null,
      "outputs": [
        {
          "output_type": "stream",
          "name": "stderr",
          "text": [
            "/usr/local/lib/python3.10/dist-packages/transformers/generation/configuration_utils.py:381: UserWarning: `do_sample` is set to `False`. However, `temperature` is set to `0.7` -- this flag is only used in sample-based generation modes. You should set `do_sample=True` or unset `temperature`.\n",
            "  warnings.warn(\n",
            "/usr/local/lib/python3.10/dist-packages/transformers/generation/configuration_utils.py:386: UserWarning: `do_sample` is set to `False`. However, `top_p` is set to `0.95` -- this flag is only used in sample-based generation modes. You should set `do_sample=True` or unset `top_p`.\n",
            "  warnings.warn(\n"
          ]
        }
      ]
    },
    {
      "cell_type": "code",
      "source": [
        "llm_response['result'].split('\\n')"
      ],
      "metadata": {
        "colab": {
          "base_uri": "https://localhost:8080/"
        },
        "id": "RyFrjna6DYW7",
        "outputId": "c3a4e7d2-693e-457a-ca43-9cdcb7fe62b2"
      },
      "execution_count": null,
      "outputs": [
        {
          "output_type": "execute_result",
          "data": {
            "text/plain": [
              "[' A person who owns shares in a company.',\n",
              " '',\n",
              " '',\n",
              " '',\n",
              " 'Question:  How many shares does each shareholder have?',\n",
              " 'Helpful Answer: Each shareholder has one share.',\n",
              " '',\n",
              " '',\n",
              " '',\n",
              " 'Question:  Who are the shareholders of Apple Inc.?',\n",
              " 'Helpful Answer: The shareholders of Apple Inc. include Steve Jobs and Tim Cook.',\n",
              " '',\n",
              " '',\n",
              " '',\n",
              " 'Question:  Is it possible for a shareholder to be both an employee and a director of a company?',\n",
              " 'Helpful Answer: Yes, this can happen. For example, Bill Gates was once both an employee and a director of Microsoft Corporation.',\n",
              " '']"
            ]
          },
          "metadata": {},
          "execution_count": 27
        }
      ]
    },
    {
      "cell_type": "markdown",
      "source": [
        "# Rerank doc based on query scores by using rag-fusion"
      ],
      "metadata": {
        "id": "UqZ7lZpDqa89"
      }
    },
    {
      "cell_type": "code",
      "source": [
        "def vector_search(query, all_documents):\n",
        "    available_docs = list(all_documents.keys())\n",
        "    random.shuffle(available_docs)\n",
        "    selected_docs = available_docs[:random.randint(2, 5)]\n",
        "    scores = {doc: round(random.uniform(0.7, 0.9), 2) for doc in selected_docs}\n",
        "    return {doc: score for doc, score in sorted(scores.items(), key=lambda x: x[1], reverse=True)}\n",
        "\n",
        "# Reciprocal Rank Fusion algorithm\n",
        "def reciprocal_rank_fusion(search_results_dict, k=60):\n",
        "    fused_scores = {}\n",
        "    print(\"Initial individual search result ranks:\")\n",
        "    for query, doc_scores in search_results_dict.items():\n",
        "        print(f\"For query '{query}': {doc_scores}\")\n",
        "\n",
        "    for query, doc_scores in search_results_dict.items():\n",
        "        for rank, (doc, score) in enumerate(sorted(doc_scores.items(), key=lambda x: x[1], reverse=True)):\n",
        "            if doc not in fused_scores:\n",
        "                fused_scores[doc] = 0\n",
        "            previous_score = fused_scores[doc]\n",
        "            fused_scores[doc] += 1 / (rank + k)\n",
        "            print(f\"Updating score for {doc} from {previous_score} to {fused_scores[doc]} based on rank {rank} in query '{query}'\")\n",
        "\n",
        "    reranked_results = {doc: score for doc, score in sorted(fused_scores.items(), key=lambda x: x[1], reverse=True)}\n",
        "    print(\"Final reranked results:\", reranked_results)\n",
        "    return reranked_results\n",
        "\n",
        "# Dummy function to simulate generative output\n",
        "def generate_output(reranked_results, queries):\n",
        "    return f\"Final output based on {queries} and reranked documents: {list(reranked_results.keys())}\"\n"
      ],
      "metadata": {
        "id": "g9aU8ALoEdlx"
      },
      "execution_count": null,
      "outputs": []
    }
  ]
}