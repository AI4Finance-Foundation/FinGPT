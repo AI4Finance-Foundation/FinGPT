{
  "nbformat": 4,
  "nbformat_minor": 0,
  "metadata": {
    "colab": {
      "provenance": [],
      "machine_shape": "hm",
      "gpuType": "A100",
      "authorship_tag": "ABX9TyP8I5L4bNqe+mJdFIxiVr0f",
      "include_colab_link": true
    },
    "kernelspec": {
      "name": "python3",
      "display_name": "Python 3"
    },
    "language_info": {
      "name": "python"
    },
    "accelerator": "GPU",
    "widgets": {
      "application/vnd.jupyter.widget-state+json": {
        "901e6987262c44bb9be7055882667312": {
          "model_module": "@jupyter-widgets/controls",
          "model_name": "HBoxModel",
          "model_module_version": "1.5.0",
          "state": {
            "_dom_classes": [],
            "_model_module": "@jupyter-widgets/controls",
            "_model_module_version": "1.5.0",
            "_model_name": "HBoxModel",
            "_view_count": null,
            "_view_module": "@jupyter-widgets/controls",
            "_view_module_version": "1.5.0",
            "_view_name": "HBoxView",
            "box_style": "",
            "children": [
              "IPY_MODEL_ccf421c2243c438fb531b4d779ba047f",
              "IPY_MODEL_eec23fe783374679acb1b8adbb4bc57d",
              "IPY_MODEL_7c1e3c1af4eb44a9be7a3d29e6961d11"
            ],
            "layout": "IPY_MODEL_a0bb3e5d746e42d1b67de69b107d5add"
          }
        },
        "ccf421c2243c438fb531b4d779ba047f": {
          "model_module": "@jupyter-widgets/controls",
          "model_name": "HTMLModel",
          "model_module_version": "1.5.0",
          "state": {
            "_dom_classes": [],
            "_model_module": "@jupyter-widgets/controls",
            "_model_module_version": "1.5.0",
            "_model_name": "HTMLModel",
            "_view_count": null,
            "_view_module": "@jupyter-widgets/controls",
            "_view_module_version": "1.5.0",
            "_view_name": "HTMLView",
            "description": "",
            "description_tooltip": null,
            "layout": "IPY_MODEL_8be1cd7d09db48e6b63a7f790388827a",
            "placeholder": "​",
            "style": "IPY_MODEL_f4b3bdff6056412d98619203e9bfe0a7",
            "value": "formatting..: 100%"
          }
        },
        "eec23fe783374679acb1b8adbb4bc57d": {
          "model_module": "@jupyter-widgets/controls",
          "model_name": "FloatProgressModel",
          "model_module_version": "1.5.0",
          "state": {
            "_dom_classes": [],
            "_model_module": "@jupyter-widgets/controls",
            "_model_module_version": "1.5.0",
            "_model_name": "FloatProgressModel",
            "_view_count": null,
            "_view_module": "@jupyter-widgets/controls",
            "_view_module_version": "1.5.0",
            "_view_name": "ProgressView",
            "bar_style": "success",
            "description": "",
            "description_tooltip": null,
            "layout": "IPY_MODEL_a0c8b4c26fa74bc9bb65f85f571bce45",
            "max": 19086,
            "min": 0,
            "orientation": "horizontal",
            "style": "IPY_MODEL_9114b41818b644e38d81b6b41171cb40",
            "value": 19086
          }
        },
        "7c1e3c1af4eb44a9be7a3d29e6961d11": {
          "model_module": "@jupyter-widgets/controls",
          "model_name": "HTMLModel",
          "model_module_version": "1.5.0",
          "state": {
            "_dom_classes": [],
            "_model_module": "@jupyter-widgets/controls",
            "_model_module_version": "1.5.0",
            "_model_name": "HTMLModel",
            "_view_count": null,
            "_view_module": "@jupyter-widgets/controls",
            "_view_module_version": "1.5.0",
            "_view_name": "HTMLView",
            "description": "",
            "description_tooltip": null,
            "layout": "IPY_MODEL_6d2928a8c6114a23a909e3f273cdd577",
            "placeholder": "​",
            "style": "IPY_MODEL_67f90a49b3f1423fa035f20186d6db64",
            "value": " 19086/19086 [00:00&lt;00:00, 159561.89it/s]"
          }
        },
        "a0bb3e5d746e42d1b67de69b107d5add": {
          "model_module": "@jupyter-widgets/base",
          "model_name": "LayoutModel",
          "model_module_version": "1.2.0",
          "state": {
            "_model_module": "@jupyter-widgets/base",
            "_model_module_version": "1.2.0",
            "_model_name": "LayoutModel",
            "_view_count": null,
            "_view_module": "@jupyter-widgets/base",
            "_view_module_version": "1.2.0",
            "_view_name": "LayoutView",
            "align_content": null,
            "align_items": null,
            "align_self": null,
            "border": null,
            "bottom": null,
            "display": null,
            "flex": null,
            "flex_flow": null,
            "grid_area": null,
            "grid_auto_columns": null,
            "grid_auto_flow": null,
            "grid_auto_rows": null,
            "grid_column": null,
            "grid_gap": null,
            "grid_row": null,
            "grid_template_areas": null,
            "grid_template_columns": null,
            "grid_template_rows": null,
            "height": null,
            "justify_content": null,
            "justify_items": null,
            "left": null,
            "margin": null,
            "max_height": null,
            "max_width": null,
            "min_height": null,
            "min_width": null,
            "object_fit": null,
            "object_position": null,
            "order": null,
            "overflow": null,
            "overflow_x": null,
            "overflow_y": null,
            "padding": null,
            "right": null,
            "top": null,
            "visibility": null,
            "width": null
          }
        },
        "8be1cd7d09db48e6b63a7f790388827a": {
          "model_module": "@jupyter-widgets/base",
          "model_name": "LayoutModel",
          "model_module_version": "1.2.0",
          "state": {
            "_model_module": "@jupyter-widgets/base",
            "_model_module_version": "1.2.0",
            "_model_name": "LayoutModel",
            "_view_count": null,
            "_view_module": "@jupyter-widgets/base",
            "_view_module_version": "1.2.0",
            "_view_name": "LayoutView",
            "align_content": null,
            "align_items": null,
            "align_self": null,
            "border": null,
            "bottom": null,
            "display": null,
            "flex": null,
            "flex_flow": null,
            "grid_area": null,
            "grid_auto_columns": null,
            "grid_auto_flow": null,
            "grid_auto_rows": null,
            "grid_column": null,
            "grid_gap": null,
            "grid_row": null,
            "grid_template_areas": null,
            "grid_template_columns": null,
            "grid_template_rows": null,
            "height": null,
            "justify_content": null,
            "justify_items": null,
            "left": null,
            "margin": null,
            "max_height": null,
            "max_width": null,
            "min_height": null,
            "min_width": null,
            "object_fit": null,
            "object_position": null,
            "order": null,
            "overflow": null,
            "overflow_x": null,
            "overflow_y": null,
            "padding": null,
            "right": null,
            "top": null,
            "visibility": null,
            "width": null
          }
        },
        "f4b3bdff6056412d98619203e9bfe0a7": {
          "model_module": "@jupyter-widgets/controls",
          "model_name": "DescriptionStyleModel",
          "model_module_version": "1.5.0",
          "state": {
            "_model_module": "@jupyter-widgets/controls",
            "_model_module_version": "1.5.0",
            "_model_name": "DescriptionStyleModel",
            "_view_count": null,
            "_view_module": "@jupyter-widgets/base",
            "_view_module_version": "1.2.0",
            "_view_name": "StyleView",
            "description_width": ""
          }
        },
        "a0c8b4c26fa74bc9bb65f85f571bce45": {
          "model_module": "@jupyter-widgets/base",
          "model_name": "LayoutModel",
          "model_module_version": "1.2.0",
          "state": {
            "_model_module": "@jupyter-widgets/base",
            "_model_module_version": "1.2.0",
            "_model_name": "LayoutModel",
            "_view_count": null,
            "_view_module": "@jupyter-widgets/base",
            "_view_module_version": "1.2.0",
            "_view_name": "LayoutView",
            "align_content": null,
            "align_items": null,
            "align_self": null,
            "border": null,
            "bottom": null,
            "display": null,
            "flex": null,
            "flex_flow": null,
            "grid_area": null,
            "grid_auto_columns": null,
            "grid_auto_flow": null,
            "grid_auto_rows": null,
            "grid_column": null,
            "grid_gap": null,
            "grid_row": null,
            "grid_template_areas": null,
            "grid_template_columns": null,
            "grid_template_rows": null,
            "height": null,
            "justify_content": null,
            "justify_items": null,
            "left": null,
            "margin": null,
            "max_height": null,
            "max_width": null,
            "min_height": null,
            "min_width": null,
            "object_fit": null,
            "object_position": null,
            "order": null,
            "overflow": null,
            "overflow_x": null,
            "overflow_y": null,
            "padding": null,
            "right": null,
            "top": null,
            "visibility": null,
            "width": null
          }
        },
        "9114b41818b644e38d81b6b41171cb40": {
          "model_module": "@jupyter-widgets/controls",
          "model_name": "ProgressStyleModel",
          "model_module_version": "1.5.0",
          "state": {
            "_model_module": "@jupyter-widgets/controls",
            "_model_module_version": "1.5.0",
            "_model_name": "ProgressStyleModel",
            "_view_count": null,
            "_view_module": "@jupyter-widgets/base",
            "_view_module_version": "1.2.0",
            "_view_name": "StyleView",
            "bar_color": null,
            "description_width": ""
          }
        },
        "6d2928a8c6114a23a909e3f273cdd577": {
          "model_module": "@jupyter-widgets/base",
          "model_name": "LayoutModel",
          "model_module_version": "1.2.0",
          "state": {
            "_model_module": "@jupyter-widgets/base",
            "_model_module_version": "1.2.0",
            "_model_name": "LayoutModel",
            "_view_count": null,
            "_view_module": "@jupyter-widgets/base",
            "_view_module_version": "1.2.0",
            "_view_name": "LayoutView",
            "align_content": null,
            "align_items": null,
            "align_self": null,
            "border": null,
            "bottom": null,
            "display": null,
            "flex": null,
            "flex_flow": null,
            "grid_area": null,
            "grid_auto_columns": null,
            "grid_auto_flow": null,
            "grid_auto_rows": null,
            "grid_column": null,
            "grid_gap": null,
            "grid_row": null,
            "grid_template_areas": null,
            "grid_template_columns": null,
            "grid_template_rows": null,
            "height": null,
            "justify_content": null,
            "justify_items": null,
            "left": null,
            "margin": null,
            "max_height": null,
            "max_width": null,
            "min_height": null,
            "min_width": null,
            "object_fit": null,
            "object_position": null,
            "order": null,
            "overflow": null,
            "overflow_x": null,
            "overflow_y": null,
            "padding": null,
            "right": null,
            "top": null,
            "visibility": null,
            "width": null
          }
        },
        "67f90a49b3f1423fa035f20186d6db64": {
          "model_module": "@jupyter-widgets/controls",
          "model_name": "DescriptionStyleModel",
          "model_module_version": "1.5.0",
          "state": {
            "_model_module": "@jupyter-widgets/controls",
            "_model_module_version": "1.5.0",
            "_model_name": "DescriptionStyleModel",
            "_view_count": null,
            "_view_module": "@jupyter-widgets/base",
            "_view_module_version": "1.2.0",
            "_view_name": "StyleView",
            "description_width": ""
          }
        },
        "20c5182373724ff8b6d40c4c20e04145": {
          "model_module": "@jupyter-widgets/controls",
          "model_name": "HBoxModel",
          "model_module_version": "1.5.0",
          "state": {
            "_dom_classes": [],
            "_model_module": "@jupyter-widgets/controls",
            "_model_module_version": "1.5.0",
            "_model_name": "HBoxModel",
            "_view_count": null,
            "_view_module": "@jupyter-widgets/controls",
            "_view_module_version": "1.5.0",
            "_view_name": "HBoxView",
            "box_style": "",
            "children": [
              "IPY_MODEL_d0dbd11e5893499d81a5f7a9e846bc70",
              "IPY_MODEL_02387e0c5e8e46ecb481f12f8346ca4f",
              "IPY_MODEL_34fcf566c39e46568b099e245d330672"
            ],
            "layout": "IPY_MODEL_30f27188df7e4b7a818790106770bb02"
          }
        },
        "d0dbd11e5893499d81a5f7a9e846bc70": {
          "model_module": "@jupyter-widgets/controls",
          "model_name": "HTMLModel",
          "model_module_version": "1.5.0",
          "state": {
            "_dom_classes": [],
            "_model_module": "@jupyter-widgets/controls",
            "_model_module_version": "1.5.0",
            "_model_name": "HTMLModel",
            "_view_count": null,
            "_view_module": "@jupyter-widgets/controls",
            "_view_module_version": "1.5.0",
            "_view_name": "HTMLView",
            "description": "",
            "description_tooltip": null,
            "layout": "IPY_MODEL_e30b106e295149a699bef6e856f8013f",
            "placeholder": "​",
            "style": "IPY_MODEL_1d0904ff7fcc44598df67f8610e749dd",
            "value": "Saving the dataset (1/1 shards): 100%"
          }
        },
        "02387e0c5e8e46ecb481f12f8346ca4f": {
          "model_module": "@jupyter-widgets/controls",
          "model_name": "FloatProgressModel",
          "model_module_version": "1.5.0",
          "state": {
            "_dom_classes": [],
            "_model_module": "@jupyter-widgets/controls",
            "_model_module_version": "1.5.0",
            "_model_name": "FloatProgressModel",
            "_view_count": null,
            "_view_module": "@jupyter-widgets/controls",
            "_view_module_version": "1.5.0",
            "_view_name": "ProgressView",
            "bar_style": "success",
            "description": "",
            "description_tooltip": null,
            "layout": "IPY_MODEL_b21fa50a34234a3bbf374d863f4557a9",
            "max": 19086,
            "min": 0,
            "orientation": "horizontal",
            "style": "IPY_MODEL_fe0fa5f3feb14f428b05cd4d507be057",
            "value": 19086
          }
        },
        "34fcf566c39e46568b099e245d330672": {
          "model_module": "@jupyter-widgets/controls",
          "model_name": "HTMLModel",
          "model_module_version": "1.5.0",
          "state": {
            "_dom_classes": [],
            "_model_module": "@jupyter-widgets/controls",
            "_model_module_version": "1.5.0",
            "_model_name": "HTMLModel",
            "_view_count": null,
            "_view_module": "@jupyter-widgets/controls",
            "_view_module_version": "1.5.0",
            "_view_name": "HTMLView",
            "description": "",
            "description_tooltip": null,
            "layout": "IPY_MODEL_73d6b9cf46be473b8b0f255ab0e899ad",
            "placeholder": "​",
            "style": "IPY_MODEL_ddcceeec53704aa3b239ce1253ee2685",
            "value": " 19086/19086 [00:00&lt;00:00, 497560.36 examples/s]"
          }
        },
        "30f27188df7e4b7a818790106770bb02": {
          "model_module": "@jupyter-widgets/base",
          "model_name": "LayoutModel",
          "model_module_version": "1.2.0",
          "state": {
            "_model_module": "@jupyter-widgets/base",
            "_model_module_version": "1.2.0",
            "_model_name": "LayoutModel",
            "_view_count": null,
            "_view_module": "@jupyter-widgets/base",
            "_view_module_version": "1.2.0",
            "_view_name": "LayoutView",
            "align_content": null,
            "align_items": null,
            "align_self": null,
            "border": null,
            "bottom": null,
            "display": null,
            "flex": null,
            "flex_flow": null,
            "grid_area": null,
            "grid_auto_columns": null,
            "grid_auto_flow": null,
            "grid_auto_rows": null,
            "grid_column": null,
            "grid_gap": null,
            "grid_row": null,
            "grid_template_areas": null,
            "grid_template_columns": null,
            "grid_template_rows": null,
            "height": null,
            "justify_content": null,
            "justify_items": null,
            "left": null,
            "margin": null,
            "max_height": null,
            "max_width": null,
            "min_height": null,
            "min_width": null,
            "object_fit": null,
            "object_position": null,
            "order": null,
            "overflow": null,
            "overflow_x": null,
            "overflow_y": null,
            "padding": null,
            "right": null,
            "top": null,
            "visibility": null,
            "width": null
          }
        },
        "e30b106e295149a699bef6e856f8013f": {
          "model_module": "@jupyter-widgets/base",
          "model_name": "LayoutModel",
          "model_module_version": "1.2.0",
          "state": {
            "_model_module": "@jupyter-widgets/base",
            "_model_module_version": "1.2.0",
            "_model_name": "LayoutModel",
            "_view_count": null,
            "_view_module": "@jupyter-widgets/base",
            "_view_module_version": "1.2.0",
            "_view_name": "LayoutView",
            "align_content": null,
            "align_items": null,
            "align_self": null,
            "border": null,
            "bottom": null,
            "display": null,
            "flex": null,
            "flex_flow": null,
            "grid_area": null,
            "grid_auto_columns": null,
            "grid_auto_flow": null,
            "grid_auto_rows": null,
            "grid_column": null,
            "grid_gap": null,
            "grid_row": null,
            "grid_template_areas": null,
            "grid_template_columns": null,
            "grid_template_rows": null,
            "height": null,
            "justify_content": null,
            "justify_items": null,
            "left": null,
            "margin": null,
            "max_height": null,
            "max_width": null,
            "min_height": null,
            "min_width": null,
            "object_fit": null,
            "object_position": null,
            "order": null,
            "overflow": null,
            "overflow_x": null,
            "overflow_y": null,
            "padding": null,
            "right": null,
            "top": null,
            "visibility": null,
            "width": null
          }
        },
        "1d0904ff7fcc44598df67f8610e749dd": {
          "model_module": "@jupyter-widgets/controls",
          "model_name": "DescriptionStyleModel",
          "model_module_version": "1.5.0",
          "state": {
            "_model_module": "@jupyter-widgets/controls",
            "_model_module_version": "1.5.0",
            "_model_name": "DescriptionStyleModel",
            "_view_count": null,
            "_view_module": "@jupyter-widgets/base",
            "_view_module_version": "1.2.0",
            "_view_name": "StyleView",
            "description_width": ""
          }
        },
        "b21fa50a34234a3bbf374d863f4557a9": {
          "model_module": "@jupyter-widgets/base",
          "model_name": "LayoutModel",
          "model_module_version": "1.2.0",
          "state": {
            "_model_module": "@jupyter-widgets/base",
            "_model_module_version": "1.2.0",
            "_model_name": "LayoutModel",
            "_view_count": null,
            "_view_module": "@jupyter-widgets/base",
            "_view_module_version": "1.2.0",
            "_view_name": "LayoutView",
            "align_content": null,
            "align_items": null,
            "align_self": null,
            "border": null,
            "bottom": null,
            "display": null,
            "flex": null,
            "flex_flow": null,
            "grid_area": null,
            "grid_auto_columns": null,
            "grid_auto_flow": null,
            "grid_auto_rows": null,
            "grid_column": null,
            "grid_gap": null,
            "grid_row": null,
            "grid_template_areas": null,
            "grid_template_columns": null,
            "grid_template_rows": null,
            "height": null,
            "justify_content": null,
            "justify_items": null,
            "left": null,
            "margin": null,
            "max_height": null,
            "max_width": null,
            "min_height": null,
            "min_width": null,
            "object_fit": null,
            "object_position": null,
            "order": null,
            "overflow": null,
            "overflow_x": null,
            "overflow_y": null,
            "padding": null,
            "right": null,
            "top": null,
            "visibility": null,
            "width": null
          }
        },
        "fe0fa5f3feb14f428b05cd4d507be057": {
          "model_module": "@jupyter-widgets/controls",
          "model_name": "ProgressStyleModel",
          "model_module_version": "1.5.0",
          "state": {
            "_model_module": "@jupyter-widgets/controls",
            "_model_module_version": "1.5.0",
            "_model_name": "ProgressStyleModel",
            "_view_count": null,
            "_view_module": "@jupyter-widgets/base",
            "_view_module_version": "1.2.0",
            "_view_name": "StyleView",
            "bar_color": null,
            "description_width": ""
          }
        },
        "73d6b9cf46be473b8b0f255ab0e899ad": {
          "model_module": "@jupyter-widgets/base",
          "model_name": "LayoutModel",
          "model_module_version": "1.2.0",
          "state": {
            "_model_module": "@jupyter-widgets/base",
            "_model_module_version": "1.2.0",
            "_model_name": "LayoutModel",
            "_view_count": null,
            "_view_module": "@jupyter-widgets/base",
            "_view_module_version": "1.2.0",
            "_view_name": "LayoutView",
            "align_content": null,
            "align_items": null,
            "align_self": null,
            "border": null,
            "bottom": null,
            "display": null,
            "flex": null,
            "flex_flow": null,
            "grid_area": null,
            "grid_auto_columns": null,
            "grid_auto_flow": null,
            "grid_auto_rows": null,
            "grid_column": null,
            "grid_gap": null,
            "grid_row": null,
            "grid_template_areas": null,
            "grid_template_columns": null,
            "grid_template_rows": null,
            "height": null,
            "justify_content": null,
            "justify_items": null,
            "left": null,
            "margin": null,
            "max_height": null,
            "max_width": null,
            "min_height": null,
            "min_width": null,
            "object_fit": null,
            "object_position": null,
            "order": null,
            "overflow": null,
            "overflow_x": null,
            "overflow_y": null,
            "padding": null,
            "right": null,
            "top": null,
            "visibility": null,
            "width": null
          }
        },
        "ddcceeec53704aa3b239ce1253ee2685": {
          "model_module": "@jupyter-widgets/controls",
          "model_name": "DescriptionStyleModel",
          "model_module_version": "1.5.0",
          "state": {
            "_model_module": "@jupyter-widgets/controls",
            "_model_module_version": "1.5.0",
            "_model_name": "DescriptionStyleModel",
            "_view_count": null,
            "_view_module": "@jupyter-widgets/base",
            "_view_module_version": "1.2.0",
            "_view_name": "StyleView",
            "description_width": ""
          }
        }
      }
    }
  },
  "cells": [
    {
      "cell_type": "markdown",
      "metadata": {
        "id": "view-in-github",
        "colab_type": "text"
      },
      "source": [
        "<a href=\"https://colab.research.google.com/github/ycsama0703/FinGPT/blob/master/Copy_of_FinGPT_Training_with_LoRA_and_ChatGLM2%E2%80%936B.ipynb\" target=\"_parent\"><img src=\"https://colab.research.google.com/assets/colab-badge.svg\" alt=\"Open In Colab\"/></a>"
      ]
    },
    {
      "cell_type": "markdown",
      "source": [
        "# FinGPT: Training with LoRA and ChatGLM2–6B"
      ],
      "metadata": {
        "id": "ByoMEW4RHTm8"
      }
    },
    {
      "cell_type": "markdown",
      "source": [
        "## Part 1: Preparing the Data"
      ],
      "metadata": {
        "id": "mc_iU0uSHcBH"
      }
    },
    {
      "cell_type": "markdown",
      "source": [
        "### 1.1 Initialize Directories"
      ],
      "metadata": {
        "id": "xPQiRkSBHlPk"
      }
    },
    {
      "cell_type": "code",
      "execution_count": null,
      "metadata": {
        "id": "M4t-GME9HSi_"
      },
      "outputs": [],
      "source": [
        "import os\n",
        "import shutil"
      ]
    },
    {
      "cell_type": "code",
      "source": [
        "if not os.path.exists('./data'):\n",
        "    os.makedirs('./data')\n",
        "\n",
        "\n",
        "jsonl_path = \"../data/dataset_new.jsonl\"\n",
        "save_path = '../data/dataset_new'\n",
        "\n",
        "\n",
        "if os.path.exists(jsonl_path):\n",
        "    os.remove(jsonl_path)\n",
        "\n",
        "if os.path.exists(save_path):\n",
        "    shutil.rmtree(save_path)\n",
        "\n",
        "directory = \"../data\"\n",
        "if not os.path.exists(directory):\n",
        "    os.makedirs(directory)"
      ],
      "metadata": {
        "id": "763xKcP5HsMg"
      },
      "execution_count": null,
      "outputs": []
    },
    {
      "cell_type": "code",
      "source": [
        "!ls -l ./data/dataset_new"
      ],
      "metadata": {
        "colab": {
          "base_uri": "https://localhost:8080/"
        },
        "id": "o5Ld9fkI7ya0",
        "outputId": "aa26d708-46b4-4ea4-d627-d0bf936baf1a"
      },
      "execution_count": null,
      "outputs": [
        {
          "output_type": "stream",
          "name": "stdout",
          "text": [
            "total 5148\n",
            "-rw-r--r-- 1 root root 5263248 Sep 14 05:07 data-00000-of-00001.arrow\n",
            "-rw-r--r-- 1 root root     742 Sep 14 05:07 dataset_info.json\n",
            "-rw-r--r-- 1 root root     250 Sep 14 05:07 state.json\n"
          ]
        }
      ]
    },
    {
      "cell_type": "markdown",
      "source": [
        "### 1.2 Load and Prepare Dataset"
      ],
      "metadata": {
        "id": "avu789edJigP"
      }
    },
    {
      "cell_type": "code",
      "source": [
        "!pip install datasets"
      ],
      "metadata": {
        "colab": {
          "base_uri": "https://localhost:8080/"
        },
        "id": "Wj4yKaOvXxhZ",
        "outputId": "cd5056a8-816a-4b1f-e5f4-fe2ddcb1bbe0"
      },
      "execution_count": null,
      "outputs": [
        {
          "output_type": "stream",
          "name": "stdout",
          "text": [
            "Requirement already satisfied: datasets in /usr/local/lib/python3.10/dist-packages (3.0.0)\n",
            "Requirement already satisfied: filelock in /usr/local/lib/python3.10/dist-packages (from datasets) (3.16.0)\n",
            "Requirement already satisfied: numpy>=1.17 in /usr/local/lib/python3.10/dist-packages (from datasets) (1.26.4)\n",
            "Requirement already satisfied: pyarrow>=15.0.0 in /usr/local/lib/python3.10/dist-packages (from datasets) (17.0.0)\n",
            "Requirement already satisfied: dill<0.3.9,>=0.3.0 in /usr/local/lib/python3.10/dist-packages (from datasets) (0.3.8)\n",
            "Requirement already satisfied: pandas in /usr/local/lib/python3.10/dist-packages (from datasets) (2.1.4)\n",
            "Requirement already satisfied: requests>=2.32.2 in /usr/local/lib/python3.10/dist-packages (from datasets) (2.32.3)\n",
            "Requirement already satisfied: tqdm>=4.66.3 in /usr/local/lib/python3.10/dist-packages (from datasets) (4.66.5)\n",
            "Requirement already satisfied: xxhash in /usr/local/lib/python3.10/dist-packages (from datasets) (3.5.0)\n",
            "Requirement already satisfied: multiprocess in /usr/local/lib/python3.10/dist-packages (from datasets) (0.70.16)\n",
            "Requirement already satisfied: fsspec<=2024.6.1,>=2023.1.0 in /usr/local/lib/python3.10/dist-packages (from fsspec[http]<=2024.6.1,>=2023.1.0->datasets) (2024.6.1)\n",
            "Requirement already satisfied: aiohttp in /usr/local/lib/python3.10/dist-packages (from datasets) (3.10.5)\n",
            "Requirement already satisfied: huggingface-hub>=0.22.0 in /usr/local/lib/python3.10/dist-packages (from datasets) (0.24.6)\n",
            "Requirement already satisfied: packaging in /usr/local/lib/python3.10/dist-packages (from datasets) (24.1)\n",
            "Requirement already satisfied: pyyaml>=5.1 in /usr/local/lib/python3.10/dist-packages (from datasets) (6.0.2)\n",
            "Requirement already satisfied: aiohappyeyeballs>=2.3.0 in /usr/local/lib/python3.10/dist-packages (from aiohttp->datasets) (2.4.0)\n",
            "Requirement already satisfied: aiosignal>=1.1.2 in /usr/local/lib/python3.10/dist-packages (from aiohttp->datasets) (1.3.1)\n",
            "Requirement already satisfied: attrs>=17.3.0 in /usr/local/lib/python3.10/dist-packages (from aiohttp->datasets) (24.2.0)\n",
            "Requirement already satisfied: frozenlist>=1.1.1 in /usr/local/lib/python3.10/dist-packages (from aiohttp->datasets) (1.4.1)\n",
            "Requirement already satisfied: multidict<7.0,>=4.5 in /usr/local/lib/python3.10/dist-packages (from aiohttp->datasets) (6.1.0)\n",
            "Requirement already satisfied: yarl<2.0,>=1.0 in /usr/local/lib/python3.10/dist-packages (from aiohttp->datasets) (1.11.1)\n",
            "Requirement already satisfied: async-timeout<5.0,>=4.0 in /usr/local/lib/python3.10/dist-packages (from aiohttp->datasets) (4.0.3)\n",
            "Requirement already satisfied: typing-extensions>=3.7.4.3 in /usr/local/lib/python3.10/dist-packages (from huggingface-hub>=0.22.0->datasets) (4.12.2)\n",
            "Requirement already satisfied: charset-normalizer<4,>=2 in /usr/local/lib/python3.10/dist-packages (from requests>=2.32.2->datasets) (3.3.2)\n",
            "Requirement already satisfied: idna<4,>=2.5 in /usr/local/lib/python3.10/dist-packages (from requests>=2.32.2->datasets) (3.8)\n",
            "Requirement already satisfied: urllib3<3,>=1.21.1 in /usr/local/lib/python3.10/dist-packages (from requests>=2.32.2->datasets) (2.0.7)\n",
            "Requirement already satisfied: certifi>=2017.4.17 in /usr/local/lib/python3.10/dist-packages (from requests>=2.32.2->datasets) (2024.8.30)\n",
            "Requirement already satisfied: python-dateutil>=2.8.2 in /usr/local/lib/python3.10/dist-packages (from pandas->datasets) (2.8.2)\n",
            "Requirement already satisfied: pytz>=2020.1 in /usr/local/lib/python3.10/dist-packages (from pandas->datasets) (2024.2)\n",
            "Requirement already satisfied: tzdata>=2022.1 in /usr/local/lib/python3.10/dist-packages (from pandas->datasets) (2024.1)\n",
            "Requirement already satisfied: six>=1.5 in /usr/local/lib/python3.10/dist-packages (from python-dateutil>=2.8.2->pandas->datasets) (1.16.0)\n"
          ]
        }
      ]
    },
    {
      "cell_type": "code",
      "source": [
        "from datasets import load_dataset\n",
        "import datasets"
      ],
      "metadata": {
        "id": "a7Z1LIC7II3r"
      },
      "execution_count": null,
      "outputs": []
    },
    {
      "cell_type": "code",
      "source": [
        "dic = {\n",
        "    0:'negative',\n",
        "    1:'positive',\n",
        "    2:'neutral'\n",
        "}"
      ],
      "metadata": {
        "id": "PZbuDeGnMfuK"
      },
      "execution_count": null,
      "outputs": []
    },
    {
      "cell_type": "code",
      "source": [
        "tfns = load_dataset('zeroshot/twitter-financial-news-sentiment') #tfns = Twitter Financial News Sentiment"
      ],
      "metadata": {
        "id": "VHAEKqhsOtQQ"
      },
      "execution_count": null,
      "outputs": []
    },
    {
      "cell_type": "code",
      "source": [
        "tfns = tfns['train']\n",
        "tfns = tfns.to_pandas()\n",
        "\n",
        "tfns['label'] = tfns['label'].apply(lambda x : dic[x])  # Map numerical labels to their corresponding sentiments\n",
        "\n",
        "#Add instruction for each data entry, which is crucial for Instruction Tuning.\n",
        "tfns['instruction'] = 'What is the sentiment of this tweet? Please choose an answer from {negative/neutral/positive}.'\n",
        "tfns.columns = ['input','output','instruction']\n",
        "\n",
        "#Convert the Pandas dataframe back to a Hugging Face Dataset object.\n",
        "tfns = datasets.Dataset.from_pandas(tfns)\n",
        "tfns"
      ],
      "metadata": {
        "colab": {
          "base_uri": "https://localhost:8080/"
        },
        "id": "EBUg8dULO9Vu",
        "outputId": "672380b8-e232-40bf-cb17-2ff4de78a610"
      },
      "execution_count": null,
      "outputs": [
        {
          "output_type": "execute_result",
          "data": {
            "text/plain": [
              "Dataset({\n",
              "    features: ['input', 'output', 'instruction'],\n",
              "    num_rows: 9543\n",
              "})"
            ]
          },
          "metadata": {},
          "execution_count": 68
        }
      ]
    },
    {
      "cell_type": "markdown",
      "source": [
        "### 1.3 Concatenate and Shuffle Dataset"
      ],
      "metadata": {
        "id": "a7Sxgc0TR7KC"
      }
    },
    {
      "cell_type": "code",
      "source": [
        "tmp_dataset = datasets.concatenate_datasets([tfns]*2) #Creat a list that contains 2 tfns\n",
        "train_dataset = tmp_dataset\n",
        "print(tmp_dataset.num_rows)"
      ],
      "metadata": {
        "colab": {
          "base_uri": "https://localhost:8080/"
        },
        "id": "2rzsssIJQNvR",
        "outputId": "64b69474-655c-479f-ce7c-61ef4457139a"
      },
      "execution_count": null,
      "outputs": [
        {
          "output_type": "stream",
          "name": "stdout",
          "text": [
            "19086\n"
          ]
        }
      ]
    },
    {
      "cell_type": "code",
      "source": [
        "all_dataset = train_dataset.shuffle(seed = 42)\n",
        "all_dataset.shape"
      ],
      "metadata": {
        "colab": {
          "base_uri": "https://localhost:8080/"
        },
        "id": "XL2210OoSSCY",
        "outputId": "976d09e7-054e-4e9a-8939-fbc860709d0c"
      },
      "execution_count": null,
      "outputs": [
        {
          "output_type": "execute_result",
          "data": {
            "text/plain": [
              "(19086, 3)"
            ]
          },
          "metadata": {},
          "execution_count": 70
        }
      ]
    },
    {
      "cell_type": "markdown",
      "source": [
        "The training data is all set"
      ],
      "metadata": {
        "id": "uRGfbF0rW1xj"
      }
    },
    {
      "cell_type": "markdown",
      "source": [
        "## Part 2: Dataset Formatting and Tokenization"
      ],
      "metadata": {
        "id": "b_3uB3hMTSK8"
      }
    },
    {
      "cell_type": "markdown",
      "source": [
        "### 2.1 Dataset Fromatting"
      ],
      "metadata": {
        "id": "FDWmm-bNTbw9"
      }
    },
    {
      "cell_type": "markdown",
      "source": [
        "You must structure your data in a specific format that aligns with the training process."
      ],
      "metadata": {
        "id": "x62UGwsCTrqP"
      }
    },
    {
      "cell_type": "code",
      "source": [
        "import json\n",
        "from tqdm.notebook import tqdm\n",
        "# Used to display a progress bar in Jupyter Notebook to help visualize the progress of data processing"
      ],
      "metadata": {
        "id": "7XZ2sYr4W1g9"
      },
      "execution_count": null,
      "outputs": []
    },
    {
      "cell_type": "code",
      "source": [
        "def format_examle(example:dict) -> dict:    #Defines a function named format_example that takes a dictionary as input (example: dict) and returns a dictionary (-> dict).\n",
        "  context = f\"Instruction:{example['instruction']}\\n\"   #Initializes a string variable context using an f-string to format the instruction.\n",
        "  if example.get('input'):     #Checks if the example dictionary has an input key and whether it contains a value.\n",
        "    context += f\"Input:{example['input']}\\n\"\n",
        "  context += 'Answer: '\n",
        "  target = example['output']\n",
        "  return {\"context\": context , \"target\":target}  # This is the format of json data.\n",
        "\n",
        "\n",
        "\n",
        "data_list = []\n",
        "for item in all_dataset.to_pandas().itertuples():    #Iterates over each row of the dataset all_dataset, which has been converted into a Pandas DataFrame using .to_pandas().\n",
        "  tmp = {}\n",
        "  tmp['instruction'] = item.instruction\n",
        "  tmp['input'] = item.input\n",
        "  tmp['output'] = item.output\n",
        "  data_list.append(tmp)\n"
      ],
      "metadata": {
        "id": "FHv7KAtVSdMI"
      },
      "execution_count": null,
      "outputs": []
    },
    {
      "cell_type": "markdown",
      "source": [
        "This is what the elements in data_list look like before formatting\n",
        "\n",
        "---\n",
        "\n"
      ],
      "metadata": {
        "id": "u8pPeWBkdOum"
      }
    },
    {
      "cell_type": "code",
      "source": [
        "data_list[0]"
      ],
      "metadata": {
        "colab": {
          "base_uri": "https://localhost:8080/"
        },
        "id": "cootm_jhch6O",
        "outputId": "b064af00-2854-4e87-ac8e-dff1ca167b87"
      },
      "execution_count": null,
      "outputs": [
        {
          "output_type": "execute_result",
          "data": {
            "text/plain": [
              "{'instruction': 'What is the sentiment of this tweet? Please choose an answer from {negative/neutral/positive}.',\n",
              " 'input': '$DRIP $LABU $GASX - SOXL, LABU, JO and GUSH among weekly ETF movers https://t.co/FntrWNY9sn',\n",
              " 'output': 'neutral'}"
            ]
          },
          "metadata": {},
          "execution_count": 73
        }
      ]
    },
    {
      "cell_type": "code",
      "source": [
        "# save to a json file\n",
        "with open(\"../data/dataset_new.jsonl\",'w') as f:\n",
        "  for example in tqdm(data_list,desc = 'formatting..'):\n",
        "    f.write(json.dumps(format_examle(example)) + '\\n')"
      ],
      "metadata": {
        "colab": {
          "base_uri": "https://localhost:8080/",
          "height": 49,
          "referenced_widgets": [
            "901e6987262c44bb9be7055882667312",
            "ccf421c2243c438fb531b4d779ba047f",
            "eec23fe783374679acb1b8adbb4bc57d",
            "7c1e3c1af4eb44a9be7a3d29e6961d11",
            "a0bb3e5d746e42d1b67de69b107d5add",
            "8be1cd7d09db48e6b63a7f790388827a",
            "f4b3bdff6056412d98619203e9bfe0a7",
            "a0c8b4c26fa74bc9bb65f85f571bce45",
            "9114b41818b644e38d81b6b41171cb40",
            "6d2928a8c6114a23a909e3f273cdd577",
            "67f90a49b3f1423fa035f20186d6db64"
          ]
        },
        "id": "S6qo2PPueXG0",
        "outputId": "a40cd992-83ee-41cd-e5ea-ea1eed59a402"
      },
      "execution_count": null,
      "outputs": [
        {
          "output_type": "display_data",
          "data": {
            "text/plain": [
              "formatting..:   0%|          | 0/19086 [00:00<?, ?it/s]"
            ],
            "application/vnd.jupyter.widget-view+json": {
              "version_major": 2,
              "version_minor": 0,
              "model_id": "901e6987262c44bb9be7055882667312"
            }
          },
          "metadata": {}
        }
      ]
    },
    {
      "cell_type": "code",
      "source": [
        "json_data_list = []  # Var to save json data\n",
        "\n",
        "# Save to a jsonl file and store in json_data_list\n",
        "with open(\"../data/dataset_new.jsonl\", 'r') as f:\n",
        "    for line in f:\n",
        "        json_line = json.loads(line.strip())\n",
        "        json_data_list.append(json_line)"
      ],
      "metadata": {
        "id": "HHsyl1zPgC77"
      },
      "execution_count": null,
      "outputs": []
    },
    {
      "cell_type": "markdown",
      "source": [
        "This is what it is look like after formatting"
      ],
      "metadata": {
        "id": "2h7lzIE0hHJF"
      }
    },
    {
      "cell_type": "code",
      "source": [
        "json_data_list[0]"
      ],
      "metadata": {
        "colab": {
          "base_uri": "https://localhost:8080/"
        },
        "id": "k-032c77gzF1",
        "outputId": "8e0d4759-2639-49f1-ba43-60a58144bf82"
      },
      "execution_count": null,
      "outputs": [
        {
          "output_type": "execute_result",
          "data": {
            "text/plain": [
              "{'context': 'Instruction:What is the sentiment of this tweet? Please choose an answer from {negative/neutral/positive}.\\nInput:$DRIP $LABU $GASX - SOXL, LABU, JO and GUSH among weekly ETF movers https://t.co/FntrWNY9sn\\nAnswer: ',\n",
              " 'target': 'neutral'}"
            ]
          },
          "metadata": {},
          "execution_count": 76
        }
      ]
    },
    {
      "cell_type": "code",
      "source": [
        "json_data_list[0]['context']"
      ],
      "metadata": {
        "colab": {
          "base_uri": "https://localhost:8080/",
          "height": 54
        },
        "id": "elRL-VkVqQNf",
        "outputId": "e40dab0c-9c40-46a6-ed21-27922568a5fc"
      },
      "execution_count": null,
      "outputs": [
        {
          "output_type": "execute_result",
          "data": {
            "text/plain": [
              "'Instruction:What is the sentiment of this tweet? Please choose an answer from {negative/neutral/positive}.\\nInput:$DRIP $LABU $GASX - SOXL, LABU, JO and GUSH among weekly ETF movers https://t.co/FntrWNY9sn\\nAnswer: '"
            ],
            "application/vnd.google.colaboratory.intrinsic+json": {
              "type": "string"
            }
          },
          "metadata": {},
          "execution_count": 77
        }
      ]
    },
    {
      "cell_type": "code",
      "source": [
        "json_data_list[0]['target']"
      ],
      "metadata": {
        "colab": {
          "base_uri": "https://localhost:8080/",
          "height": 36
        },
        "id": "U5za7_xYqWYP",
        "outputId": "ae4be46c-2929-4710-d46e-fdcff43b0391"
      },
      "execution_count": null,
      "outputs": [
        {
          "output_type": "execute_result",
          "data": {
            "text/plain": [
              "'neutral'"
            ],
            "application/vnd.google.colaboratory.intrinsic+json": {
              "type": "string"
            }
          },
          "metadata": {},
          "execution_count": 78
        }
      ]
    },
    {
      "cell_type": "markdown",
      "source": [
        "### 2.2 Tokenization"
      ],
      "metadata": {
        "id": "QHCUCE7-U0VV"
      }
    },
    {
      "cell_type": "markdown",
      "source": [
        "Tokenization is the process of converting input text into tokens that can be fed into the model."
      ],
      "metadata": {
        "id": "SURNzAL0hoY-"
      }
    },
    {
      "cell_type": "code",
      "source": [
        "## need to set the packages to run this code block\n",
        "!pip install protobuf transformers==4.30.2 cpm_kernels torch>=2.0 gradio mdtex2html sentencepiece accelerate"
      ],
      "metadata": {
        "id": "_t08UOLohoJq"
      },
      "execution_count": null,
      "outputs": []
    },
    {
      "cell_type": "code",
      "source": [
        "from transformers import AutoTokenizer, AutoConfig"
      ],
      "metadata": {
        "id": "37DThz-phmHj"
      },
      "execution_count": null,
      "outputs": []
    },
    {
      "cell_type": "code",
      "source": [
        "model_name = 'THUDM/chatglm2-6b'   #Specifies the model you're working with\n",
        "jsonl_path = '../data/dataset_new.jsonl'\n",
        "save_path = '../data/dataset_new'    #The path where the processed dataset will be saved after tokenization or any other processing\n",
        "max_seq_length = 512    #Maximum sequence length for the inputs. If an input exceeds this length, it will either be truncated or skipped.\n",
        "skip_overlength = True    #A flag that determines whether to skip overlength examples that exceed max_seq_length"
      ],
      "metadata": {
        "id": "v00HBZ_zj4Ve"
      },
      "execution_count": null,
      "outputs": []
    },
    {
      "cell_type": "markdown",
      "source": [
        "This preprocess function tokenizes the promt and target, combines them into Input ids, trims or pads the squence to the maximum squence length."
      ],
      "metadata": {
        "id": "ZTsS1aeimfNR"
      }
    },
    {
      "cell_type": "code",
      "source": [
        "def preprocess(tokenizer, config, example, max_seq_length):\n",
        "  prompt = example['context']\n",
        "  target = example['target']\n",
        "  prompt_ids = tokenizer.encode(   #ids refers to the numerical identifiers that correspond to tokens.These token ids are what the model processes, as models require numerical input rather than raw text.\n",
        "      prompt,\n",
        "      max_length = max_seq_length,\n",
        "      truncation = True\n",
        "      )\n",
        "  target_ids = tokenizer.encode(\n",
        "      target,\n",
        "      max_length = max_seq_length,\n",
        "      truncation = True,\n",
        "      add_special_tolens = False\n",
        "      )\n",
        "  input_ids = prompt_ids + target_ids + [config.eos_token_id]  #[config.eos_token_id] is a sign that marks the end of the list.\n",
        "  return {'input_ids':input_ids,'seq_len':len(prompt_ids)}"
      ],
      "metadata": {
        "id": "4vq6aOkOkVRg"
      },
      "execution_count": null,
      "outputs": []
    },
    {
      "cell_type": "markdown",
      "source": [
        "input_ids is a complete list of token IDs that combines the input sentence (prompt), the target sentence (target), and the end-of-sequence token (eos_token_id).\n",
        "This list is fed into the model for training or inference. The model uses these IDs to understand and process the input and generate the corresponding output."
      ],
      "metadata": {
        "id": "leOtS6SuwKF6"
      }
    },
    {
      "cell_type": "markdown",
      "source": [
        "The read_jsonl function reads each line from the JSONL file, preprocesses it using the preprocess function,\n",
        "and then yields each preprocessed example."
      ],
      "metadata": {
        "id": "oTN9ClZMwSf-"
      }
    },
    {
      "cell_type": "code",
      "source": [
        "def read_jsonl(path, max_seq_length, skip_overlength=False):\n",
        "    tokenizer = AutoTokenizer.from_pretrained(    #Initializes a tokenizer using a pre-trained model specified by model_name.\n",
        "        model_name, trust_remote_code=True)\n",
        "    config = AutoConfig.from_pretrained(    #Loads the configuration for the model. device_map='auto' helps automatically map the model to available devices (e.g., GPU or CPU).\n",
        "        model_name, trust_remote_code=True, device_map='auto')\n",
        "    with open(path, \"r\") as f:\n",
        "        for line in tqdm(f.readlines()):\n",
        "            example = json.loads(line)\n",
        "            #Preprocesses each example by tokenizing it and converting it into input_ids using the preprocess() function,\n",
        "            #which takes the tokenizer, config, example, and max_seq_length as inputs.\n",
        "            feature = preprocess(tokenizer, config, example, max_seq_length)\n",
        "            if skip_overlength and len(feature[\"input_ids\"]) > max_seq_length:\n",
        "                continue\n",
        "            feature[\"input_ids\"] = feature[\"input_ids\"][:max_seq_length]  #Truncates the input_ids to ensure they do not exceed max_seq_length.\n",
        "            yield feature\n",
        "#Uses yield to return one preprocessed feature at a time, making the function a generator.\n",
        "#This allows you to iterate over the processed features one by one without loading everything into memory at once."
      ],
      "metadata": {
        "id": "dPgs5ecEwQGS"
      },
      "execution_count": null,
      "outputs": []
    },
    {
      "cell_type": "markdown",
      "source": [
        "### 2.3 Save the Dataset"
      ],
      "metadata": {
        "id": "OiIr5nLhx8PY"
      }
    },
    {
      "cell_type": "code",
      "source": [
        "save_path = './data/dataset_new'"
      ],
      "metadata": {
        "id": "jTsJEl9UnmWV"
      },
      "execution_count": null,
      "outputs": []
    },
    {
      "cell_type": "code",
      "source": [
        "dataset = datasets.Dataset.from_generator(\n",
        "    lambda: read_jsonl(jsonl_path, max_seq_length, skip_overlength)\n",
        "    )\n",
        "dataset.save_to_disk(save_path)"
      ],
      "metadata": {
        "colab": {
          "base_uri": "https://localhost:8080/",
          "height": 49,
          "referenced_widgets": [
            "20c5182373724ff8b6d40c4c20e04145",
            "d0dbd11e5893499d81a5f7a9e846bc70",
            "02387e0c5e8e46ecb481f12f8346ca4f",
            "34fcf566c39e46568b099e245d330672",
            "30f27188df7e4b7a818790106770bb02",
            "e30b106e295149a699bef6e856f8013f",
            "1d0904ff7fcc44598df67f8610e749dd",
            "b21fa50a34234a3bbf374d863f4557a9",
            "fe0fa5f3feb14f428b05cd4d507be057",
            "73d6b9cf46be473b8b0f255ab0e899ad",
            "ddcceeec53704aa3b239ce1253ee2685"
          ]
        },
        "id": "D24yK-E8ynIh",
        "outputId": "4d702ed6-b7fd-479f-e07f-0cf2fbc46d71"
      },
      "execution_count": null,
      "outputs": [
        {
          "output_type": "display_data",
          "data": {
            "text/plain": [
              "Saving the dataset (0/1 shards):   0%|          | 0/19086 [00:00<?, ? examples/s]"
            ],
            "application/vnd.jupyter.widget-view+json": {
              "version_major": 2,
              "version_minor": 0,
              "model_id": "20c5182373724ff8b6d40c4c20e04145"
            }
          },
          "metadata": {}
        }
      ]
    },
    {
      "cell_type": "code",
      "source": [
        "from datasets import load_from_disk\n",
        "\n",
        "# Load Dataset\n",
        "loaded_dataset = load_from_disk('./data/dataset_new')\n",
        "\n",
        "# Check the structure of Dataset\n",
        "print(loaded_dataset)\n",
        "\n",
        "# Print the first sample of the dataset\n",
        "print(loaded_dataset['input_ids'][0])\n"
      ],
      "metadata": {
        "colab": {
          "base_uri": "https://localhost:8080/"
        },
        "id": "Y7qvoOOPyoNa",
        "outputId": "9dbf7dd9-c2f6-425e-e000-f557323cd493"
      },
      "execution_count": null,
      "outputs": [
        {
          "output_type": "stream",
          "name": "stdout",
          "text": [
            "Dataset({\n",
            "    features: ['input_ids', 'seq_len'],\n",
            "    num_rows: 19086\n",
            "})\n",
            "[64790, 64792, 29101, 30954, 5011, 323, 267, 17523, 290, 434, 16933, 30987, 3485, 3331, 284, 3238, 428, 729, 26058, 30967, 679, 24961, 30967, 25545, 19784, 13, 10426, 30954, 30975, 9084, 3839, 506, 30957, 4573, 30976, 506, 30964, 2080, 31017, 560, 10391, 31017, 30957, 30932, 380, 4573, 30976, 30932, 20242, 293, 402, 3290, 30956, 2087, 9467, 8898, 30960, 5869, 663, 2886, 1214, 30912, 30930, 2074, 30967, 30960, 30916, 1884, 30959, 13121, 30969, 14862, 13, 4244, 1902, 266, 30954, 30910, 64790, 64792, 11043, 2]\n"
          ]
        }
      ]
    },
    {
      "cell_type": "code",
      "source": [],
      "metadata": {
        "id": "PXSfDpGE5zQt"
      },
      "execution_count": null,
      "outputs": []
    }
  ]
}